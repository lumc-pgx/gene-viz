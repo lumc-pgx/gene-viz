{
 "cells": [
  {
   "cell_type": "markdown",
   "metadata": {},
   "source": [
    "# Prototype Visualization of Structural Variation Output"
   ]
  },
  {
   "cell_type": "markdown",
   "metadata": {},
   "source": [
    "set up bokeh for notebook drawing, and import gene_viz"
   ]
  },
  {
   "cell_type": "code",
   "execution_count": 1,
   "metadata": {},
   "outputs": [
    {
     "data": {
      "application/javascript": [
       "\n",
       "(function(root) {\n",
       "  function now() {\n",
       "    return new Date();\n",
       "  }\n",
       "\n",
       "  var force = true;\n",
       "\n",
       "  if (typeof (root._bokeh_onload_callbacks) === \"undefined\" || force === true) {\n",
       "    root._bokeh_onload_callbacks = [];\n",
       "    root._bokeh_is_loading = undefined;\n",
       "  }\n",
       "\n",
       "  var JS_MIME_TYPE = 'application/javascript';\n",
       "  var HTML_MIME_TYPE = 'text/html';\n",
       "  var EXEC_MIME_TYPE = 'application/vnd.bokehjs_exec.v0+json';\n",
       "  var CLASS_NAME = 'output_bokeh rendered_html';\n",
       "\n",
       "  /**\n",
       "   * Render data to the DOM node\n",
       "   */\n",
       "  function render(props, node) {\n",
       "    var script = document.createElement(\"script\");\n",
       "    node.appendChild(script);\n",
       "  }\n",
       "\n",
       "  /**\n",
       "   * Handle when an output is cleared or removed\n",
       "   */\n",
       "  function handleClearOutput(event, handle) {\n",
       "    var cell = handle.cell;\n",
       "\n",
       "    var id = cell.output_area._bokeh_element_id;\n",
       "    var server_id = cell.output_area._bokeh_server_id;\n",
       "    // Clean up Bokeh references\n",
       "    if (id !== undefined) {\n",
       "      Bokeh.index[id].model.document.clear();\n",
       "      delete Bokeh.index[id];\n",
       "    }\n",
       "\n",
       "    if (server_id !== undefined) {\n",
       "      // Clean up Bokeh references\n",
       "      var cmd = \"from bokeh.io.state import curstate; print(curstate().uuid_to_server['\" + server_id + \"'].get_sessions()[0].document.roots[0]._id)\";\n",
       "      cell.notebook.kernel.execute(cmd, {\n",
       "        iopub: {\n",
       "          output: function(msg) {\n",
       "            var element_id = msg.content.text.trim();\n",
       "            Bokeh.index[element_id].model.document.clear();\n",
       "            delete Bokeh.index[element_id];\n",
       "          }\n",
       "        }\n",
       "      });\n",
       "      // Destroy server and session\n",
       "      var cmd = \"import bokeh.io.notebook as ion; ion.destroy_server('\" + server_id + \"')\";\n",
       "      cell.notebook.kernel.execute(cmd);\n",
       "    }\n",
       "  }\n",
       "\n",
       "  /**\n",
       "   * Handle when a new output is added\n",
       "   */\n",
       "  function handleAddOutput(event, handle) {\n",
       "    var output_area = handle.output_area;\n",
       "    var output = handle.output;\n",
       "\n",
       "    // limit handleAddOutput to display_data with EXEC_MIME_TYPE content only\n",
       "    if ((output.output_type != \"display_data\") || (!output.data.hasOwnProperty(EXEC_MIME_TYPE))) {\n",
       "      return\n",
       "    }\n",
       "\n",
       "    var toinsert = output_area.element.find(`.${CLASS_NAME.split(' ')[0]}`);\n",
       "\n",
       "    if (output.metadata[EXEC_MIME_TYPE][\"id\"] !== undefined) {\n",
       "      toinsert[0].firstChild.textContent = output.data[JS_MIME_TYPE];\n",
       "      // store reference to embed id on output_area\n",
       "      output_area._bokeh_element_id = output.metadata[EXEC_MIME_TYPE][\"id\"];\n",
       "    }\n",
       "    if (output.metadata[EXEC_MIME_TYPE][\"server_id\"] !== undefined) {\n",
       "      var bk_div = document.createElement(\"div\");\n",
       "      bk_div.innerHTML = output.data[HTML_MIME_TYPE];\n",
       "      var script_attrs = bk_div.children[0].attributes;\n",
       "      for (var i = 0; i < script_attrs.length; i++) {\n",
       "        toinsert[0].firstChild.setAttribute(script_attrs[i].name, script_attrs[i].value);\n",
       "      }\n",
       "      // store reference to server id on output_area\n",
       "      output_area._bokeh_server_id = output.metadata[EXEC_MIME_TYPE][\"server_id\"];\n",
       "    }\n",
       "  }\n",
       "\n",
       "  function register_renderer(events, OutputArea) {\n",
       "\n",
       "    function append_mime(data, metadata, element) {\n",
       "      // create a DOM node to render to\n",
       "      var toinsert = this.create_output_subarea(\n",
       "        metadata,\n",
       "        CLASS_NAME,\n",
       "        EXEC_MIME_TYPE\n",
       "      );\n",
       "      this.keyboard_manager.register_events(toinsert);\n",
       "      // Render to node\n",
       "      var props = {data: data, metadata: metadata[EXEC_MIME_TYPE]};\n",
       "      render(props, toinsert[0]);\n",
       "      element.append(toinsert);\n",
       "      return toinsert\n",
       "    }\n",
       "\n",
       "    /* Handle when an output is cleared or removed */\n",
       "    events.on('clear_output.CodeCell', handleClearOutput);\n",
       "    events.on('delete.Cell', handleClearOutput);\n",
       "\n",
       "    /* Handle when a new output is added */\n",
       "    events.on('output_added.OutputArea', handleAddOutput);\n",
       "\n",
       "    /**\n",
       "     * Register the mime type and append_mime function with output_area\n",
       "     */\n",
       "    OutputArea.prototype.register_mime_type(EXEC_MIME_TYPE, append_mime, {\n",
       "      /* Is output safe? */\n",
       "      safe: true,\n",
       "      /* Index of renderer in `output_area.display_order` */\n",
       "      index: 0\n",
       "    });\n",
       "  }\n",
       "\n",
       "  // register the mime type if in Jupyter Notebook environment and previously unregistered\n",
       "  if (root.Jupyter !== undefined) {\n",
       "    var events = require('base/js/events');\n",
       "    var OutputArea = require('notebook/js/outputarea').OutputArea;\n",
       "\n",
       "    if (OutputArea.prototype.mime_types().indexOf(EXEC_MIME_TYPE) == -1) {\n",
       "      register_renderer(events, OutputArea);\n",
       "    }\n",
       "  }\n",
       "\n",
       "  \n",
       "  if (typeof (root._bokeh_timeout) === \"undefined\" || force === true) {\n",
       "    root._bokeh_timeout = Date.now() + 5000;\n",
       "    root._bokeh_failed_load = false;\n",
       "  }\n",
       "\n",
       "  var NB_LOAD_WARNING = {'data': {'text/html':\n",
       "     \"<div style='background-color: #fdd'>\\n\"+\n",
       "     \"<p>\\n\"+\n",
       "     \"BokehJS does not appear to have successfully loaded. If loading BokehJS from CDN, this \\n\"+\n",
       "     \"may be due to a slow or bad network connection. Possible fixes:\\n\"+\n",
       "     \"</p>\\n\"+\n",
       "     \"<ul>\\n\"+\n",
       "     \"<li>re-rerun `output_notebook()` to attempt to load from CDN again, or</li>\\n\"+\n",
       "     \"<li>use INLINE resources instead, as so:</li>\\n\"+\n",
       "     \"</ul>\\n\"+\n",
       "     \"<code>\\n\"+\n",
       "     \"from bokeh.resources import INLINE\\n\"+\n",
       "     \"output_notebook(resources=INLINE)\\n\"+\n",
       "     \"</code>\\n\"+\n",
       "     \"</div>\"}};\n",
       "\n",
       "  function display_loaded() {\n",
       "    var el = document.getElementById(null);\n",
       "    if (el != null) {\n",
       "      el.textContent = \"BokehJS is loading...\";\n",
       "    }\n",
       "    if (root.Bokeh !== undefined) {\n",
       "      if (el != null) {\n",
       "        el.textContent = \"BokehJS \" + root.Bokeh.version + \" successfully loaded.\";\n",
       "      }\n",
       "    } else if (Date.now() < root._bokeh_timeout) {\n",
       "      setTimeout(display_loaded, 100)\n",
       "    }\n",
       "  }\n",
       "\n",
       "\n",
       "  function run_callbacks() {\n",
       "    try {\n",
       "      root._bokeh_onload_callbacks.forEach(function(callback) { callback() });\n",
       "    }\n",
       "    finally {\n",
       "      delete root._bokeh_onload_callbacks\n",
       "    }\n",
       "    console.info(\"Bokeh: all callbacks have finished\");\n",
       "  }\n",
       "\n",
       "  function load_libs(js_urls, callback) {\n",
       "    root._bokeh_onload_callbacks.push(callback);\n",
       "    if (root._bokeh_is_loading > 0) {\n",
       "      console.log(\"Bokeh: BokehJS is being loaded, scheduling callback at\", now());\n",
       "      return null;\n",
       "    }\n",
       "    if (js_urls == null || js_urls.length === 0) {\n",
       "      run_callbacks();\n",
       "      return null;\n",
       "    }\n",
       "    console.log(\"Bokeh: BokehJS not loaded, scheduling load and callback at\", now());\n",
       "    root._bokeh_is_loading = js_urls.length;\n",
       "    for (var i = 0; i < js_urls.length; i++) {\n",
       "      var url = js_urls[i];\n",
       "      var s = document.createElement('script');\n",
       "      s.src = url;\n",
       "      s.async = false;\n",
       "      s.onreadystatechange = s.onload = function() {\n",
       "        root._bokeh_is_loading--;\n",
       "        if (root._bokeh_is_loading === 0) {\n",
       "          console.log(\"Bokeh: all BokehJS libraries loaded\");\n",
       "          run_callbacks()\n",
       "        }\n",
       "      };\n",
       "      s.onerror = function() {\n",
       "        console.warn(\"failed to load library \" + url);\n",
       "      };\n",
       "      console.log(\"Bokeh: injecting script tag for BokehJS library: \", url);\n",
       "      document.getElementsByTagName(\"head\")[0].appendChild(s);\n",
       "    }\n",
       "  };\n",
       "\n",
       "  var js_urls = [\"https://cdn.pydata.org/bokeh/release/bokeh-0.12.10.min.js\", \"https://cdn.pydata.org/bokeh/release/bokeh-widgets-0.12.10.min.js\", \"https://cdn.pydata.org/bokeh/release/bokeh-tables-0.12.10.min.js\", \"https://cdn.pydata.org/bokeh/release/bokeh-gl-0.12.10.min.js\"];\n",
       "\n",
       "  var inline_js = [\n",
       "    function(Bokeh) {\n",
       "      Bokeh.set_log_level(\"info\");\n",
       "    },\n",
       "    \n",
       "    function(Bokeh) {\n",
       "      \n",
       "    },\n",
       "    function(Bokeh) {\n",
       "      console.log(\"Bokeh: injecting CSS: https://cdn.pydata.org/bokeh/release/bokeh-0.12.10.min.css\");\n",
       "      Bokeh.embed.inject_css(\"https://cdn.pydata.org/bokeh/release/bokeh-0.12.10.min.css\");\n",
       "      console.log(\"Bokeh: injecting CSS: https://cdn.pydata.org/bokeh/release/bokeh-widgets-0.12.10.min.css\");\n",
       "      Bokeh.embed.inject_css(\"https://cdn.pydata.org/bokeh/release/bokeh-widgets-0.12.10.min.css\");\n",
       "      console.log(\"Bokeh: injecting CSS: https://cdn.pydata.org/bokeh/release/bokeh-tables-0.12.10.min.css\");\n",
       "      Bokeh.embed.inject_css(\"https://cdn.pydata.org/bokeh/release/bokeh-tables-0.12.10.min.css\");\n",
       "    }\n",
       "  ];\n",
       "\n",
       "  function run_inline_js() {\n",
       "    \n",
       "    if ((root.Bokeh !== undefined) || (force === true)) {\n",
       "      for (var i = 0; i < inline_js.length; i++) {\n",
       "        inline_js[i].call(root, root.Bokeh);\n",
       "      }} else if (Date.now() < root._bokeh_timeout) {\n",
       "      setTimeout(run_inline_js, 100);\n",
       "    } else if (!root._bokeh_failed_load) {\n",
       "      console.log(\"Bokeh: BokehJS failed to load within specified timeout.\");\n",
       "      root._bokeh_failed_load = true;\n",
       "    } else if (force !== true) {\n",
       "      var cell = $(document.getElementById(null)).parents('.cell').data().cell;\n",
       "      cell.output_area.append_execute_result(NB_LOAD_WARNING)\n",
       "    }\n",
       "\n",
       "  }\n",
       "\n",
       "  if (root._bokeh_is_loading === 0) {\n",
       "    console.log(\"Bokeh: BokehJS loaded, going straight to plotting\");\n",
       "    run_inline_js();\n",
       "  } else {\n",
       "    load_libs(js_urls, function() {\n",
       "      console.log(\"Bokeh: BokehJS plotting callback run at\", now());\n",
       "      run_inline_js();\n",
       "    });\n",
       "  }\n",
       "}(window));"
      ],
      "application/vnd.bokehjs_load.v0+json": "\n(function(root) {\n  function now() {\n    return new Date();\n  }\n\n  var force = true;\n\n  if (typeof (root._bokeh_onload_callbacks) === \"undefined\" || force === true) {\n    root._bokeh_onload_callbacks = [];\n    root._bokeh_is_loading = undefined;\n  }\n\n  \n\n  \n  if (typeof (root._bokeh_timeout) === \"undefined\" || force === true) {\n    root._bokeh_timeout = Date.now() + 5000;\n    root._bokeh_failed_load = false;\n  }\n\n  var NB_LOAD_WARNING = {'data': {'text/html':\n     \"<div style='background-color: #fdd'>\\n\"+\n     \"<p>\\n\"+\n     \"BokehJS does not appear to have successfully loaded. If loading BokehJS from CDN, this \\n\"+\n     \"may be due to a slow or bad network connection. Possible fixes:\\n\"+\n     \"</p>\\n\"+\n     \"<ul>\\n\"+\n     \"<li>re-rerun `output_notebook()` to attempt to load from CDN again, or</li>\\n\"+\n     \"<li>use INLINE resources instead, as so:</li>\\n\"+\n     \"</ul>\\n\"+\n     \"<code>\\n\"+\n     \"from bokeh.resources import INLINE\\n\"+\n     \"output_notebook(resources=INLINE)\\n\"+\n     \"</code>\\n\"+\n     \"</div>\"}};\n\n  function display_loaded() {\n    var el = document.getElementById(null);\n    if (el != null) {\n      el.textContent = \"BokehJS is loading...\";\n    }\n    if (root.Bokeh !== undefined) {\n      if (el != null) {\n        el.textContent = \"BokehJS \" + root.Bokeh.version + \" successfully loaded.\";\n      }\n    } else if (Date.now() < root._bokeh_timeout) {\n      setTimeout(display_loaded, 100)\n    }\n  }\n\n\n  function run_callbacks() {\n    try {\n      root._bokeh_onload_callbacks.forEach(function(callback) { callback() });\n    }\n    finally {\n      delete root._bokeh_onload_callbacks\n    }\n    console.info(\"Bokeh: all callbacks have finished\");\n  }\n\n  function load_libs(js_urls, callback) {\n    root._bokeh_onload_callbacks.push(callback);\n    if (root._bokeh_is_loading > 0) {\n      console.log(\"Bokeh: BokehJS is being loaded, scheduling callback at\", now());\n      return null;\n    }\n    if (js_urls == null || js_urls.length === 0) {\n      run_callbacks();\n      return null;\n    }\n    console.log(\"Bokeh: BokehJS not loaded, scheduling load and callback at\", now());\n    root._bokeh_is_loading = js_urls.length;\n    for (var i = 0; i < js_urls.length; i++) {\n      var url = js_urls[i];\n      var s = document.createElement('script');\n      s.src = url;\n      s.async = false;\n      s.onreadystatechange = s.onload = function() {\n        root._bokeh_is_loading--;\n        if (root._bokeh_is_loading === 0) {\n          console.log(\"Bokeh: all BokehJS libraries loaded\");\n          run_callbacks()\n        }\n      };\n      s.onerror = function() {\n        console.warn(\"failed to load library \" + url);\n      };\n      console.log(\"Bokeh: injecting script tag for BokehJS library: \", url);\n      document.getElementsByTagName(\"head\")[0].appendChild(s);\n    }\n  };\n\n  var js_urls = [\"https://cdn.pydata.org/bokeh/release/bokeh-0.12.10.min.js\", \"https://cdn.pydata.org/bokeh/release/bokeh-widgets-0.12.10.min.js\", \"https://cdn.pydata.org/bokeh/release/bokeh-tables-0.12.10.min.js\", \"https://cdn.pydata.org/bokeh/release/bokeh-gl-0.12.10.min.js\"];\n\n  var inline_js = [\n    function(Bokeh) {\n      Bokeh.set_log_level(\"info\");\n    },\n    \n    function(Bokeh) {\n      \n    },\n    function(Bokeh) {\n      console.log(\"Bokeh: injecting CSS: https://cdn.pydata.org/bokeh/release/bokeh-0.12.10.min.css\");\n      Bokeh.embed.inject_css(\"https://cdn.pydata.org/bokeh/release/bokeh-0.12.10.min.css\");\n      console.log(\"Bokeh: injecting CSS: https://cdn.pydata.org/bokeh/release/bokeh-widgets-0.12.10.min.css\");\n      Bokeh.embed.inject_css(\"https://cdn.pydata.org/bokeh/release/bokeh-widgets-0.12.10.min.css\");\n      console.log(\"Bokeh: injecting CSS: https://cdn.pydata.org/bokeh/release/bokeh-tables-0.12.10.min.css\");\n      Bokeh.embed.inject_css(\"https://cdn.pydata.org/bokeh/release/bokeh-tables-0.12.10.min.css\");\n    }\n  ];\n\n  function run_inline_js() {\n    \n    if ((root.Bokeh !== undefined) || (force === true)) {\n      for (var i = 0; i < inline_js.length; i++) {\n        inline_js[i].call(root, root.Bokeh);\n      }} else if (Date.now() < root._bokeh_timeout) {\n      setTimeout(run_inline_js, 100);\n    } else if (!root._bokeh_failed_load) {\n      console.log(\"Bokeh: BokehJS failed to load within specified timeout.\");\n      root._bokeh_failed_load = true;\n    } else if (force !== true) {\n      var cell = $(document.getElementById(null)).parents('.cell').data().cell;\n      cell.output_area.append_execute_result(NB_LOAD_WARNING)\n    }\n\n  }\n\n  if (root._bokeh_is_loading === 0) {\n    console.log(\"Bokeh: BokehJS loaded, going straight to plotting\");\n    run_inline_js();\n  } else {\n    load_libs(js_urls, function() {\n      console.log(\"Bokeh: BokehJS plotting callback run at\", now());\n      run_inline_js();\n    });\n  }\n}(window));"
     },
     "metadata": {},
     "output_type": "display_data"
    }
   ],
   "source": [
    "from bokeh.plotting import output_notebook, show\n",
    "output_notebook(hide_banner=True)\n",
    "\n",
    "import gene_viz\n",
    "from gene_viz.features import Transcript, Exon, CDS"
   ]
  },
  {
   "cell_type": "markdown",
   "metadata": {},
   "source": [
    "## Use PyEnsembl as the data source"
   ]
  },
  {
   "cell_type": "code",
   "execution_count": 2,
   "metadata": {
    "collapsed": true
   },
   "outputs": [],
   "source": [
    "import os\n",
    "import pyensembl\n",
    "\n",
    "# set database cache directory for pyensembl\n",
    "os.environ['PYENSEMBL_CACHE_DIR'] = os.path.abspath(\"./\")\n",
    "\n",
    "# download and unzip gencode basic annotations for hg38\n",
    "#!wget ftp://ftp.sanger.ac.uk/pub/gencode/Gencode_human/release_27/gencode.v27.basic.annotation.gtf.gz\n",
    "#!gunzip gencode.v27.basic.annotation.gtf.gz\n",
    "    \n",
    "genome = pyensembl.Genome(\n",
    "    reference_name=\"GRCh38\",\n",
    "    annotation_name=\"Gencode27\",\n",
    "    gtf_path_or_url=\"gencode.v27.basic.annotation.gtf.gz\"\n",
    ")\n",
    "genome.index()"
   ]
  },
  {
   "cell_type": "markdown",
   "metadata": {},
   "source": [
    "## Create a method to translate pyensembl objects into gene_viz features "
   ]
  },
  {
   "cell_type": "code",
   "execution_count": 3,
   "metadata": {
    "collapsed": true
   },
   "outputs": [],
   "source": [
    "def transcripts_from_pyensembl(contig, start, end):\n",
    "    \"\"\"\n",
    "    Get annotations from pyensembl and translate them into gene_viz features\n",
    "    \"\"\"\n",
    "    transcripts = []\n",
    "\n",
    "    for gene in genome.genes_at_locus(contig, start, end):\n",
    "        for t in gene.transcripts:\n",
    "            tr = Transcript(t.transcript_name, t.gene_id, t.contig, t.start, t.end, t.strand)\n",
    "                \n",
    "            for e in t.exons:\n",
    "                tr.add_exon(Exon(e.id, e.contig, e.start, e.end))\n",
    "        \n",
    "            try:\n",
    "                for c in t.coding_sequence_position_ranges:\n",
    "                    tr.add_cds(CDS(t.contig, c[0], c[1]))\n",
    "            except ValueError:\n",
    "                pass\n",
    "        \n",
    "            transcripts.append(tr)\n",
    "    \n",
    "    return transcripts"
   ]
  },
  {
   "cell_type": "markdown",
   "metadata": {},
   "source": [
    "## Create a gene_viz GenePlot"
   ]
  },
  {
   "cell_type": "code",
   "execution_count": 4,
   "metadata": {
    "collapsed": true,
    "scrolled": false
   },
   "outputs": [],
   "source": [
    "def make_plot(transcripts):\n",
    "    \"\"\"\n",
    "    Create a gene_plot object from a list of transcript feature objects\n",
    "    \"\"\"\n",
    "    start = min([t.start for t in transcripts])\n",
    "    end = max([t.end for t in transcripts])\n",
    "    contig = next((t.contig for t in transcripts), \"unlabelled\")\n",
    "    \n",
    "    gene_plot = gene_viz.GenePlot(\n",
    "        dict(\n",
    "            row_height=15,\n",
    "            pack=True,\n",
    "            show_labels=True,\n",
    "            label_horiz_position=\"center\",\n",
    "            label_vert_position=\"above\",\n",
    "            label_justify=\"center\",\n",
    "            label_offset=(0, -4),\n",
    "            label_font_size=\"6pt\",\n",
    "            intron_width_percent=0.01,\n",
    "        )\n",
    "    )\n",
    "        \n",
    "    gene_plot.x_range = (start, end)\n",
    "    gene_plot.figure.xaxis.axis_label = contig\n",
    "    gene_plot.transcripts = transcripts\n",
    "    gene_plot.update()\n",
    "    return gene_plot"
   ]
  },
  {
   "cell_type": "markdown",
   "metadata": {},
   "source": [
    "## Query pyensembl and visualize the results"
   ]
  },
  {
   "cell_type": "code",
   "execution_count": 5,
   "metadata": {},
   "outputs": [
    {
     "data": {
      "text/html": [
       "\n",
       "<div class=\"bk-root\">\n",
       "    <div class=\"bk-plotdiv\" id=\"79b3d42c-cc77-4632-b968-a2bac711a81f\"></div>\n",
       "</div>"
      ]
     },
     "metadata": {},
     "output_type": "display_data"
    },
    {
     "data": {
      "application/javascript": [
       "(function(root) {\n",
       "  function embed_document(root) {\n",
       "    var docs_json = {\"fb667ce3-bc33-4656-9040-0f6d8a858b86\":{\"roots\":{\"references\":[{\"attributes\":{\"data_source\":{\"id\":\"b9a6e94d-7bb5-4c28-98a3-05eac3c4ac60\",\"type\":\"ColumnDataSource\"},\"glyph\":{\"id\":\"aeaf91da-0fe3-4703-b5f7-5c009ad5c7d3\",\"type\":\"Quad\"},\"hover_glyph\":null,\"muted_glyph\":null,\"name\":\"noncoding_exons\",\"nonselection_glyph\":{\"id\":\"d6cdfdf3-b32c-4e1a-a894-07a405f1f2af\",\"type\":\"Quad\"},\"selection_glyph\":null,\"view\":{\"id\":\"9a87bdf2-4785-489c-b6be-ee19a4de1f60\",\"type\":\"CDSView\"}},\"id\":\"7d9fde92-4bf4-435b-b45b-c9ca53439c3c\",\"type\":\"GlyphRenderer\"},{\"attributes\":{\"callback\":null,\"column_names\":[\"x\",\"y\",\"label\",\"index\"],\"data\":{\"index\":[0,1,2,3,4,5,6,7,8,9,10,11,12,13],\"label\":[\"CYP2D6-203\",\"CYP2D6-204\",\"CYP2D6-201\",\"CYP2D7-201\",\"CYP2D7-203\",\"CYP2D7-208\",\"CYP2D7-207\",\"AC254562.1-201\",\"AC254562.2-201\",\"NDUFA6-AS1-203\",\"NDUFA6-AS1-207\",\"NDUFA6-AS1-208\",\"NDUFA6-AS1-216\",\"AC254562.3-201\"],\"x\":[42128702.5,42128691.0,42128710.5,42142376.0,42142390.0,42142379.5,42142391.0,42132770.5,42138180.0,42114336.5,42108081.5,42108155.5,42134540.5,42138893.0],\"y\":[3,1,-1,-1,5,1,3,-1,1,5,1,-1,3,-1]}},\"id\":\"3efcf546-eca2-41d8-ada5-bd63c8089d9e\",\"type\":\"ColumnDataSource\"},{\"attributes\":{\"text\":{\"field\":\"label\"},\"text_align\":\"center\",\"text_alpha\":{\"value\":0.1},\"text_baseline\":\"middle\",\"text_color\":{\"value\":\"black\"},\"text_font\":\"monospace\",\"text_font_size\":{\"value\":\"6pt\"},\"x\":{\"field\":\"x\"},\"y\":{\"field\":\"y\"}},\"id\":\"68ea22f7-3a6a-4f76-ab16-99fd8684eed3\",\"type\":\"Text\"},{\"attributes\":{\"data_source\":{\"id\":\"6621e3d9-722a-49a3-b726-75fc5e957a25\",\"type\":\"ColumnDataSource\"},\"glyph\":{\"id\":\"529ae0fc-56b1-4c13-a268-1cc472c54f31\",\"type\":\"Segment\"},\"hover_glyph\":null,\"muted_glyph\":null,\"name\":\"transcripts\",\"nonselection_glyph\":{\"id\":\"c9da107a-8950-4bad-889b-d798be64d87d\",\"type\":\"Segment\"},\"selection_glyph\":null,\"view\":{\"id\":\"d2a0fc80-b82a-4419-9f19-4a71ea8c988f\",\"type\":\"CDSView\"}},\"id\":\"dd863c05-daf4-4db7-8ddc-c3c6dc9ef096\",\"type\":\"GlyphRenderer\"},{\"attributes\":{\"mantissas\":[1,2,3,4,5,6,7,8,9],\"max_interval\":1,\"min_interval\":1,\"num_minor_ticks\":1},\"id\":\"2f420e4c-4ddb-44d8-81cf-9ad2aad2054e\",\"type\":\"AdaptiveTicker\"},{\"attributes\":{\"callback\":null,\"end\":-1.5,\"start\":7},\"id\":\"de8cd275-d366-4084-90b2-1bbf099158c9\",\"type\":\"Range1d\"},{\"attributes\":{\"source\":{\"id\":\"3efcf546-eca2-41d8-ada5-bd63c8089d9e\",\"type\":\"ColumnDataSource\"}},\"id\":\"1309179e-6d50-4187-8bc0-9d05a059fbcb\",\"type\":\"CDSView\"},{\"attributes\":{\"axis_label\":\"22\",\"formatter\":{\"id\":\"36aa8d0c-0151-49f0-b7f6-d64ae0fc9014\",\"type\":\"NumeralTickFormatter\"},\"plot\":{\"id\":\"a18ae23d-1979-4364-bcdf-5b825b0142ef\",\"subtype\":\"Figure\",\"type\":\"Plot\"},\"ticker\":{\"id\":\"d40add07-2599-4162-8d1e-d2d345f81c8f\",\"type\":\"CompositeTicker\"}},\"id\":\"24d1083f-2fa1-4eb4-a230-074f92c35e0a\",\"type\":\"LinearAxis\"},{\"attributes\":{\"dimension\":1,\"grid_line_color\":{\"value\":null},\"plot\":{\"id\":\"a18ae23d-1979-4364-bcdf-5b825b0142ef\",\"subtype\":\"Figure\",\"type\":\"Plot\"},\"ticker\":{\"id\":\"6b9cdb4a-4096-4be8-8b30-94f6c8aa29af\",\"type\":\"BasicTicker\"}},\"id\":\"aff6b1eb-c2b3-4d71-9889-8b971829f561\",\"type\":\"Grid\"},{\"attributes\":{\"mantissas\":[1,2,3,4,5,6,7,8,9],\"max_interval\":3,\"min_interval\":3,\"num_minor_ticks\":3},\"id\":\"b11c3bd5-964a-4dfe-a807-823e8ae3044b\",\"type\":\"AdaptiveTicker\"},{\"attributes\":{\"mantissas\":[1,2,3,4,5,6,7,8,9],\"max_interval\":4,\"min_interval\":4,\"num_minor_ticks\":4},\"id\":\"2c7714fb-74a3-42da-a7c8-aa5a6f904432\",\"type\":\"AdaptiveTicker\"},{\"attributes\":{},\"id\":\"a65b8d8a-d045-4716-9eda-33dd638efa9b\",\"type\":\"LinearScale\"},{\"attributes\":{\"args\":{\"source\":{\"id\":\"e67845c4-f195-4e21-974b-9ebd271311d8\",\"type\":\"ColumnDataSource\"}},\"code\":\"\\nvar start = cb_obj.start;\\nvar end = cb_obj.end;\\nvar width = end - start;\\nvar threshold = 0.010000 * width;     // threshold factor is set from python-side configuration\\nvar intron_alpha = 1.000000;          // alpha value is set from python-side configuration\\n\\n// iterate over each intron\\nvar data = source.data;\\nfor (i=0; i<data[\\\"x\\\"].length; i++)\\n{\\n    // if the screen-space width is large enough, make the intron visible\\n    if(data[\\\"width\\\"][i] >= threshold)\\n        data[\\\"alpha\\\"][i] = intron_alpha;\\n    else\\n    // otherwise, make the intron fully transparent\\n        data[\\\"alpha\\\"][i] = 0;\\n}\\n\\nsource.change.emit();\\n\"},\"id\":\"6d235845-5f7a-4eb4-928f-d9090bb70cbf\",\"type\":\"CustomJS\"},{\"attributes\":{},\"id\":\"36aa8d0c-0151-49f0-b7f6-d64ae0fc9014\",\"type\":\"NumeralTickFormatter\"},{\"attributes\":{\"line_alpha\":{\"value\":0.1},\"line_color\":{\"value\":\"#1f77b4\"},\"x0\":{\"field\":\"x0\"},\"x1\":{\"field\":\"x1\"},\"y0\":{\"field\":\"y0\"},\"y1\":{\"field\":\"y1\"}},\"id\":\"c9da107a-8950-4bad-889b-d798be64d87d\",\"type\":\"Segment\"},{\"attributes\":{\"mantissas\":[1,2,3,4,5,6,7,8,9],\"min_interval\":5},\"id\":\"e6f22a4e-53e5-44fe-802b-df0f7212b804\",\"type\":\"AdaptiveTicker\"},{\"attributes\":{\"callback\":{\"id\":\"6d235845-5f7a-4eb4-928f-d9090bb70cbf\",\"type\":\"CustomJS\"},\"end\":42144577,\"start\":42090931},\"id\":\"c494b58e-123f-4a8c-8453-a539710307ab\",\"type\":\"Range1d\"},{\"attributes\":{\"grid_line_color\":{\"value\":null},\"plot\":{\"id\":\"a18ae23d-1979-4364-bcdf-5b825b0142ef\",\"subtype\":\"Figure\",\"type\":\"Plot\"},\"ticker\":{\"id\":\"e84e75dd-d975-441c-9a5e-5c7518d30650\",\"type\":\"BasicTicker\"}},\"id\":\"1abe15f0-09ea-46c5-90d7-b7075eb57d83\",\"type\":\"Grid\"},{\"attributes\":{\"tickers\":[{\"id\":\"2f420e4c-4ddb-44d8-81cf-9ad2aad2054e\",\"type\":\"AdaptiveTicker\"},{\"id\":\"caa5e2b8-622b-474e-8303-d7c3b1745de7\",\"type\":\"AdaptiveTicker\"},{\"id\":\"b11c3bd5-964a-4dfe-a807-823e8ae3044b\",\"type\":\"AdaptiveTicker\"},{\"id\":\"2c7714fb-74a3-42da-a7c8-aa5a6f904432\",\"type\":\"AdaptiveTicker\"},{\"id\":\"e6f22a4e-53e5-44fe-802b-df0f7212b804\",\"type\":\"AdaptiveTicker\"}]},\"id\":\"d40add07-2599-4162-8d1e-d2d345f81c8f\",\"type\":\"CompositeTicker\"},{\"attributes\":{\"callback\":null,\"column_names\":[\"x0\",\"y0\",\"x1\",\"y1\",\"index\"],\"data\":{\"index\":[0,1,2,3,4,5,6,7,8,9,10,11,12,13,14,15,16,17,18,19,20,21,22,23,24,25,26,27,28,29,30,31,32,33,34,35,36,37,38,39,40,41,42,43,44,45,46,47,48,49,50,51,52,53,54,55,56,57,58,59,60,61,62,63,64],\"x0\":[42130611,42129737,42129032,42128783,42128173,42127841,42127446,42126850,42126576,42130611,42129737,42129032,42128783,42128173,42127841,42127780,42127446,42126850,42126576,42130611,42129737,42128783,42128173,42127841,42127446,42126850,42126576,42144283,42143409,42142727,42142478,42141867,42141533,42141151,42140554,42140279,42144283,42143409,42142727,42142478,42141867,42141533,42141151,42140554,42140279,42144329,42144283,42143409,42142478,42141867,42141533,42141151,42140554,42140280,42144329,42144283,42143409,42142727,42142478,42141867,42141533,42141370,42141151,42140554,42140280],\"x1\":[42130791,42129909,42129185,42128944,42128350,42127983,42127634,42126992,42126752,42130725,42129909,42129185,42128944,42128350,42127983,42127809,42127662,42126992,42126752,42130791,42129909,42128944,42128350,42127983,42127634,42126992,42126752,42144464,42143581,42142880,42142639,42142044,42141675,42141339,42140696,42140456,42144464,42143581,42142880,42142639,42142044,42141675,42141396,42140696,42140456,42144464,42144328,42143581,42142639,42142044,42141675,42141339,42140696,42140456,42144464,42144328,42143581,42142880,42142639,42142044,42141675,42141396,42141367,42140696,42140456],\"y0\":[3.65,3.65,3.65,3.65,3.65,3.65,3.65,3.65,3.65,1.65,1.65,1.65,1.65,1.65,1.65,1.65,1.65,1.65,1.65,-0.35,-0.35,-0.35,-0.35,-0.35,-0.35,-0.35,-0.35,-0.35,-0.35,-0.35,-0.35,-0.35,-0.35,-0.35,-0.35,-0.35,5.65,5.65,5.65,5.65,5.65,5.65,5.65,5.65,5.65,1.65,1.65,1.65,1.65,1.65,1.65,1.65,1.65,1.65,3.65,3.65,3.65,3.65,3.65,3.65,3.65,3.65,3.65,3.65,3.65],\"y1\":[4.35,4.35,4.35,4.35,4.35,4.35,4.35,4.35,4.35,2.35,2.35,2.35,2.35,2.35,2.35,2.35,2.35,2.35,2.35,0.35,0.35,0.35,0.35,0.35,0.35,0.35,0.35,0.35,0.35,0.35,0.35,0.35,0.35,0.35,0.35,0.35,6.35,6.35,6.35,6.35,6.35,6.35,6.35,6.35,6.35,2.35,2.35,2.35,2.35,2.35,2.35,2.35,2.35,2.35,4.35,4.35,4.35,4.35,4.35,4.35,4.35,4.35,4.35,4.35,4.35]}},\"id\":\"90aabce7-79d8-4136-abca-2f71625af574\",\"type\":\"ColumnDataSource\"},{\"attributes\":{\"dimensions\":\"width\"},\"id\":\"342cd5df-a6a5-49b9-a977-eed5ba34727f\",\"type\":\"PanTool\"},{\"attributes\":{\"bottom_units\":\"screen\",\"fill_alpha\":{\"value\":0.5},\"fill_color\":{\"value\":\"lightgrey\"},\"left_units\":\"screen\",\"level\":\"overlay\",\"line_alpha\":{\"value\":1.0},\"line_color\":{\"value\":\"black\"},\"line_dash\":[4,4],\"line_width\":{\"value\":2},\"plot\":null,\"render_mode\":\"css\",\"right_units\":\"screen\",\"top_units\":\"screen\"},\"id\":\"c0047035-e87c-4612-a98d-4968427a6ef4\",\"type\":\"BoxAnnotation\"},{\"attributes\":{\"callback\":null,\"column_names\":[\"x0\",\"y0\",\"x1\",\"y1\",\"index\"],\"data\":{\"index\":[0,1,2,3,4,5,6,7,8,9,10,11,12,13],\"x0\":[42126498,42126500,42126555,42140202,42140202,42140204,42140204,42132542,42136432,42090930,42091203,42091351,42132030,42138059],\"x1\":[42130906,42130881,42130865,42144549,42144577,42144554,42144577,42132998,42139927,42137742,42124959,42124959,42137050,42139726],\"y0\":[4,2,0,0,6,2,4,0,2,6,2,0,4,0],\"y1\":[4,2,0,0,6,2,4,0,2,6,2,0,4,0]}},\"id\":\"6621e3d9-722a-49a3-b726-75fc5e957a25\",\"type\":\"ColumnDataSource\"},{\"attributes\":{},\"id\":\"16a628d7-495b-4439-95e7-b621a95cbf30\",\"type\":\"BasicTickFormatter\"},{\"attributes\":{\"dimensions\":\"width\"},\"id\":\"90ecbcf6-d97a-42ee-a47a-8f8ed16fd2f8\",\"type\":\"WheelZoomTool\"},{\"attributes\":{\"dimensions\":\"width\",\"overlay\":{\"id\":\"c0047035-e87c-4612-a98d-4968427a6ef4\",\"type\":\"BoxAnnotation\"}},\"id\":\"3f456c15-1d7a-414d-8c3a-19ca8c57778f\",\"type\":\"BoxZoomTool\"},{\"attributes\":{\"formatter\":{\"id\":\"16a628d7-495b-4439-95e7-b621a95cbf30\",\"type\":\"BasicTickFormatter\"},\"plot\":{\"id\":\"a18ae23d-1979-4364-bcdf-5b825b0142ef\",\"subtype\":\"Figure\",\"type\":\"Plot\"},\"ticker\":{\"id\":\"6b9cdb4a-4096-4be8-8b30-94f6c8aa29af\",\"type\":\"BasicTicker\"},\"visible\":false},\"id\":\"042dccc2-8492-4206-bc1f-c1b3e50af40c\",\"type\":\"LinearAxis\"},{\"attributes\":{},\"id\":\"e8440308-9187-4db4-b187-bea4896f5098\",\"type\":\"SaveTool\"},{\"attributes\":{},\"id\":\"b086bbb6-94db-4051-8587-56426606a550\",\"type\":\"ResetTool\"},{\"attributes\":{\"callback\":null,\"column_names\":[\"x0\",\"y0\",\"x1\",\"y1\",\"index\"],\"data\":{\"index\":[0,1,2,3,4,5,6,7,8,9,10,11,12,13,14,15,16,17,18,19,20,21,22,23,24,25,26,27,28,29,30,31,32,33,34,35,36,37,38,39,40,41,42,43,44,45,46,47,48,49,50,51,52,53,54,55,56,57,58,59,60,61,62,63,64,65,66,67,68,69,70,71,72,73,74,75,76,77,78,79,80,81,82,83,84,85,86,87,88,89,90,91,92,93,94,95,96,97,98],\"x0\":[42130611,42129737,42129032,42128783,42128173,42127841,42127446,42126850,42126498,42130611,42129737,42129032,42128783,42128173,42127841,42127780,42127446,42126850,42126500,42130611,42129737,42128783,42128173,42127841,42127446,42126850,42126555,42144283,42143409,42142727,42142478,42141867,42141533,42141151,42140554,42140202,42144283,42143409,42142727,42142478,42141867,42141533,42141151,42140554,42140202,42144329,42144283,42143409,42142478,42141867,42141533,42141151,42140554,42140204,42144329,42144283,42143409,42142727,42142478,42141867,42141533,42141370,42141151,42140554,42140204,42132542,42139611,42137986,42136432,42090930,42091296,42092118,42124046,42124874,42136198,42137026,42091203,42112305,42122792,42124046,42124476,42124874,42091351,42122792,42123525,42123765,42124046,42124519,42124874,42132030,42132369,42133039,42135134,42135677,42136198,42136671,42137026,42138059,42139318],\"x1\":[42130906,42129909,42129185,42128944,42128350,42127983,42127634,42126992,42126752,42130881,42129909,42129185,42128944,42128350,42127983,42127809,42127662,42126992,42126752,42130865,42129909,42128944,42128350,42127983,42127634,42126992,42126752,42144549,42143581,42142880,42142639,42142044,42141675,42141339,42140696,42140456,42144577,42143581,42142880,42142639,42142044,42141675,42141396,42140696,42140456,42144554,42144328,42143581,42142639,42142044,42141675,42141339,42140696,42140456,42144577,42144328,42143581,42142880,42142639,42142044,42141675,42141396,42141367,42140696,42140456,42132998,42139927,42138105,42136664,42091181,42091600,42092232,42124562,42125407,42136714,42137742,42091600,42112390,42122888,42124130,42124562,42124959,42091600,42122888,42123591,42123804,42124130,42124562,42124959,42132190,42132602,42133090,42135239,42135743,42136282,42136714,42137050,42138282,42139726],\"y0\":[3.825,3.825,3.825,3.825,3.825,3.825,3.825,3.825,3.825,1.825,1.825,1.825,1.825,1.825,1.825,1.825,1.825,1.825,1.825,-0.175,-0.175,-0.175,-0.175,-0.175,-0.175,-0.175,-0.175,-0.175,-0.175,-0.175,-0.175,-0.175,-0.175,-0.175,-0.175,-0.175,5.825,5.825,5.825,5.825,5.825,5.825,5.825,5.825,5.825,1.825,1.825,1.825,1.825,1.825,1.825,1.825,1.825,1.825,3.825,3.825,3.825,3.825,3.825,3.825,3.825,3.825,3.825,3.825,3.825,-0.175,1.825,1.825,1.825,5.825,5.825,5.825,5.825,5.825,5.825,5.825,1.825,1.825,1.825,1.825,1.825,1.825,-0.175,-0.175,-0.175,-0.175,-0.175,-0.175,-0.175,3.825,3.825,3.825,3.825,3.825,3.825,3.825,3.825,-0.175,-0.175],\"y1\":[4.175,4.175,4.175,4.175,4.175,4.175,4.175,4.175,4.175,2.175,2.175,2.175,2.175,2.175,2.175,2.175,2.175,2.175,2.175,0.175,0.175,0.175,0.175,0.175,0.175,0.175,0.175,0.175,0.175,0.175,0.175,0.175,0.175,0.175,0.175,0.175,6.175,6.175,6.175,6.175,6.175,6.175,6.175,6.175,6.175,2.175,2.175,2.175,2.175,2.175,2.175,2.175,2.175,2.175,4.175,4.175,4.175,4.175,4.175,4.175,4.175,4.175,4.175,4.175,4.175,0.175,2.175,2.175,2.175,6.175,6.175,6.175,6.175,6.175,6.175,6.175,2.175,2.175,2.175,2.175,2.175,2.175,0.175,0.175,0.175,0.175,0.175,0.175,0.175,4.175,4.175,4.175,4.175,4.175,4.175,4.175,4.175,0.175,0.175]}},\"id\":\"b9a6e94d-7bb5-4c28-98a3-05eac3c4ac60\",\"type\":\"ColumnDataSource\"},{\"attributes\":{},\"id\":\"d894857c-2e50-4646-b492-830000ef28b5\",\"type\":\"LinearScale\"},{\"attributes\":{\"source\":{\"id\":\"6621e3d9-722a-49a3-b726-75fc5e957a25\",\"type\":\"ColumnDataSource\"}},\"id\":\"d2a0fc80-b82a-4419-9f19-4a71ea8c988f\",\"type\":\"CDSView\"},{\"attributes\":{\"plot\":null,\"text\":\"\"},\"id\":\"436fd1a8-aea5-4eaf-83d6-bb499af43aca\",\"type\":\"Title\"},{\"attributes\":{\"active_drag\":\"auto\",\"active_inspect\":\"auto\",\"active_scroll\":{\"id\":\"90ecbcf6-d97a-42ee-a47a-8f8ed16fd2f8\",\"type\":\"WheelZoomTool\"},\"active_tap\":\"auto\",\"logo\":null,\"tools\":[{\"id\":\"342cd5df-a6a5-49b9-a977-eed5ba34727f\",\"type\":\"PanTool\"},{\"id\":\"90ecbcf6-d97a-42ee-a47a-8f8ed16fd2f8\",\"type\":\"WheelZoomTool\"},{\"id\":\"3f456c15-1d7a-414d-8c3a-19ca8c57778f\",\"type\":\"BoxZoomTool\"},{\"id\":\"e8440308-9187-4db4-b187-bea4896f5098\",\"type\":\"SaveTool\"},{\"id\":\"b086bbb6-94db-4051-8587-56426606a550\",\"type\":\"ResetTool\"}]},\"id\":\"4e1a2347-2403-4272-ba55-eac00509189f\",\"type\":\"Toolbar\"},{\"attributes\":{\"angle\":{\"field\":\"angle\",\"units\":\"deg\"},\"text\":{\"value\":\"v\"},\"text_align\":\"center\",\"text_alpha\":{\"field\":\"alpha\"},\"text_baseline\":\"middle\",\"text_color\":{\"value\":\"Black\"},\"text_font\":\"sans-serif\",\"text_font_size\":{\"value\":\"5pt\"},\"text_font_style\":\"bold\",\"x\":{\"field\":\"x\"},\"y\":{\"field\":\"y\"}},\"id\":\"9c4d045c-64af-4438-b2a6-ae0c656481fe\",\"type\":\"Text\"},{\"attributes\":{\"bottom\":{\"field\":\"y0\"},\"fill_alpha\":{\"value\":0.1},\"fill_color\":{\"value\":\"#1f77b4\"},\"left\":{\"field\":\"x0\"},\"line_alpha\":{\"value\":0.1},\"line_color\":{\"value\":\"#1f77b4\"},\"right\":{\"field\":\"x1\"},\"top\":{\"field\":\"y1\"}},\"id\":\"0d3e124d-f966-47e6-ab91-da7ca7c83b9b\",\"type\":\"Quad\"},{\"attributes\":{\"below\":[{\"id\":\"24d1083f-2fa1-4eb4-a230-074f92c35e0a\",\"type\":\"LinearAxis\"}],\"left\":[{\"id\":\"042dccc2-8492-4206-bc1f-c1b3e50af40c\",\"type\":\"LinearAxis\"}],\"outline_line_alpha\":{\"value\":0},\"plot_height\":155,\"plot_width\":800,\"renderers\":[{\"id\":\"24d1083f-2fa1-4eb4-a230-074f92c35e0a\",\"type\":\"LinearAxis\"},{\"id\":\"1abe15f0-09ea-46c5-90d7-b7075eb57d83\",\"type\":\"Grid\"},{\"id\":\"042dccc2-8492-4206-bc1f-c1b3e50af40c\",\"type\":\"LinearAxis\"},{\"id\":\"aff6b1eb-c2b3-4d71-9889-8b971829f561\",\"type\":\"Grid\"},{\"id\":\"c0047035-e87c-4612-a98d-4968427a6ef4\",\"type\":\"BoxAnnotation\"},{\"id\":\"dd863c05-daf4-4db7-8ddc-c3c6dc9ef096\",\"type\":\"GlyphRenderer\"},{\"id\":\"32ea1dab-01ad-42da-a4a1-e7f7b040e299\",\"type\":\"GlyphRenderer\"},{\"id\":\"fe139187-5510-4454-afff-7b042698796e\",\"type\":\"GlyphRenderer\"},{\"id\":\"7d9fde92-4bf4-435b-b45b-c9ca53439c3c\",\"type\":\"GlyphRenderer\"},{\"id\":\"12ef449a-78cd-4c60-8894-8398d626cd15\",\"type\":\"GlyphRenderer\"}],\"title\":{\"id\":\"436fd1a8-aea5-4eaf-83d6-bb499af43aca\",\"type\":\"Title\"},\"toolbar\":{\"id\":\"4e1a2347-2403-4272-ba55-eac00509189f\",\"type\":\"Toolbar\"},\"x_range\":{\"id\":\"c494b58e-123f-4a8c-8453-a539710307ab\",\"type\":\"Range1d\"},\"x_scale\":{\"id\":\"a65b8d8a-d045-4716-9eda-33dd638efa9b\",\"type\":\"LinearScale\"},\"y_range\":{\"id\":\"de8cd275-d366-4084-90b2-1bbf099158c9\",\"type\":\"Range1d\"},\"y_scale\":{\"id\":\"d894857c-2e50-4646-b492-830000ef28b5\",\"type\":\"LinearScale\"}},\"id\":\"a18ae23d-1979-4364-bcdf-5b825b0142ef\",\"subtype\":\"Figure\",\"type\":\"Plot\"},{\"attributes\":{\"bottom\":{\"field\":\"y0\"},\"fill_color\":{\"value\":\"DarkBlue\"},\"left\":{\"field\":\"x0\"},\"line_color\":{\"value\":\"DarkBlue\"},\"right\":{\"field\":\"x1\"},\"top\":{\"field\":\"y1\"}},\"id\":\"aeaf91da-0fe3-4703-b5f7-5c009ad5c7d3\",\"type\":\"Quad\"},{\"attributes\":{\"bottom\":{\"field\":\"y0\"},\"fill_alpha\":{\"value\":0.1},\"fill_color\":{\"value\":\"#1f77b4\"},\"left\":{\"field\":\"x0\"},\"line_alpha\":{\"value\":0.1},\"line_color\":{\"value\":\"#1f77b4\"},\"right\":{\"field\":\"x1\"},\"top\":{\"field\":\"y1\"}},\"id\":\"d6cdfdf3-b32c-4e1a-a894-07a405f1f2af\",\"type\":\"Quad\"},{\"attributes\":{\"source\":{\"id\":\"e67845c4-f195-4e21-974b-9ebd271311d8\",\"type\":\"ColumnDataSource\"}},\"id\":\"6b210ba5-04ec-4427-9913-bc854118c088\",\"type\":\"CDSView\"},{\"attributes\":{},\"id\":\"e84e75dd-d975-441c-9a5e-5c7518d30650\",\"type\":\"BasicTicker\"},{\"attributes\":{\"angle\":{\"field\":\"angle\",\"units\":\"deg\"},\"text\":{\"value\":\"v\"},\"text_align\":\"center\",\"text_alpha\":{\"value\":0.1},\"text_baseline\":\"middle\",\"text_color\":{\"value\":\"black\"},\"text_font\":\"sans-serif\",\"text_font_size\":{\"value\":\"5pt\"},\"text_font_style\":\"bold\",\"x\":{\"field\":\"x\"},\"y\":{\"field\":\"y\"}},\"id\":\"4979ad12-5c3c-4621-8b5f-f1eb1c634640\",\"type\":\"Text\"},{\"attributes\":{\"data_source\":{\"id\":\"e67845c4-f195-4e21-974b-9ebd271311d8\",\"type\":\"ColumnDataSource\"},\"glyph\":{\"id\":\"9c4d045c-64af-4438-b2a6-ae0c656481fe\",\"type\":\"Text\"},\"hover_glyph\":null,\"muted_glyph\":null,\"name\":\"introns\",\"nonselection_glyph\":{\"id\":\"4979ad12-5c3c-4621-8b5f-f1eb1c634640\",\"type\":\"Text\"},\"selection_glyph\":null,\"view\":{\"id\":\"6b210ba5-04ec-4427-9913-bc854118c088\",\"type\":\"CDSView\"}},\"id\":\"32ea1dab-01ad-42da-a4a1-e7f7b040e299\",\"type\":\"GlyphRenderer\"},{\"attributes\":{\"data_source\":{\"id\":\"90aabce7-79d8-4136-abca-2f71625af574\",\"type\":\"ColumnDataSource\"},\"glyph\":{\"id\":\"c9a470e0-30a2-4af3-b245-f43684f44ee5\",\"type\":\"Quad\"},\"hover_glyph\":null,\"muted_glyph\":null,\"name\":\"coding_exons\",\"nonselection_glyph\":{\"id\":\"0d3e124d-f966-47e6-ab91-da7ca7c83b9b\",\"type\":\"Quad\"},\"selection_glyph\":null,\"view\":{\"id\":\"377e907f-bd0c-4348-ae07-01781bb5a57f\",\"type\":\"CDSView\"}},\"id\":\"fe139187-5510-4454-afff-7b042698796e\",\"type\":\"GlyphRenderer\"},{\"attributes\":{\"bottom\":{\"field\":\"y0\"},\"fill_color\":{\"value\":\"DarkBlue\"},\"left\":{\"field\":\"x0\"},\"line_color\":{\"value\":\"DarkBlue\"},\"right\":{\"field\":\"x1\"},\"top\":{\"field\":\"y1\"}},\"id\":\"c9a470e0-30a2-4af3-b245-f43684f44ee5\",\"type\":\"Quad\"},{\"attributes\":{\"source\":{\"id\":\"b9a6e94d-7bb5-4c28-98a3-05eac3c4ac60\",\"type\":\"ColumnDataSource\"}},\"id\":\"9a87bdf2-4785-489c-b6be-ee19a4de1f60\",\"type\":\"CDSView\"},{\"attributes\":{\"source\":{\"id\":\"90aabce7-79d8-4136-abca-2f71625af574\",\"type\":\"ColumnDataSource\"}},\"id\":\"377e907f-bd0c-4348-ae07-01781bb5a57f\",\"type\":\"CDSView\"},{\"attributes\":{\"line_color\":{\"value\":\"Black\"},\"x0\":{\"field\":\"x0\"},\"x1\":{\"field\":\"x1\"},\"y0\":{\"field\":\"y0\"},\"y1\":{\"field\":\"y1\"}},\"id\":\"529ae0fc-56b1-4c13-a268-1cc472c54f31\",\"type\":\"Segment\"},{\"attributes\":{\"mantissas\":[1,2,3,4,5,6,7,8,9],\"max_interval\":2,\"min_interval\":2,\"num_minor_ticks\":2},\"id\":\"caa5e2b8-622b-474e-8303-d7c3b1745de7\",\"type\":\"AdaptiveTicker\"},{\"attributes\":{\"callback\":null,\"column_names\":[\"x\",\"y\",\"angle\",\"width\",\"alpha\",\"index\"],\"data\":{\"alpha\":{\"__ndarray__\":\"AAAAAAAAAAAAAAAAAAAAAAAAAAAAAAAAAAAAAAAAAAAAAAAAAAAAAAAAAAAAAAAAAAAAAAAA8D8AAAAAAADwPwAAAAAAAAAAAAAAAAAAAAAAAAAAAAAAAAAAAAAAAAAAAAAAAAAAAAAAAAAAAAAAAAAAAAAAAAAAAAAAAAAA8D8AAAAAAADwPwAAAAAAAAAAAAAAAAAAAAAAAAAAAAAAAAAAAAAAAAAAAAAAAAAAAAAAAAAAAADwPwAAAAAAAPA/AAAAAAAAAAAAAAAAAAAAAAAAAAAAAAAAAAAAAAAAAAAAAAAAAAAAAAAAAAAAAAAAAAAAAAAAAAAAAAAAAADwPwAAAAAAAAAAAAAAAAAAAAAAAAAAAAAAAAAAAAAAAAAAAAAAAAAAAAAAAAAAAAAAAAAAAAAAAAAAAAAAAAAA8D8AAAAAAAAAAAAAAAAAAAAAAAAAAAAAAAAAAAAAAAAAAAAAAAAAAAAAAAAAAAAA8D8AAAAAAADwPwAAAAAAAAAAAAAAAAAAAAAAAAAAAAAAAAAAAAAAAAAAAAAAAAAAAAAAAAAAAAAAAAAAAAAAAAAAAAAAAAAAAAAAAAAAAAAAAAAAAAAAAPA/AAAAAAAAAAAAAAAAAADwPwAAAAAAAPA/AAAAAAAAAAAAAAAAAAAAAAAAAAAAAPA/AAAAAAAAAAAAAAAAAADwPwAAAAAAAAAAAAAAAAAA8D8AAAAAAADwPwAAAAAAAPA/AAAAAAAAAAAAAAAAAAAAAAAAAAAAAPA/AAAAAAAA8D8AAAAAAAAAAAAAAAAAAAAAAAAAAAAAAAAAAAAAAAAAAAAAAAAAAAAAAAAAAAAAAAAAAAAAAADwPwAAAAAAAAAAAAAAAAAAAAAAAAAAAAAAAAAAAAAAAAAAAAAAAAAA8D8=\",\"dtype\":\"float64\",\"shape\":[85]},\"angle\":{\"__ndarray__\":\"AAAAAACAVsAAAAAAAIBWwAAAAAAAgFbAAAAAAACAVsAAAAAAAIBWwAAAAAAAgFbAAAAAAACAVsAAAAAAAIBWwAAAAAAAgFbAAAAAAACAVsAAAAAAAIBWwAAAAAAAgFbAAAAAAACAVsAAAAAAAIBWwAAAAAAAgFbAAAAAAACAVsAAAAAAAIBWwAAAAAAAgFbAAAAAAACAVsAAAAAAAIBWwAAAAAAAgFbAAAAAAACAVsAAAAAAAIBWwAAAAAAAgFbAAAAAAACAVsAAAAAAAIBWwAAAAAAAgFbAAAAAAACAVsAAAAAAAIBWwAAAAAAAgFbAAAAAAACAVsAAAAAAAIBWwAAAAAAAgFbAAAAAAACAVsAAAAAAAIBWwAAAAAAAgFbAAAAAAACAVsAAAAAAAIBWwAAAAAAAgFbAAAAAAACAVsAAAAAAAIBWwAAAAAAAgFbAAAAAAACAVsAAAAAAAIBWwAAAAAAAgFbAAAAAAACAVsAAAAAAAIBWwAAAAAAAgFbAAAAAAACAVsAAAAAAAIBWwAAAAAAAgFbAAAAAAACAVsAAAAAAAIBWwAAAAAAAgFbAAAAAAACAVsAAAAAAAIBWwAAAAAAAgFbAAAAAAACAVsAAAAAAAIBWwAAAAAAAgFbAAAAAAACAVkAAAAAAAIBWQAAAAAAAgFZAAAAAAACAVkAAAAAAAIBWQAAAAAAAgFZAAAAAAACAVkAAAAAAAIBWQAAAAAAAgFZAAAAAAACAVkAAAAAAAIBWQAAAAAAAgFZAAAAAAACAVkAAAAAAAIBWQAAAAAAAgFZAAAAAAACAVkAAAAAAAIBWQAAAAAAAgFZAAAAAAACAVkAAAAAAAIBWQAAAAAAAgFZAAAAAAACAVkAAAAAAAIBWQAAAAAAAgFZAAAAAAACAVkA=\",\"dtype\":\"float64\",\"shape\":[85]},\"index\":[0,1,2,3,4,5,6,7,8,9,10,11,12,13,14,15,16,17,18,19,20,21,22,23,24,25,26,27,28,29,30,31,32,33,34,35,36,37,38,39,40,41,42,43,44,45,46,47,48,49,50,51,52,53,54,55,56,57,58,59,60,61,62,63,64,65,66,67,68,69,70,71,72,73,74,75,76,77,78,79,80,81,82,83,84],\"width\":{\"__ndarray__\":\"AAAAAADAWEAAAAAAAHB8QAAAAAAAAGpAAAAAAADgZ0AAAAAAACB7QAAAAAAAQFZAAAAAAABIgUAAAAAAAPiFQAAAAAAAwFhAAAAAAABwfEAAAAAAAMBdQAAAAAAAgEBAAAAAAADgZ0AAAAAAACB7QAAAAAAAQFZAAAAAAABIgUAAAAAAAPiFQAAAAAAAwFhAAAAAAABwfEAAAAAAAABqQAAAAAAA4GdAAAAAAAAge0AAAAAAANCIQAAAAAAA+IVAAAAAAADAWEAAAAAAAIB8QAAAAAAAYGhAAAAAAAAgaEAAAAAAADB7QAAAAAAAQFZAAAAAAACQgEAAAAAAAPiFQAAAAAAAwFhAAAAAAACAfEAAAAAAAEBhQAAAAAAAIGhAAAAAAAAwe0AAAAAAAEBWQAAAAAAAkIBAAAAAAAD4hUAAAAAAAMBYQAAAAAAAgHxAAAAAAABgaEAAAAAAACBoQAAAAAAAMHtAAAAAAAAYiEAAAAAAAPiFQAAAAAAAAABAAAAAAADAWEAAAAAAAIB8QAAAAAAAABBAAAAAAABAYUAAAAAAACBoQAAAAAAAMHtAAAAAAABAVkAAAAAAAJCAQAAAAAAA+IVAAAAAAAAAAEAAAAAAAKyUQAAAAAAAjJdAAAAAAAAAXUAAAAAAADiAQAAAAADAEd9AAAAAAACQc0AAAAAAABTFQAAAAAAAkHNAAAAAAIA41EAAAAAAgFHEQAAAAAAAHJJAAAAAAACwdUAAAAAAAJBzQAAAAABAdt5AAAAAAADwg0AAAAAAAOBlQAAAAAAAYG5AAAAAAABgeEAAAAAAAJBzQAAAAAAAgGZAAAAAAABge0AAAAAAAPSfQAAAAAAAcHtAAAAAAACAfEAAAAAAAGB4QAAAAAAAkHNAAAAAAAA0kEA=\",\"dtype\":\"float64\",\"shape\":[85]},\"x\":{\"__ndarray__\":\"AAAAjG4WhEEAAACcexaEQQAAANCLFoRBAAAAdJYWhEEAAAC4pRaEQQAAAOSyFoRBAAAArMEWhEEAAACk2haEQQAAAIxuFoRBAAAAnHsWhEEAAABMixaEQQAAAIyOFoRBAAAAdJYWhEEAAAC4pRaEQQAAAOSyFoRBAAAArMEWhEEAAACk2haEQQAAAIxuFoRBAAAAnHsWhEEAAADQixaEQQAAAHSWFoRBAAAAuKUWhEEAAADovRaEQQAAAKTaFoRBAAAAzBoYhEEAAADgJxiEQQAAAOQ3GIRBAAAAXEIYhEEAAACsURiEQQAAANxeGIRBAAAASG0YhEEAAADkhRiEQQAAAMwaGIRBAAAA4CcYhEEAAADIOBiEQQAAAFxCGIRBAAAArFEYhEEAAADcXhiEQQAAAEhtGIRBAAAA5IUYhEEAAADMGhiEQQAAAOAnGIRBAAAA5DcYhEEAAABcQhiEQQAAAKxRGIRBAAAAhGkYhEEAAADkhRiEQQAAAEiSGIRBAAAAzBoYhEEAAADgJxiEQQAAAMg1GIRBAAAAyDgYhEEAAABcQhiEQQAAAKxRGIRBAAAA3F4YhEEAAABIbRiEQQAAAOSFGIRBAAAASJIYhEEAAABstxeEQQAAAFTnF4RBAAAAOBcShEEAAACcKhKEQQAAAFwnFIRBAAAAdC0WhEEAAACY6xaEQQAAADSpF4RBAAAACGYThEEAAAC8ThWEQQAAAFwGFoRBAAAAfCAWhEEAAAB0LRaEQQAAAOQJFIRBAAAAOP4VhEEAAAD0DBaEQQAAAKwUFoRBAAAAKCEWhEEAAAB0LRaEQQAAAMAZF4RBAAAAqCoXhEEAAAAEUxeEQQAAABR9F4RBAAAAGI0XhEEAAADonBeEQQAAADSpF4RBAAAAhOUXhEE=\",\"dtype\":\"float64\",\"shape\":[85]},\"y\":{\"__ndarray__\":\"AAAAAAAAEEAAAAAAAAAQQAAAAAAAABBAAAAAAAAAEEAAAAAAAAAQQAAAAAAAABBAAAAAAAAAEEAAAAAAAAAQQAAAAAAAAABAAAAAAAAAAEAAAAAAAAAAQAAAAAAAAABAAAAAAAAAAEAAAAAAAAAAQAAAAAAAAABAAAAAAAAAAEAAAAAAAAAAQAAAAAAAAAAAAAAAAAAAAAAAAAAAAAAAAAAAAAAAAAAAAAAAAAAAAAAAAAAAAAAAAAAAAAAAAAAAAAAAAAAAAAAAAAAAAAAAAAAAAAAAAAAAAAAAAAAAAAAAAAAAAAAAAAAAAAAAAAAAAAAAAAAAAAAAAAAAAAAAAAAAAAAAABhAAAAAAAAAGEAAAAAAAAAYQAAAAAAAABhAAAAAAAAAGEAAAAAAAAAYQAAAAAAAABhAAAAAAAAAGEAAAAAAAAAAQAAAAAAAAABAAAAAAAAAAEAAAAAAAAAAQAAAAAAAAABAAAAAAAAAAEAAAAAAAAAAQAAAAAAAAABAAAAAAAAAEEAAAAAAAAAQQAAAAAAAABBAAAAAAAAAEEAAAAAAAAAQQAAAAAAAABBAAAAAAAAAEEAAAAAAAAAQQAAAAAAAABBAAAAAAAAAEEAAAAAAAAAAQAAAAAAAAABAAAAAAAAAGEAAAAAAAAAYQAAAAAAAABhAAAAAAAAAGEAAAAAAAAAYQAAAAAAAABhAAAAAAAAAAEAAAAAAAAAAQAAAAAAAAABAAAAAAAAAAEAAAAAAAAAAQAAAAAAAAAAAAAAAAAAAAAAAAAAAAAAAAAAAAAAAAAAAAAAAAAAAAAAAAAAAAAAAAAAAAAAAABBAAAAAAAAAEEAAAAAAAAAQQAAAAAAAABBAAAAAAAAAEEAAAAAAAAAQQAAAAAAAABBAAAAAAAAAAAA=\",\"dtype\":\"float64\",\"shape\":[85]}}},\"id\":\"e67845c4-f195-4e21-974b-9ebd271311d8\",\"type\":\"ColumnDataSource\"},{\"attributes\":{\"data_source\":{\"id\":\"3efcf546-eca2-41d8-ada5-bd63c8089d9e\",\"type\":\"ColumnDataSource\"},\"glyph\":{\"id\":\"6f6731ab-862b-4a85-9784-9f9c545afe1c\",\"type\":\"Text\"},\"hover_glyph\":null,\"muted_glyph\":null,\"name\":\"transcript_labels\",\"nonselection_glyph\":{\"id\":\"68ea22f7-3a6a-4f76-ab16-99fd8684eed3\",\"type\":\"Text\"},\"selection_glyph\":null,\"view\":{\"id\":\"1309179e-6d50-4187-8bc0-9d05a059fbcb\",\"type\":\"CDSView\"}},\"id\":\"12ef449a-78cd-4c60-8894-8398d626cd15\",\"type\":\"GlyphRenderer\"},{\"attributes\":{},\"id\":\"6b9cdb4a-4096-4be8-8b30-94f6c8aa29af\",\"type\":\"BasicTicker\"},{\"attributes\":{\"text\":{\"field\":\"label\"},\"text_align\":\"center\",\"text_baseline\":\"middle\",\"text_color\":{\"value\":\"black\"},\"text_font\":\"monospace\",\"text_font_size\":{\"value\":\"6pt\"},\"x\":{\"field\":\"x\"},\"y\":{\"field\":\"y\"},\"y_offset\":{\"value\":4}},\"id\":\"6f6731ab-862b-4a85-9784-9f9c545afe1c\",\"type\":\"Text\"}],\"root_ids\":[\"a18ae23d-1979-4364-bcdf-5b825b0142ef\"]},\"title\":\"Bokeh Application\",\"version\":\"0.12.10\"}};\n",
       "    var render_items = [{\"docid\":\"fb667ce3-bc33-4656-9040-0f6d8a858b86\",\"elementid\":\"79b3d42c-cc77-4632-b968-a2bac711a81f\",\"modelid\":\"a18ae23d-1979-4364-bcdf-5b825b0142ef\"}];\n",
       "\n",
       "    root.Bokeh.embed.embed_items(docs_json, render_items);\n",
       "  }\n",
       "\n",
       "  if (root.Bokeh !== undefined) {\n",
       "    embed_document(root);\n",
       "  } else {\n",
       "    var attempts = 0;\n",
       "    var timer = setInterval(function(root) {\n",
       "      if (root.Bokeh !== undefined) {\n",
       "        embed_document(root);\n",
       "        clearInterval(timer);\n",
       "      }\n",
       "      attempts++;\n",
       "      if (attempts > 100) {\n",
       "        console.log(\"Bokeh: ERROR: Unable to embed document because BokehJS library is missing\")\n",
       "        clearInterval(timer);\n",
       "      }\n",
       "    }, 10, root)\n",
       "  }\n",
       "})(window);"
      ],
      "application/vnd.bokehjs_exec.v0+json": ""
     },
     "metadata": {
      "application/vnd.bokehjs_exec.v0+json": {
       "id": "a18ae23d-1979-4364-bcdf-5b825b0142ef"
      }
     },
     "output_type": "display_data"
    }
   ],
   "source": [
    "fig = make_plot(transcripts_from_pyensembl(\"chr22\", 42124000, 42148000))\n",
    "show(fig.figure)"
   ]
  },
  {
   "cell_type": "markdown",
   "metadata": {},
   "source": [
    "# Do the same using GFFUtils as the data source"
   ]
  },
  {
   "cell_type": "code",
   "execution_count": 6,
   "metadata": {
    "collapsed": true
   },
   "outputs": [],
   "source": [
    "import gffutils\n",
    "import sqlite3"
   ]
  },
  {
   "cell_type": "markdown",
   "metadata": {},
   "source": [
    "## Set up a GFFUtils database using the same annotation data"
   ]
  },
  {
   "cell_type": "code",
   "execution_count": 7,
   "metadata": {
    "collapsed": true
   },
   "outputs": [],
   "source": [
    "# note:\n",
    "# database creation using gffutils is slower than pyensembl on the same dataset\n",
    "try:\n",
    "    gffutils.create_db(\n",
    "        \"gencode.v27.basic.annotation.gtf.gz\",\n",
    "        \"gencode.v27.basic.sqlite\",\n",
    "        keep_order=True,\n",
    "        disable_infer_genes=True, disable_infer_transcripts=True)\n",
    "except (sqlite3.OperationalError, AttributeError):\n",
    "    pass"
   ]
  },
  {
   "cell_type": "code",
   "execution_count": 8,
   "metadata": {
    "collapsed": true
   },
   "outputs": [],
   "source": [
    "# connect\n",
    "db = gffutils.FeatureDB(\"gencode.v27.basic.sqlite\")\n",
    "gffutils.constants.always_return_list = False"
   ]
  },
  {
   "cell_type": "markdown",
   "metadata": {},
   "source": [
    "# Create a function to translate GFFUtils queries into gene_viz features"
   ]
  },
  {
   "cell_type": "code",
   "execution_count": 9,
   "metadata": {
    "collapsed": true
   },
   "outputs": [],
   "source": [
    "# translate into features for gene_viz\n",
    "def transcripts_from_gffutils(contig, start, end):\n",
    "    transcripts = []\n",
    "\n",
    "    for gene in db.features_of_type(\"gene\", limit=(contig, start, end)):\n",
    "        trs = db.children(gene.id, featuretype=\"transcript\")\n",
    "        for t in trs:\n",
    "            transcript = Transcript(t.attributes[\"transcript_name\"], gene.attributes[\"gene_name\"], t.seqid, t.start, t.end, t.strand)\n",
    "        \n",
    "            es = db.children(t.id, featuretype=\"exon\")\n",
    "            for e in es:\n",
    "                transcript.add_exon(Exon(e.attributes[\"exon_id\"], e.seqid, e.start, e.end))\n",
    "            \n",
    "            cs = db.children(t.id, featuretype=\"CDS\")\n",
    "            for c in cs:\n",
    "                transcript.add_cds(CDS(c.seqid, c.start, c.end))\n",
    "        \n",
    "            transcripts.append(transcript)\n",
    "    \n",
    "    return transcripts"
   ]
  },
  {
   "cell_type": "markdown",
   "metadata": {},
   "source": [
    "## Perform a query and visualize the results"
   ]
  },
  {
   "cell_type": "code",
   "execution_count": 10,
   "metadata": {},
   "outputs": [
    {
     "data": {
      "text/html": [
       "\n",
       "<div class=\"bk-root\">\n",
       "    <div class=\"bk-plotdiv\" id=\"10c98a3d-d288-4965-bdc2-9df0f9dfe1d5\"></div>\n",
       "</div>"
      ]
     },
     "metadata": {},
     "output_type": "display_data"
    },
    {
     "data": {
      "application/javascript": [
       "(function(root) {\n",
       "  function embed_document(root) {\n",
       "    var docs_json = {\"e95da420-b86b-4388-ade0-d89c838b0d26\":{\"roots\":{\"references\":[{\"attributes\":{\"mantissas\":[1,2,3,4,5,6,7,8,9],\"max_interval\":3,\"min_interval\":3,\"num_minor_ticks\":3},\"id\":\"2c54c211-714d-45c2-9ca2-1113d6700e9b\",\"type\":\"AdaptiveTicker\"},{\"attributes\":{\"tickers\":[{\"id\":\"54c6d703-889d-4f3a-8308-452a7a50be4b\",\"type\":\"AdaptiveTicker\"},{\"id\":\"3692e77c-ab46-4921-bfdc-66b1f096aae7\",\"type\":\"AdaptiveTicker\"},{\"id\":\"2c54c211-714d-45c2-9ca2-1113d6700e9b\",\"type\":\"AdaptiveTicker\"},{\"id\":\"57748690-4de1-4a04-addc-b87f8e54d993\",\"type\":\"AdaptiveTicker\"},{\"id\":\"46d993c2-d9d0-4564-afcd-82ac64a6ac0c\",\"type\":\"AdaptiveTicker\"}]},\"id\":\"ba6fd109-a799-42bc-a9e0-d1665088aa14\",\"type\":\"CompositeTicker\"},{\"attributes\":{\"grid_line_color\":{\"value\":null},\"plot\":{\"id\":\"0482dce0-30c2-44bc-ae0b-aff61a50b06f\",\"subtype\":\"Figure\",\"type\":\"Plot\"},\"ticker\":{\"id\":\"14a14441-58a8-4905-ad74-8ed9ac65e08e\",\"type\":\"BasicTicker\"}},\"id\":\"7581c58f-833b-442e-b5d6-7aa38857ff64\",\"type\":\"Grid\"},{\"attributes\":{\"data_source\":{\"id\":\"5a5555cb-5f46-4d5c-9672-0bc83dc86165\",\"type\":\"ColumnDataSource\"},\"glyph\":{\"id\":\"324da1ca-adc9-49d3-94b5-ef4c9d9abbd1\",\"type\":\"Text\"},\"hover_glyph\":null,\"muted_glyph\":null,\"name\":\"introns\",\"nonselection_glyph\":{\"id\":\"48e539df-02da-4c7e-9c17-24f4b8bf2b91\",\"type\":\"Text\"},\"selection_glyph\":null,\"view\":{\"id\":\"dbb5688e-7f44-4d65-9976-9627ff7b4805\",\"type\":\"CDSView\"}},\"id\":\"a9c2ec01-59b7-4256-8c3a-6ee4433e3058\",\"type\":\"GlyphRenderer\"},{\"attributes\":{\"callback\":null,\"column_names\":[\"x\",\"y\",\"label\",\"index\"],\"data\":{\"index\":[0,1,2,3,4,5,6,7,8,9,10,11,12,13],\"label\":[\"NDUFA6-AS1-203\",\"NDUFA6-AS1-207\",\"NDUFA6-AS1-208\",\"NDUFA6-AS1-216\",\"CYP2D6-201\",\"CYP2D6-203\",\"CYP2D6-204\",\"AC254562.1-201\",\"AC254562.2-201\",\"AC254562.3-201\",\"CYP2D7-201\",\"CYP2D7-203\",\"CYP2D7-207\",\"CYP2D7-208\"],\"x\":[42114336.5,42108081.5,42108155.5,42134540.5,42128710.5,42128702.5,42128691.0,42132770.5,42138180.0,42138893.0,42142376.0,42142390.0,42142391.0,42142379.5],\"y\":[5,1,-1,3,-1,3,1,-1,1,-1,-1,5,3,1]}},\"id\":\"8a279308-e470-4df0-81c9-6568073b383e\",\"type\":\"ColumnDataSource\"},{\"attributes\":{},\"id\":\"14a14441-58a8-4905-ad74-8ed9ac65e08e\",\"type\":\"BasicTicker\"},{\"attributes\":{\"mantissas\":[1,2,3,4,5,6,7,8,9],\"max_interval\":4,\"min_interval\":4,\"num_minor_ticks\":4},\"id\":\"57748690-4de1-4a04-addc-b87f8e54d993\",\"type\":\"AdaptiveTicker\"},{\"attributes\":{\"data_source\":{\"id\":\"7ff79be3-9669-418d-877f-8e6b4172e424\",\"type\":\"ColumnDataSource\"},\"glyph\":{\"id\":\"9e4f0c9e-8321-4e41-8fcb-5cfc066dccae\",\"type\":\"Quad\"},\"hover_glyph\":null,\"muted_glyph\":null,\"name\":\"noncoding_exons\",\"nonselection_glyph\":{\"id\":\"b1bc59fe-a8bb-46f5-9d1c-0ab63342ef26\",\"type\":\"Quad\"},\"selection_glyph\":null,\"view\":{\"id\":\"daa8b5ce-edf3-43d9-b5cc-96a3f9cde9fa\",\"type\":\"CDSView\"}},\"id\":\"07d40e40-9da1-4c1a-90e1-2dd5b63e8be5\",\"type\":\"GlyphRenderer\"},{\"attributes\":{\"data_source\":{\"id\":\"8a279308-e470-4df0-81c9-6568073b383e\",\"type\":\"ColumnDataSource\"},\"glyph\":{\"id\":\"37b76582-777f-4bdc-b56e-da3e9cd69b74\",\"type\":\"Text\"},\"hover_glyph\":null,\"muted_glyph\":null,\"name\":\"transcript_labels\",\"nonselection_glyph\":{\"id\":\"ddf534ef-6eed-4111-9cb7-3b6185472e2e\",\"type\":\"Text\"},\"selection_glyph\":null,\"view\":{\"id\":\"ae14b262-2ee2-4365-a648-1394db97b096\",\"type\":\"CDSView\"}},\"id\":\"1409b9e4-6ef1-4b6e-b21f-60580853f1e2\",\"type\":\"GlyphRenderer\"},{\"attributes\":{\"axis_label\":\"chr22\",\"formatter\":{\"id\":\"9bd63484-a11e-4ccf-8c54-e8f91d87d6fb\",\"type\":\"NumeralTickFormatter\"},\"plot\":{\"id\":\"0482dce0-30c2-44bc-ae0b-aff61a50b06f\",\"subtype\":\"Figure\",\"type\":\"Plot\"},\"ticker\":{\"id\":\"ba6fd109-a799-42bc-a9e0-d1665088aa14\",\"type\":\"CompositeTicker\"}},\"id\":\"d1065178-6158-4d31-add8-1dc817e145e3\",\"type\":\"LinearAxis\"},{\"attributes\":{\"line_color\":{\"value\":\"Black\"},\"x0\":{\"field\":\"x0\"},\"x1\":{\"field\":\"x1\"},\"y0\":{\"field\":\"y0\"},\"y1\":{\"field\":\"y1\"}},\"id\":\"12a101f7-2b8b-42fe-9d6f-1ede5dce4968\",\"type\":\"Segment\"},{\"attributes\":{\"mantissas\":[1,2,3,4,5,6,7,8,9],\"min_interval\":5},\"id\":\"46d993c2-d9d0-4564-afcd-82ac64a6ac0c\",\"type\":\"AdaptiveTicker\"},{\"attributes\":{\"formatter\":{\"id\":\"024d133a-36f1-4251-bc10-3d32b41e15d8\",\"type\":\"BasicTickFormatter\"},\"plot\":{\"id\":\"0482dce0-30c2-44bc-ae0b-aff61a50b06f\",\"subtype\":\"Figure\",\"type\":\"Plot\"},\"ticker\":{\"id\":\"cc625d9c-9c1c-4936-9ca9-30fdbe33b056\",\"type\":\"BasicTicker\"},\"visible\":false},\"id\":\"a0957966-9535-49b0-8499-d641ca09877a\",\"type\":\"LinearAxis\"},{\"attributes\":{\"dimensions\":\"width\"},\"id\":\"bf3c03cc-2521-4090-9dec-9ad05a1e22ce\",\"type\":\"WheelZoomTool\"},{\"attributes\":{\"bottom\":{\"field\":\"y0\"},\"fill_alpha\":{\"value\":0.1},\"fill_color\":{\"value\":\"#1f77b4\"},\"left\":{\"field\":\"x0\"},\"line_alpha\":{\"value\":0.1},\"line_color\":{\"value\":\"#1f77b4\"},\"right\":{\"field\":\"x1\"},\"top\":{\"field\":\"y1\"}},\"id\":\"3071bd34-3a65-459c-9f88-271271f9f8bf\",\"type\":\"Quad\"},{\"attributes\":{\"mantissas\":[1,2,3,4,5,6,7,8,9],\"max_interval\":1,\"min_interval\":1,\"num_minor_ticks\":1},\"id\":\"54c6d703-889d-4f3a-8308-452a7a50be4b\",\"type\":\"AdaptiveTicker\"},{\"attributes\":{\"source\":{\"id\":\"8a279308-e470-4df0-81c9-6568073b383e\",\"type\":\"ColumnDataSource\"}},\"id\":\"ae14b262-2ee2-4365-a648-1394db97b096\",\"type\":\"CDSView\"},{\"attributes\":{\"source\":{\"id\":\"e7d35933-6f77-4a81-8214-5e9fbcc85291\",\"type\":\"ColumnDataSource\"}},\"id\":\"34e5aa91-47f6-4c1a-8604-1029d243c97b\",\"type\":\"CDSView\"},{\"attributes\":{\"mantissas\":[1,2,3,4,5,6,7,8,9],\"max_interval\":2,\"min_interval\":2,\"num_minor_ticks\":2},\"id\":\"3692e77c-ab46-4921-bfdc-66b1f096aae7\",\"type\":\"AdaptiveTicker\"},{\"attributes\":{},\"id\":\"cc625d9c-9c1c-4936-9ca9-30fdbe33b056\",\"type\":\"BasicTicker\"},{\"attributes\":{\"angle\":{\"field\":\"angle\",\"units\":\"deg\"},\"text\":{\"value\":\"v\"},\"text_align\":\"center\",\"text_alpha\":{\"value\":0.1},\"text_baseline\":\"middle\",\"text_color\":{\"value\":\"black\"},\"text_font\":\"sans-serif\",\"text_font_size\":{\"value\":\"5pt\"},\"text_font_style\":\"bold\",\"x\":{\"field\":\"x\"},\"y\":{\"field\":\"y\"}},\"id\":\"48e539df-02da-4c7e-9c17-24f4b8bf2b91\",\"type\":\"Text\"},{\"attributes\":{\"data_source\":{\"id\":\"9ebbf1e8-5114-420d-8dd5-e8f5a0bd7525\",\"type\":\"ColumnDataSource\"},\"glyph\":{\"id\":\"12a101f7-2b8b-42fe-9d6f-1ede5dce4968\",\"type\":\"Segment\"},\"hover_glyph\":null,\"muted_glyph\":null,\"name\":\"transcripts\",\"nonselection_glyph\":{\"id\":\"8d6afbe1-08b3-41fa-96b3-091bbb19b8fb\",\"type\":\"Segment\"},\"selection_glyph\":null,\"view\":{\"id\":\"136941c6-e0ea-423f-b468-4de914a6ecfd\",\"type\":\"CDSView\"}},\"id\":\"d1444c76-c0c7-4911-ba0f-4bc62266f4e1\",\"type\":\"GlyphRenderer\"},{\"attributes\":{\"callback\":null,\"column_names\":[\"x\",\"y\",\"angle\",\"width\",\"alpha\",\"index\"],\"data\":{\"alpha\":{\"__ndarray__\":\"AAAAAAAAAAAAAAAAAAAAAAAAAAAAAPA/AAAAAAAAAAAAAAAAAADwPwAAAAAAAAAAAAAAAAAA8D8AAAAAAADwPwAAAAAAAPA/AAAAAAAAAAAAAAAAAAAAAAAAAAAAAPA/AAAAAAAA8D8AAAAAAAAAAAAAAAAAAAAAAAAAAAAAAAAAAAAAAAAAAAAAAAAAAAAAAAAAAAAAAAAAAAAAAADwPwAAAAAAAAAAAAAAAAAAAAAAAAAAAAAAAAAAAAAAAAAAAAAAAAAAAAAAAAAAAAAAAAAAAAAAAAAAAAAAAAAAAAAAAAAAAAAAAAAAAAAAAPA/AAAAAAAA8D8AAAAAAAAAAAAAAAAAAAAAAAAAAAAAAAAAAAAAAAAAAAAAAAAAAAAAAAAAAAAAAAAAAAAAAADwPwAAAAAAAPA/AAAAAAAAAAAAAAAAAAAAAAAAAAAAAAAAAAAAAAAAAAAAAAAAAAAAAAAAAAAAAAAAAAAAAAAAAAAAAAAAAADwPwAAAAAAAPA/AAAAAAAA8D8AAAAAAADwPwAAAAAAAPA/AAAAAAAAAAAAAAAAAAAAAAAAAAAAAAAAAAAAAAAAAAAAAAAAAAAAAAAAAAAAAAAAAAAAAAAAAAAAAAAAAADwPwAAAAAAAAAAAAAAAAAAAAAAAAAAAAAAAAAAAAAAAAAAAAAAAAAAAAAAAAAAAAAAAAAAAAAAAAAAAAAAAAAA8D8AAAAAAAAAAAAAAAAAAAAAAAAAAAAAAAAAAAAAAAAAAAAAAAAAAAAAAAAAAAAAAAAAAAAAAAAAAAAAAAAAAAAAAAAAAAAA8D8AAAAAAAAAAAAAAAAAAAAAAAAAAAAAAAAAAAAAAAAAAAAAAAAAAAAAAAAAAAAAAAAAAAAAAADwPwAAAAAAAPA/AAAAAAAAAAA=\",\"dtype\":\"float64\",\"shape\":[85]},\"angle\":{\"__ndarray__\":\"AAAAAACAVkAAAAAAAIBWQAAAAAAAgFZAAAAAAACAVkAAAAAAAIBWQAAAAAAAgFZAAAAAAACAVkAAAAAAAIBWQAAAAAAAgFZAAAAAAACAVkAAAAAAAIBWQAAAAAAAgFZAAAAAAACAVkAAAAAAAIBWQAAAAAAAgFZAAAAAAACAVkAAAAAAAIBWQAAAAAAAgFZAAAAAAACAVkAAAAAAAIBWQAAAAAAAgFZAAAAAAACAVkAAAAAAAIBWQAAAAAAAgFZAAAAAAACAVsAAAAAAAIBWwAAAAAAAgFbAAAAAAACAVsAAAAAAAIBWwAAAAAAAgFbAAAAAAACAVsAAAAAAAIBWwAAAAAAAgFbAAAAAAACAVsAAAAAAAIBWwAAAAAAAgFbAAAAAAACAVsAAAAAAAIBWwAAAAAAAgFbAAAAAAACAVsAAAAAAAIBWwAAAAAAAgFbAAAAAAACAVsAAAAAAAIBWwAAAAAAAgFbAAAAAAACAVsAAAAAAAIBWwAAAAAAAgFbAAAAAAACAVsAAAAAAAIBWwAAAAAAAgFZAAAAAAACAVsAAAAAAAIBWwAAAAAAAgFbAAAAAAACAVsAAAAAAAIBWwAAAAAAAgFbAAAAAAACAVsAAAAAAAIBWwAAAAAAAgFbAAAAAAACAVsAAAAAAAIBWwAAAAAAAgFbAAAAAAACAVsAAAAAAAIBWwAAAAAAAgFbAAAAAAACAVsAAAAAAAIBWwAAAAAAAgFbAAAAAAACAVsAAAAAAAIBWwAAAAAAAgFbAAAAAAACAVsAAAAAAAIBWwAAAAAAAgFbAAAAAAACAVsAAAAAAAIBWwAAAAAAAgFbAAAAAAACAVsAAAAAAAIBWwAAAAAAAgFbAAAAAAACAVsAAAAAAAIBWwAAAAAAAgFbAAAAAAACAVsA=\",\"dtype\":\"float64\",\"shape\":[85]},\"index\":[0,1,2,3,4,5,6,7,8,9,10,11,12,13,14,15,16,17,18,19,20,21,22,23,24,25,26,27,28,29,30,31,32,33,34,35,36,37,38,39,40,41,42,43,44,45,46,47,48,49,50,51,52,53,54,55,56,57,58,59,60,61,62,63,64,65,66,67,68,69,70,71,72,73,74,75,76,77,78,79,80,81,82,83,84],\"width\":{\"__ndarray__\":\"AAAAAAAAXUAAAAAAADiAQAAAAADAEd9AAAAAAACQc0AAAAAAABTFQAAAAAAAkHNAAAAAAIA41EAAAAAAgFHEQAAAAAAAHJJAAAAAAACwdUAAAAAAAJBzQAAAAABAdt5AAAAAAADwg0AAAAAAAOBlQAAAAAAAYG5AAAAAAABgeEAAAAAAAJBzQAAAAAAAgGZAAAAAAABge0AAAAAAAPSfQAAAAAAAcHtAAAAAAACAfEAAAAAAAGB4QAAAAAAAkHNAAAAAAADAWEAAAAAAAHB8QAAAAAAAAGpAAAAAAADgZ0AAAAAAACB7QAAAAAAA0IhAAAAAAAD4hUAAAAAAAMBYQAAAAAAAcHxAAAAAAAAAakAAAAAAAOBnQAAAAAAAIHtAAAAAAABAVkAAAAAAAEiBQAAAAAAA+IVAAAAAAADAWEAAAAAAAHB8QAAAAAAAwF1AAAAAAACAQEAAAAAAAOBnQAAAAAAAIHtAAAAAAABAVkAAAAAAAEiBQAAAAAAA+IVAAAAAAACslEAAAAAAAIyXQAAAAAAANJBAAAAAAADAWEAAAAAAAIB8QAAAAAAAYGhAAAAAAAAgaEAAAAAAADB7QAAAAAAAQFZAAAAAAACQgEAAAAAAAPiFQAAAAAAAwFhAAAAAAACAfEAAAAAAAEBhQAAAAAAAIGhAAAAAAAAwe0AAAAAAAEBWQAAAAAAAkIBAAAAAAAD4hUAAAAAAAMBYQAAAAAAAgHxAAAAAAAAAEEAAAAAAAEBhQAAAAAAAIGhAAAAAAAAwe0AAAAAAAEBWQAAAAAAAkIBAAAAAAAD4hUAAAAAAAAAAQAAAAAAAwFhAAAAAAACAfEAAAAAAAGBoQAAAAAAAIGhAAAAAAAAwe0AAAAAAABiIQAAAAAAA+IVAAAAAAAAAAEA=\",\"dtype\":\"float64\",\"shape\":[85]},\"x\":{\"__ndarray__\":\"AAAAOBcShEEAAACcKhKEQQAAAFwnFIRBAAAAdC0WhEEAAACY6xaEQQAAADSpF4RBAAAACGYThEEAAAC8ThWEQQAAAFwGFoRBAAAAfCAWhEEAAAB0LRaEQQAAAOQJFIRBAAAAOP4VhEEAAAD0DBaEQQAAAKwUFoRBAAAAKCEWhEEAAAB0LRaEQQAAAMAZF4RBAAAAqCoXhEEAAAAEUxeEQQAAABR9F4RBAAAAGI0XhEEAAADonBeEQQAAADSpF4RBAAAAjG4WhEEAAACcexaEQQAAANCLFoRBAAAAdJYWhEEAAAC4pRaEQQAAAOi9FoRBAAAApNoWhEEAAACMbhaEQQAAAJx7FoRBAAAA0IsWhEEAAAB0lhaEQQAAALilFoRBAAAA5LIWhEEAAACswRaEQQAAAKTaFoRBAAAAjG4WhEEAAACcexaEQQAAAEyLFoRBAAAAjI4WhEEAAAB0lhaEQQAAALilFoRBAAAA5LIWhEEAAACswRaEQQAAAKTaFoRBAAAAbLcXhEEAAABU5xeEQQAAAITlF4RBAAAAzBoYhEEAAADgJxiEQQAAAOQ3GIRBAAAAXEIYhEEAAACsURiEQQAAANxeGIRBAAAASG0YhEEAAADkhRiEQQAAAMwaGIRBAAAA4CcYhEEAAADIOBiEQQAAAFxCGIRBAAAArFEYhEEAAADcXhiEQQAAAEhtGIRBAAAA5IUYhEEAAADMGhiEQQAAAOAnGIRBAAAAyDUYhEEAAADIOBiEQQAAAFxCGIRBAAAArFEYhEEAAADcXhiEQQAAAEhtGIRBAAAA5IUYhEEAAABIkhiEQQAAAMwaGIRBAAAA4CcYhEEAAADkNxiEQQAAAFxCGIRBAAAArFEYhEEAAACEaRiEQQAAAOSFGIRBAAAASJIYhEE=\",\"dtype\":\"float64\",\"shape\":[85]},\"y\":{\"__ndarray__\":\"AAAAAAAAGEAAAAAAAAAYQAAAAAAAABhAAAAAAAAAGEAAAAAAAAAYQAAAAAAAABhAAAAAAAAAAEAAAAAAAAAAQAAAAAAAAABAAAAAAAAAAEAAAAAAAAAAQAAAAAAAAAAAAAAAAAAAAAAAAAAAAAAAAAAAAAAAAAAAAAAAAAAAAAAAAAAAAAAAAAAAAAAAABBAAAAAAAAAEEAAAAAAAAAQQAAAAAAAABBAAAAAAAAAEEAAAAAAAAAQQAAAAAAAABBAAAAAAAAAAAAAAAAAAAAAAAAAAAAAAAAAAAAAAAAAAAAAAAAAAAAAAAAAAAAAAAAAAAAAAAAAAAAAAAAAAAAQQAAAAAAAABBAAAAAAAAAEEAAAAAAAAAQQAAAAAAAABBAAAAAAAAAEEAAAAAAAAAQQAAAAAAAABBAAAAAAAAAAEAAAAAAAAAAQAAAAAAAAABAAAAAAAAAAEAAAAAAAAAAQAAAAAAAAABAAAAAAAAAAEAAAAAAAAAAQAAAAAAAAABAAAAAAAAAAEAAAAAAAAAAQAAAAAAAAAAAAAAAAAAAAAAAAAAAAAAAAAAAAAAAAAAAAAAAAAAAAAAAAAAAAAAAAAAAAAAAAAAAAAAAAAAAAAAAAAAAAAAAAAAAAAAAABhAAAAAAAAAGEAAAAAAAAAYQAAAAAAAABhAAAAAAAAAGEAAAAAAAAAYQAAAAAAAABhAAAAAAAAAGEAAAAAAAAAQQAAAAAAAABBAAAAAAAAAEEAAAAAAAAAQQAAAAAAAABBAAAAAAAAAEEAAAAAAAAAQQAAAAAAAABBAAAAAAAAAEEAAAAAAAAAQQAAAAAAAAABAAAAAAAAAAEAAAAAAAAAAQAAAAAAAAABAAAAAAAAAAEAAAAAAAAAAQAAAAAAAAABAAAAAAAAAAEA=\",\"dtype\":\"float64\",\"shape\":[85]}}},\"id\":\"5a5555cb-5f46-4d5c-9672-0bc83dc86165\",\"type\":\"ColumnDataSource\"},{\"attributes\":{\"source\":{\"id\":\"7ff79be3-9669-418d-877f-8e6b4172e424\",\"type\":\"ColumnDataSource\"}},\"id\":\"daa8b5ce-edf3-43d9-b5cc-96a3f9cde9fa\",\"type\":\"CDSView\"},{\"attributes\":{\"callback\":null,\"column_names\":[\"x0\",\"y0\",\"x1\",\"y1\",\"index\"],\"data\":{\"index\":[0,1,2,3,4,5,6,7,8,9,10,11,12,13],\"x0\":[42090930,42091203,42091351,42132030,42126555,42126498,42126500,42132542,42136432,42138059,42140202,42140202,42140204,42140204],\"x1\":[42137742,42124959,42124959,42137050,42130865,42130906,42130881,42132998,42139927,42139726,42144549,42144577,42144577,42144554],\"y0\":[6,2,0,4,0,4,2,0,2,0,0,6,4,2],\"y1\":[6,2,0,4,0,4,2,0,2,0,0,6,4,2]}},\"id\":\"9ebbf1e8-5114-420d-8dd5-e8f5a0bd7525\",\"type\":\"ColumnDataSource\"},{\"attributes\":{\"dimensions\":\"width\",\"overlay\":{\"id\":\"32d45c61-aa78-48f5-8110-b06cbb90725b\",\"type\":\"BoxAnnotation\"}},\"id\":\"e366553e-fcfa-4405-88e2-d50a150ca5fe\",\"type\":\"BoxZoomTool\"},{\"attributes\":{\"line_alpha\":{\"value\":0.1},\"line_color\":{\"value\":\"#1f77b4\"},\"x0\":{\"field\":\"x0\"},\"x1\":{\"field\":\"x1\"},\"y0\":{\"field\":\"y0\"},\"y1\":{\"field\":\"y1\"}},\"id\":\"8d6afbe1-08b3-41fa-96b3-091bbb19b8fb\",\"type\":\"Segment\"},{\"attributes\":{\"data_source\":{\"id\":\"e7d35933-6f77-4a81-8214-5e9fbcc85291\",\"type\":\"ColumnDataSource\"},\"glyph\":{\"id\":\"05a75d9c-bba9-411a-baa7-f071475cb262\",\"type\":\"Quad\"},\"hover_glyph\":null,\"muted_glyph\":null,\"name\":\"coding_exons\",\"nonselection_glyph\":{\"id\":\"3071bd34-3a65-459c-9f88-271271f9f8bf\",\"type\":\"Quad\"},\"selection_glyph\":null,\"view\":{\"id\":\"34e5aa91-47f6-4c1a-8604-1029d243c97b\",\"type\":\"CDSView\"}},\"id\":\"f903a2d5-09b6-4fd2-b9c7-ff3c7715619b\",\"type\":\"GlyphRenderer\"},{\"attributes\":{},\"id\":\"9a869106-5bdb-4d98-844e-e65ad695e8bb\",\"type\":\"ResetTool\"},{\"attributes\":{},\"id\":\"024d133a-36f1-4251-bc10-3d32b41e15d8\",\"type\":\"BasicTickFormatter\"},{\"attributes\":{\"below\":[{\"id\":\"d1065178-6158-4d31-add8-1dc817e145e3\",\"type\":\"LinearAxis\"}],\"left\":[{\"id\":\"a0957966-9535-49b0-8499-d641ca09877a\",\"type\":\"LinearAxis\"}],\"outline_line_alpha\":{\"value\":0},\"plot_height\":155,\"plot_width\":800,\"renderers\":[{\"id\":\"d1065178-6158-4d31-add8-1dc817e145e3\",\"type\":\"LinearAxis\"},{\"id\":\"7581c58f-833b-442e-b5d6-7aa38857ff64\",\"type\":\"Grid\"},{\"id\":\"a0957966-9535-49b0-8499-d641ca09877a\",\"type\":\"LinearAxis\"},{\"id\":\"ab74d53c-a233-4e9d-a45e-cb653c50eb46\",\"type\":\"Grid\"},{\"id\":\"32d45c61-aa78-48f5-8110-b06cbb90725b\",\"type\":\"BoxAnnotation\"},{\"id\":\"d1444c76-c0c7-4911-ba0f-4bc62266f4e1\",\"type\":\"GlyphRenderer\"},{\"id\":\"a9c2ec01-59b7-4256-8c3a-6ee4433e3058\",\"type\":\"GlyphRenderer\"},{\"id\":\"f903a2d5-09b6-4fd2-b9c7-ff3c7715619b\",\"type\":\"GlyphRenderer\"},{\"id\":\"07d40e40-9da1-4c1a-90e1-2dd5b63e8be5\",\"type\":\"GlyphRenderer\"},{\"id\":\"1409b9e4-6ef1-4b6e-b21f-60580853f1e2\",\"type\":\"GlyphRenderer\"}],\"title\":{\"id\":\"961dfd28-fae1-46a7-b6ab-75f2edd84062\",\"type\":\"Title\"},\"toolbar\":{\"id\":\"05b9f133-e9a1-4737-a64e-70a1d8665d9e\",\"type\":\"Toolbar\"},\"x_range\":{\"id\":\"288149b0-e03b-442a-b127-05ee4a6f82e4\",\"type\":\"Range1d\"},\"x_scale\":{\"id\":\"f99a2884-e25d-4bb0-80d2-720bb1f24bb2\",\"type\":\"LinearScale\"},\"y_range\":{\"id\":\"0fe4e4fb-ec33-49fa-9800-37d007b6d02b\",\"type\":\"Range1d\"},\"y_scale\":{\"id\":\"66cc3772-971a-4f74-8c5b-0352470e85a2\",\"type\":\"LinearScale\"}},\"id\":\"0482dce0-30c2-44bc-ae0b-aff61a50b06f\",\"subtype\":\"Figure\",\"type\":\"Plot\"},{\"attributes\":{\"bottom\":{\"field\":\"y0\"},\"fill_color\":{\"value\":\"DarkBlue\"},\"left\":{\"field\":\"x0\"},\"line_color\":{\"value\":\"DarkBlue\"},\"right\":{\"field\":\"x1\"},\"top\":{\"field\":\"y1\"}},\"id\":\"9e4f0c9e-8321-4e41-8fcb-5cfc066dccae\",\"type\":\"Quad\"},{\"attributes\":{\"callback\":null,\"column_names\":[\"x0\",\"y0\",\"x1\",\"y1\",\"index\"],\"data\":{\"index\":[0,1,2,3,4,5,6,7,8,9,10,11,12,13,14,15,16,17,18,19,20,21,22,23,24,25,26,27,28,29,30,31,32,33,34,35,36,37,38,39,40,41,42,43,44,45,46,47,48,49,50,51,52,53,54,55,56,57,58,59,60,61,62,63,64,65,66,67,68,69,70,71,72,73,74,75,76,77,78,79,80,81,82,83,84,85,86,87,88,89,90,91,92,93,94,95,96,97,98],\"x0\":[42090930,42091296,42092118,42124046,42124874,42136198,42137026,42091203,42112305,42122792,42124046,42124476,42124874,42091351,42122792,42123525,42123765,42124046,42124519,42124874,42132030,42132369,42133039,42135134,42135677,42136198,42136671,42137026,42130611,42129737,42128783,42128173,42127841,42127446,42126850,42126555,42130611,42129737,42129032,42128783,42128173,42127841,42127446,42126850,42126498,42130611,42129737,42129032,42128783,42128173,42127841,42127780,42127446,42126850,42126500,42132542,42139611,42137986,42136432,42138059,42139318,42144283,42143409,42142727,42142478,42141867,42141533,42141151,42140554,42140202,42144283,42143409,42142727,42142478,42141867,42141533,42141151,42140554,42140202,42144329,42144283,42143409,42142727,42142478,42141867,42141533,42141370,42141151,42140554,42140204,42144329,42144283,42143409,42142478,42141867,42141533,42141151,42140554,42140204],\"x1\":[42091181,42091600,42092232,42124562,42125407,42136714,42137742,42091600,42112390,42122888,42124130,42124562,42124959,42091600,42122888,42123591,42123804,42124130,42124562,42124959,42132190,42132602,42133090,42135239,42135743,42136282,42136714,42137050,42130865,42129909,42128944,42128350,42127983,42127634,42126992,42126752,42130906,42129909,42129185,42128944,42128350,42127983,42127634,42126992,42126752,42130881,42129909,42129185,42128944,42128350,42127983,42127809,42127662,42126992,42126752,42132998,42139927,42138105,42136664,42138282,42139726,42144549,42143581,42142880,42142639,42142044,42141675,42141339,42140696,42140456,42144577,42143581,42142880,42142639,42142044,42141675,42141396,42140696,42140456,42144577,42144328,42143581,42142880,42142639,42142044,42141675,42141396,42141367,42140696,42140456,42144554,42144328,42143581,42142639,42142044,42141675,42141339,42140696,42140456],\"y0\":[5.825,5.825,5.825,5.825,5.825,5.825,5.825,1.825,1.825,1.825,1.825,1.825,1.825,-0.175,-0.175,-0.175,-0.175,-0.175,-0.175,-0.175,3.825,3.825,3.825,3.825,3.825,3.825,3.825,3.825,-0.175,-0.175,-0.175,-0.175,-0.175,-0.175,-0.175,-0.175,3.825,3.825,3.825,3.825,3.825,3.825,3.825,3.825,3.825,1.825,1.825,1.825,1.825,1.825,1.825,1.825,1.825,1.825,1.825,-0.175,1.825,1.825,1.825,-0.175,-0.175,-0.175,-0.175,-0.175,-0.175,-0.175,-0.175,-0.175,-0.175,-0.175,5.825,5.825,5.825,5.825,5.825,5.825,5.825,5.825,5.825,3.825,3.825,3.825,3.825,3.825,3.825,3.825,3.825,3.825,3.825,3.825,1.825,1.825,1.825,1.825,1.825,1.825,1.825,1.825,1.825],\"y1\":[6.175,6.175,6.175,6.175,6.175,6.175,6.175,2.175,2.175,2.175,2.175,2.175,2.175,0.175,0.175,0.175,0.175,0.175,0.175,0.175,4.175,4.175,4.175,4.175,4.175,4.175,4.175,4.175,0.175,0.175,0.175,0.175,0.175,0.175,0.175,0.175,4.175,4.175,4.175,4.175,4.175,4.175,4.175,4.175,4.175,2.175,2.175,2.175,2.175,2.175,2.175,2.175,2.175,2.175,2.175,0.175,2.175,2.175,2.175,0.175,0.175,0.175,0.175,0.175,0.175,0.175,0.175,0.175,0.175,0.175,6.175,6.175,6.175,6.175,6.175,6.175,6.175,6.175,6.175,4.175,4.175,4.175,4.175,4.175,4.175,4.175,4.175,4.175,4.175,4.175,2.175,2.175,2.175,2.175,2.175,2.175,2.175,2.175,2.175]}},\"id\":\"7ff79be3-9669-418d-877f-8e6b4172e424\",\"type\":\"ColumnDataSource\"},{\"attributes\":{\"dimensions\":\"width\"},\"id\":\"312912b8-6efb-4d9e-a520-059a28ecfaf0\",\"type\":\"PanTool\"},{\"attributes\":{},\"id\":\"eebcb6b4-dcda-4404-bedd-e00c6d6fa53b\",\"type\":\"SaveTool\"},{\"attributes\":{},\"id\":\"f99a2884-e25d-4bb0-80d2-720bb1f24bb2\",\"type\":\"LinearScale\"},{\"attributes\":{\"bottom\":{\"field\":\"y0\"},\"fill_alpha\":{\"value\":0.1},\"fill_color\":{\"value\":\"#1f77b4\"},\"left\":{\"field\":\"x0\"},\"line_alpha\":{\"value\":0.1},\"line_color\":{\"value\":\"#1f77b4\"},\"right\":{\"field\":\"x1\"},\"top\":{\"field\":\"y1\"}},\"id\":\"b1bc59fe-a8bb-46f5-9d1c-0ab63342ef26\",\"type\":\"Quad\"},{\"attributes\":{\"plot\":null,\"text\":\"\"},\"id\":\"961dfd28-fae1-46a7-b6ab-75f2edd84062\",\"type\":\"Title\"},{\"attributes\":{},\"id\":\"66cc3772-971a-4f74-8c5b-0352470e85a2\",\"type\":\"LinearScale\"},{\"attributes\":{\"bottom\":{\"field\":\"y0\"},\"fill_color\":{\"value\":\"DarkBlue\"},\"left\":{\"field\":\"x0\"},\"line_color\":{\"value\":\"DarkBlue\"},\"right\":{\"field\":\"x1\"},\"top\":{\"field\":\"y1\"}},\"id\":\"05a75d9c-bba9-411a-baa7-f071475cb262\",\"type\":\"Quad\"},{\"attributes\":{\"text\":{\"field\":\"label\"},\"text_align\":\"center\",\"text_alpha\":{\"value\":0.1},\"text_baseline\":\"middle\",\"text_color\":{\"value\":\"black\"},\"text_font\":\"monospace\",\"text_font_size\":{\"value\":\"6pt\"},\"x\":{\"field\":\"x\"},\"y\":{\"field\":\"y\"}},\"id\":\"ddf534ef-6eed-4111-9cb7-3b6185472e2e\",\"type\":\"Text\"},{\"attributes\":{\"dimension\":1,\"grid_line_color\":{\"value\":null},\"plot\":{\"id\":\"0482dce0-30c2-44bc-ae0b-aff61a50b06f\",\"subtype\":\"Figure\",\"type\":\"Plot\"},\"ticker\":{\"id\":\"cc625d9c-9c1c-4936-9ca9-30fdbe33b056\",\"type\":\"BasicTicker\"}},\"id\":\"ab74d53c-a233-4e9d-a45e-cb653c50eb46\",\"type\":\"Grid\"},{\"attributes\":{\"callback\":null,\"end\":-1.5,\"start\":7},\"id\":\"0fe4e4fb-ec33-49fa-9800-37d007b6d02b\",\"type\":\"Range1d\"},{\"attributes\":{\"callback\":null,\"column_names\":[\"x0\",\"y0\",\"x1\",\"y1\",\"index\"],\"data\":{\"index\":[0,1,2,3,4,5,6,7,8,9,10,11,12,13,14,15,16,17,18,19,20,21,22,23,24,25,26,27,28,29,30,31,32,33,34,35,36,37,38,39,40,41,42,43,44,45,46,47,48,49,50,51,52,53,54,55,56,57,58,59,60,61,62,63,64],\"x0\":[42130611,42129737,42128783,42128173,42127841,42127446,42126850,42126576,42130611,42129737,42129032,42128783,42128173,42127841,42127446,42126850,42126576,42130611,42129737,42129032,42128783,42128173,42127841,42127780,42127446,42126850,42126576,42144283,42143409,42142727,42142478,42141867,42141533,42141151,42140554,42140279,42144283,42143409,42142727,42142478,42141867,42141533,42141151,42140554,42140279,42144329,42144283,42143409,42142727,42142478,42141867,42141533,42141370,42141151,42140554,42140280,42144329,42144283,42143409,42142478,42141867,42141533,42141151,42140554,42140280],\"x1\":[42130791,42129909,42128944,42128350,42127983,42127634,42126992,42126752,42130791,42129909,42129185,42128944,42128350,42127983,42127634,42126992,42126752,42130725,42129909,42129185,42128944,42128350,42127983,42127809,42127662,42126992,42126752,42144464,42143581,42142880,42142639,42142044,42141675,42141339,42140696,42140456,42144464,42143581,42142880,42142639,42142044,42141675,42141396,42140696,42140456,42144464,42144328,42143581,42142880,42142639,42142044,42141675,42141396,42141367,42140696,42140456,42144464,42144328,42143581,42142639,42142044,42141675,42141339,42140696,42140456],\"y0\":[-0.35,-0.35,-0.35,-0.35,-0.35,-0.35,-0.35,-0.35,3.65,3.65,3.65,3.65,3.65,3.65,3.65,3.65,3.65,1.65,1.65,1.65,1.65,1.65,1.65,1.65,1.65,1.65,1.65,-0.35,-0.35,-0.35,-0.35,-0.35,-0.35,-0.35,-0.35,-0.35,5.65,5.65,5.65,5.65,5.65,5.65,5.65,5.65,5.65,3.65,3.65,3.65,3.65,3.65,3.65,3.65,3.65,3.65,3.65,3.65,1.65,1.65,1.65,1.65,1.65,1.65,1.65,1.65,1.65],\"y1\":[0.35,0.35,0.35,0.35,0.35,0.35,0.35,0.35,4.35,4.35,4.35,4.35,4.35,4.35,4.35,4.35,4.35,2.35,2.35,2.35,2.35,2.35,2.35,2.35,2.35,2.35,2.35,0.35,0.35,0.35,0.35,0.35,0.35,0.35,0.35,0.35,6.35,6.35,6.35,6.35,6.35,6.35,6.35,6.35,6.35,4.35,4.35,4.35,4.35,4.35,4.35,4.35,4.35,4.35,4.35,4.35,2.35,2.35,2.35,2.35,2.35,2.35,2.35,2.35,2.35]}},\"id\":\"e7d35933-6f77-4a81-8214-5e9fbcc85291\",\"type\":\"ColumnDataSource\"},{\"attributes\":{\"text\":{\"field\":\"label\"},\"text_align\":\"center\",\"text_baseline\":\"middle\",\"text_color\":{\"value\":\"black\"},\"text_font\":\"monospace\",\"text_font_size\":{\"value\":\"6pt\"},\"x\":{\"field\":\"x\"},\"y\":{\"field\":\"y\"},\"y_offset\":{\"value\":4}},\"id\":\"37b76582-777f-4bdc-b56e-da3e9cd69b74\",\"type\":\"Text\"},{\"attributes\":{\"active_drag\":\"auto\",\"active_inspect\":\"auto\",\"active_scroll\":{\"id\":\"bf3c03cc-2521-4090-9dec-9ad05a1e22ce\",\"type\":\"WheelZoomTool\"},\"active_tap\":\"auto\",\"logo\":null,\"tools\":[{\"id\":\"312912b8-6efb-4d9e-a520-059a28ecfaf0\",\"type\":\"PanTool\"},{\"id\":\"bf3c03cc-2521-4090-9dec-9ad05a1e22ce\",\"type\":\"WheelZoomTool\"},{\"id\":\"e366553e-fcfa-4405-88e2-d50a150ca5fe\",\"type\":\"BoxZoomTool\"},{\"id\":\"eebcb6b4-dcda-4404-bedd-e00c6d6fa53b\",\"type\":\"SaveTool\"},{\"id\":\"9a869106-5bdb-4d98-844e-e65ad695e8bb\",\"type\":\"ResetTool\"}]},\"id\":\"05b9f133-e9a1-4737-a64e-70a1d8665d9e\",\"type\":\"Toolbar\"},{\"attributes\":{\"args\":{\"source\":{\"id\":\"5a5555cb-5f46-4d5c-9672-0bc83dc86165\",\"type\":\"ColumnDataSource\"}},\"code\":\"\\nvar start = cb_obj.start;\\nvar end = cb_obj.end;\\nvar width = end - start;\\nvar threshold = 0.010000 * width;     // threshold factor is set from python-side configuration\\nvar intron_alpha = 1.000000;          // alpha value is set from python-side configuration\\n\\n// iterate over each intron\\nvar data = source.data;\\nfor (i=0; i<data[\\\"x\\\"].length; i++)\\n{\\n    // if the screen-space width is large enough, make the intron visible\\n    if(data[\\\"width\\\"][i] >= threshold)\\n        data[\\\"alpha\\\"][i] = intron_alpha;\\n    else\\n    // otherwise, make the intron fully transparent\\n        data[\\\"alpha\\\"][i] = 0;\\n}\\n\\nsource.change.emit();\\n\"},\"id\":\"f8d04fe1-8770-4303-9adf-511d0e89ee83\",\"type\":\"CustomJS\"},{\"attributes\":{\"angle\":{\"field\":\"angle\",\"units\":\"deg\"},\"text\":{\"value\":\"v\"},\"text_align\":\"center\",\"text_alpha\":{\"field\":\"alpha\"},\"text_baseline\":\"middle\",\"text_color\":{\"value\":\"Black\"},\"text_font\":\"sans-serif\",\"text_font_size\":{\"value\":\"5pt\"},\"text_font_style\":\"bold\",\"x\":{\"field\":\"x\"},\"y\":{\"field\":\"y\"}},\"id\":\"324da1ca-adc9-49d3-94b5-ef4c9d9abbd1\",\"type\":\"Text\"},{\"attributes\":{\"source\":{\"id\":\"5a5555cb-5f46-4d5c-9672-0bc83dc86165\",\"type\":\"ColumnDataSource\"}},\"id\":\"dbb5688e-7f44-4d65-9976-9627ff7b4805\",\"type\":\"CDSView\"},{\"attributes\":{\"bottom_units\":\"screen\",\"fill_alpha\":{\"value\":0.5},\"fill_color\":{\"value\":\"lightgrey\"},\"left_units\":\"screen\",\"level\":\"overlay\",\"line_alpha\":{\"value\":1.0},\"line_color\":{\"value\":\"black\"},\"line_dash\":[4,4],\"line_width\":{\"value\":2},\"plot\":null,\"render_mode\":\"css\",\"right_units\":\"screen\",\"top_units\":\"screen\"},\"id\":\"32d45c61-aa78-48f5-8110-b06cbb90725b\",\"type\":\"BoxAnnotation\"},{\"attributes\":{\"callback\":{\"id\":\"f8d04fe1-8770-4303-9adf-511d0e89ee83\",\"type\":\"CustomJS\"},\"end\":42144577,\"start\":42090931},\"id\":\"288149b0-e03b-442a-b127-05ee4a6f82e4\",\"type\":\"Range1d\"},{\"attributes\":{\"source\":{\"id\":\"9ebbf1e8-5114-420d-8dd5-e8f5a0bd7525\",\"type\":\"ColumnDataSource\"}},\"id\":\"136941c6-e0ea-423f-b468-4de914a6ecfd\",\"type\":\"CDSView\"},{\"attributes\":{},\"id\":\"9bd63484-a11e-4ccf-8c54-e8f91d87d6fb\",\"type\":\"NumeralTickFormatter\"}],\"root_ids\":[\"0482dce0-30c2-44bc-ae0b-aff61a50b06f\"]},\"title\":\"Bokeh Application\",\"version\":\"0.12.10\"}};\n",
       "    var render_items = [{\"docid\":\"e95da420-b86b-4388-ade0-d89c838b0d26\",\"elementid\":\"10c98a3d-d288-4965-bdc2-9df0f9dfe1d5\",\"modelid\":\"0482dce0-30c2-44bc-ae0b-aff61a50b06f\"}];\n",
       "\n",
       "    root.Bokeh.embed.embed_items(docs_json, render_items);\n",
       "  }\n",
       "\n",
       "  if (root.Bokeh !== undefined) {\n",
       "    embed_document(root);\n",
       "  } else {\n",
       "    var attempts = 0;\n",
       "    var timer = setInterval(function(root) {\n",
       "      if (root.Bokeh !== undefined) {\n",
       "        embed_document(root);\n",
       "        clearInterval(timer);\n",
       "      }\n",
       "      attempts++;\n",
       "      if (attempts > 100) {\n",
       "        console.log(\"Bokeh: ERROR: Unable to embed document because BokehJS library is missing\")\n",
       "        clearInterval(timer);\n",
       "      }\n",
       "    }, 10, root)\n",
       "  }\n",
       "})(window);"
      ],
      "application/vnd.bokehjs_exec.v0+json": ""
     },
     "metadata": {
      "application/vnd.bokehjs_exec.v0+json": {
       "id": "0482dce0-30c2-44bc-ae0b-aff61a50b06f"
      }
     },
     "output_type": "display_data"
    }
   ],
   "source": [
    "fig = make_plot(transcripts_from_gffutils(\"chr22\", 42124000, 42148000))\n",
    "show(fig.figure)"
   ]
  },
  {
   "cell_type": "code",
   "execution_count": null,
   "metadata": {
    "collapsed": true
   },
   "outputs": [],
   "source": []
  }
 ],
 "metadata": {
  "kernelspec": {
   "display_name": "Python 3",
   "language": "python",
   "name": "python3"
  },
  "language_info": {
   "codemirror_mode": {
    "name": "ipython",
    "version": 3
   },
   "file_extension": ".py",
   "mimetype": "text/x-python",
   "name": "python",
   "nbconvert_exporter": "python",
   "pygments_lexer": "ipython3",
   "version": "3.6.2"
  }
 },
 "nbformat": 4,
 "nbformat_minor": 2
}
