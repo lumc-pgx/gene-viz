{
 "cells": [
  {
   "cell_type": "markdown",
   "metadata": {},
   "source": [
    "# Visualizing annotation data"
   ]
  },
  {
   "cell_type": "markdown",
   "metadata": {},
   "source": [
    "set up bokeh for notebook drawing, and import gene_viz"
   ]
  },
  {
   "cell_type": "code",
   "execution_count": 1,
   "metadata": {},
   "outputs": [
    {
     "data": {
      "application/javascript": [
       "\n",
       "(function(root) {\n",
       "  function now() {\n",
       "    return new Date();\n",
       "  }\n",
       "\n",
       "  var force = true;\n",
       "\n",
       "  if (typeof (root._bokeh_onload_callbacks) === \"undefined\" || force === true) {\n",
       "    root._bokeh_onload_callbacks = [];\n",
       "    root._bokeh_is_loading = undefined;\n",
       "  }\n",
       "\n",
       "  var JS_MIME_TYPE = 'application/javascript';\n",
       "  var HTML_MIME_TYPE = 'text/html';\n",
       "  var EXEC_MIME_TYPE = 'application/vnd.bokehjs_exec.v0+json';\n",
       "  var CLASS_NAME = 'output_bokeh rendered_html';\n",
       "\n",
       "  /**\n",
       "   * Render data to the DOM node\n",
       "   */\n",
       "  function render(props, node) {\n",
       "    var script = document.createElement(\"script\");\n",
       "    node.appendChild(script);\n",
       "  }\n",
       "\n",
       "  /**\n",
       "   * Handle when an output is cleared or removed\n",
       "   */\n",
       "  function handleClearOutput(event, handle) {\n",
       "    var cell = handle.cell;\n",
       "\n",
       "    var id = cell.output_area._bokeh_element_id;\n",
       "    var server_id = cell.output_area._bokeh_server_id;\n",
       "    // Clean up Bokeh references\n",
       "    if (id !== undefined) {\n",
       "      Bokeh.index[id].model.document.clear();\n",
       "      delete Bokeh.index[id];\n",
       "    }\n",
       "\n",
       "    if (server_id !== undefined) {\n",
       "      // Clean up Bokeh references\n",
       "      var cmd = \"from bokeh.io.state import curstate; print(curstate().uuid_to_server['\" + server_id + \"'].get_sessions()[0].document.roots[0]._id)\";\n",
       "      cell.notebook.kernel.execute(cmd, {\n",
       "        iopub: {\n",
       "          output: function(msg) {\n",
       "            var element_id = msg.content.text.trim();\n",
       "            Bokeh.index[element_id].model.document.clear();\n",
       "            delete Bokeh.index[element_id];\n",
       "          }\n",
       "        }\n",
       "      });\n",
       "      // Destroy server and session\n",
       "      var cmd = \"import bokeh.io.notebook as ion; ion.destroy_server('\" + server_id + \"')\";\n",
       "      cell.notebook.kernel.execute(cmd);\n",
       "    }\n",
       "  }\n",
       "\n",
       "  /**\n",
       "   * Handle when a new output is added\n",
       "   */\n",
       "  function handleAddOutput(event, handle) {\n",
       "    var output_area = handle.output_area;\n",
       "    var output = handle.output;\n",
       "\n",
       "    // limit handleAddOutput to display_data with EXEC_MIME_TYPE content only\n",
       "    if ((output.output_type != \"display_data\") || (!output.data.hasOwnProperty(EXEC_MIME_TYPE))) {\n",
       "      return\n",
       "    }\n",
       "\n",
       "    var toinsert = output_area.element.find(`.${CLASS_NAME.split(' ')[0]}`);\n",
       "\n",
       "    if (output.metadata[EXEC_MIME_TYPE][\"id\"] !== undefined) {\n",
       "      toinsert[0].firstChild.textContent = output.data[JS_MIME_TYPE];\n",
       "      // store reference to embed id on output_area\n",
       "      output_area._bokeh_element_id = output.metadata[EXEC_MIME_TYPE][\"id\"];\n",
       "    }\n",
       "    if (output.metadata[EXEC_MIME_TYPE][\"server_id\"] !== undefined) {\n",
       "      var bk_div = document.createElement(\"div\");\n",
       "      bk_div.innerHTML = output.data[HTML_MIME_TYPE];\n",
       "      var script_attrs = bk_div.children[0].attributes;\n",
       "      for (var i = 0; i < script_attrs.length; i++) {\n",
       "        toinsert[0].firstChild.setAttribute(script_attrs[i].name, script_attrs[i].value);\n",
       "      }\n",
       "      // store reference to server id on output_area\n",
       "      output_area._bokeh_server_id = output.metadata[EXEC_MIME_TYPE][\"server_id\"];\n",
       "    }\n",
       "  }\n",
       "\n",
       "  function register_renderer(events, OutputArea) {\n",
       "\n",
       "    function append_mime(data, metadata, element) {\n",
       "      // create a DOM node to render to\n",
       "      var toinsert = this.create_output_subarea(\n",
       "        metadata,\n",
       "        CLASS_NAME,\n",
       "        EXEC_MIME_TYPE\n",
       "      );\n",
       "      this.keyboard_manager.register_events(toinsert);\n",
       "      // Render to node\n",
       "      var props = {data: data, metadata: metadata[EXEC_MIME_TYPE]};\n",
       "      render(props, toinsert[0]);\n",
       "      element.append(toinsert);\n",
       "      return toinsert\n",
       "    }\n",
       "\n",
       "    /* Handle when an output is cleared or removed */\n",
       "    events.on('clear_output.CodeCell', handleClearOutput);\n",
       "    events.on('delete.Cell', handleClearOutput);\n",
       "\n",
       "    /* Handle when a new output is added */\n",
       "    events.on('output_added.OutputArea', handleAddOutput);\n",
       "\n",
       "    /**\n",
       "     * Register the mime type and append_mime function with output_area\n",
       "     */\n",
       "    OutputArea.prototype.register_mime_type(EXEC_MIME_TYPE, append_mime, {\n",
       "      /* Is output safe? */\n",
       "      safe: true,\n",
       "      /* Index of renderer in `output_area.display_order` */\n",
       "      index: 0\n",
       "    });\n",
       "  }\n",
       "\n",
       "  // register the mime type if in Jupyter Notebook environment and previously unregistered\n",
       "  if (root.Jupyter !== undefined) {\n",
       "    var events = require('base/js/events');\n",
       "    var OutputArea = require('notebook/js/outputarea').OutputArea;\n",
       "\n",
       "    if (OutputArea.prototype.mime_types().indexOf(EXEC_MIME_TYPE) == -1) {\n",
       "      register_renderer(events, OutputArea);\n",
       "    }\n",
       "  }\n",
       "\n",
       "  \n",
       "  if (typeof (root._bokeh_timeout) === \"undefined\" || force === true) {\n",
       "    root._bokeh_timeout = Date.now() + 5000;\n",
       "    root._bokeh_failed_load = false;\n",
       "  }\n",
       "\n",
       "  var NB_LOAD_WARNING = {'data': {'text/html':\n",
       "     \"<div style='background-color: #fdd'>\\n\"+\n",
       "     \"<p>\\n\"+\n",
       "     \"BokehJS does not appear to have successfully loaded. If loading BokehJS from CDN, this \\n\"+\n",
       "     \"may be due to a slow or bad network connection. Possible fixes:\\n\"+\n",
       "     \"</p>\\n\"+\n",
       "     \"<ul>\\n\"+\n",
       "     \"<li>re-rerun `output_notebook()` to attempt to load from CDN again, or</li>\\n\"+\n",
       "     \"<li>use INLINE resources instead, as so:</li>\\n\"+\n",
       "     \"</ul>\\n\"+\n",
       "     \"<code>\\n\"+\n",
       "     \"from bokeh.resources import INLINE\\n\"+\n",
       "     \"output_notebook(resources=INLINE)\\n\"+\n",
       "     \"</code>\\n\"+\n",
       "     \"</div>\"}};\n",
       "\n",
       "  function display_loaded() {\n",
       "    var el = document.getElementById(null);\n",
       "    if (el != null) {\n",
       "      el.textContent = \"BokehJS is loading...\";\n",
       "    }\n",
       "    if (root.Bokeh !== undefined) {\n",
       "      if (el != null) {\n",
       "        el.textContent = \"BokehJS \" + root.Bokeh.version + \" successfully loaded.\";\n",
       "      }\n",
       "    } else if (Date.now() < root._bokeh_timeout) {\n",
       "      setTimeout(display_loaded, 100)\n",
       "    }\n",
       "  }\n",
       "\n",
       "\n",
       "  function run_callbacks() {\n",
       "    try {\n",
       "      root._bokeh_onload_callbacks.forEach(function(callback) { callback() });\n",
       "    }\n",
       "    finally {\n",
       "      delete root._bokeh_onload_callbacks\n",
       "    }\n",
       "    console.info(\"Bokeh: all callbacks have finished\");\n",
       "  }\n",
       "\n",
       "  function load_libs(js_urls, callback) {\n",
       "    root._bokeh_onload_callbacks.push(callback);\n",
       "    if (root._bokeh_is_loading > 0) {\n",
       "      console.log(\"Bokeh: BokehJS is being loaded, scheduling callback at\", now());\n",
       "      return null;\n",
       "    }\n",
       "    if (js_urls == null || js_urls.length === 0) {\n",
       "      run_callbacks();\n",
       "      return null;\n",
       "    }\n",
       "    console.log(\"Bokeh: BokehJS not loaded, scheduling load and callback at\", now());\n",
       "    root._bokeh_is_loading = js_urls.length;\n",
       "    for (var i = 0; i < js_urls.length; i++) {\n",
       "      var url = js_urls[i];\n",
       "      var s = document.createElement('script');\n",
       "      s.src = url;\n",
       "      s.async = false;\n",
       "      s.onreadystatechange = s.onload = function() {\n",
       "        root._bokeh_is_loading--;\n",
       "        if (root._bokeh_is_loading === 0) {\n",
       "          console.log(\"Bokeh: all BokehJS libraries loaded\");\n",
       "          run_callbacks()\n",
       "        }\n",
       "      };\n",
       "      s.onerror = function() {\n",
       "        console.warn(\"failed to load library \" + url);\n",
       "      };\n",
       "      console.log(\"Bokeh: injecting script tag for BokehJS library: \", url);\n",
       "      document.getElementsByTagName(\"head\")[0].appendChild(s);\n",
       "    }\n",
       "  };\n",
       "\n",
       "  var js_urls = [\"https://cdn.pydata.org/bokeh/release/bokeh-0.12.10.min.js\", \"https://cdn.pydata.org/bokeh/release/bokeh-widgets-0.12.10.min.js\", \"https://cdn.pydata.org/bokeh/release/bokeh-tables-0.12.10.min.js\", \"https://cdn.pydata.org/bokeh/release/bokeh-gl-0.12.10.min.js\"];\n",
       "\n",
       "  var inline_js = [\n",
       "    function(Bokeh) {\n",
       "      Bokeh.set_log_level(\"info\");\n",
       "    },\n",
       "    \n",
       "    function(Bokeh) {\n",
       "      \n",
       "    },\n",
       "    function(Bokeh) {\n",
       "      console.log(\"Bokeh: injecting CSS: https://cdn.pydata.org/bokeh/release/bokeh-0.12.10.min.css\");\n",
       "      Bokeh.embed.inject_css(\"https://cdn.pydata.org/bokeh/release/bokeh-0.12.10.min.css\");\n",
       "      console.log(\"Bokeh: injecting CSS: https://cdn.pydata.org/bokeh/release/bokeh-widgets-0.12.10.min.css\");\n",
       "      Bokeh.embed.inject_css(\"https://cdn.pydata.org/bokeh/release/bokeh-widgets-0.12.10.min.css\");\n",
       "      console.log(\"Bokeh: injecting CSS: https://cdn.pydata.org/bokeh/release/bokeh-tables-0.12.10.min.css\");\n",
       "      Bokeh.embed.inject_css(\"https://cdn.pydata.org/bokeh/release/bokeh-tables-0.12.10.min.css\");\n",
       "    }\n",
       "  ];\n",
       "\n",
       "  function run_inline_js() {\n",
       "    \n",
       "    if ((root.Bokeh !== undefined) || (force === true)) {\n",
       "      for (var i = 0; i < inline_js.length; i++) {\n",
       "        inline_js[i].call(root, root.Bokeh);\n",
       "      }} else if (Date.now() < root._bokeh_timeout) {\n",
       "      setTimeout(run_inline_js, 100);\n",
       "    } else if (!root._bokeh_failed_load) {\n",
       "      console.log(\"Bokeh: BokehJS failed to load within specified timeout.\");\n",
       "      root._bokeh_failed_load = true;\n",
       "    } else if (force !== true) {\n",
       "      var cell = $(document.getElementById(null)).parents('.cell').data().cell;\n",
       "      cell.output_area.append_execute_result(NB_LOAD_WARNING)\n",
       "    }\n",
       "\n",
       "  }\n",
       "\n",
       "  if (root._bokeh_is_loading === 0) {\n",
       "    console.log(\"Bokeh: BokehJS loaded, going straight to plotting\");\n",
       "    run_inline_js();\n",
       "  } else {\n",
       "    load_libs(js_urls, function() {\n",
       "      console.log(\"Bokeh: BokehJS plotting callback run at\", now());\n",
       "      run_inline_js();\n",
       "    });\n",
       "  }\n",
       "}(window));"
      ],
      "application/vnd.bokehjs_load.v0+json": "\n(function(root) {\n  function now() {\n    return new Date();\n  }\n\n  var force = true;\n\n  if (typeof (root._bokeh_onload_callbacks) === \"undefined\" || force === true) {\n    root._bokeh_onload_callbacks = [];\n    root._bokeh_is_loading = undefined;\n  }\n\n  \n\n  \n  if (typeof (root._bokeh_timeout) === \"undefined\" || force === true) {\n    root._bokeh_timeout = Date.now() + 5000;\n    root._bokeh_failed_load = false;\n  }\n\n  var NB_LOAD_WARNING = {'data': {'text/html':\n     \"<div style='background-color: #fdd'>\\n\"+\n     \"<p>\\n\"+\n     \"BokehJS does not appear to have successfully loaded. If loading BokehJS from CDN, this \\n\"+\n     \"may be due to a slow or bad network connection. Possible fixes:\\n\"+\n     \"</p>\\n\"+\n     \"<ul>\\n\"+\n     \"<li>re-rerun `output_notebook()` to attempt to load from CDN again, or</li>\\n\"+\n     \"<li>use INLINE resources instead, as so:</li>\\n\"+\n     \"</ul>\\n\"+\n     \"<code>\\n\"+\n     \"from bokeh.resources import INLINE\\n\"+\n     \"output_notebook(resources=INLINE)\\n\"+\n     \"</code>\\n\"+\n     \"</div>\"}};\n\n  function display_loaded() {\n    var el = document.getElementById(null);\n    if (el != null) {\n      el.textContent = \"BokehJS is loading...\";\n    }\n    if (root.Bokeh !== undefined) {\n      if (el != null) {\n        el.textContent = \"BokehJS \" + root.Bokeh.version + \" successfully loaded.\";\n      }\n    } else if (Date.now() < root._bokeh_timeout) {\n      setTimeout(display_loaded, 100)\n    }\n  }\n\n\n  function run_callbacks() {\n    try {\n      root._bokeh_onload_callbacks.forEach(function(callback) { callback() });\n    }\n    finally {\n      delete root._bokeh_onload_callbacks\n    }\n    console.info(\"Bokeh: all callbacks have finished\");\n  }\n\n  function load_libs(js_urls, callback) {\n    root._bokeh_onload_callbacks.push(callback);\n    if (root._bokeh_is_loading > 0) {\n      console.log(\"Bokeh: BokehJS is being loaded, scheduling callback at\", now());\n      return null;\n    }\n    if (js_urls == null || js_urls.length === 0) {\n      run_callbacks();\n      return null;\n    }\n    console.log(\"Bokeh: BokehJS not loaded, scheduling load and callback at\", now());\n    root._bokeh_is_loading = js_urls.length;\n    for (var i = 0; i < js_urls.length; i++) {\n      var url = js_urls[i];\n      var s = document.createElement('script');\n      s.src = url;\n      s.async = false;\n      s.onreadystatechange = s.onload = function() {\n        root._bokeh_is_loading--;\n        if (root._bokeh_is_loading === 0) {\n          console.log(\"Bokeh: all BokehJS libraries loaded\");\n          run_callbacks()\n        }\n      };\n      s.onerror = function() {\n        console.warn(\"failed to load library \" + url);\n      };\n      console.log(\"Bokeh: injecting script tag for BokehJS library: \", url);\n      document.getElementsByTagName(\"head\")[0].appendChild(s);\n    }\n  };\n\n  var js_urls = [\"https://cdn.pydata.org/bokeh/release/bokeh-0.12.10.min.js\", \"https://cdn.pydata.org/bokeh/release/bokeh-widgets-0.12.10.min.js\", \"https://cdn.pydata.org/bokeh/release/bokeh-tables-0.12.10.min.js\", \"https://cdn.pydata.org/bokeh/release/bokeh-gl-0.12.10.min.js\"];\n\n  var inline_js = [\n    function(Bokeh) {\n      Bokeh.set_log_level(\"info\");\n    },\n    \n    function(Bokeh) {\n      \n    },\n    function(Bokeh) {\n      console.log(\"Bokeh: injecting CSS: https://cdn.pydata.org/bokeh/release/bokeh-0.12.10.min.css\");\n      Bokeh.embed.inject_css(\"https://cdn.pydata.org/bokeh/release/bokeh-0.12.10.min.css\");\n      console.log(\"Bokeh: injecting CSS: https://cdn.pydata.org/bokeh/release/bokeh-widgets-0.12.10.min.css\");\n      Bokeh.embed.inject_css(\"https://cdn.pydata.org/bokeh/release/bokeh-widgets-0.12.10.min.css\");\n      console.log(\"Bokeh: injecting CSS: https://cdn.pydata.org/bokeh/release/bokeh-tables-0.12.10.min.css\");\n      Bokeh.embed.inject_css(\"https://cdn.pydata.org/bokeh/release/bokeh-tables-0.12.10.min.css\");\n    }\n  ];\n\n  function run_inline_js() {\n    \n    if ((root.Bokeh !== undefined) || (force === true)) {\n      for (var i = 0; i < inline_js.length; i++) {\n        inline_js[i].call(root, root.Bokeh);\n      }} else if (Date.now() < root._bokeh_timeout) {\n      setTimeout(run_inline_js, 100);\n    } else if (!root._bokeh_failed_load) {\n      console.log(\"Bokeh: BokehJS failed to load within specified timeout.\");\n      root._bokeh_failed_load = true;\n    } else if (force !== true) {\n      var cell = $(document.getElementById(null)).parents('.cell').data().cell;\n      cell.output_area.append_execute_result(NB_LOAD_WARNING)\n    }\n\n  }\n\n  if (root._bokeh_is_loading === 0) {\n    console.log(\"Bokeh: BokehJS loaded, going straight to plotting\");\n    run_inline_js();\n  } else {\n    load_libs(js_urls, function() {\n      console.log(\"Bokeh: BokehJS plotting callback run at\", now());\n      run_inline_js();\n    });\n  }\n}(window));"
     },
     "metadata": {},
     "output_type": "display_data"
    }
   ],
   "source": [
    "from bokeh.plotting import output_notebook, show\n",
    "output_notebook(hide_banner=True)\n",
    "\n",
    "import gene_viz\n",
    "from gene_viz.features import Transcript, Exon, CDS"
   ]
  },
  {
   "cell_type": "markdown",
   "metadata": {},
   "source": [
    "## Use PyEnsembl as the data source"
   ]
  },
  {
   "cell_type": "code",
   "execution_count": 2,
   "metadata": {
    "collapsed": true
   },
   "outputs": [],
   "source": [
    "import os\n",
    "import pyensembl\n",
    "from gene_viz.utils import transcripts_from_pyensembl\n",
    "\n",
    "# set database cache directory for pyensembl\n",
    "os.environ['PYENSEMBL_CACHE_DIR'] = os.path.abspath(\"./\")\n",
    "\n",
    "# download and unzip gencode basic annotations for hg38\n",
    "#!wget ftp://ftp.sanger.ac.uk/pub/gencode/Gencode_human/release_27/gencode.v27.basic.annotation.gtf.gz\n",
    "#!gunzip gencode.v27.basic.annotation.gtf.gz\n",
    "    \n",
    "genome = pyensembl.Genome(\n",
    "    reference_name=\"GRCh38\",\n",
    "    annotation_name=\"Gencode27\",\n",
    "    gtf_path_or_url=\"gencode.v27.basic.annotation.gtf.gz\"\n",
    ")\n",
    "genome.index()"
   ]
  },
  {
   "cell_type": "markdown",
   "metadata": {},
   "source": [
    "## Create a method to translate pyensembl objects into gene_viz features "
   ]
  },
  {
   "cell_type": "code",
   "execution_count": 3,
   "metadata": {
    "collapsed": true,
    "scrolled": false
   },
   "outputs": [],
   "source": [
    "def make_plot(transcripts):\n",
    "    \"\"\"\n",
    "    Create a gene_plot object from a list of transcript feature objects\n",
    "    \"\"\"\n",
    "    start = min([t.start for t in transcripts])\n",
    "    end = max([t.end for t in transcripts])\n",
    "    contig = next((t.contig for t in transcripts), \"unlabelled\")\n",
    "    \n",
    "    gene_plot = gene_viz.GenePlot(\n",
    "        dict(\n",
    "            row_height=15,\n",
    "            pack=True,\n",
    "            show_labels=True,\n",
    "            label_horiz_position=\"center\",\n",
    "            label_vert_position=\"above\",\n",
    "            label_justify=\"center\",\n",
    "            label_offset=(0, -4),\n",
    "            label_font_size=\"6pt\",\n",
    "            intron_width_percent=0.01,\n",
    "        )\n",
    "    )\n",
    "        \n",
    "    gene_plot.x_range = (start, end)\n",
    "    gene_plot.figure.xaxis.axis_label = contig\n",
    "    gene_plot.transcripts = transcripts\n",
    "    gene_plot.update()\n",
    "    return gene_plot"
   ]
  },
  {
   "cell_type": "markdown",
   "metadata": {},
   "source": [
    "## Query pyensembl and visualize the results"
   ]
  },
  {
   "cell_type": "code",
   "execution_count": 4,
   "metadata": {},
   "outputs": [
    {
     "data": {
      "text/html": [
       "\n",
       "<div class=\"bk-root\">\n",
       "    <div class=\"bk-plotdiv\" id=\"caaf2fee-26dd-486f-985e-7cb1e4112c04\"></div>\n",
       "</div>"
      ]
     },
     "metadata": {},
     "output_type": "display_data"
    },
    {
     "data": {
      "application/javascript": [
       "(function(root) {\n",
       "  function embed_document(root) {\n",
       "    var docs_json = {\"fcee7ce6-642d-4338-9976-b51171116dee\":{\"roots\":{\"references\":[{\"attributes\":{\"data_source\":{\"id\":\"de718885-1287-418e-b79c-43ad9c49580b\",\"type\":\"ColumnDataSource\"},\"glyph\":{\"id\":\"f36d65ba-187a-46b7-9188-da05259fe96c\",\"type\":\"Text\"},\"hover_glyph\":null,\"muted_glyph\":null,\"name\":\"introns\",\"nonselection_glyph\":{\"id\":\"f316cd6d-a773-46c0-80c9-cdfdb39867c6\",\"type\":\"Text\"},\"selection_glyph\":null,\"view\":{\"id\":\"88958e13-3cb0-415f-a407-aeda73ed90bf\",\"type\":\"CDSView\"}},\"id\":\"dd1b1a0e-d786-45b4-8c86-7ccf716d047e\",\"type\":\"GlyphRenderer\"},{\"attributes\":{\"data_source\":{\"id\":\"941f59eb-45f0-45d8-9a73-67f556038aab\",\"type\":\"ColumnDataSource\"},\"glyph\":{\"id\":\"0bd28fed-04b4-425c-8829-7b5a674ff48e\",\"type\":\"Patches\"},\"hover_glyph\":null,\"muted_glyph\":null,\"name\":\"exons\",\"nonselection_glyph\":{\"id\":\"23fe0162-3122-4006-a7e2-a49e2dcc981f\",\"type\":\"Patches\"},\"selection_glyph\":null,\"view\":{\"id\":\"9d9682cc-ba3b-4865-9093-7ba020eed189\",\"type\":\"CDSView\"}},\"id\":\"6e4e291c-1eee-4a42-a74e-4007edf882bb\",\"type\":\"GlyphRenderer\"},{\"attributes\":{\"active_drag\":\"auto\",\"active_inspect\":\"auto\",\"active_scroll\":{\"id\":\"d2cfeab8-6c39-4d49-898c-2b3773c52fea\",\"type\":\"WheelZoomTool\"},\"active_tap\":\"auto\",\"logo\":null,\"tools\":[{\"id\":\"1f34baec-f4f4-4ff5-a57b-bdb9b96954b8\",\"type\":\"PanTool\"},{\"id\":\"d2cfeab8-6c39-4d49-898c-2b3773c52fea\",\"type\":\"WheelZoomTool\"},{\"id\":\"e5513a59-90bc-4e8e-bd8e-3048292fcd08\",\"type\":\"BoxZoomTool\"},{\"id\":\"0f02b3b5-967e-4db0-a060-ce7972c343a3\",\"type\":\"SaveTool\"},{\"id\":\"7e833458-0c81-4318-bed7-e631a6307d35\",\"type\":\"ResetTool\"}]},\"id\":\"d47177c1-96db-47d4-bb2a-4cbc2797aa91\",\"type\":\"Toolbar\"},{\"attributes\":{\"angle\":{\"field\":\"angle\",\"units\":\"deg\"},\"text\":{\"value\":\"v\"},\"text_align\":\"center\",\"text_alpha\":{\"field\":\"alpha\"},\"text_baseline\":\"middle\",\"text_color\":{\"value\":\"Black\"},\"text_font\":\"sans-serif\",\"text_font_size\":{\"value\":\"5pt\"},\"text_font_style\":\"bold\",\"x\":{\"field\":\"x\"},\"y\":{\"field\":\"y\"}},\"id\":\"f36d65ba-187a-46b7-9188-da05259fe96c\",\"type\":\"Text\"},{\"attributes\":{\"plot\":null,\"text\":\"\"},\"id\":\"45d612e7-3367-4a21-a54d-2dd433ecc3ad\",\"type\":\"Title\"},{\"attributes\":{\"source\":{\"id\":\"1c4143f3-2cde-4886-b127-6c2ad152760c\",\"type\":\"ColumnDataSource\"}},\"id\":\"eb980efb-215a-4936-b6de-5bdc79c802ca\",\"type\":\"CDSView\"},{\"attributes\":{},\"id\":\"45dd1ce4-2c6a-49d5-ab25-a144354bdaf7\",\"type\":\"BasicTickFormatter\"},{\"attributes\":{\"angle\":{\"field\":\"angle\",\"units\":\"deg\"},\"text\":{\"value\":\"v\"},\"text_align\":\"center\",\"text_alpha\":{\"value\":0.1},\"text_baseline\":\"middle\",\"text_color\":{\"value\":\"black\"},\"text_font\":\"sans-serif\",\"text_font_size\":{\"value\":\"5pt\"},\"text_font_style\":\"bold\",\"x\":{\"field\":\"x\"},\"y\":{\"field\":\"y\"}},\"id\":\"f316cd6d-a773-46c0-80c9-cdfdb39867c6\",\"type\":\"Text\"},{\"attributes\":{\"fill_color\":{\"value\":\"DarkBlue\"},\"line_color\":{\"value\":null},\"xs\":{\"field\":\"x\"},\"ys\":{\"field\":\"y\"}},\"id\":\"0bd28fed-04b4-425c-8829-7b5a674ff48e\",\"type\":\"Patches\"},{\"attributes\":{\"source\":{\"id\":\"de718885-1287-418e-b79c-43ad9c49580b\",\"type\":\"ColumnDataSource\"}},\"id\":\"88958e13-3cb0-415f-a407-aeda73ed90bf\",\"type\":\"CDSView\"},{\"attributes\":{\"text\":{\"field\":\"label\"},\"text_align\":\"center\",\"text_baseline\":\"middle\",\"text_color\":{\"value\":\"black\"},\"text_font\":\"monospace\",\"text_font_size\":{\"value\":\"6pt\"},\"x\":{\"field\":\"x\"},\"y\":{\"field\":\"y\"},\"y_offset\":{\"value\":4}},\"id\":\"bcf85f0b-e658-4350-9aff-e07b45c2eeb2\",\"type\":\"Text\"},{\"attributes\":{\"callback\":null,\"column_names\":[\"x\",\"y\",\"label\",\"index\"],\"data\":{\"index\":[0,1,2,3,4,5,6,7,8,9,10,11,12,13,14,15,16,17],\"label\":[\"CYP2D6-203\",\"CYP2D6-204\",\"CYP2D6-201\",\"TCF20-202\",\"TCF20-201\",\"TCF20-203\",\"CYP2D7-201\",\"CYP2D7-203\",\"CYP2D7-208\",\"CYP2D7-207\",\"CYP2D8P-201\",\"AC254562.1-201\",\"AC254562.2-201\",\"NDUFA6-AS1-203\",\"NDUFA6-AS1-207\",\"NDUFA6-AS1-208\",\"NDUFA6-AS1-216\",\"AC254562.3-201\"],\"x\":[42128702.5,42128691.0,42128710.5,42187727.5,42188248.0,42185653.0,42142376.0,42142390.0,42142379.5,42142391.0,42152443.5,42132770.5,42138180.0,42114336.5,42108081.5,42108155.5,42134540.5,42138893.0],\"y\":[3,1,-1,3,1,-1,-1,5,1,3,-1,-1,1,5,1,-1,3,-1]}},\"id\":\"52ce3576-27ff-4336-9c8a-2050a7643212\",\"type\":\"ColumnDataSource\"},{\"attributes\":{\"source\":{\"id\":\"941f59eb-45f0-45d8-9a73-67f556038aab\",\"type\":\"ColumnDataSource\"}},\"id\":\"9d9682cc-ba3b-4865-9093-7ba020eed189\",\"type\":\"CDSView\"},{\"attributes\":{\"callback\":null,\"end\":-1.5,\"start\":7},\"id\":\"5427fd5a-2cd8-4125-b837-2dd31ee25003\",\"type\":\"Range1d\"},{\"attributes\":{\"text\":{\"field\":\"label\"},\"text_align\":\"center\",\"text_alpha\":{\"value\":0.1},\"text_baseline\":\"middle\",\"text_color\":{\"value\":\"black\"},\"text_font\":\"monospace\",\"text_font_size\":{\"value\":\"6pt\"},\"x\":{\"field\":\"x\"},\"y\":{\"field\":\"y\"}},\"id\":\"3cfe5ebb-31a9-4608-9b4e-4a3a9f696751\",\"type\":\"Text\"},{\"attributes\":{\"line_color\":{\"value\":\"Black\"},\"x0\":{\"field\":\"x0\"},\"x1\":{\"field\":\"x1\"},\"y0\":{\"field\":\"y0\"},\"y1\":{\"field\":\"y1\"}},\"id\":\"f4105328-ad68-42fb-b783-ebf0ce94de03\",\"type\":\"Segment\"},{\"attributes\":{\"data_source\":{\"id\":\"52ce3576-27ff-4336-9c8a-2050a7643212\",\"type\":\"ColumnDataSource\"},\"glyph\":{\"id\":\"bcf85f0b-e658-4350-9aff-e07b45c2eeb2\",\"type\":\"Text\"},\"hover_glyph\":null,\"muted_glyph\":null,\"name\":\"transcript_labels\",\"nonselection_glyph\":{\"id\":\"3cfe5ebb-31a9-4608-9b4e-4a3a9f696751\",\"type\":\"Text\"},\"selection_glyph\":null,\"view\":{\"id\":\"58a3a6f6-d055-4fb5-b8d1-bb74a7296a82\",\"type\":\"CDSView\"}},\"id\":\"cccb0c9c-81b1-481e-ab60-74406a353cfc\",\"type\":\"GlyphRenderer\"},{\"attributes\":{\"fill_alpha\":{\"value\":0.1},\"fill_color\":{\"value\":\"#1f77b4\"},\"line_alpha\":{\"value\":0.1},\"line_color\":{\"value\":\"#1f77b4\"},\"xs\":{\"field\":\"x\"},\"ys\":{\"field\":\"y\"}},\"id\":\"23fe0162-3122-4006-a7e2-a49e2dcc981f\",\"type\":\"Patches\"},{\"attributes\":{},\"id\":\"1917f3ad-d513-4d16-b46f-42d7ec72a723\",\"type\":\"LinearScale\"},{\"attributes\":{\"mantissas\":[1,2,3,4,5,6,7,8,9],\"max_interval\":2,\"min_interval\":2,\"num_minor_ticks\":2},\"id\":\"6b352793-e171-472a-81e9-27f318b46624\",\"type\":\"AdaptiveTicker\"},{\"attributes\":{\"mantissas\":[1,2,3,4,5,6,7,8,9],\"max_interval\":1,\"min_interval\":1,\"num_minor_ticks\":1},\"id\":\"206b005d-10f6-41d1-9703-a4a47bf8b7b7\",\"type\":\"AdaptiveTicker\"},{\"attributes\":{},\"id\":\"899544cd-866d-4a65-8ff1-35c1a38e5b23\",\"type\":\"LinearScale\"},{\"attributes\":{\"source\":{\"id\":\"52ce3576-27ff-4336-9c8a-2050a7643212\",\"type\":\"ColumnDataSource\"}},\"id\":\"58a3a6f6-d055-4fb5-b8d1-bb74a7296a82\",\"type\":\"CDSView\"},{\"attributes\":{\"callback\":{\"id\":\"d78f0cf3-4882-49f2-b55c-4657339f99dd\",\"type\":\"CustomJS\"},\"end\":42215442,\"start\":42090931},\"id\":\"857040cb-08ff-4eee-98d2-f3d1cbeab2e0\",\"type\":\"Range1d\"},{\"attributes\":{\"callback\":null,\"column_names\":[\"x\",\"y\",\"index\"],\"data\":{\"index\":[0,1,2,3,4,5,6,7,8,9,10,11,12,13,14,15,16,17,18,19,20,21,22,23,24,25,26,27,28,29,30,31,32,33,34,35,36,37,38,39,40,41,42,43,44,45,46,47,48,49,50,51,52,53,54,55,56,57,58,59,60,61,62,63,64,65,66,67,68,69,70,71,72,73,74,75,76,77,78,79,80,81,82,83,84,85,86,87,88,89,90,91,92,93,94,95,96,97,98,99,100,101,102,103,104,105,106,107,108,109,110,111,112,113,114,115,116,117,118,119,120,121],\"x\":[[42130612,42130791,42130791,42130906,42130906,42130791,42130791,42130612],[42129738,42129909,42129909,42129738],[42129033,42129185,42129185,42129033],[42128784,42128944,42128944,42128784],[42128174,42128350,42128350,42128174],[42127842,42127983,42127983,42127842],[42127447,42127634,42127634,42127447],[42126851,42126992,42126992,42126851],[42126499,42126577,42126577,42126752,42126752,42126577,42126577,42126499],[42130612,42130725,42130725,42130881,42130881,42130725,42130725,42130612],[42129738,42129909,42129909,42129738],[42129033,42129185,42129185,42129033],[42128784,42128944,42128944,42128784],[42128174,42128350,42128350,42128174],[42127842,42127983,42127983,42127842],[42127781,42127809,42127809,42127781],[42127447,42127662,42127662,42127447],[42126851,42126992,42126992,42126851],[42126501,42126577,42126577,42126752,42126752,42126577,42126577,42126501],[42130612,42130791,42130791,42130865,42130865,42130791,42130791,42130612],[42129738,42129909,42129909,42129738],[42128784,42128944,42128944,42128784],[42128174,42128350,42128350,42128174],[42127842,42127983,42127983,42127842],[42127447,42127634,42127634,42127447],[42126851,42126992,42126992,42126851],[42126556,42126577,42126577,42126752,42126752,42126577,42126577,42126556],[42209651,42215305,42215305,42215442,42215442,42215305,42215305,42209651],[42179609,42179702,42179702,42179609],[42169847,42169896,42169896,42169847],[42168609,42168656,42168656,42168736,42168736,42168656,42168656,42168609],[42160013,42161358,42161358,42160013],[42209651,42215305,42215305,42215440,42215440,42215305,42215305,42209651],[42179609,42179702,42179702,42179609],[42169847,42169896,42169896,42169847],[42161056,42161344,42161344,42161358,42161358,42161344,42161344,42161056],[42209651,42210208,42210208,42209651],[42179609,42179702,42179702,42179609],[42169847,42169896,42169896,42169847],[42168609,42168656,42168656,42168703,42168703,42168656,42168656,42168609],[42161098,42161358,42161358,42161098],[42144284,42144464,42144464,42144549,42144549,42144464,42144464,42144284],[42143410,42143581,42143581,42143410],[42142728,42142880,42142880,42142728],[42142479,42142639,42142639,42142479],[42141868,42142044,42142044,42141868],[42141534,42141675,42141675,42141534],[42141152,42141339,42141339,42141152],[42140555,42140696,42140696,42140555],[42140203,42140280,42140280,42140456,42140456,42140280,42140280,42140203],[42144284,42144464,42144464,42144577,42144577,42144464,42144464,42144284],[42143410,42143581,42143581,42143410],[42142728,42142880,42142880,42142728],[42142479,42142639,42142639,42142479],[42141868,42142044,42142044,42141868],[42141534,42141675,42141675,42141534],[42141152,42141396,42141396,42141152],[42140555,42140696,42140696,42140555],[42140203,42140280,42140280,42140456,42140456,42140280,42140280,42140203],[42144330,42144464,42144464,42144554,42144554,42144464,42144464,42144330],[42144284,42144328,42144328,42144284],[42143410,42143581,42143581,42143410],[42142479,42142639,42142639,42142479],[42141868,42142044,42142044,42141868],[42141534,42141675,42141675,42141534],[42141152,42141339,42141339,42141152],[42140555,42140696,42140696,42140555],[42140205,42140281,42140281,42140456,42140456,42140281,42140281,42140205],[42144330,42144464,42144464,42144577,42144577,42144464,42144464,42144330],[42144284,42144328,42144328,42144284],[42143410,42143581,42143581,42143410],[42142728,42142880,42142880,42142728],[42142479,42142639,42142639,42142479],[42141868,42142044,42142044,42141868],[42141534,42141675,42141675,42141534],[42141371,42141396,42141396,42141371],[42141152,42141367,42141367,42141152],[42140555,42140696,42140696,42140555],[42140205,42140281,42140281,42140456,42140456,42140281,42140281,42140205],[42154825,42155001,42155001,42154825],[42153029,42153200,42153200,42153029],[42152347,42152499,42152499,42152347],[42152096,42152258,42152258,42152096],[42151472,42151648,42151648,42151472],[42151144,42151285,42151285,42151144],[42150755,42150939,42150939,42150755],[42150163,42150304,42150304,42150163],[42149886,42150064,42150064,42149886],[42132543,42132998,42132998,42132543],[42139612,42139927,42139927,42139612],[42137987,42138105,42138105,42137987],[42136433,42136664,42136664,42136433],[42090931,42091181,42091181,42090931],[42091297,42091600,42091600,42091297],[42092119,42092232,42092232,42092119],[42124047,42124562,42124562,42124047],[42124875,42125407,42125407,42124875],[42136199,42136714,42136714,42136199],[42137027,42137742,42137742,42137027],[42091204,42091600,42091600,42091204],[42112306,42112390,42112390,42112306],[42122793,42122888,42122888,42122793],[42124047,42124130,42124130,42124047],[42124477,42124562,42124562,42124477],[42124875,42124959,42124959,42124875],[42091352,42091600,42091600,42091352],[42122793,42122888,42122888,42122793],[42123526,42123591,42123591,42123526],[42123766,42123804,42123804,42123766],[42124047,42124130,42124130,42124047],[42124520,42124562,42124562,42124520],[42124875,42124959,42124959,42124875],[42132031,42132190,42132190,42132031],[42132370,42132602,42132602,42132370],[42133040,42133090,42133090,42133040],[42135135,42135239,42135239,42135135],[42135678,42135743,42135743,42135678],[42136199,42136282,42136282,42136199],[42136672,42136714,42136714,42136672],[42137027,42137050,42137050,42137027],[42138060,42138282,42138282,42138060],[42139319,42139726,42139726,42139319]],\"y\":[[4.35,4.35,4.175,4.175,3.825,3.825,3.65,3.65],[4.35,4.35,3.65,3.65],[4.35,4.35,3.65,3.65],[4.35,4.35,3.65,3.65],[4.35,4.35,3.65,3.65],[4.35,4.35,3.65,3.65],[4.35,4.35,3.65,3.65],[4.35,4.35,3.65,3.65],[4.175,4.175,4.35,4.35,3.65,3.65,3.825,3.825],[2.35,2.35,2.175,2.175,1.825,1.825,1.65,1.65],[2.35,2.35,1.65,1.65],[2.35,2.35,1.65,1.65],[2.35,2.35,1.65,1.65],[2.35,2.35,1.65,1.65],[2.35,2.35,1.65,1.65],[2.35,2.35,1.65,1.65],[2.35,2.35,1.65,1.65],[2.35,2.35,1.65,1.65],[2.175,2.175,2.35,2.35,1.65,1.65,1.825,1.825],[0.35,0.35,0.175,0.175,-0.175,-0.175,-0.35,-0.35],[0.35,0.35,-0.35,-0.35],[0.35,0.35,-0.35,-0.35],[0.35,0.35,-0.35,-0.35],[0.35,0.35,-0.35,-0.35],[0.35,0.35,-0.35,-0.35],[0.35,0.35,-0.35,-0.35],[0.175,0.175,0.35,0.35,-0.35,-0.35,-0.175,-0.175],[4.35,4.35,4.175,4.175,3.825,3.825,3.65,3.65],[4.35,4.35,3.65,3.65],[4.35,4.35,3.65,3.65],[4.175,4.175,4.35,4.35,3.65,3.65,3.825,3.825],[4.175,4.175,3.825,3.825],[2.35,2.35,2.175,2.175,1.825,1.825,1.65,1.65],[2.35,2.35,1.65,1.65],[2.35,2.35,1.65,1.65],[2.175,2.175,2.35,2.35,1.65,1.65,1.825,1.825],[0.35,0.35,-0.35,-0.35],[0.35,0.35,-0.35,-0.35],[0.35,0.35,-0.35,-0.35],[0.175,0.175,0.35,0.35,-0.35,-0.35,-0.175,-0.175],[0.175,0.175,-0.175,-0.175],[0.35,0.35,0.175,0.175,-0.175,-0.175,-0.35,-0.35],[0.35,0.35,-0.35,-0.35],[0.35,0.35,-0.35,-0.35],[0.35,0.35,-0.35,-0.35],[0.35,0.35,-0.35,-0.35],[0.35,0.35,-0.35,-0.35],[0.35,0.35,-0.35,-0.35],[0.35,0.35,-0.35,-0.35],[0.175,0.175,0.35,0.35,-0.35,-0.35,-0.175,-0.175],[6.35,6.35,6.175,6.175,5.825,5.825,5.65,5.65],[6.35,6.35,5.65,5.65],[6.35,6.35,5.65,5.65],[6.35,6.35,5.65,5.65],[6.35,6.35,5.65,5.65],[6.35,6.35,5.65,5.65],[6.35,6.35,5.65,5.65],[6.35,6.35,5.65,5.65],[6.175,6.175,6.35,6.35,5.65,5.65,5.825,5.825],[2.35,2.35,2.175,2.175,1.825,1.825,1.65,1.65],[2.35,2.35,1.65,1.65],[2.35,2.35,1.65,1.65],[2.35,2.35,1.65,1.65],[2.35,2.35,1.65,1.65],[2.35,2.35,1.65,1.65],[2.35,2.35,1.65,1.65],[2.35,2.35,1.65,1.65],[2.175,2.175,2.35,2.35,1.65,1.65,1.825,1.825],[4.35,4.35,4.175,4.175,3.825,3.825,3.65,3.65],[4.35,4.35,3.65,3.65],[4.35,4.35,3.65,3.65],[4.35,4.35,3.65,3.65],[4.35,4.35,3.65,3.65],[4.35,4.35,3.65,3.65],[4.35,4.35,3.65,3.65],[4.35,4.35,3.65,3.65],[4.35,4.35,3.65,3.65],[4.35,4.35,3.65,3.65],[4.175,4.175,4.35,4.35,3.65,3.65,3.825,3.825],[0.175,0.175,-0.175,-0.175],[0.175,0.175,-0.175,-0.175],[0.175,0.175,-0.175,-0.175],[0.175,0.175,-0.175,-0.175],[0.175,0.175,-0.175,-0.175],[0.175,0.175,-0.175,-0.175],[0.175,0.175,-0.175,-0.175],[0.175,0.175,-0.175,-0.175],[0.175,0.175,-0.175,-0.175],[0.175,0.175,-0.175,-0.175],[2.175,2.175,1.825,1.825],[2.175,2.175,1.825,1.825],[2.175,2.175,1.825,1.825],[6.175,6.175,5.825,5.825],[6.175,6.175,5.825,5.825],[6.175,6.175,5.825,5.825],[6.175,6.175,5.825,5.825],[6.175,6.175,5.825,5.825],[6.175,6.175,5.825,5.825],[6.175,6.175,5.825,5.825],[2.175,2.175,1.825,1.825],[2.175,2.175,1.825,1.825],[2.175,2.175,1.825,1.825],[2.175,2.175,1.825,1.825],[2.175,2.175,1.825,1.825],[2.175,2.175,1.825,1.825],[0.175,0.175,-0.175,-0.175],[0.175,0.175,-0.175,-0.175],[0.175,0.175,-0.175,-0.175],[0.175,0.175,-0.175,-0.175],[0.175,0.175,-0.175,-0.175],[0.175,0.175,-0.175,-0.175],[0.175,0.175,-0.175,-0.175],[4.175,4.175,3.825,3.825],[4.175,4.175,3.825,3.825],[4.175,4.175,3.825,3.825],[4.175,4.175,3.825,3.825],[4.175,4.175,3.825,3.825],[4.175,4.175,3.825,3.825],[4.175,4.175,3.825,3.825],[4.175,4.175,3.825,3.825],[0.175,0.175,-0.175,-0.175],[0.175,0.175,-0.175,-0.175]]}},\"id\":\"941f59eb-45f0-45d8-9a73-67f556038aab\",\"type\":\"ColumnDataSource\"},{\"attributes\":{\"mantissas\":[1,2,3,4,5,6,7,8,9],\"max_interval\":3,\"min_interval\":3,\"num_minor_ticks\":3},\"id\":\"8f229372-059a-41af-939f-acfb2975ed07\",\"type\":\"AdaptiveTicker\"},{\"attributes\":{\"mantissas\":[1,2,3,4,5,6,7,8,9],\"max_interval\":4,\"min_interval\":4,\"num_minor_ticks\":4},\"id\":\"20263db6-bc55-4e91-8ac4-409996f28d4d\",\"type\":\"AdaptiveTicker\"},{\"attributes\":{\"args\":{\"source\":{\"id\":\"de718885-1287-418e-b79c-43ad9c49580b\",\"type\":\"ColumnDataSource\"}},\"code\":\"\\nvar start = cb_obj.start;\\nvar end = cb_obj.end;\\nvar width = end - start;\\nvar threshold = 0.010000 * width;     // threshold factor is set from python-side configuration\\nvar intron_alpha = 1.000000;          // alpha value is set from python-side configuration\\n\\n// iterate over each intron\\nvar data = source.data;\\nfor (i=0; i<data[\\\"x\\\"].length; i++)\\n{\\n    // if the screen-space width is large enough, make the intron visible\\n    if(data[\\\"width\\\"][i] >= threshold)\\n        data[\\\"alpha\\\"][i] = intron_alpha;\\n    else\\n    // otherwise, make the intron fully transparent\\n        data[\\\"alpha\\\"][i] = 0;\\n}\\n\\nsource.change.emit();\\n\"},\"id\":\"d78f0cf3-4882-49f2-b55c-4657339f99dd\",\"type\":\"CustomJS\"},{\"attributes\":{},\"id\":\"12d5a599-540f-496c-83a6-14d1dbb4aa82\",\"type\":\"NumeralTickFormatter\"},{\"attributes\":{\"axis_label\":\"22\",\"formatter\":{\"id\":\"12d5a599-540f-496c-83a6-14d1dbb4aa82\",\"type\":\"NumeralTickFormatter\"},\"plot\":{\"id\":\"688dc22a-56af-467d-8b5d-f0e882d43fc4\",\"subtype\":\"Figure\",\"type\":\"Plot\"},\"ticker\":{\"id\":\"ad2827d0-2475-489d-840b-37e35d265a60\",\"type\":\"CompositeTicker\"}},\"id\":\"74d6d0fb-15d9-4de2-8994-f3127b2648ab\",\"type\":\"LinearAxis\"},{\"attributes\":{\"data_source\":{\"id\":\"1c4143f3-2cde-4886-b127-6c2ad152760c\",\"type\":\"ColumnDataSource\"},\"glyph\":{\"id\":\"f4105328-ad68-42fb-b783-ebf0ce94de03\",\"type\":\"Segment\"},\"hover_glyph\":null,\"muted_glyph\":null,\"name\":\"transcripts\",\"nonselection_glyph\":{\"id\":\"6d3eed41-6e52-47d9-ac34-3a49a6e01305\",\"type\":\"Segment\"},\"selection_glyph\":null,\"view\":{\"id\":\"eb980efb-215a-4936-b6de-5bdc79c802ca\",\"type\":\"CDSView\"}},\"id\":\"007eb183-8ca5-4985-bafd-c48ca22ee212\",\"type\":\"GlyphRenderer\"},{\"attributes\":{\"mantissas\":[1,2,3,4,5,6,7,8,9],\"min_interval\":5},\"id\":\"fa4d6a52-ad6c-41d8-9d01-6a18a4ecb1b6\",\"type\":\"AdaptiveTicker\"},{\"attributes\":{},\"id\":\"5bdf885d-b833-40c5-a14b-284ff4c833a1\",\"type\":\"BasicTicker\"},{\"attributes\":{\"tickers\":[{\"id\":\"206b005d-10f6-41d1-9703-a4a47bf8b7b7\",\"type\":\"AdaptiveTicker\"},{\"id\":\"6b352793-e171-472a-81e9-27f318b46624\",\"type\":\"AdaptiveTicker\"},{\"id\":\"8f229372-059a-41af-939f-acfb2975ed07\",\"type\":\"AdaptiveTicker\"},{\"id\":\"20263db6-bc55-4e91-8ac4-409996f28d4d\",\"type\":\"AdaptiveTicker\"},{\"id\":\"fa4d6a52-ad6c-41d8-9d01-6a18a4ecb1b6\",\"type\":\"AdaptiveTicker\"}]},\"id\":\"ad2827d0-2475-489d-840b-37e35d265a60\",\"type\":\"CompositeTicker\"},{\"attributes\":{\"callback\":null,\"column_names\":[\"x0\",\"y0\",\"x1\",\"y1\",\"index\"],\"data\":{\"index\":[0,1,2,3,4,5,6,7,8,9,10,11,12,13,14,15,16,17],\"x0\":[42126498,42126500,42126555,42160012,42161055,42161097,42140202,42140202,42140204,42140204,42149885,42132542,42136432,42090930,42091203,42091351,42132030,42138059],\"x1\":[42130906,42130881,42130865,42215442,42215440,42210208,42144549,42144577,42144554,42144577,42155001,42132998,42139927,42137742,42124959,42124959,42137050,42139726],\"y0\":[4,2,0,4,2,0,0,6,2,4,0,0,2,6,2,0,4,0],\"y1\":[4,2,0,4,2,0,0,6,2,4,0,0,2,6,2,0,4,0]}},\"id\":\"1c4143f3-2cde-4886-b127-6c2ad152760c\",\"type\":\"ColumnDataSource\"},{\"attributes\":{\"grid_line_color\":{\"value\":null},\"plot\":{\"id\":\"688dc22a-56af-467d-8b5d-f0e882d43fc4\",\"subtype\":\"Figure\",\"type\":\"Plot\"},\"ticker\":{\"id\":\"5bdf885d-b833-40c5-a14b-284ff4c833a1\",\"type\":\"BasicTicker\"}},\"id\":\"360dc98d-b745-459d-821a-64e9935ad10e\",\"type\":\"Grid\"},{\"attributes\":{\"formatter\":{\"id\":\"45dd1ce4-2c6a-49d5-ab25-a144354bdaf7\",\"type\":\"BasicTickFormatter\"},\"plot\":{\"id\":\"688dc22a-56af-467d-8b5d-f0e882d43fc4\",\"subtype\":\"Figure\",\"type\":\"Plot\"},\"ticker\":{\"id\":\"72ee4476-41f7-4b95-a1b7-feedab09676f\",\"type\":\"BasicTicker\"},\"visible\":false},\"id\":\"d0c34a78-1963-4942-a55c-b37e5978d375\",\"type\":\"LinearAxis\"},{\"attributes\":{},\"id\":\"72ee4476-41f7-4b95-a1b7-feedab09676f\",\"type\":\"BasicTicker\"},{\"attributes\":{\"dimension\":1,\"grid_line_color\":{\"value\":null},\"plot\":{\"id\":\"688dc22a-56af-467d-8b5d-f0e882d43fc4\",\"subtype\":\"Figure\",\"type\":\"Plot\"},\"ticker\":{\"id\":\"72ee4476-41f7-4b95-a1b7-feedab09676f\",\"type\":\"BasicTicker\"}},\"id\":\"7cfd9912-c1f2-4f09-b11e-2a8e6d55033f\",\"type\":\"Grid\"},{\"attributes\":{\"line_alpha\":{\"value\":0.1},\"line_color\":{\"value\":\"#1f77b4\"},\"x0\":{\"field\":\"x0\"},\"x1\":{\"field\":\"x1\"},\"y0\":{\"field\":\"y0\"},\"y1\":{\"field\":\"y1\"}},\"id\":\"6d3eed41-6e52-47d9-ac34-3a49a6e01305\",\"type\":\"Segment\"},{\"attributes\":{\"dimensions\":\"width\"},\"id\":\"1f34baec-f4f4-4ff5-a57b-bdb9b96954b8\",\"type\":\"PanTool\"},{\"attributes\":{\"below\":[{\"id\":\"74d6d0fb-15d9-4de2-8994-f3127b2648ab\",\"type\":\"LinearAxis\"}],\"left\":[{\"id\":\"d0c34a78-1963-4942-a55c-b37e5978d375\",\"type\":\"LinearAxis\"}],\"outline_line_alpha\":{\"value\":0},\"plot_height\":155,\"plot_width\":800,\"renderers\":[{\"id\":\"74d6d0fb-15d9-4de2-8994-f3127b2648ab\",\"type\":\"LinearAxis\"},{\"id\":\"360dc98d-b745-459d-821a-64e9935ad10e\",\"type\":\"Grid\"},{\"id\":\"d0c34a78-1963-4942-a55c-b37e5978d375\",\"type\":\"LinearAxis\"},{\"id\":\"7cfd9912-c1f2-4f09-b11e-2a8e6d55033f\",\"type\":\"Grid\"},{\"id\":\"7c538c53-b359-4474-804d-54a18e707038\",\"type\":\"BoxAnnotation\"},{\"id\":\"007eb183-8ca5-4985-bafd-c48ca22ee212\",\"type\":\"GlyphRenderer\"},{\"id\":\"dd1b1a0e-d786-45b4-8c86-7ccf716d047e\",\"type\":\"GlyphRenderer\"},{\"id\":\"6e4e291c-1eee-4a42-a74e-4007edf882bb\",\"type\":\"GlyphRenderer\"},{\"id\":\"cccb0c9c-81b1-481e-ab60-74406a353cfc\",\"type\":\"GlyphRenderer\"}],\"title\":{\"id\":\"45d612e7-3367-4a21-a54d-2dd433ecc3ad\",\"type\":\"Title\"},\"toolbar\":{\"id\":\"d47177c1-96db-47d4-bb2a-4cbc2797aa91\",\"type\":\"Toolbar\"},\"x_range\":{\"id\":\"857040cb-08ff-4eee-98d2-f3d1cbeab2e0\",\"type\":\"Range1d\"},\"x_scale\":{\"id\":\"1917f3ad-d513-4d16-b46f-42d7ec72a723\",\"type\":\"LinearScale\"},\"y_range\":{\"id\":\"5427fd5a-2cd8-4125-b837-2dd31ee25003\",\"type\":\"Range1d\"},\"y_scale\":{\"id\":\"899544cd-866d-4a65-8ff1-35c1a38e5b23\",\"type\":\"LinearScale\"}},\"id\":\"688dc22a-56af-467d-8b5d-f0e882d43fc4\",\"subtype\":\"Figure\",\"type\":\"Plot\"},{\"attributes\":{\"bottom_units\":\"screen\",\"fill_alpha\":{\"value\":0.5},\"fill_color\":{\"value\":\"lightgrey\"},\"left_units\":\"screen\",\"level\":\"overlay\",\"line_alpha\":{\"value\":1.0},\"line_color\":{\"value\":\"black\"},\"line_dash\":[4,4],\"line_width\":{\"value\":2},\"plot\":null,\"render_mode\":\"css\",\"right_units\":\"screen\",\"top_units\":\"screen\"},\"id\":\"7c538c53-b359-4474-804d-54a18e707038\",\"type\":\"BoxAnnotation\"},{\"attributes\":{\"dimensions\":\"width\"},\"id\":\"d2cfeab8-6c39-4d49-898c-2b3773c52fea\",\"type\":\"WheelZoomTool\"},{\"attributes\":{\"dimensions\":\"width\",\"overlay\":{\"id\":\"7c538c53-b359-4474-804d-54a18e707038\",\"type\":\"BoxAnnotation\"}},\"id\":\"e5513a59-90bc-4e8e-bd8e-3048292fcd08\",\"type\":\"BoxZoomTool\"},{\"attributes\":{},\"id\":\"0f02b3b5-967e-4db0-a060-ce7972c343a3\",\"type\":\"SaveTool\"},{\"attributes\":{\"callback\":null,\"column_names\":[\"x\",\"y\",\"angle\",\"width\",\"alpha\",\"index\"],\"data\":{\"alpha\":{\"__ndarray__\":\"AAAAAAAAAAAAAAAAAAAAAAAAAAAAAAAAAAAAAAAAAAAAAAAAAAAAAAAAAAAAAAAAAAAAAAAAAAAAAAAAAAAAAAAAAAAAAAAAAAAAAAAAAAAAAAAAAAAAAAAAAAAAAAAAAAAAAAAAAAAAAAAAAAAAAAAAAAAAAAAAAAAAAAAAAAAAAAAAAAAAAAAAAAAAAAAAAAAAAAAAAAAAAAAAAAAAAAAAAAAAAAAAAAAAAAAAAAAAAAAAAAAAAAAAAAAAAAAAAAAAAAAA8D8AAAAAAAAAAAAAAAAAAPA/AAAAAAAA8D8AAAAAAADwPwAAAAAAAPA/AAAAAAAA8D8AAAAAAADwPwAAAAAAAAAAAAAAAAAA8D8AAAAAAADwPwAAAAAAAAAAAAAAAAAAAAAAAAAAAAAAAAAAAAAAAAAAAAAAAAAAAAAAAAAAAAAAAAAAAAAAAAAAAAAAAAAAAAAAAAAAAAAAAAAAAAAAAAAAAAAAAAAAAAAAAAAAAAAAAAAAAAAAAAAAAAAAAAAAAAAAAAAAAAAAAAAAAAAAAAAAAAAAAAAAAAAAAAAAAAAAAAAAAAAAAAAAAAAAAAAAAAAAAAAAAAAAAAAAAAAAAAAAAAAAAAAAAAAAAAAAAAAAAAAAAAAAAAAAAAAAAAAAAAAAAAAAAAAAAAAAAAAAAAAAAAAAAAAAAAAAAAAAAAAAAAAAAAAAAAAAAAAAAAAAAAAAAAAAAAAAAAAAAAAAAAAAAAAAAAAAAAAAAAAAAAAAAAAAAAAAAAAAAAAAAAAAAAAAAAAAAAAAAAAAAAAAAAAAAAAAAAAAAAAAAAAAAADwPwAAAAAAAPA/AAAAAAAA8D8AAAAAAAAAAAAAAAAAAAAAAAAAAAAA8D8AAAAAAAAAAAAAAAAAAPA/AAAAAAAAAAAAAAAAAADwPwAAAAAAAPA/AAAAAAAAAAAAAAAAAAAAAAAAAAAAAAAAAAAAAAAA8D8AAAAAAAAAAAAAAAAAAAAAAAAAAAAAAAAAAAAAAAAAAAAAAAAAAAAAAAAAAAAAAAAAAAAAAAAAAAAAAAAAAPA/AAAAAAAAAAAAAAAAAAAAAAAAAAAAAAAAAAAAAAAAAAAAAAAAAAAAAA==\",\"dtype\":\"float64\",\"shape\":[104]},\"angle\":{\"__ndarray__\":\"AAAAAACAVsAAAAAAAIBWwAAAAAAAgFbAAAAAAACAVsAAAAAAAIBWwAAAAAAAgFbAAAAAAACAVsAAAAAAAIBWwAAAAAAAgFbAAAAAAACAVsAAAAAAAIBWwAAAAAAAgFbAAAAAAACAVsAAAAAAAIBWwAAAAAAAgFbAAAAAAACAVsAAAAAAAIBWwAAAAAAAgFbAAAAAAACAVsAAAAAAAIBWwAAAAAAAgFbAAAAAAACAVsAAAAAAAIBWwAAAAAAAgFbAAAAAAACAVsAAAAAAAIBWwAAAAAAAgFbAAAAAAACAVsAAAAAAAIBWwAAAAAAAgFbAAAAAAACAVsAAAAAAAIBWwAAAAAAAgFbAAAAAAACAVsAAAAAAAIBWwAAAAAAAgFbAAAAAAACAVsAAAAAAAIBWwAAAAAAAgFbAAAAAAACAVsAAAAAAAIBWwAAAAAAAgFbAAAAAAACAVsAAAAAAAIBWwAAAAAAAgFbAAAAAAACAVsAAAAAAAIBWwAAAAAAAgFbAAAAAAACAVsAAAAAAAIBWwAAAAAAAgFbAAAAAAACAVsAAAAAAAIBWwAAAAAAAgFbAAAAAAACAVsAAAAAAAIBWwAAAAAAAgFbAAAAAAACAVsAAAAAAAIBWwAAAAAAAgFbAAAAAAACAVsAAAAAAAIBWwAAAAAAAgFbAAAAAAACAVsAAAAAAAIBWwAAAAAAAgFbAAAAAAACAVsAAAAAAAIBWwAAAAAAAgFbAAAAAAACAVsAAAAAAAIBWwAAAAAAAgFbAAAAAAACAVsAAAAAAAIBWwAAAAAAAgFbAAAAAAACAVsAAAAAAAIBWwAAAAAAAgFbAAAAAAACAVsAAAAAAAIBWQAAAAAAAgFZAAAAAAACAVkAAAAAAAIBWQAAAAAAAgFZAAAAAAACAVkAAAAAAAIBWQAAAAAAAgFZAAAAAAACAVkAAAAAAAIBWQAAAAAAAgFZAAAAAAACAVkAAAAAAAIBWQAAAAAAAgFZAAAAAAACAVkAAAAAAAIBWQAAAAAAAgFZAAAAAAACAVkAAAAAAAIBWQAAAAAAAgFZAAAAAAACAVkAAAAAAAIBWQAAAAAAAgFZAAAAAAACAVkAAAAAAAIBWQA==\",\"dtype\":\"float64\",\"shape\":[104]},\"index\":[0,1,2,3,4,5,6,7,8,9,10,11,12,13,14,15,16,17,18,19,20,21,22,23,24,25,26,27,28,29,30,31,32,33,34,35,36,37,38,39,40,41,42,43,44,45,46,47,48,49,50,51,52,53,54,55,56,57,58,59,60,61,62,63,64,65,66,67,68,69,70,71,72,73,74,75,76,77,78,79,80,81,82,83,84,85,86,87,88,89,90,91,92,93,94,95,96,97,98,99,100,101,102,103],\"width\":{\"__ndarray__\":\"AAAAAADAWEAAAAAAAHB8QAAAAAAAAGpAAAAAAADgZ0AAAAAAACB7QAAAAAAAQFZAAAAAAABIgUAAAAAAAPiFQAAAAAAAwFhAAAAAAABwfEAAAAAAAMBdQAAAAAAAgEBAAAAAAADgZ0AAAAAAACB7QAAAAAAAQFZAAAAAAABIgUAAAAAAAPiFQAAAAAAAwFhAAAAAAABwfEAAAAAAAABqQAAAAAAA4GdAAAAAAAAge0AAAAAAANCIQAAAAAAA+IVAAAAAAABTvEAAAAAAAFyRQAAAAACA+MJAAAAAAEA/3UAAAAAAgJTAQAAAAACA+MJAAAAAAEA/3UAAAAAAAFO8QAAAAAAA4JFAAAAAAID4wkAAAAAAQD/dQAAAAAAAwFhAAAAAAACAfEAAAAAAAGBoQAAAAAAAIGhAAAAAAAAwe0AAAAAAAEBWQAAAAAAAkIBAAAAAAAD4hUAAAAAAAMBYQAAAAAAAgHxAAAAAAABAYUAAAAAAACBoQAAAAAAAMHtAAAAAAABAVkAAAAAAAJCAQAAAAAAA+IVAAAAAAADAWEAAAAAAAIB8QAAAAAAAYGhAAAAAAAAgaEAAAAAAADB7QAAAAAAAGIhAAAAAAAD4hUAAAAAAAAAAQAAAAAAAwFhAAAAAAACAfEAAAAAAAAAQQAAAAAAAQGFAAAAAAAAgaEAAAAAAADB7QAAAAAAAQFZAAAAAAACQgEAAAAAAAPiFQAAAAAAAAABAAAAAAADAWEAAAAAAADB8QAAAAAAAoGlAAAAAAABgZ0AAAAAAAAB8QAAAAAAAQFZAAAAAAACQgEAAAAAAAGSZQAAAAAAArJRAAAAAAACMl0AAAAAAAABdQAAAAAAAOIBAAAAAAMAR30AAAAAAAJBzQAAAAAAAFMVAAAAAAACQc0AAAAAAgDjUQAAAAACAUcRAAAAAAAAckkAAAAAAALB1QAAAAAAAkHNAAAAAAEB23kAAAAAAAPCDQAAAAAAA4GVAAAAAAABgbkAAAAAAAGB4QAAAAAAAkHNAAAAAAACAZkAAAAAAAGB7QAAAAAAA9J9AAAAAAABwe0AAAAAAAIB8QAAAAAAAYHhAAAAAAACQc0AAAAAAADSQQA==\",\"dtype\":\"float64\",\"shape\":[104]},\"x\":{\"__ndarray__\":\"AAAAjG4WhEEAAACcexaEQQAAANCLFoRBAAAAdJYWhEEAAAC4pRaEQQAAAOSyFoRBAAAArMEWhEEAAACk2haEQQAAAIxuFoRBAAAAnHsWhEEAAABMixaEQQAAAIyOFoRBAAAAdJYWhEEAAAC4pRaEQQAAAOSyFoRBAAAArMEWhEEAAACk2haEQQAAAIxuFoRBAAAAnHsWhEEAAADQixaEQQAAAHSWFoRBAAAAuKUWhEEAAADovRaEQQAAAKTaFoRBAAAAvBcbhEEAAABcnhuEQQAAAARJHIRBAAAApLcehEEAAAAUKxuEQQAAAARJHIRBAAAApLcehEEAAAC8FxuEQQAAANidG4RBAAAABEkchEEAAACktx6EQQAAAMwaGIRBAAAA4CcYhEEAAADkNxiEQQAAAFxCGIRBAAAArFEYhEEAAADcXhiEQQAAAEhtGIRBAAAA5IUYhEEAAADMGhiEQQAAAOAnGIRBAAAAyDgYhEEAAABcQhiEQQAAAKxRGIRBAAAA3F4YhEEAAABIbRiEQQAAAOSFGIRBAAAAzBoYhEEAAADgJxiEQQAAAOQ3GIRBAAAAXEIYhEEAAACsURiEQQAAAIRpGIRBAAAA5IUYhEEAAABIkhiEQQAAAMwaGIRBAAAA4CcYhEEAAADINRiEQQAAAMg4GIRBAAAAXEIYhEEAAACsURiEQQAAANxeGIRBAAAASG0YhEEAAADkhRiEQQAAAEiSGIRBAAAADEcZhEEAAAAMVBmEQQAAAAxkGYRBAAAAlG4ZhEEAAAAAfhmEQQAAAHSLGYRBAAAA4JkZhEEAAADkwBmEQQAAAGy3F4RBAAAAVOcXhEEAAAA4FxKEQQAAAJwqEoRBAAAAXCcUhEEAAAB0LRaEQQAAAJjrFoRBAAAANKkXhEEAAAAIZhOEQQAAALxOFYRBAAAAXAYWhEEAAAB8IBaEQQAAAHQtFoRBAAAA5AkUhEEAAAA4/hWEQQAAAPQMFoRBAAAArBQWhEEAAAAoIRaEQQAAAHQtFoRBAAAAwBkXhEEAAACoKheEQQAAAARTF4RBAAAAFH0XhEEAAAAYjReEQQAAAOicF4RBAAAANKkXhEEAAACE5ReEQQ==\",\"dtype\":\"float64\",\"shape\":[104]},\"y\":{\"__ndarray__\":\"AAAAAAAAEEAAAAAAAAAQQAAAAAAAABBAAAAAAAAAEEAAAAAAAAAQQAAAAAAAABBAAAAAAAAAEEAAAAAAAAAQQAAAAAAAAABAAAAAAAAAAEAAAAAAAAAAQAAAAAAAAABAAAAAAAAAAEAAAAAAAAAAQAAAAAAAAABAAAAAAAAAAEAAAAAAAAAAQAAAAAAAAAAAAAAAAAAAAAAAAAAAAAAAAAAAAAAAAAAAAAAAAAAAAAAAAAAAAAAAAAAAAAAAAAAAAAAAAAAAEEAAAAAAAAAQQAAAAAAAABBAAAAAAAAAEEAAAAAAAAAAQAAAAAAAAABAAAAAAAAAAEAAAAAAAAAAAAAAAAAAAAAAAAAAAAAAAAAAAAAAAAAAAAAAAAAAAAAAAAAAAAAAAAAAAAAAAAAAAAAAAAAAAAAAAAAAAAAAAAAAAAAAAAAAAAAAAAAAAAAAAAAAAAAAAAAAAAAAAAAYQAAAAAAAABhAAAAAAAAAGEAAAAAAAAAYQAAAAAAAABhAAAAAAAAAGEAAAAAAAAAYQAAAAAAAABhAAAAAAAAAAEAAAAAAAAAAQAAAAAAAAABAAAAAAAAAAEAAAAAAAAAAQAAAAAAAAABAAAAAAAAAAEAAAAAAAAAAQAAAAAAAABBAAAAAAAAAEEAAAAAAAAAQQAAAAAAAABBAAAAAAAAAEEAAAAAAAAAQQAAAAAAAABBAAAAAAAAAEEAAAAAAAAAQQAAAAAAAABBAAAAAAAAAAAAAAAAAAAAAAAAAAAAAAAAAAAAAAAAAAAAAAAAAAAAAAAAAAAAAAAAAAAAAAAAAAAAAAAAAAAAAAAAAAAAAAABAAAAAAAAAAEAAAAAAAAAYQAAAAAAAABhAAAAAAAAAGEAAAAAAAAAYQAAAAAAAABhAAAAAAAAAGEAAAAAAAAAAQAAAAAAAAABAAAAAAAAAAEAAAAAAAAAAQAAAAAAAAABAAAAAAAAAAAAAAAAAAAAAAAAAAAAAAAAAAAAAAAAAAAAAAAAAAAAAAAAAAAAAAAAAAAAAAAAAEEAAAAAAAAAQQAAAAAAAABBAAAAAAAAAEEAAAAAAAAAQQAAAAAAAABBAAAAAAAAAEEAAAAAAAAAAAA==\",\"dtype\":\"float64\",\"shape\":[104]}}},\"id\":\"de718885-1287-418e-b79c-43ad9c49580b\",\"type\":\"ColumnDataSource\"},{\"attributes\":{},\"id\":\"7e833458-0c81-4318-bed7-e631a6307d35\",\"type\":\"ResetTool\"}],\"root_ids\":[\"688dc22a-56af-467d-8b5d-f0e882d43fc4\"]},\"title\":\"Bokeh Application\",\"version\":\"0.12.10\"}};\n",
       "    var render_items = [{\"docid\":\"fcee7ce6-642d-4338-9976-b51171116dee\",\"elementid\":\"caaf2fee-26dd-486f-985e-7cb1e4112c04\",\"modelid\":\"688dc22a-56af-467d-8b5d-f0e882d43fc4\"}];\n",
       "\n",
       "    root.Bokeh.embed.embed_items(docs_json, render_items);\n",
       "  }\n",
       "\n",
       "  if (root.Bokeh !== undefined) {\n",
       "    embed_document(root);\n",
       "  } else {\n",
       "    var attempts = 0;\n",
       "    var timer = setInterval(function(root) {\n",
       "      if (root.Bokeh !== undefined) {\n",
       "        embed_document(root);\n",
       "        clearInterval(timer);\n",
       "      }\n",
       "      attempts++;\n",
       "      if (attempts > 100) {\n",
       "        console.log(\"Bokeh: ERROR: Unable to embed document because BokehJS library is missing\")\n",
       "        clearInterval(timer);\n",
       "      }\n",
       "    }, 10, root)\n",
       "  }\n",
       "})(window);"
      ],
      "application/vnd.bokehjs_exec.v0+json": ""
     },
     "metadata": {
      "application/vnd.bokehjs_exec.v0+json": {
       "id": "688dc22a-56af-467d-8b5d-f0e882d43fc4"
      }
     },
     "output_type": "display_data"
    }
   ],
   "source": [
    "fig = make_plot(transcripts_from_pyensembl(genome, \"chr22\", 42124000, 42180000))\n",
    "show(fig.figure)"
   ]
  },
  {
   "cell_type": "markdown",
   "metadata": {},
   "source": [
    "# Do the same using GFFUtils as the data source"
   ]
  },
  {
   "cell_type": "code",
   "execution_count": 5,
   "metadata": {
    "collapsed": true
   },
   "outputs": [],
   "source": [
    "import gffutils\n",
    "import sqlite3\n",
    "\n",
    "from gene_viz.utils import transcripts_from_gffutils"
   ]
  },
  {
   "cell_type": "markdown",
   "metadata": {},
   "source": [
    "## Set up a GFFUtils database using the same annotation data"
   ]
  },
  {
   "cell_type": "code",
   "execution_count": 6,
   "metadata": {
    "collapsed": true
   },
   "outputs": [],
   "source": [
    "# note:\n",
    "# database creation using gffutils is slower than pyensembl on the same dataset\n",
    "try:\n",
    "    gffutils.create_db(\n",
    "        \"gencode.v27.basic.annotation.gtf.gz\",\n",
    "        \"gencode.v27.basic.sqlite\",\n",
    "        keep_order=True,\n",
    "        disable_infer_genes=True, disable_infer_transcripts=True)\n",
    "except (sqlite3.OperationalError, AttributeError):\n",
    "    pass"
   ]
  },
  {
   "cell_type": "code",
   "execution_count": 7,
   "metadata": {
    "collapsed": true
   },
   "outputs": [],
   "source": [
    "# connect\n",
    "db = gffutils.FeatureDB(\"gencode.v27.basic.sqlite\")"
   ]
  },
  {
   "cell_type": "markdown",
   "metadata": {},
   "source": [
    "## Perform a query and visualize the results"
   ]
  },
  {
   "cell_type": "code",
   "execution_count": 8,
   "metadata": {},
   "outputs": [
    {
     "data": {
      "text/html": [
       "\n",
       "<div class=\"bk-root\">\n",
       "    <div class=\"bk-plotdiv\" id=\"ebecd9e4-4a3d-4771-ae4c-6a955a43f840\"></div>\n",
       "</div>"
      ]
     },
     "metadata": {},
     "output_type": "display_data"
    },
    {
     "data": {
      "application/javascript": [
       "(function(root) {\n",
       "  function embed_document(root) {\n",
       "    var docs_json = {\"76170545-a91d-4437-9766-7dd0397ca353\":{\"roots\":{\"references\":[{\"attributes\":{},\"id\":\"bde87393-7f68-4d29-ad59-a59d208222bf\",\"type\":\"BasicTicker\"},{\"attributes\":{\"text\":{\"field\":\"label\"},\"text_align\":\"center\",\"text_alpha\":{\"value\":0.1},\"text_baseline\":\"middle\",\"text_color\":{\"value\":\"black\"},\"text_font\":\"monospace\",\"text_font_size\":{\"value\":\"6pt\"},\"x\":{\"field\":\"x\"},\"y\":{\"field\":\"y\"}},\"id\":\"8bd50069-30e7-4e35-98c2-9321ac80e3c4\",\"type\":\"Text\"},{\"attributes\":{\"dimension\":1,\"grid_line_color\":{\"value\":null},\"plot\":{\"id\":\"185c118f-ccae-4438-8a9b-bb95954f471f\",\"subtype\":\"Figure\",\"type\":\"Plot\"},\"ticker\":{\"id\":\"446bacc9-5413-4b1f-9e15-7c4ac86aecad\",\"type\":\"BasicTicker\"}},\"id\":\"b2c8dd89-b07b-43c6-825c-dd469f4ff863\",\"type\":\"Grid\"},{\"attributes\":{\"mantissas\":[1,2,3,4,5,6,7,8,9],\"max_interval\":2,\"min_interval\":2,\"num_minor_ticks\":2},\"id\":\"7b1ad30e-c180-4ffd-b942-b82437a905cb\",\"type\":\"AdaptiveTicker\"},{\"attributes\":{\"bottom_units\":\"screen\",\"fill_alpha\":{\"value\":0.5},\"fill_color\":{\"value\":\"lightgrey\"},\"left_units\":\"screen\",\"level\":\"overlay\",\"line_alpha\":{\"value\":1.0},\"line_color\":{\"value\":\"black\"},\"line_dash\":[4,4],\"line_width\":{\"value\":2},\"plot\":null,\"render_mode\":\"css\",\"right_units\":\"screen\",\"top_units\":\"screen\"},\"id\":\"c05aa279-6d85-48e4-bbcd-950cf9e2331f\",\"type\":\"BoxAnnotation\"},{\"attributes\":{\"mantissas\":[1,2,3,4,5,6,7,8,9],\"min_interval\":5},\"id\":\"a3c8dcc8-e8fb-411b-99cc-cefb15d2eb42\",\"type\":\"AdaptiveTicker\"},{\"attributes\":{\"tickers\":[{\"id\":\"f1955a8c-8de2-4dea-a0ba-e77f56243786\",\"type\":\"AdaptiveTicker\"},{\"id\":\"7b1ad30e-c180-4ffd-b942-b82437a905cb\",\"type\":\"AdaptiveTicker\"},{\"id\":\"083b1dfb-4cc2-43c9-9212-fe027bf26593\",\"type\":\"AdaptiveTicker\"},{\"id\":\"4d99758c-ca81-490b-820b-db16ecf9739f\",\"type\":\"AdaptiveTicker\"},{\"id\":\"a3c8dcc8-e8fb-411b-99cc-cefb15d2eb42\",\"type\":\"AdaptiveTicker\"}]},\"id\":\"b5fb8305-e607-4da2-9b71-f29a3a3c68d7\",\"type\":\"CompositeTicker\"},{\"attributes\":{\"args\":{\"source\":{\"id\":\"9cfd6873-5473-4e1d-8a27-5d736496abe4\",\"type\":\"ColumnDataSource\"}},\"code\":\"\\nvar start = cb_obj.start;\\nvar end = cb_obj.end;\\nvar width = end - start;\\nvar threshold = 0.010000 * width;     // threshold factor is set from python-side configuration\\nvar intron_alpha = 1.000000;          // alpha value is set from python-side configuration\\n\\n// iterate over each intron\\nvar data = source.data;\\nfor (i=0; i<data[\\\"x\\\"].length; i++)\\n{\\n    // if the screen-space width is large enough, make the intron visible\\n    if(data[\\\"width\\\"][i] >= threshold)\\n        data[\\\"alpha\\\"][i] = intron_alpha;\\n    else\\n    // otherwise, make the intron fully transparent\\n        data[\\\"alpha\\\"][i] = 0;\\n}\\n\\nsource.change.emit();\\n\"},\"id\":\"9d09467e-0711-4cbb-80b3-67c6da799640\",\"type\":\"CustomJS\"},{\"attributes\":{\"callback\":null,\"column_names\":[\"x\",\"y\",\"angle\",\"width\",\"alpha\",\"index\"],\"data\":{\"alpha\":{\"__ndarray__\":\"AAAAAAAAAAAAAAAAAAAAAAAAAAAAAPA/AAAAAAAAAAAAAAAAAADwPwAAAAAAAAAAAAAAAAAA8D8AAAAAAADwPwAAAAAAAAAAAAAAAAAAAAAAAAAAAAAAAAAAAAAAAPA/AAAAAAAAAAAAAAAAAAAAAAAAAAAAAAAAAAAAAAAAAAAAAAAAAAAAAAAAAAAAAAAAAAAAAAAAAAAAAAAAAADwPwAAAAAAAAAAAAAAAAAAAAAAAAAAAAAAAAAAAAAAAAAAAAAAAAAAAAAAAAAAAAAAAAAAAAAAAAAAAAAAAAAAAAAAAAAAAAAAAAAAAAAAAAAAAAAAAAAAAAAAAAAAAAAAAAAAAAAAAAAAAAAAAAAAAAAAAAAAAAAAAAAAAAAAAAAAAAAAAAAAAAAAAAAAAAAAAAAAAAAAAAAAAAAAAAAAAAAAAAAAAAAAAAAAAAAAAAAAAAAAAAAAAAAAAAAAAAAAAAAAAAAAAAAAAAAAAAAAAAAAAAAAAAAAAAAAAAAAAAAAAAAAAAAA8D8AAAAAAADwPwAAAAAAAAAAAAAAAAAAAAAAAAAAAAAAAAAAAAAAAAAAAAAAAAAAAAAAAAAAAAAAAAAAAAAAAAAAAAAAAAAAAAAAAAAAAAAAAAAAAAAAAAAAAAAAAAAAAAAAAAAAAAAAAAAAAAAAAAAAAAAAAAAAAAAAAAAAAAAAAAAAAAAAAAAAAAAAAAAAAAAAAAAAAAAAAAAAAAAAAAAAAAAAAAAAAAAAAAAAAAAAAAAAAAAAAAAAAAAAAAAAAAAAAAAAAAAAAAAAAAAAAAAAAAAAAAAAAAAAAAAAAAAAAAAAAAAAAAAAAAAAAAAAAAAAAAAAAAAAAAAAAAAAAAAAAAAAAAAAAAAAAAAAAAAAAAAAAAAAAAAAAAAAAAAAAAAAAAAAAAAAAAAAAAAAAAAAAAAAAAAAAAAAAAAAAAAAAAAAAAAAAAAAAAAAAAAAAAAAAAAAAAAAAAAAAAAAAPA/AAAAAAAA8D8AAAAAAADwPwAAAAAAAPA/AAAAAAAA8D8AAAAAAAAAAAAAAAAAAPA/AAAAAAAA8D8AAAAAAADwPwAAAAAAAAAAAAAAAAAA8D8AAAAAAADwPw==\",\"dtype\":\"float64\",\"shape\":[104]},\"angle\":{\"__ndarray__\":\"AAAAAACAVkAAAAAAAIBWQAAAAAAAgFZAAAAAAACAVkAAAAAAAIBWQAAAAAAAgFZAAAAAAACAVkAAAAAAAIBWQAAAAAAAgFZAAAAAAACAVkAAAAAAAIBWQAAAAAAAgFZAAAAAAACAVkAAAAAAAIBWQAAAAAAAgFZAAAAAAACAVkAAAAAAAIBWQAAAAAAAgFZAAAAAAACAVkAAAAAAAIBWQAAAAAAAgFZAAAAAAACAVkAAAAAAAIBWQAAAAAAAgFZAAAAAAACAVsAAAAAAAIBWwAAAAAAAgFbAAAAAAACAVsAAAAAAAIBWwAAAAAAAgFbAAAAAAACAVsAAAAAAAIBWwAAAAAAAgFbAAAAAAACAVsAAAAAAAIBWwAAAAAAAgFbAAAAAAACAVsAAAAAAAIBWwAAAAAAAgFbAAAAAAACAVsAAAAAAAIBWwAAAAAAAgFbAAAAAAACAVsAAAAAAAIBWwAAAAAAAgFbAAAAAAACAVsAAAAAAAIBWwAAAAAAAgFbAAAAAAACAVsAAAAAAAIBWwAAAAAAAgFZAAAAAAACAVsAAAAAAAIBWwAAAAAAAgFbAAAAAAACAVsAAAAAAAIBWwAAAAAAAgFbAAAAAAACAVsAAAAAAAIBWwAAAAAAAgFbAAAAAAACAVsAAAAAAAIBWwAAAAAAAgFbAAAAAAACAVsAAAAAAAIBWwAAAAAAAgFbAAAAAAACAVsAAAAAAAIBWwAAAAAAAgFbAAAAAAACAVsAAAAAAAIBWwAAAAAAAgFbAAAAAAACAVsAAAAAAAIBWwAAAAAAAgFbAAAAAAACAVsAAAAAAAIBWwAAAAAAAgFbAAAAAAACAVsAAAAAAAIBWwAAAAAAAgFbAAAAAAACAVsAAAAAAAIBWwAAAAAAAgFbAAAAAAACAVsAAAAAAAIBWwAAAAAAAgFbAAAAAAACAVsAAAAAAAIBWwAAAAAAAgFbAAAAAAACAVsAAAAAAAIBWwAAAAAAAgFbAAAAAAACAVsAAAAAAAIBWwAAAAAAAgFbAAAAAAACAVsAAAAAAAIBWwAAAAAAAgFbAAAAAAACAVsAAAAAAAIBWwAAAAAAAgFbAAAAAAACAVsAAAAAAAIBWwA==\",\"dtype\":\"float64\",\"shape\":[104]},\"index\":[0,1,2,3,4,5,6,7,8,9,10,11,12,13,14,15,16,17,18,19,20,21,22,23,24,25,26,27,28,29,30,31,32,33,34,35,36,37,38,39,40,41,42,43,44,45,46,47,48,49,50,51,52,53,54,55,56,57,58,59,60,61,62,63,64,65,66,67,68,69,70,71,72,73,74,75,76,77,78,79,80,81,82,83,84,85,86,87,88,89,90,91,92,93,94,95,96,97,98,99,100,101,102,103],\"width\":{\"__ndarray__\":\"AAAAAAAAXUAAAAAAADiAQAAAAADAEd9AAAAAAACQc0AAAAAAABTFQAAAAAAAkHNAAAAAAIA41EAAAAAAgFHEQAAAAAAAHJJAAAAAAACwdUAAAAAAAJBzQAAAAABAdt5AAAAAAADwg0AAAAAAAOBlQAAAAAAAYG5AAAAAAABgeEAAAAAAAJBzQAAAAAAAgGZAAAAAAABge0AAAAAAAPSfQAAAAAAAcHtAAAAAAACAfEAAAAAAAGB4QAAAAAAAkHNAAAAAAADAWEAAAAAAAHB8QAAAAAAAAGpAAAAAAADgZ0AAAAAAACB7QAAAAAAA0IhAAAAAAAD4hUAAAAAAAMBYQAAAAAAAcHxAAAAAAAAAakAAAAAAAOBnQAAAAAAAIHtAAAAAAABAVkAAAAAAAEiBQAAAAAAA+IVAAAAAAADAWEAAAAAAAHB8QAAAAAAAwF1AAAAAAACAQEAAAAAAAOBnQAAAAAAAIHtAAAAAAABAVkAAAAAAAEiBQAAAAAAA+IVAAAAAAACslEAAAAAAAIyXQAAAAAAANJBAAAAAAADAWEAAAAAAAIB8QAAAAAAAYGhAAAAAAAAgaEAAAAAAADB7QAAAAAAAQFZAAAAAAACQgEAAAAAAAPiFQAAAAAAAwFhAAAAAAACAfEAAAAAAAEBhQAAAAAAAIGhAAAAAAAAwe0AAAAAAAEBWQAAAAAAAkIBAAAAAAAD4hUAAAAAAAMBYQAAAAAAAgHxAAAAAAAAAEEAAAAAAAEBhQAAAAAAAIGhAAAAAAAAwe0AAAAAAAEBWQAAAAAAAkIBAAAAAAAD4hUAAAAAAAAAAQAAAAAAAwFhAAAAAAACAfEAAAAAAAGBoQAAAAAAAIGhAAAAAAAAwe0AAAAAAABiIQAAAAAAA+IVAAAAAAAAAAEAAAAAAAMBYQAAAAAAAMHxAAAAAAACgaUAAAAAAAGBnQAAAAAAAAHxAAAAAAABAVkAAAAAAAJCAQAAAAAAAZJlAAAAAAICUwEAAAAAAgPjCQAAAAABAP91AAAAAAABTvEAAAAAAAFyRQAAAAACA+MJAAAAAAEA/3UAAAAAAAFO8QAAAAAAA4JFAAAAAAID4wkAAAAAAQD/dQA==\",\"dtype\":\"float64\",\"shape\":[104]},\"x\":{\"__ndarray__\":\"AAAAOBcShEEAAACcKhKEQQAAAFwnFIRBAAAAdC0WhEEAAACY6xaEQQAAADSpF4RBAAAACGYThEEAAAC8ThWEQQAAAFwGFoRBAAAAfCAWhEEAAAB0LRaEQQAAAOQJFIRBAAAAOP4VhEEAAAD0DBaEQQAAAKwUFoRBAAAAKCEWhEEAAAB0LRaEQQAAAMAZF4RBAAAAqCoXhEEAAAAEUxeEQQAAABR9F4RBAAAAGI0XhEEAAADonBeEQQAAADSpF4RBAAAAjG4WhEEAAACcexaEQQAAANCLFoRBAAAAdJYWhEEAAAC4pRaEQQAAAOi9FoRBAAAApNoWhEEAAACMbhaEQQAAAJx7FoRBAAAA0IsWhEEAAAB0lhaEQQAAALilFoRBAAAA5LIWhEEAAACswRaEQQAAAKTaFoRBAAAAjG4WhEEAAACcexaEQQAAAEyLFoRBAAAAjI4WhEEAAAB0lhaEQQAAALilFoRBAAAA5LIWhEEAAACswRaEQQAAAKTaFoRBAAAAbLcXhEEAAABU5xeEQQAAAITlF4RBAAAAzBoYhEEAAADgJxiEQQAAAOQ3GIRBAAAAXEIYhEEAAACsURiEQQAAANxeGIRBAAAASG0YhEEAAADkhRiEQQAAAMwaGIRBAAAA4CcYhEEAAADIOBiEQQAAAFxCGIRBAAAArFEYhEEAAADcXhiEQQAAAEhtGIRBAAAA5IUYhEEAAADMGhiEQQAAAOAnGIRBAAAAyDUYhEEAAADIOBiEQQAAAFxCGIRBAAAArFEYhEEAAADcXhiEQQAAAEhtGIRBAAAA5IUYhEEAAABIkhiEQQAAAMwaGIRBAAAA4CcYhEEAAADkNxiEQQAAAFxCGIRBAAAArFEYhEEAAACEaRiEQQAAAOSFGIRBAAAASJIYhEEAAAAMRxmEQQAAAAxUGYRBAAAADGQZhEEAAACUbhmEQQAAAAB+GYRBAAAAdIsZhEEAAADgmRmEQQAAAOTAGYRBAAAAFCsbhEEAAAAESRyEQQAAAKS3HoRBAAAAvBcbhEEAAABcnhuEQQAAAARJHIRBAAAApLcehEEAAAC8FxuEQQAAANidG4RBAAAABEkchEEAAACktx6EQQ==\",\"dtype\":\"float64\",\"shape\":[104]},\"y\":{\"__ndarray__\":\"AAAAAAAAGEAAAAAAAAAYQAAAAAAAABhAAAAAAAAAGEAAAAAAAAAYQAAAAAAAABhAAAAAAAAAAEAAAAAAAAAAQAAAAAAAAABAAAAAAAAAAEAAAAAAAAAAQAAAAAAAAAAAAAAAAAAAAAAAAAAAAAAAAAAAAAAAAAAAAAAAAAAAAAAAAAAAAAAAAAAAAAAAABBAAAAAAAAAEEAAAAAAAAAQQAAAAAAAABBAAAAAAAAAEEAAAAAAAAAQQAAAAAAAABBAAAAAAAAAAAAAAAAAAAAAAAAAAAAAAAAAAAAAAAAAAAAAAAAAAAAAAAAAAAAAAAAAAAAAAAAAAAAAAAAAAAAQQAAAAAAAABBAAAAAAAAAEEAAAAAAAAAQQAAAAAAAABBAAAAAAAAAEEAAAAAAAAAQQAAAAAAAABBAAAAAAAAAAEAAAAAAAAAAQAAAAAAAAABAAAAAAAAAAEAAAAAAAAAAQAAAAAAAAABAAAAAAAAAAEAAAAAAAAAAQAAAAAAAAABAAAAAAAAAAEAAAAAAAAAAQAAAAAAAAAAAAAAAAAAAAAAAAAAAAAAAAAAAAAAAAAAAAAAAAAAAAAAAAAAAAAAAAAAAAAAAAAAAAAAAAAAAAAAAAAAAAAAAAAAAAAAAABhAAAAAAAAAGEAAAAAAAAAYQAAAAAAAABhAAAAAAAAAGEAAAAAAAAAYQAAAAAAAABhAAAAAAAAAGEAAAAAAAAAQQAAAAAAAABBAAAAAAAAAEEAAAAAAAAAQQAAAAAAAABBAAAAAAAAAEEAAAAAAAAAQQAAAAAAAABBAAAAAAAAAEEAAAAAAAAAQQAAAAAAAAABAAAAAAAAAAEAAAAAAAAAAQAAAAAAAAABAAAAAAAAAAEAAAAAAAAAAQAAAAAAAAABAAAAAAAAAAEAAAAAAAAAAAAAAAAAAAAAAAAAAAAAAAAAAAAAAAAAAAAAAAAAAAAAAAAAAAAAAAAAAAAAAAAAAAAAAAAAAAAAAAAAAAAAAAEAAAAAAAAAAQAAAAAAAAABAAAAAAAAAEEAAAAAAAAAQQAAAAAAAABBAAAAAAAAAEEAAAAAAAAAAAAAAAAAAAAAAAAAAAAAAAAAAAAAAAAAAAA==\",\"dtype\":\"float64\",\"shape\":[104]}}},\"id\":\"9cfd6873-5473-4e1d-8a27-5d736496abe4\",\"type\":\"ColumnDataSource\"},{\"attributes\":{\"source\":{\"id\":\"37d9fa39-0f1d-4c44-9f69-a8bb88d48b18\",\"type\":\"ColumnDataSource\"}},\"id\":\"2cb035e4-9918-41e1-ac8f-c07f2f942719\",\"type\":\"CDSView\"},{\"attributes\":{\"callback\":null,\"column_names\":[\"x\",\"y\",\"index\"],\"data\":{\"index\":[0,1,2,3,4,5,6,7,8,9,10,11,12,13,14,15,16,17,18,19,20,21,22,23,24,25,26,27,28,29,30,31,32,33,34,35,36,37,38,39,40,41,42,43,44,45,46,47,48,49,50,51,52,53,54,55,56,57,58,59,60,61,62,63,64,65,66,67,68,69,70,71,72,73,74,75,76,77,78,79,80,81,82,83,84,85,86,87,88,89,90,91,92,93,94,95,96,97,98,99,100,101,102,103,104,105,106,107,108,109,110,111,112,113,114,115,116,117,118,119,120,121],\"x\":[[42090931,42091181,42091181,42090931],[42091297,42091600,42091600,42091297],[42092119,42092232,42092232,42092119],[42124047,42124562,42124562,42124047],[42124875,42125407,42125407,42124875],[42136199,42136714,42136714,42136199],[42137027,42137742,42137742,42137027],[42091204,42091600,42091600,42091204],[42112306,42112390,42112390,42112306],[42122793,42122888,42122888,42122793],[42124047,42124130,42124130,42124047],[42124477,42124562,42124562,42124477],[42124875,42124959,42124959,42124875],[42091352,42091600,42091600,42091352],[42122793,42122888,42122888,42122793],[42123526,42123591,42123591,42123526],[42123766,42123804,42123804,42123766],[42124047,42124130,42124130,42124047],[42124520,42124562,42124562,42124520],[42124875,42124959,42124959,42124875],[42132031,42132190,42132190,42132031],[42132370,42132602,42132602,42132370],[42133040,42133090,42133090,42133040],[42135135,42135239,42135239,42135135],[42135678,42135743,42135743,42135678],[42136199,42136282,42136282,42136199],[42136672,42136714,42136714,42136672],[42137027,42137050,42137050,42137027],[42130612,42130791,42130791,42130865,42130865,42130791,42130791,42130612],[42129738,42129909,42129909,42129738],[42128784,42128944,42128944,42128784],[42128174,42128350,42128350,42128174],[42127842,42127983,42127983,42127842],[42127447,42127634,42127634,42127447],[42126851,42126992,42126992,42126851],[42126556,42126577,42126577,42126752,42126752,42126577,42126577,42126556],[42130612,42130791,42130791,42130906,42130906,42130791,42130791,42130612],[42129738,42129909,42129909,42129738],[42129033,42129185,42129185,42129033],[42128784,42128944,42128944,42128784],[42128174,42128350,42128350,42128174],[42127842,42127983,42127983,42127842],[42127447,42127634,42127634,42127447],[42126851,42126992,42126992,42126851],[42126499,42126577,42126577,42126752,42126752,42126577,42126577,42126499],[42130612,42130725,42130725,42130881,42130881,42130725,42130725,42130612],[42129738,42129909,42129909,42129738],[42129033,42129185,42129185,42129033],[42128784,42128944,42128944,42128784],[42128174,42128350,42128350,42128174],[42127842,42127983,42127983,42127842],[42127781,42127809,42127809,42127781],[42127447,42127662,42127662,42127447],[42126851,42126992,42126992,42126851],[42126501,42126577,42126577,42126752,42126752,42126577,42126577,42126501],[42132543,42132998,42132998,42132543],[42139612,42139927,42139927,42139612],[42137987,42138105,42138105,42137987],[42136433,42136664,42136664,42136433],[42138060,42138282,42138282,42138060],[42139319,42139726,42139726,42139319],[42144284,42144464,42144464,42144549,42144549,42144464,42144464,42144284],[42143410,42143581,42143581,42143410],[42142728,42142880,42142880,42142728],[42142479,42142639,42142639,42142479],[42141868,42142044,42142044,42141868],[42141534,42141675,42141675,42141534],[42141152,42141339,42141339,42141152],[42140555,42140696,42140696,42140555],[42140203,42140280,42140280,42140456,42140456,42140280,42140280,42140203],[42144284,42144464,42144464,42144577,42144577,42144464,42144464,42144284],[42143410,42143581,42143581,42143410],[42142728,42142880,42142880,42142728],[42142479,42142639,42142639,42142479],[42141868,42142044,42142044,42141868],[42141534,42141675,42141675,42141534],[42141152,42141396,42141396,42141152],[42140555,42140696,42140696,42140555],[42140203,42140280,42140280,42140456,42140456,42140280,42140280,42140203],[42144330,42144464,42144464,42144577,42144577,42144464,42144464,42144330],[42144284,42144328,42144328,42144284],[42143410,42143581,42143581,42143410],[42142728,42142880,42142880,42142728],[42142479,42142639,42142639,42142479],[42141868,42142044,42142044,42141868],[42141534,42141675,42141675,42141534],[42141371,42141396,42141396,42141371],[42141152,42141367,42141367,42141152],[42140555,42140696,42140696,42140555],[42140205,42140281,42140281,42140456,42140456,42140281,42140281,42140205],[42144330,42144464,42144464,42144554,42144554,42144464,42144464,42144330],[42144284,42144328,42144328,42144284],[42143410,42143581,42143581,42143410],[42142479,42142639,42142639,42142479],[42141868,42142044,42142044,42141868],[42141534,42141675,42141675,42141534],[42141152,42141339,42141339,42141152],[42140555,42140696,42140696,42140555],[42140205,42140281,42140281,42140456,42140456,42140281,42140281,42140205],[42154825,42155001,42155001,42154825],[42153029,42153200,42153200,42153029],[42152347,42152499,42152499,42152347],[42152096,42152258,42152258,42152096],[42151472,42151648,42151648,42151472],[42151144,42151285,42151285,42151144],[42150755,42150939,42150939,42150755],[42150163,42150304,42150304,42150163],[42149886,42150064,42150064,42149886],[42209651,42215305,42215305,42215440,42215440,42215305,42215305,42209651],[42179609,42179702,42179702,42179609],[42169847,42169896,42169896,42169847],[42161056,42161344,42161344,42161358,42161358,42161344,42161344,42161056],[42209651,42215305,42215305,42215442,42215442,42215305,42215305,42209651],[42179609,42179702,42179702,42179609],[42169847,42169896,42169896,42169847],[42168609,42168656,42168656,42168736,42168736,42168656,42168656,42168609],[42160013,42161358,42161358,42160013],[42209651,42210208,42210208,42209651],[42179609,42179702,42179702,42179609],[42169847,42169896,42169896,42169847],[42168609,42168656,42168656,42168703,42168703,42168656,42168656,42168609],[42161098,42161358,42161358,42161098]],\"y\":[[6.175,6.175,5.825,5.825],[6.175,6.175,5.825,5.825],[6.175,6.175,5.825,5.825],[6.175,6.175,5.825,5.825],[6.175,6.175,5.825,5.825],[6.175,6.175,5.825,5.825],[6.175,6.175,5.825,5.825],[2.175,2.175,1.825,1.825],[2.175,2.175,1.825,1.825],[2.175,2.175,1.825,1.825],[2.175,2.175,1.825,1.825],[2.175,2.175,1.825,1.825],[2.175,2.175,1.825,1.825],[0.175,0.175,-0.175,-0.175],[0.175,0.175,-0.175,-0.175],[0.175,0.175,-0.175,-0.175],[0.175,0.175,-0.175,-0.175],[0.175,0.175,-0.175,-0.175],[0.175,0.175,-0.175,-0.175],[0.175,0.175,-0.175,-0.175],[4.175,4.175,3.825,3.825],[4.175,4.175,3.825,3.825],[4.175,4.175,3.825,3.825],[4.175,4.175,3.825,3.825],[4.175,4.175,3.825,3.825],[4.175,4.175,3.825,3.825],[4.175,4.175,3.825,3.825],[4.175,4.175,3.825,3.825],[0.35,0.35,0.175,0.175,-0.175,-0.175,-0.35,-0.35],[0.35,0.35,-0.35,-0.35],[0.35,0.35,-0.35,-0.35],[0.35,0.35,-0.35,-0.35],[0.35,0.35,-0.35,-0.35],[0.35,0.35,-0.35,-0.35],[0.35,0.35,-0.35,-0.35],[0.175,0.175,0.35,0.35,-0.35,-0.35,-0.175,-0.175],[4.35,4.35,4.175,4.175,3.825,3.825,3.65,3.65],[4.35,4.35,3.65,3.65],[4.35,4.35,3.65,3.65],[4.35,4.35,3.65,3.65],[4.35,4.35,3.65,3.65],[4.35,4.35,3.65,3.65],[4.35,4.35,3.65,3.65],[4.35,4.35,3.65,3.65],[4.175,4.175,4.35,4.35,3.65,3.65,3.825,3.825],[2.35,2.35,2.175,2.175,1.825,1.825,1.65,1.65],[2.35,2.35,1.65,1.65],[2.35,2.35,1.65,1.65],[2.35,2.35,1.65,1.65],[2.35,2.35,1.65,1.65],[2.35,2.35,1.65,1.65],[2.35,2.35,1.65,1.65],[2.35,2.35,1.65,1.65],[2.35,2.35,1.65,1.65],[2.175,2.175,2.35,2.35,1.65,1.65,1.825,1.825],[0.175,0.175,-0.175,-0.175],[2.175,2.175,1.825,1.825],[2.175,2.175,1.825,1.825],[2.175,2.175,1.825,1.825],[0.175,0.175,-0.175,-0.175],[0.175,0.175,-0.175,-0.175],[0.35,0.35,0.175,0.175,-0.175,-0.175,-0.35,-0.35],[0.35,0.35,-0.35,-0.35],[0.35,0.35,-0.35,-0.35],[0.35,0.35,-0.35,-0.35],[0.35,0.35,-0.35,-0.35],[0.35,0.35,-0.35,-0.35],[0.35,0.35,-0.35,-0.35],[0.35,0.35,-0.35,-0.35],[0.175,0.175,0.35,0.35,-0.35,-0.35,-0.175,-0.175],[6.35,6.35,6.175,6.175,5.825,5.825,5.65,5.65],[6.35,6.35,5.65,5.65],[6.35,6.35,5.65,5.65],[6.35,6.35,5.65,5.65],[6.35,6.35,5.65,5.65],[6.35,6.35,5.65,5.65],[6.35,6.35,5.65,5.65],[6.35,6.35,5.65,5.65],[6.175,6.175,6.35,6.35,5.65,5.65,5.825,5.825],[4.35,4.35,4.175,4.175,3.825,3.825,3.65,3.65],[4.35,4.35,3.65,3.65],[4.35,4.35,3.65,3.65],[4.35,4.35,3.65,3.65],[4.35,4.35,3.65,3.65],[4.35,4.35,3.65,3.65],[4.35,4.35,3.65,3.65],[4.35,4.35,3.65,3.65],[4.35,4.35,3.65,3.65],[4.35,4.35,3.65,3.65],[4.175,4.175,4.35,4.35,3.65,3.65,3.825,3.825],[2.35,2.35,2.175,2.175,1.825,1.825,1.65,1.65],[2.35,2.35,1.65,1.65],[2.35,2.35,1.65,1.65],[2.35,2.35,1.65,1.65],[2.35,2.35,1.65,1.65],[2.35,2.35,1.65,1.65],[2.35,2.35,1.65,1.65],[2.35,2.35,1.65,1.65],[2.175,2.175,2.35,2.35,1.65,1.65,1.825,1.825],[0.175,0.175,-0.175,-0.175],[0.175,0.175,-0.175,-0.175],[0.175,0.175,-0.175,-0.175],[0.175,0.175,-0.175,-0.175],[0.175,0.175,-0.175,-0.175],[0.175,0.175,-0.175,-0.175],[0.175,0.175,-0.175,-0.175],[0.175,0.175,-0.175,-0.175],[0.175,0.175,-0.175,-0.175],[2.35,2.35,2.175,2.175,1.825,1.825,1.65,1.65],[2.35,2.35,1.65,1.65],[2.35,2.35,1.65,1.65],[2.175,2.175,2.35,2.35,1.65,1.65,1.825,1.825],[4.35,4.35,4.175,4.175,3.825,3.825,3.65,3.65],[4.35,4.35,3.65,3.65],[4.35,4.35,3.65,3.65],[4.175,4.175,4.35,4.35,3.65,3.65,3.825,3.825],[4.175,4.175,3.825,3.825],[0.35,0.35,-0.35,-0.35],[0.35,0.35,-0.35,-0.35],[0.35,0.35,-0.35,-0.35],[0.175,0.175,0.35,0.35,-0.35,-0.35,-0.175,-0.175],[0.175,0.175,-0.175,-0.175]]}},\"id\":\"b93459df-f50c-44de-ab6f-2fd28257192f\",\"type\":\"ColumnDataSource\"},{\"attributes\":{\"mantissas\":[1,2,3,4,5,6,7,8,9],\"max_interval\":1,\"min_interval\":1,\"num_minor_ticks\":1},\"id\":\"f1955a8c-8de2-4dea-a0ba-e77f56243786\",\"type\":\"AdaptiveTicker\"},{\"attributes\":{\"active_drag\":\"auto\",\"active_inspect\":\"auto\",\"active_scroll\":{\"id\":\"d3b401ef-f06a-49f7-90cb-25672f138e06\",\"type\":\"WheelZoomTool\"},\"active_tap\":\"auto\",\"logo\":null,\"tools\":[{\"id\":\"9b8f696b-ea66-42ac-a275-ceb1de391686\",\"type\":\"PanTool\"},{\"id\":\"d3b401ef-f06a-49f7-90cb-25672f138e06\",\"type\":\"WheelZoomTool\"},{\"id\":\"46c7d9c6-7be2-46c6-92bc-278dd3fc1456\",\"type\":\"BoxZoomTool\"},{\"id\":\"2ef248a1-caf3-4281-ae97-6fadb3d2b2b4\",\"type\":\"SaveTool\"},{\"id\":\"3b00fe55-d4d0-4139-9635-e5bac7de5a0d\",\"type\":\"ResetTool\"}]},\"id\":\"9f1bd28a-c86c-4ded-ba24-e8da32e524d7\",\"type\":\"Toolbar\"},{\"attributes\":{\"fill_alpha\":{\"value\":0.1},\"fill_color\":{\"value\":\"#1f77b4\"},\"line_alpha\":{\"value\":0.1},\"line_color\":{\"value\":\"#1f77b4\"},\"xs\":{\"field\":\"x\"},\"ys\":{\"field\":\"y\"}},\"id\":\"8158f39d-ddba-4fc4-9501-6c4ec4c77eb6\",\"type\":\"Patches\"},{\"attributes\":{\"data_source\":{\"id\":\"37d9fa39-0f1d-4c44-9f69-a8bb88d48b18\",\"type\":\"ColumnDataSource\"},\"glyph\":{\"id\":\"ad254a07-7631-4866-bc14-300a9046a05d\",\"type\":\"Text\"},\"hover_glyph\":null,\"muted_glyph\":null,\"name\":\"transcript_labels\",\"nonselection_glyph\":{\"id\":\"8bd50069-30e7-4e35-98c2-9321ac80e3c4\",\"type\":\"Text\"},\"selection_glyph\":null,\"view\":{\"id\":\"2cb035e4-9918-41e1-ac8f-c07f2f942719\",\"type\":\"CDSView\"}},\"id\":\"ce8b2ece-9057-45d7-a4f0-8f29c47a0974\",\"type\":\"GlyphRenderer\"},{\"attributes\":{\"callback\":null,\"end\":-1.5,\"start\":7},\"id\":\"9d4d9484-afe9-4faf-b114-f5b4655c1508\",\"type\":\"Range1d\"},{\"attributes\":{\"callback\":null,\"column_names\":[\"x0\",\"y0\",\"x1\",\"y1\",\"index\"],\"data\":{\"index\":[0,1,2,3,4,5,6,7,8,9,10,11,12,13,14,15,16,17],\"x0\":[42090930,42091203,42091351,42132030,42126555,42126498,42126500,42132542,42136432,42138059,42140202,42140202,42140204,42140204,42149885,42161055,42160012,42161097],\"x1\":[42137742,42124959,42124959,42137050,42130865,42130906,42130881,42132998,42139927,42139726,42144549,42144577,42144577,42144554,42155001,42215440,42215442,42210208],\"y0\":[6,2,0,4,0,4,2,0,2,0,0,6,4,2,0,2,4,0],\"y1\":[6,2,0,4,0,4,2,0,2,0,0,6,4,2,0,2,4,0]}},\"id\":\"a0a72cde-f57b-47c0-a6c1-a3cef92be3b7\",\"type\":\"ColumnDataSource\"},{\"attributes\":{\"data_source\":{\"id\":\"b93459df-f50c-44de-ab6f-2fd28257192f\",\"type\":\"ColumnDataSource\"},\"glyph\":{\"id\":\"f50120f1-14f1-4f25-a434-5679b56138c4\",\"type\":\"Patches\"},\"hover_glyph\":null,\"muted_glyph\":null,\"name\":\"exons\",\"nonselection_glyph\":{\"id\":\"8158f39d-ddba-4fc4-9501-6c4ec4c77eb6\",\"type\":\"Patches\"},\"selection_glyph\":null,\"view\":{\"id\":\"7a3126f7-a540-40f1-bdc9-f53938354886\",\"type\":\"CDSView\"}},\"id\":\"6a415438-faa6-4eca-a965-9ae8e0335d8a\",\"type\":\"GlyphRenderer\"},{\"attributes\":{\"source\":{\"id\":\"b93459df-f50c-44de-ab6f-2fd28257192f\",\"type\":\"ColumnDataSource\"}},\"id\":\"7a3126f7-a540-40f1-bdc9-f53938354886\",\"type\":\"CDSView\"},{\"attributes\":{\"mantissas\":[1,2,3,4,5,6,7,8,9],\"max_interval\":3,\"min_interval\":3,\"num_minor_ticks\":3},\"id\":\"083b1dfb-4cc2-43c9-9212-fe027bf26593\",\"type\":\"AdaptiveTicker\"},{\"attributes\":{\"angle\":{\"field\":\"angle\",\"units\":\"deg\"},\"text\":{\"value\":\"v\"},\"text_align\":\"center\",\"text_alpha\":{\"field\":\"alpha\"},\"text_baseline\":\"middle\",\"text_color\":{\"value\":\"Black\"},\"text_font\":\"sans-serif\",\"text_font_size\":{\"value\":\"5pt\"},\"text_font_style\":\"bold\",\"x\":{\"field\":\"x\"},\"y\":{\"field\":\"y\"}},\"id\":\"9e833649-d5d4-433c-94dd-aadeb3c7796c\",\"type\":\"Text\"},{\"attributes\":{},\"id\":\"1b8f192a-4c07-43d3-86d1-83d10ba6afb9\",\"type\":\"LinearScale\"},{\"attributes\":{},\"id\":\"2ef248a1-caf3-4281-ae97-6fadb3d2b2b4\",\"type\":\"SaveTool\"},{\"attributes\":{\"below\":[{\"id\":\"609980d9-eacc-41eb-85cf-4ef161a960b5\",\"type\":\"LinearAxis\"}],\"left\":[{\"id\":\"3fe3a09b-3ad8-4ef6-979e-f6707f0ea406\",\"type\":\"LinearAxis\"}],\"outline_line_alpha\":{\"value\":0},\"plot_height\":155,\"plot_width\":800,\"renderers\":[{\"id\":\"609980d9-eacc-41eb-85cf-4ef161a960b5\",\"type\":\"LinearAxis\"},{\"id\":\"b024cfde-0069-4145-8f76-4df5a1e8082d\",\"type\":\"Grid\"},{\"id\":\"3fe3a09b-3ad8-4ef6-979e-f6707f0ea406\",\"type\":\"LinearAxis\"},{\"id\":\"b2c8dd89-b07b-43c6-825c-dd469f4ff863\",\"type\":\"Grid\"},{\"id\":\"c05aa279-6d85-48e4-bbcd-950cf9e2331f\",\"type\":\"BoxAnnotation\"},{\"id\":\"59bb5e36-026e-4b04-a3d1-49e3ea4108ed\",\"type\":\"GlyphRenderer\"},{\"id\":\"e0c64b23-3118-4abb-9849-cb82c9f67304\",\"type\":\"GlyphRenderer\"},{\"id\":\"6a415438-faa6-4eca-a965-9ae8e0335d8a\",\"type\":\"GlyphRenderer\"},{\"id\":\"ce8b2ece-9057-45d7-a4f0-8f29c47a0974\",\"type\":\"GlyphRenderer\"}],\"title\":{\"id\":\"0ea4435d-615e-4f68-9e64-66059b8d39b4\",\"type\":\"Title\"},\"toolbar\":{\"id\":\"9f1bd28a-c86c-4ded-ba24-e8da32e524d7\",\"type\":\"Toolbar\"},\"x_range\":{\"id\":\"1c848707-9e04-4fcc-88bb-ef9831180655\",\"type\":\"Range1d\"},\"x_scale\":{\"id\":\"badc9cec-4d80-4307-9e3f-17dc46ee474e\",\"type\":\"LinearScale\"},\"y_range\":{\"id\":\"9d4d9484-afe9-4faf-b114-f5b4655c1508\",\"type\":\"Range1d\"},\"y_scale\":{\"id\":\"1b8f192a-4c07-43d3-86d1-83d10ba6afb9\",\"type\":\"LinearScale\"}},\"id\":\"185c118f-ccae-4438-8a9b-bb95954f471f\",\"subtype\":\"Figure\",\"type\":\"Plot\"},{\"attributes\":{\"mantissas\":[1,2,3,4,5,6,7,8,9],\"max_interval\":4,\"min_interval\":4,\"num_minor_ticks\":4},\"id\":\"4d99758c-ca81-490b-820b-db16ecf9739f\",\"type\":\"AdaptiveTicker\"},{\"attributes\":{},\"id\":\"446bacc9-5413-4b1f-9e15-7c4ac86aecad\",\"type\":\"BasicTicker\"},{\"attributes\":{\"source\":{\"id\":\"a0a72cde-f57b-47c0-a6c1-a3cef92be3b7\",\"type\":\"ColumnDataSource\"}},\"id\":\"cca2f597-7b1b-4614-aac9-e32ce42ad606\",\"type\":\"CDSView\"},{\"attributes\":{\"callback\":null,\"column_names\":[\"x\",\"y\",\"label\",\"index\"],\"data\":{\"index\":[0,1,2,3,4,5,6,7,8,9,10,11,12,13,14,15,16,17],\"label\":[\"NDUFA6-AS1-203\",\"NDUFA6-AS1-207\",\"NDUFA6-AS1-208\",\"NDUFA6-AS1-216\",\"CYP2D6-201\",\"CYP2D6-203\",\"CYP2D6-204\",\"AC254562.1-201\",\"AC254562.2-201\",\"AC254562.3-201\",\"CYP2D7-201\",\"CYP2D7-203\",\"CYP2D7-207\",\"CYP2D7-208\",\"CYP2D8P-201\",\"TCF20-201\",\"TCF20-202\",\"TCF20-203\"],\"x\":[42114336.5,42108081.5,42108155.5,42134540.5,42128710.5,42128702.5,42128691.0,42132770.5,42138180.0,42138893.0,42142376.0,42142390.0,42142391.0,42142379.5,42152443.5,42188248.0,42187727.5,42185653.0],\"y\":[5,1,-1,3,-1,3,1,-1,1,-1,-1,5,3,1,-1,1,3,-1]}},\"id\":\"37d9fa39-0f1d-4c44-9f69-a8bb88d48b18\",\"type\":\"ColumnDataSource\"},{\"attributes\":{\"angle\":{\"field\":\"angle\",\"units\":\"deg\"},\"text\":{\"value\":\"v\"},\"text_align\":\"center\",\"text_alpha\":{\"value\":0.1},\"text_baseline\":\"middle\",\"text_color\":{\"value\":\"black\"},\"text_font\":\"sans-serif\",\"text_font_size\":{\"value\":\"5pt\"},\"text_font_style\":\"bold\",\"x\":{\"field\":\"x\"},\"y\":{\"field\":\"y\"}},\"id\":\"dc757e58-95da-4afa-9ca5-82c1e6bcaf4e\",\"type\":\"Text\"},{\"attributes\":{\"fill_color\":{\"value\":\"DarkBlue\"},\"line_color\":{\"value\":null},\"xs\":{\"field\":\"x\"},\"ys\":{\"field\":\"y\"}},\"id\":\"f50120f1-14f1-4f25-a434-5679b56138c4\",\"type\":\"Patches\"},{\"attributes\":{},\"id\":\"3b00fe55-d4d0-4139-9635-e5bac7de5a0d\",\"type\":\"ResetTool\"},{\"attributes\":{},\"id\":\"dbbb3116-5945-4bb5-8583-4af0f3d43583\",\"type\":\"BasicTickFormatter\"},{\"attributes\":{\"grid_line_color\":{\"value\":null},\"plot\":{\"id\":\"185c118f-ccae-4438-8a9b-bb95954f471f\",\"subtype\":\"Figure\",\"type\":\"Plot\"},\"ticker\":{\"id\":\"bde87393-7f68-4d29-ad59-a59d208222bf\",\"type\":\"BasicTicker\"}},\"id\":\"b024cfde-0069-4145-8f76-4df5a1e8082d\",\"type\":\"Grid\"},{\"attributes\":{\"text\":{\"field\":\"label\"},\"text_align\":\"center\",\"text_baseline\":\"middle\",\"text_color\":{\"value\":\"black\"},\"text_font\":\"monospace\",\"text_font_size\":{\"value\":\"6pt\"},\"x\":{\"field\":\"x\"},\"y\":{\"field\":\"y\"},\"y_offset\":{\"value\":4}},\"id\":\"ad254a07-7631-4866-bc14-300a9046a05d\",\"type\":\"Text\"},{\"attributes\":{\"data_source\":{\"id\":\"9cfd6873-5473-4e1d-8a27-5d736496abe4\",\"type\":\"ColumnDataSource\"},\"glyph\":{\"id\":\"9e833649-d5d4-433c-94dd-aadeb3c7796c\",\"type\":\"Text\"},\"hover_glyph\":null,\"muted_glyph\":null,\"name\":\"introns\",\"nonselection_glyph\":{\"id\":\"dc757e58-95da-4afa-9ca5-82c1e6bcaf4e\",\"type\":\"Text\"},\"selection_glyph\":null,\"view\":{\"id\":\"932b59e1-0904-4363-81ab-a8ff56312a77\",\"type\":\"CDSView\"}},\"id\":\"e0c64b23-3118-4abb-9849-cb82c9f67304\",\"type\":\"GlyphRenderer\"},{\"attributes\":{\"line_alpha\":{\"value\":0.1},\"line_color\":{\"value\":\"#1f77b4\"},\"x0\":{\"field\":\"x0\"},\"x1\":{\"field\":\"x1\"},\"y0\":{\"field\":\"y0\"},\"y1\":{\"field\":\"y1\"}},\"id\":\"11a8ca5e-1abe-432c-be30-7f63bb087bba\",\"type\":\"Segment\"},{\"attributes\":{\"dimensions\":\"width\",\"overlay\":{\"id\":\"c05aa279-6d85-48e4-bbcd-950cf9e2331f\",\"type\":\"BoxAnnotation\"}},\"id\":\"46c7d9c6-7be2-46c6-92bc-278dd3fc1456\",\"type\":\"BoxZoomTool\"},{\"attributes\":{\"callback\":{\"id\":\"9d09467e-0711-4cbb-80b3-67c6da799640\",\"type\":\"CustomJS\"},\"end\":42215442,\"start\":42090931},\"id\":\"1c848707-9e04-4fcc-88bb-ef9831180655\",\"type\":\"Range1d\"},{\"attributes\":{\"source\":{\"id\":\"9cfd6873-5473-4e1d-8a27-5d736496abe4\",\"type\":\"ColumnDataSource\"}},\"id\":\"932b59e1-0904-4363-81ab-a8ff56312a77\",\"type\":\"CDSView\"},{\"attributes\":{\"line_color\":{\"value\":\"Black\"},\"x0\":{\"field\":\"x0\"},\"x1\":{\"field\":\"x1\"},\"y0\":{\"field\":\"y0\"},\"y1\":{\"field\":\"y1\"}},\"id\":\"ec6f5756-66a0-4f43-af97-9b3b26842b05\",\"type\":\"Segment\"},{\"attributes\":{\"dimensions\":\"width\"},\"id\":\"d3b401ef-f06a-49f7-90cb-25672f138e06\",\"type\":\"WheelZoomTool\"},{\"attributes\":{},\"id\":\"badc9cec-4d80-4307-9e3f-17dc46ee474e\",\"type\":\"LinearScale\"},{\"attributes\":{\"dimensions\":\"width\"},\"id\":\"9b8f696b-ea66-42ac-a275-ceb1de391686\",\"type\":\"PanTool\"},{\"attributes\":{\"axis_label\":\"chr22\",\"formatter\":{\"id\":\"862c5ddc-5edf-4617-838e-e3a733a338bb\",\"type\":\"NumeralTickFormatter\"},\"plot\":{\"id\":\"185c118f-ccae-4438-8a9b-bb95954f471f\",\"subtype\":\"Figure\",\"type\":\"Plot\"},\"ticker\":{\"id\":\"b5fb8305-e607-4da2-9b71-f29a3a3c68d7\",\"type\":\"CompositeTicker\"}},\"id\":\"609980d9-eacc-41eb-85cf-4ef161a960b5\",\"type\":\"LinearAxis\"},{\"attributes\":{\"data_source\":{\"id\":\"a0a72cde-f57b-47c0-a6c1-a3cef92be3b7\",\"type\":\"ColumnDataSource\"},\"glyph\":{\"id\":\"ec6f5756-66a0-4f43-af97-9b3b26842b05\",\"type\":\"Segment\"},\"hover_glyph\":null,\"muted_glyph\":null,\"name\":\"transcripts\",\"nonselection_glyph\":{\"id\":\"11a8ca5e-1abe-432c-be30-7f63bb087bba\",\"type\":\"Segment\"},\"selection_glyph\":null,\"view\":{\"id\":\"cca2f597-7b1b-4614-aac9-e32ce42ad606\",\"type\":\"CDSView\"}},\"id\":\"59bb5e36-026e-4b04-a3d1-49e3ea4108ed\",\"type\":\"GlyphRenderer\"},{\"attributes\":{\"formatter\":{\"id\":\"dbbb3116-5945-4bb5-8583-4af0f3d43583\",\"type\":\"BasicTickFormatter\"},\"plot\":{\"id\":\"185c118f-ccae-4438-8a9b-bb95954f471f\",\"subtype\":\"Figure\",\"type\":\"Plot\"},\"ticker\":{\"id\":\"446bacc9-5413-4b1f-9e15-7c4ac86aecad\",\"type\":\"BasicTicker\"},\"visible\":false},\"id\":\"3fe3a09b-3ad8-4ef6-979e-f6707f0ea406\",\"type\":\"LinearAxis\"},{\"attributes\":{\"plot\":null,\"text\":\"\"},\"id\":\"0ea4435d-615e-4f68-9e64-66059b8d39b4\",\"type\":\"Title\"},{\"attributes\":{},\"id\":\"862c5ddc-5edf-4617-838e-e3a733a338bb\",\"type\":\"NumeralTickFormatter\"}],\"root_ids\":[\"185c118f-ccae-4438-8a9b-bb95954f471f\"]},\"title\":\"Bokeh Application\",\"version\":\"0.12.10\"}};\n",
       "    var render_items = [{\"docid\":\"76170545-a91d-4437-9766-7dd0397ca353\",\"elementid\":\"ebecd9e4-4a3d-4771-ae4c-6a955a43f840\",\"modelid\":\"185c118f-ccae-4438-8a9b-bb95954f471f\"}];\n",
       "\n",
       "    root.Bokeh.embed.embed_items(docs_json, render_items);\n",
       "  }\n",
       "\n",
       "  if (root.Bokeh !== undefined) {\n",
       "    embed_document(root);\n",
       "  } else {\n",
       "    var attempts = 0;\n",
       "    var timer = setInterval(function(root) {\n",
       "      if (root.Bokeh !== undefined) {\n",
       "        embed_document(root);\n",
       "        clearInterval(timer);\n",
       "      }\n",
       "      attempts++;\n",
       "      if (attempts > 100) {\n",
       "        console.log(\"Bokeh: ERROR: Unable to embed document because BokehJS library is missing\")\n",
       "        clearInterval(timer);\n",
       "      }\n",
       "    }, 10, root)\n",
       "  }\n",
       "})(window);"
      ],
      "application/vnd.bokehjs_exec.v0+json": ""
     },
     "metadata": {
      "application/vnd.bokehjs_exec.v0+json": {
       "id": "185c118f-ccae-4438-8a9b-bb95954f471f"
      }
     },
     "output_type": "display_data"
    }
   ],
   "source": [
    "fig = make_plot(transcripts_from_gffutils(db, \"chr22\", 42124000, 42180000))\n",
    "show(fig.figure)"
   ]
  },
  {
   "cell_type": "code",
   "execution_count": null,
   "metadata": {
    "collapsed": true
   },
   "outputs": [],
   "source": []
  }
 ],
 "metadata": {
  "kernelspec": {
   "display_name": "Python 3",
   "language": "python",
   "name": "python3"
  },
  "language_info": {
   "codemirror_mode": {
    "name": "ipython",
    "version": 3
   },
   "file_extension": ".py",
   "mimetype": "text/x-python",
   "name": "python",
   "nbconvert_exporter": "python",
   "pygments_lexer": "ipython3",
   "version": "3.6.2"
  }
 },
 "nbformat": 4,
 "nbformat_minor": 2
}
