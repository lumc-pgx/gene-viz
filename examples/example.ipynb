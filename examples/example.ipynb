{
 "cells": [
  {
   "cell_type": "markdown",
   "metadata": {},
   "source": [
    "# Visualizing annotation data"
   ]
  },
  {
   "cell_type": "markdown",
   "metadata": {},
   "source": [
    "set up bokeh for notebook drawing, and import gene_viz"
   ]
  },
  {
   "cell_type": "code",
   "execution_count": 1,
   "metadata": {},
   "outputs": [
    {
     "data": {
      "application/javascript": [
       "\n",
       "(function(root) {\n",
       "  function now() {\n",
       "    return new Date();\n",
       "  }\n",
       "\n",
       "  var force = true;\n",
       "\n",
       "  if (typeof (root._bokeh_onload_callbacks) === \"undefined\" || force === true) {\n",
       "    root._bokeh_onload_callbacks = [];\n",
       "    root._bokeh_is_loading = undefined;\n",
       "  }\n",
       "\n",
       "  var JS_MIME_TYPE = 'application/javascript';\n",
       "  var HTML_MIME_TYPE = 'text/html';\n",
       "  var EXEC_MIME_TYPE = 'application/vnd.bokehjs_exec.v0+json';\n",
       "  var CLASS_NAME = 'output_bokeh rendered_html';\n",
       "\n",
       "  /**\n",
       "   * Render data to the DOM node\n",
       "   */\n",
       "  function render(props, node) {\n",
       "    var script = document.createElement(\"script\");\n",
       "    node.appendChild(script);\n",
       "  }\n",
       "\n",
       "  /**\n",
       "   * Handle when an output is cleared or removed\n",
       "   */\n",
       "  function handleClearOutput(event, handle) {\n",
       "    var cell = handle.cell;\n",
       "\n",
       "    var id = cell.output_area._bokeh_element_id;\n",
       "    var server_id = cell.output_area._bokeh_server_id;\n",
       "    // Clean up Bokeh references\n",
       "    if (id !== undefined) {\n",
       "      Bokeh.index[id].model.document.clear();\n",
       "      delete Bokeh.index[id];\n",
       "    }\n",
       "\n",
       "    if (server_id !== undefined) {\n",
       "      // Clean up Bokeh references\n",
       "      var cmd = \"from bokeh.io.state import curstate; print(curstate().uuid_to_server['\" + server_id + \"'].get_sessions()[0].document.roots[0]._id)\";\n",
       "      cell.notebook.kernel.execute(cmd, {\n",
       "        iopub: {\n",
       "          output: function(msg) {\n",
       "            var element_id = msg.content.text.trim();\n",
       "            Bokeh.index[element_id].model.document.clear();\n",
       "            delete Bokeh.index[element_id];\n",
       "          }\n",
       "        }\n",
       "      });\n",
       "      // Destroy server and session\n",
       "      var cmd = \"import bokeh.io.notebook as ion; ion.destroy_server('\" + server_id + \"')\";\n",
       "      cell.notebook.kernel.execute(cmd);\n",
       "    }\n",
       "  }\n",
       "\n",
       "  /**\n",
       "   * Handle when a new output is added\n",
       "   */\n",
       "  function handleAddOutput(event, handle) {\n",
       "    var output_area = handle.output_area;\n",
       "    var output = handle.output;\n",
       "\n",
       "    // limit handleAddOutput to display_data with EXEC_MIME_TYPE content only\n",
       "    if ((output.output_type != \"display_data\") || (!output.data.hasOwnProperty(EXEC_MIME_TYPE))) {\n",
       "      return\n",
       "    }\n",
       "\n",
       "    var toinsert = output_area.element.find(`.${CLASS_NAME.split(' ')[0]}`);\n",
       "\n",
       "    if (output.metadata[EXEC_MIME_TYPE][\"id\"] !== undefined) {\n",
       "      toinsert[0].firstChild.textContent = output.data[JS_MIME_TYPE];\n",
       "      // store reference to embed id on output_area\n",
       "      output_area._bokeh_element_id = output.metadata[EXEC_MIME_TYPE][\"id\"];\n",
       "    }\n",
       "    if (output.metadata[EXEC_MIME_TYPE][\"server_id\"] !== undefined) {\n",
       "      var bk_div = document.createElement(\"div\");\n",
       "      bk_div.innerHTML = output.data[HTML_MIME_TYPE];\n",
       "      var script_attrs = bk_div.children[0].attributes;\n",
       "      for (var i = 0; i < script_attrs.length; i++) {\n",
       "        toinsert[0].firstChild.setAttribute(script_attrs[i].name, script_attrs[i].value);\n",
       "      }\n",
       "      // store reference to server id on output_area\n",
       "      output_area._bokeh_server_id = output.metadata[EXEC_MIME_TYPE][\"server_id\"];\n",
       "    }\n",
       "  }\n",
       "\n",
       "  function register_renderer(events, OutputArea) {\n",
       "\n",
       "    function append_mime(data, metadata, element) {\n",
       "      // create a DOM node to render to\n",
       "      var toinsert = this.create_output_subarea(\n",
       "        metadata,\n",
       "        CLASS_NAME,\n",
       "        EXEC_MIME_TYPE\n",
       "      );\n",
       "      this.keyboard_manager.register_events(toinsert);\n",
       "      // Render to node\n",
       "      var props = {data: data, metadata: metadata[EXEC_MIME_TYPE]};\n",
       "      render(props, toinsert[0]);\n",
       "      element.append(toinsert);\n",
       "      return toinsert\n",
       "    }\n",
       "\n",
       "    /* Handle when an output is cleared or removed */\n",
       "    events.on('clear_output.CodeCell', handleClearOutput);\n",
       "    events.on('delete.Cell', handleClearOutput);\n",
       "\n",
       "    /* Handle when a new output is added */\n",
       "    events.on('output_added.OutputArea', handleAddOutput);\n",
       "\n",
       "    /**\n",
       "     * Register the mime type and append_mime function with output_area\n",
       "     */\n",
       "    OutputArea.prototype.register_mime_type(EXEC_MIME_TYPE, append_mime, {\n",
       "      /* Is output safe? */\n",
       "      safe: true,\n",
       "      /* Index of renderer in `output_area.display_order` */\n",
       "      index: 0\n",
       "    });\n",
       "  }\n",
       "\n",
       "  // register the mime type if in Jupyter Notebook environment and previously unregistered\n",
       "  if (root.Jupyter !== undefined) {\n",
       "    var events = require('base/js/events');\n",
       "    var OutputArea = require('notebook/js/outputarea').OutputArea;\n",
       "\n",
       "    if (OutputArea.prototype.mime_types().indexOf(EXEC_MIME_TYPE) == -1) {\n",
       "      register_renderer(events, OutputArea);\n",
       "    }\n",
       "  }\n",
       "\n",
       "  \n",
       "  if (typeof (root._bokeh_timeout) === \"undefined\" || force === true) {\n",
       "    root._bokeh_timeout = Date.now() + 5000;\n",
       "    root._bokeh_failed_load = false;\n",
       "  }\n",
       "\n",
       "  var NB_LOAD_WARNING = {'data': {'text/html':\n",
       "     \"<div style='background-color: #fdd'>\\n\"+\n",
       "     \"<p>\\n\"+\n",
       "     \"BokehJS does not appear to have successfully loaded. If loading BokehJS from CDN, this \\n\"+\n",
       "     \"may be due to a slow or bad network connection. Possible fixes:\\n\"+\n",
       "     \"</p>\\n\"+\n",
       "     \"<ul>\\n\"+\n",
       "     \"<li>re-rerun `output_notebook()` to attempt to load from CDN again, or</li>\\n\"+\n",
       "     \"<li>use INLINE resources instead, as so:</li>\\n\"+\n",
       "     \"</ul>\\n\"+\n",
       "     \"<code>\\n\"+\n",
       "     \"from bokeh.resources import INLINE\\n\"+\n",
       "     \"output_notebook(resources=INLINE)\\n\"+\n",
       "     \"</code>\\n\"+\n",
       "     \"</div>\"}};\n",
       "\n",
       "  function display_loaded() {\n",
       "    var el = document.getElementById(null);\n",
       "    if (el != null) {\n",
       "      el.textContent = \"BokehJS is loading...\";\n",
       "    }\n",
       "    if (root.Bokeh !== undefined) {\n",
       "      if (el != null) {\n",
       "        el.textContent = \"BokehJS \" + root.Bokeh.version + \" successfully loaded.\";\n",
       "      }\n",
       "    } else if (Date.now() < root._bokeh_timeout) {\n",
       "      setTimeout(display_loaded, 100)\n",
       "    }\n",
       "  }\n",
       "\n",
       "\n",
       "  function run_callbacks() {\n",
       "    try {\n",
       "      root._bokeh_onload_callbacks.forEach(function(callback) { callback() });\n",
       "    }\n",
       "    finally {\n",
       "      delete root._bokeh_onload_callbacks\n",
       "    }\n",
       "    console.info(\"Bokeh: all callbacks have finished\");\n",
       "  }\n",
       "\n",
       "  function load_libs(js_urls, callback) {\n",
       "    root._bokeh_onload_callbacks.push(callback);\n",
       "    if (root._bokeh_is_loading > 0) {\n",
       "      console.log(\"Bokeh: BokehJS is being loaded, scheduling callback at\", now());\n",
       "      return null;\n",
       "    }\n",
       "    if (js_urls == null || js_urls.length === 0) {\n",
       "      run_callbacks();\n",
       "      return null;\n",
       "    }\n",
       "    console.log(\"Bokeh: BokehJS not loaded, scheduling load and callback at\", now());\n",
       "    root._bokeh_is_loading = js_urls.length;\n",
       "    for (var i = 0; i < js_urls.length; i++) {\n",
       "      var url = js_urls[i];\n",
       "      var s = document.createElement('script');\n",
       "      s.src = url;\n",
       "      s.async = false;\n",
       "      s.onreadystatechange = s.onload = function() {\n",
       "        root._bokeh_is_loading--;\n",
       "        if (root._bokeh_is_loading === 0) {\n",
       "          console.log(\"Bokeh: all BokehJS libraries loaded\");\n",
       "          run_callbacks()\n",
       "        }\n",
       "      };\n",
       "      s.onerror = function() {\n",
       "        console.warn(\"failed to load library \" + url);\n",
       "      };\n",
       "      console.log(\"Bokeh: injecting script tag for BokehJS library: \", url);\n",
       "      document.getElementsByTagName(\"head\")[0].appendChild(s);\n",
       "    }\n",
       "  };\n",
       "\n",
       "  var js_urls = [\"https://cdn.pydata.org/bokeh/release/bokeh-0.12.10.min.js\", \"https://cdn.pydata.org/bokeh/release/bokeh-widgets-0.12.10.min.js\", \"https://cdn.pydata.org/bokeh/release/bokeh-tables-0.12.10.min.js\", \"https://cdn.pydata.org/bokeh/release/bokeh-gl-0.12.10.min.js\"];\n",
       "\n",
       "  var inline_js = [\n",
       "    function(Bokeh) {\n",
       "      Bokeh.set_log_level(\"info\");\n",
       "    },\n",
       "    \n",
       "    function(Bokeh) {\n",
       "      \n",
       "    },\n",
       "    function(Bokeh) {\n",
       "      console.log(\"Bokeh: injecting CSS: https://cdn.pydata.org/bokeh/release/bokeh-0.12.10.min.css\");\n",
       "      Bokeh.embed.inject_css(\"https://cdn.pydata.org/bokeh/release/bokeh-0.12.10.min.css\");\n",
       "      console.log(\"Bokeh: injecting CSS: https://cdn.pydata.org/bokeh/release/bokeh-widgets-0.12.10.min.css\");\n",
       "      Bokeh.embed.inject_css(\"https://cdn.pydata.org/bokeh/release/bokeh-widgets-0.12.10.min.css\");\n",
       "      console.log(\"Bokeh: injecting CSS: https://cdn.pydata.org/bokeh/release/bokeh-tables-0.12.10.min.css\");\n",
       "      Bokeh.embed.inject_css(\"https://cdn.pydata.org/bokeh/release/bokeh-tables-0.12.10.min.css\");\n",
       "    }\n",
       "  ];\n",
       "\n",
       "  function run_inline_js() {\n",
       "    \n",
       "    if ((root.Bokeh !== undefined) || (force === true)) {\n",
       "      for (var i = 0; i < inline_js.length; i++) {\n",
       "        inline_js[i].call(root, root.Bokeh);\n",
       "      }} else if (Date.now() < root._bokeh_timeout) {\n",
       "      setTimeout(run_inline_js, 100);\n",
       "    } else if (!root._bokeh_failed_load) {\n",
       "      console.log(\"Bokeh: BokehJS failed to load within specified timeout.\");\n",
       "      root._bokeh_failed_load = true;\n",
       "    } else if (force !== true) {\n",
       "      var cell = $(document.getElementById(null)).parents('.cell').data().cell;\n",
       "      cell.output_area.append_execute_result(NB_LOAD_WARNING)\n",
       "    }\n",
       "\n",
       "  }\n",
       "\n",
       "  if (root._bokeh_is_loading === 0) {\n",
       "    console.log(\"Bokeh: BokehJS loaded, going straight to plotting\");\n",
       "    run_inline_js();\n",
       "  } else {\n",
       "    load_libs(js_urls, function() {\n",
       "      console.log(\"Bokeh: BokehJS plotting callback run at\", now());\n",
       "      run_inline_js();\n",
       "    });\n",
       "  }\n",
       "}(window));"
      ],
      "application/vnd.bokehjs_load.v0+json": "\n(function(root) {\n  function now() {\n    return new Date();\n  }\n\n  var force = true;\n\n  if (typeof (root._bokeh_onload_callbacks) === \"undefined\" || force === true) {\n    root._bokeh_onload_callbacks = [];\n    root._bokeh_is_loading = undefined;\n  }\n\n  \n\n  \n  if (typeof (root._bokeh_timeout) === \"undefined\" || force === true) {\n    root._bokeh_timeout = Date.now() + 5000;\n    root._bokeh_failed_load = false;\n  }\n\n  var NB_LOAD_WARNING = {'data': {'text/html':\n     \"<div style='background-color: #fdd'>\\n\"+\n     \"<p>\\n\"+\n     \"BokehJS does not appear to have successfully loaded. If loading BokehJS from CDN, this \\n\"+\n     \"may be due to a slow or bad network connection. Possible fixes:\\n\"+\n     \"</p>\\n\"+\n     \"<ul>\\n\"+\n     \"<li>re-rerun `output_notebook()` to attempt to load from CDN again, or</li>\\n\"+\n     \"<li>use INLINE resources instead, as so:</li>\\n\"+\n     \"</ul>\\n\"+\n     \"<code>\\n\"+\n     \"from bokeh.resources import INLINE\\n\"+\n     \"output_notebook(resources=INLINE)\\n\"+\n     \"</code>\\n\"+\n     \"</div>\"}};\n\n  function display_loaded() {\n    var el = document.getElementById(null);\n    if (el != null) {\n      el.textContent = \"BokehJS is loading...\";\n    }\n    if (root.Bokeh !== undefined) {\n      if (el != null) {\n        el.textContent = \"BokehJS \" + root.Bokeh.version + \" successfully loaded.\";\n      }\n    } else if (Date.now() < root._bokeh_timeout) {\n      setTimeout(display_loaded, 100)\n    }\n  }\n\n\n  function run_callbacks() {\n    try {\n      root._bokeh_onload_callbacks.forEach(function(callback) { callback() });\n    }\n    finally {\n      delete root._bokeh_onload_callbacks\n    }\n    console.info(\"Bokeh: all callbacks have finished\");\n  }\n\n  function load_libs(js_urls, callback) {\n    root._bokeh_onload_callbacks.push(callback);\n    if (root._bokeh_is_loading > 0) {\n      console.log(\"Bokeh: BokehJS is being loaded, scheduling callback at\", now());\n      return null;\n    }\n    if (js_urls == null || js_urls.length === 0) {\n      run_callbacks();\n      return null;\n    }\n    console.log(\"Bokeh: BokehJS not loaded, scheduling load and callback at\", now());\n    root._bokeh_is_loading = js_urls.length;\n    for (var i = 0; i < js_urls.length; i++) {\n      var url = js_urls[i];\n      var s = document.createElement('script');\n      s.src = url;\n      s.async = false;\n      s.onreadystatechange = s.onload = function() {\n        root._bokeh_is_loading--;\n        if (root._bokeh_is_loading === 0) {\n          console.log(\"Bokeh: all BokehJS libraries loaded\");\n          run_callbacks()\n        }\n      };\n      s.onerror = function() {\n        console.warn(\"failed to load library \" + url);\n      };\n      console.log(\"Bokeh: injecting script tag for BokehJS library: \", url);\n      document.getElementsByTagName(\"head\")[0].appendChild(s);\n    }\n  };\n\n  var js_urls = [\"https://cdn.pydata.org/bokeh/release/bokeh-0.12.10.min.js\", \"https://cdn.pydata.org/bokeh/release/bokeh-widgets-0.12.10.min.js\", \"https://cdn.pydata.org/bokeh/release/bokeh-tables-0.12.10.min.js\", \"https://cdn.pydata.org/bokeh/release/bokeh-gl-0.12.10.min.js\"];\n\n  var inline_js = [\n    function(Bokeh) {\n      Bokeh.set_log_level(\"info\");\n    },\n    \n    function(Bokeh) {\n      \n    },\n    function(Bokeh) {\n      console.log(\"Bokeh: injecting CSS: https://cdn.pydata.org/bokeh/release/bokeh-0.12.10.min.css\");\n      Bokeh.embed.inject_css(\"https://cdn.pydata.org/bokeh/release/bokeh-0.12.10.min.css\");\n      console.log(\"Bokeh: injecting CSS: https://cdn.pydata.org/bokeh/release/bokeh-widgets-0.12.10.min.css\");\n      Bokeh.embed.inject_css(\"https://cdn.pydata.org/bokeh/release/bokeh-widgets-0.12.10.min.css\");\n      console.log(\"Bokeh: injecting CSS: https://cdn.pydata.org/bokeh/release/bokeh-tables-0.12.10.min.css\");\n      Bokeh.embed.inject_css(\"https://cdn.pydata.org/bokeh/release/bokeh-tables-0.12.10.min.css\");\n    }\n  ];\n\n  function run_inline_js() {\n    \n    if ((root.Bokeh !== undefined) || (force === true)) {\n      for (var i = 0; i < inline_js.length; i++) {\n        inline_js[i].call(root, root.Bokeh);\n      }} else if (Date.now() < root._bokeh_timeout) {\n      setTimeout(run_inline_js, 100);\n    } else if (!root._bokeh_failed_load) {\n      console.log(\"Bokeh: BokehJS failed to load within specified timeout.\");\n      root._bokeh_failed_load = true;\n    } else if (force !== true) {\n      var cell = $(document.getElementById(null)).parents('.cell').data().cell;\n      cell.output_area.append_execute_result(NB_LOAD_WARNING)\n    }\n\n  }\n\n  if (root._bokeh_is_loading === 0) {\n    console.log(\"Bokeh: BokehJS loaded, going straight to plotting\");\n    run_inline_js();\n  } else {\n    load_libs(js_urls, function() {\n      console.log(\"Bokeh: BokehJS plotting callback run at\", now());\n      run_inline_js();\n    });\n  }\n}(window));"
     },
     "metadata": {},
     "output_type": "display_data"
    }
   ],
   "source": [
    "from bokeh.plotting import output_notebook, show\n",
    "output_notebook(hide_banner=True)\n",
    "\n",
    "import gene_viz\n",
    "from gene_viz.features import Transcript, Exon, CDS"
   ]
  },
  {
   "cell_type": "markdown",
   "metadata": {},
   "source": [
    "## Use PyEnsembl as the data source"
   ]
  },
  {
   "cell_type": "code",
   "execution_count": 2,
   "metadata": {
    "collapsed": true
   },
   "outputs": [],
   "source": [
    "import os\n",
    "import pyensembl\n",
    "from gene_viz.utils import transcripts_from_pyensembl\n",
    "\n",
    "# set database cache directory for pyensembl\n",
    "os.environ['PYENSEMBL_CACHE_DIR'] = os.path.abspath(\"./\")\n",
    "\n",
    "# download and unzip gencode basic annotations for hg38\n",
    "#!wget ftp://ftp.sanger.ac.uk/pub/gencode/Gencode_human/release_27/gencode.v27.basic.annotation.gtf.gz\n",
    "#!gunzip gencode.v27.basic.annotation.gtf.gz\n",
    "    \n",
    "genome = pyensembl.Genome(\n",
    "    reference_name=\"GRCh38\",\n",
    "    annotation_name=\"Gencode27\",\n",
    "    gtf_path_or_url=\"gencode.v27.basic.annotation.gtf.gz\"\n",
    ")\n",
    "genome.index()"
   ]
  },
  {
   "cell_type": "markdown",
   "metadata": {},
   "source": [
    "## Create a method to translate pyensembl objects into gene_viz features "
   ]
  },
  {
   "cell_type": "code",
   "execution_count": 3,
   "metadata": {
    "collapsed": true,
    "scrolled": false
   },
   "outputs": [],
   "source": [
    "def make_plot(transcripts):\n",
    "    \"\"\"\n",
    "    Create a gene_plot object from a list of transcript feature objects\n",
    "    \"\"\"\n",
    "    start = min([t.start for t in transcripts])\n",
    "    end = max([t.end for t in transcripts])\n",
    "    contig = next((t.contig for t in transcripts), \"unlabelled\")\n",
    "    \n",
    "    gene_plot = gene_viz.GenePlot(\n",
    "        dict(\n",
    "            row_height=15,\n",
    "            pack=True,\n",
    "            show_labels=True,\n",
    "            label_horiz_position=\"center\",\n",
    "            label_vert_position=\"above\",\n",
    "            label_justify=\"center\",\n",
    "            label_offset=(0, -4),\n",
    "            label_font_size=\"6pt\",\n",
    "            intron_width_percent=0.01,\n",
    "        )\n",
    "    )\n",
    "        \n",
    "    gene_plot.x_range = (start, end)\n",
    "    gene_plot.figure.xaxis.axis_label = contig\n",
    "    gene_plot.transcripts = transcripts\n",
    "    gene_plot.update()\n",
    "    return gene_plot"
   ]
  },
  {
   "cell_type": "markdown",
   "metadata": {},
   "source": [
    "## Query pyensembl and visualize the results"
   ]
  },
  {
   "cell_type": "code",
   "execution_count": 4,
   "metadata": {},
   "outputs": [
    {
     "data": {
      "text/html": [
       "\n",
       "<div class=\"bk-root\">\n",
       "    <div class=\"bk-plotdiv\" id=\"94430f7b-9f03-400f-a250-f5ff1c30b3c9\"></div>\n",
       "</div>"
      ]
     },
     "metadata": {},
     "output_type": "display_data"
    },
    {
     "data": {
      "application/javascript": [
       "(function(root) {\n",
       "  function embed_document(root) {\n",
       "    var docs_json = {\"95664d3f-9ac7-441b-b928-ad3178683876\":{\"roots\":{\"references\":[{\"attributes\":{\"data_source\":{\"id\":\"659c28c5-8420-4ea7-acf5-2889a4d21555\",\"type\":\"ColumnDataSource\"},\"glyph\":{\"id\":\"3e83dad9-98d0-4aed-8e0e-70a8d9e7d13f\",\"type\":\"Text\"},\"hover_glyph\":null,\"muted_glyph\":null,\"name\":\"introns\",\"nonselection_glyph\":{\"id\":\"315a20f0-d1dc-4961-93fb-096a465f7d2b\",\"type\":\"Text\"},\"selection_glyph\":null,\"view\":{\"id\":\"5bad0c55-19df-4120-81af-4bce415546dc\",\"type\":\"CDSView\"}},\"id\":\"61b48d80-85b9-4594-ac20-e7c3949e7633\",\"type\":\"GlyphRenderer\"},{\"attributes\":{\"text\":{\"field\":\"label\"},\"text_align\":\"center\",\"text_baseline\":\"middle\",\"text_color\":{\"value\":\"black\"},\"text_font\":\"monospace\",\"text_font_size\":{\"value\":\"6pt\"},\"x\":{\"field\":\"x\"},\"y\":{\"field\":\"y\"},\"y_offset\":{\"value\":4}},\"id\":\"298c6bdf-e885-4e35-9f01-ec1902482ba4\",\"type\":\"Text\"},{\"attributes\":{\"active_drag\":\"auto\",\"active_inspect\":\"auto\",\"active_scroll\":{\"id\":\"388baa33-d1f5-4b28-a1df-30c2b8481729\",\"type\":\"WheelZoomTool\"},\"active_tap\":\"auto\",\"logo\":null,\"tools\":[{\"id\":\"555dba76-e666-4012-9bee-4e6a24b2c7a4\",\"type\":\"PanTool\"},{\"id\":\"388baa33-d1f5-4b28-a1df-30c2b8481729\",\"type\":\"WheelZoomTool\"},{\"id\":\"a24c4175-dc02-4b30-ba4e-d743dfe25d12\",\"type\":\"BoxZoomTool\"},{\"id\":\"2e24c2f4-d022-40a8-ad0a-72c318ebb323\",\"type\":\"SaveTool\"},{\"id\":\"d09b13ad-2197-4770-8013-324ccc216ece\",\"type\":\"ResetTool\"}]},\"id\":\"fd80d954-0a98-42e7-b90a-e8186c73cb9f\",\"type\":\"Toolbar\"},{\"attributes\":{\"plot\":null,\"text\":\"\"},\"id\":\"e63be644-e0b2-4ba4-b6c1-b7b00fd645d4\",\"type\":\"Title\"},{\"attributes\":{\"source\":{\"id\":\"c021a3ae-ff22-4e2a-9410-31f5d19310da\",\"type\":\"ColumnDataSource\"}},\"id\":\"5619b8fd-470d-4a41-9949-d40a1b09d24d\",\"type\":\"CDSView\"},{\"attributes\":{\"fill_color\":{\"value\":\"DarkBlue\"},\"line_color\":{\"value\":null},\"xs\":{\"field\":\"x\"},\"ys\":{\"field\":\"y\"}},\"id\":\"8f765e7c-5c0c-4224-8cbd-0b1d7b83ec6d\",\"type\":\"Patches\"},{\"attributes\":{\"angle\":{\"field\":\"angle\",\"units\":\"deg\"},\"text\":{\"value\":\"v\"},\"text_align\":\"center\",\"text_alpha\":{\"value\":0.1},\"text_baseline\":\"middle\",\"text_color\":{\"value\":\"black\"},\"text_font\":\"sans-serif\",\"text_font_size\":{\"value\":\"5pt\"},\"text_font_style\":\"bold\",\"x\":{\"field\":\"x\"},\"y\":{\"field\":\"y\"}},\"id\":\"315a20f0-d1dc-4961-93fb-096a465f7d2b\",\"type\":\"Text\"},{\"attributes\":{\"data_source\":{\"id\":\"81303a3d-1683-4398-8352-36825866df4c\",\"type\":\"ColumnDataSource\"},\"glyph\":{\"id\":\"8f765e7c-5c0c-4224-8cbd-0b1d7b83ec6d\",\"type\":\"Patches\"},\"hover_glyph\":null,\"muted_glyph\":null,\"name\":\"exons\",\"nonselection_glyph\":{\"id\":\"9fd84851-549f-4ba6-92a2-2623e043ff4d\",\"type\":\"Patches\"},\"selection_glyph\":null,\"view\":{\"id\":\"877a4818-1468-43bf-ac50-4215217ef298\",\"type\":\"CDSView\"}},\"id\":\"5140b98f-6245-4d4e-850c-4bb451eb6da9\",\"type\":\"GlyphRenderer\"},{\"attributes\":{\"fill_alpha\":{\"value\":0.1},\"fill_color\":{\"value\":\"#1f77b4\"},\"line_alpha\":{\"value\":0.1},\"line_color\":{\"value\":\"#1f77b4\"},\"xs\":{\"field\":\"x\"},\"ys\":{\"field\":\"y\"}},\"id\":\"9fd84851-549f-4ba6-92a2-2623e043ff4d\",\"type\":\"Patches\"},{\"attributes\":{\"callback\":null,\"column_names\":[\"x\",\"y\",\"label\",\"index\"],\"data\":{\"index\":[0,1,2,3,4,5,6,7,8,9,10,11,12,13,14,15,16,17],\"label\":[\"CYP2D6-203\",\"CYP2D6-204\",\"CYP2D6-201\",\"TCF20-202\",\"TCF20-201\",\"TCF20-203\",\"CYP2D7-201\",\"CYP2D7-203\",\"CYP2D7-208\",\"CYP2D7-207\",\"CYP2D8P-201\",\"AC254562.1-201\",\"AC254562.2-201\",\"NDUFA6-AS1-203\",\"NDUFA6-AS1-207\",\"NDUFA6-AS1-208\",\"NDUFA6-AS1-216\",\"AC254562.3-201\"],\"x\":[42128702.5,42128691.0,42128710.5,42187727.5,42188248.0,42185653.0,42142376.0,42142390.0,42142379.5,42142391.0,42152443.5,42132770.5,42138180.0,42114336.5,42108081.5,42108155.5,42134540.5,42138893.0],\"y\":[3,1,-1,3,1,-1,-1,5,1,3,-1,-1,1,5,1,-1,3,-1]}},\"id\":\"0ad2dddf-9a78-4810-9b50-1d1bb95672b6\",\"type\":\"ColumnDataSource\"},{\"attributes\":{\"source\":{\"id\":\"81303a3d-1683-4398-8352-36825866df4c\",\"type\":\"ColumnDataSource\"}},\"id\":\"877a4818-1468-43bf-ac50-4215217ef298\",\"type\":\"CDSView\"},{\"attributes\":{\"callback\":null,\"end\":-1.5,\"start\":7},\"id\":\"f987c98d-2df0-461b-80c6-885315215a7d\",\"type\":\"Range1d\"},{\"attributes\":{\"data_source\":{\"id\":\"0ad2dddf-9a78-4810-9b50-1d1bb95672b6\",\"type\":\"ColumnDataSource\"},\"glyph\":{\"id\":\"298c6bdf-e885-4e35-9f01-ec1902482ba4\",\"type\":\"Text\"},\"hover_glyph\":null,\"muted_glyph\":null,\"name\":\"transcript_labels\",\"nonselection_glyph\":{\"id\":\"255f6bb3-c534-49f1-a07c-655c423ef2fb\",\"type\":\"Text\"},\"selection_glyph\":null,\"view\":{\"id\":\"6916e5a0-ccf0-4504-9575-1cb4115dbefa\",\"type\":\"CDSView\"}},\"id\":\"a56cde9f-f494-45fe-b0f2-7ccd1f62a0f9\",\"type\":\"GlyphRenderer\"},{\"attributes\":{\"source\":{\"id\":\"659c28c5-8420-4ea7-acf5-2889a4d21555\",\"type\":\"ColumnDataSource\"}},\"id\":\"5bad0c55-19df-4120-81af-4bce415546dc\",\"type\":\"CDSView\"},{\"attributes\":{\"mantissas\":[1,2,3,4,5,6,7,8,9],\"max_interval\":2,\"min_interval\":2,\"num_minor_ticks\":2},\"id\":\"1b940203-153a-4dec-8809-9e514e86d5d0\",\"type\":\"AdaptiveTicker\"},{\"attributes\":{},\"id\":\"b8644deb-fb9a-435d-a18a-b6b44f68ebbe\",\"type\":\"LinearScale\"},{\"attributes\":{\"line_color\":{\"value\":\"Black\"},\"x0\":{\"field\":\"x0\"},\"x1\":{\"field\":\"x1\"},\"y0\":{\"field\":\"y0\"},\"y1\":{\"field\":\"y1\"}},\"id\":\"6cf3a14b-2ff9-40c5-a946-89bb36631d6a\",\"type\":\"Segment\"},{\"attributes\":{\"text\":{\"field\":\"label\"},\"text_align\":\"center\",\"text_alpha\":{\"value\":0.1},\"text_baseline\":\"middle\",\"text_color\":{\"value\":\"black\"},\"text_font\":\"monospace\",\"text_font_size\":{\"value\":\"6pt\"},\"x\":{\"field\":\"x\"},\"y\":{\"field\":\"y\"}},\"id\":\"255f6bb3-c534-49f1-a07c-655c423ef2fb\",\"type\":\"Text\"},{\"attributes\":{\"mantissas\":[1,2,3,4,5,6,7,8,9],\"max_interval\":1,\"min_interval\":1,\"num_minor_ticks\":1},\"id\":\"9c3ed879-ec4f-4d0d-bc7a-a7aad58fbd0e\",\"type\":\"AdaptiveTicker\"},{\"attributes\":{},\"id\":\"d34fb61f-c06f-4bcb-9215-6239dd17a4ca\",\"type\":\"LinearScale\"},{\"attributes\":{\"source\":{\"id\":\"0ad2dddf-9a78-4810-9b50-1d1bb95672b6\",\"type\":\"ColumnDataSource\"}},\"id\":\"6916e5a0-ccf0-4504-9575-1cb4115dbefa\",\"type\":\"CDSView\"},{\"attributes\":{\"callback\":{\"id\":\"1853fca0-4b0c-47ad-aa1a-9ac09c3355f3\",\"type\":\"CustomJS\"},\"end\":42215442,\"start\":42090931},\"id\":\"73156444-239a-4911-bfb6-5e928c93ee2b\",\"type\":\"Range1d\"},{\"attributes\":{\"mantissas\":[1,2,3,4,5,6,7,8,9],\"max_interval\":4,\"min_interval\":4,\"num_minor_ticks\":4},\"id\":\"c1730f94-863e-4a25-bad8-b003de14cd73\",\"type\":\"AdaptiveTicker\"},{\"attributes\":{\"callback\":null,\"column_names\":[\"x\",\"y\",\"index\"],\"data\":{\"index\":[0,1,2,3,4,5,6,7,8,9,10,11,12,13,14,15,16,17,18,19,20,21,22,23,24,25,26,27,28,29,30,31,32,33,34,35,36,37,38,39,40,41,42,43,44,45,46,47,48,49,50,51,52,53,54,55,56,57,58,59,60,61,62,63,64,65,66,67,68,69,70,71,72,73,74,75,76,77,78,79,80,81,82,83,84,85,86,87,88,89,90,91,92,93,94,95,96,97,98,99,100,101,102,103,104,105,106,107,108,109,110,111,112,113,114,115,116,117,118,119,120,121],\"x\":[[42130612,42130791,42130791,42130906,42130906,42130791,42130791,42130612],[42129738,42129909,42129909,42129738],[42129033,42129185,42129185,42129033],[42128784,42128944,42128944,42128784],[42128174,42128350,42128350,42128174],[42127842,42127983,42127983,42127842],[42127447,42127634,42127634,42127447],[42126851,42126992,42126992,42126851],[42126499,42126577,42126577,42126752,42126752,42126577,42126577,42126499],[42130612,42130725,42130725,42130881,42130881,42130725,42130725,42130612],[42129738,42129909,42129909,42129738],[42129033,42129185,42129185,42129033],[42128784,42128944,42128944,42128784],[42128174,42128350,42128350,42128174],[42127842,42127983,42127983,42127842],[42127781,42127809,42127809,42127781],[42127447,42127662,42127662,42127447],[42126851,42126992,42126992,42126851],[42126501,42126577,42126577,42126752,42126752,42126577,42126577,42126501],[42130612,42130791,42130791,42130865,42130865,42130791,42130791,42130612],[42129738,42129909,42129909,42129738],[42128784,42128944,42128944,42128784],[42128174,42128350,42128350,42128174],[42127842,42127983,42127983,42127842],[42127447,42127634,42127634,42127447],[42126851,42126992,42126992,42126851],[42126556,42126577,42126577,42126752,42126752,42126577,42126577,42126556],[42209651,42215305,42215305,42215442,42215442,42215305,42215305,42209651],[42179609,42179702,42179702,42179609],[42169847,42169896,42169896,42169847],[42168609,42168656,42168656,42168736,42168736,42168656,42168656,42168609],[42160013,42161358,42161358,42160013],[42209651,42215305,42215305,42215440,42215440,42215305,42215305,42209651],[42179609,42179702,42179702,42179609],[42169847,42169896,42169896,42169847],[42161056,42161344,42161344,42161358,42161358,42161344,42161344,42161056],[42209651,42210208,42210208,42209651],[42179609,42179702,42179702,42179609],[42169847,42169896,42169896,42169847],[42168609,42168656,42168656,42168703,42168703,42168656,42168656,42168609],[42161098,42161358,42161358,42161098],[42144284,42144464,42144464,42144549,42144549,42144464,42144464,42144284],[42143410,42143581,42143581,42143410],[42142728,42142880,42142880,42142728],[42142479,42142639,42142639,42142479],[42141868,42142044,42142044,42141868],[42141534,42141675,42141675,42141534],[42141152,42141339,42141339,42141152],[42140555,42140696,42140696,42140555],[42140203,42140280,42140280,42140456,42140456,42140280,42140280,42140203],[42144284,42144464,42144464,42144577,42144577,42144464,42144464,42144284],[42143410,42143581,42143581,42143410],[42142728,42142880,42142880,42142728],[42142479,42142639,42142639,42142479],[42141868,42142044,42142044,42141868],[42141534,42141675,42141675,42141534],[42141152,42141396,42141396,42141152],[42140555,42140696,42140696,42140555],[42140203,42140280,42140280,42140456,42140456,42140280,42140280,42140203],[42144330,42144464,42144464,42144554,42144554,42144464,42144464,42144330],[42144284,42144328,42144328,42144284],[42143410,42143581,42143581,42143410],[42142479,42142639,42142639,42142479],[42141868,42142044,42142044,42141868],[42141534,42141675,42141675,42141534],[42141152,42141339,42141339,42141152],[42140555,42140696,42140696,42140555],[42140205,42140281,42140281,42140456,42140456,42140281,42140281,42140205],[42144330,42144464,42144464,42144577,42144577,42144464,42144464,42144330],[42144284,42144328,42144328,42144284],[42143410,42143581,42143581,42143410],[42142728,42142880,42142880,42142728],[42142479,42142639,42142639,42142479],[42141868,42142044,42142044,42141868],[42141534,42141675,42141675,42141534],[42141371,42141396,42141396,42141371],[42141152,42141367,42141367,42141152],[42140555,42140696,42140696,42140555],[42140205,42140281,42140281,42140456,42140456,42140281,42140281,42140205],[42154825,42155001,42155001,42154825],[42153029,42153200,42153200,42153029],[42152347,42152499,42152499,42152347],[42152096,42152258,42152258,42152096],[42151472,42151648,42151648,42151472],[42151144,42151285,42151285,42151144],[42150755,42150939,42150939,42150755],[42150163,42150304,42150304,42150163],[42149886,42150064,42150064,42149886],[42132543,42132998,42132998,42132543],[42139612,42139927,42139927,42139612],[42137987,42138105,42138105,42137987],[42136433,42136664,42136664,42136433],[42090931,42091181,42091181,42090931],[42091297,42091600,42091600,42091297],[42092119,42092232,42092232,42092119],[42124047,42124562,42124562,42124047],[42124875,42125407,42125407,42124875],[42136199,42136714,42136714,42136199],[42137027,42137742,42137742,42137027],[42091204,42091600,42091600,42091204],[42112306,42112390,42112390,42112306],[42122793,42122888,42122888,42122793],[42124047,42124130,42124130,42124047],[42124477,42124562,42124562,42124477],[42124875,42124959,42124959,42124875],[42091352,42091600,42091600,42091352],[42122793,42122888,42122888,42122793],[42123526,42123591,42123591,42123526],[42123766,42123804,42123804,42123766],[42124047,42124130,42124130,42124047],[42124520,42124562,42124562,42124520],[42124875,42124959,42124959,42124875],[42132031,42132190,42132190,42132031],[42132370,42132602,42132602,42132370],[42133040,42133090,42133090,42133040],[42135135,42135239,42135239,42135135],[42135678,42135743,42135743,42135678],[42136199,42136282,42136282,42136199],[42136672,42136714,42136714,42136672],[42137027,42137050,42137050,42137027],[42138060,42138282,42138282,42138060],[42139319,42139726,42139726,42139319]],\"y\":[[4.35,4.35,4.175,4.175,3.825,3.825,3.65,3.65],[4.35,4.35,3.65,3.65],[4.35,4.35,3.65,3.65],[4.35,4.35,3.65,3.65],[4.35,4.35,3.65,3.65],[4.35,4.35,3.65,3.65],[4.35,4.35,3.65,3.65],[4.35,4.35,3.65,3.65],[4.175,4.175,4.35,4.35,3.65,3.65,3.825,3.825],[2.35,2.35,2.175,2.175,1.825,1.825,1.65,1.65],[2.35,2.35,1.65,1.65],[2.35,2.35,1.65,1.65],[2.35,2.35,1.65,1.65],[2.35,2.35,1.65,1.65],[2.35,2.35,1.65,1.65],[2.35,2.35,1.65,1.65],[2.35,2.35,1.65,1.65],[2.35,2.35,1.65,1.65],[2.175,2.175,2.35,2.35,1.65,1.65,1.825,1.825],[0.35,0.35,0.175,0.175,-0.175,-0.175,-0.35,-0.35],[0.35,0.35,-0.35,-0.35],[0.35,0.35,-0.35,-0.35],[0.35,0.35,-0.35,-0.35],[0.35,0.35,-0.35,-0.35],[0.35,0.35,-0.35,-0.35],[0.35,0.35,-0.35,-0.35],[0.175,0.175,0.35,0.35,-0.35,-0.35,-0.175,-0.175],[4.35,4.35,4.175,4.175,3.825,3.825,3.65,3.65],[4.35,4.35,3.65,3.65],[4.35,4.35,3.65,3.65],[4.175,4.175,4.35,4.35,3.65,3.65,3.825,3.825],[4.175,4.175,3.825,3.825],[2.35,2.35,2.175,2.175,1.825,1.825,1.65,1.65],[2.35,2.35,1.65,1.65],[2.35,2.35,1.65,1.65],[2.175,2.175,2.35,2.35,1.65,1.65,1.825,1.825],[0.35,0.35,-0.35,-0.35],[0.35,0.35,-0.35,-0.35],[0.35,0.35,-0.35,-0.35],[0.175,0.175,0.35,0.35,-0.35,-0.35,-0.175,-0.175],[0.175,0.175,-0.175,-0.175],[0.35,0.35,0.175,0.175,-0.175,-0.175,-0.35,-0.35],[0.35,0.35,-0.35,-0.35],[0.35,0.35,-0.35,-0.35],[0.35,0.35,-0.35,-0.35],[0.35,0.35,-0.35,-0.35],[0.35,0.35,-0.35,-0.35],[0.35,0.35,-0.35,-0.35],[0.35,0.35,-0.35,-0.35],[0.175,0.175,0.35,0.35,-0.35,-0.35,-0.175,-0.175],[6.35,6.35,6.175,6.175,5.825,5.825,5.65,5.65],[6.35,6.35,5.65,5.65],[6.35,6.35,5.65,5.65],[6.35,6.35,5.65,5.65],[6.35,6.35,5.65,5.65],[6.35,6.35,5.65,5.65],[6.35,6.35,5.65,5.65],[6.35,6.35,5.65,5.65],[6.175,6.175,6.35,6.35,5.65,5.65,5.825,5.825],[2.35,2.35,2.175,2.175,1.825,1.825,1.65,1.65],[2.35,2.35,1.65,1.65],[2.35,2.35,1.65,1.65],[2.35,2.35,1.65,1.65],[2.35,2.35,1.65,1.65],[2.35,2.35,1.65,1.65],[2.35,2.35,1.65,1.65],[2.35,2.35,1.65,1.65],[2.175,2.175,2.35,2.35,1.65,1.65,1.825,1.825],[4.35,4.35,4.175,4.175,3.825,3.825,3.65,3.65],[4.35,4.35,3.65,3.65],[4.35,4.35,3.65,3.65],[4.35,4.35,3.65,3.65],[4.35,4.35,3.65,3.65],[4.35,4.35,3.65,3.65],[4.35,4.35,3.65,3.65],[4.35,4.35,3.65,3.65],[4.35,4.35,3.65,3.65],[4.35,4.35,3.65,3.65],[4.175,4.175,4.35,4.35,3.65,3.65,3.825,3.825],[0.175,0.175,-0.175,-0.175],[0.175,0.175,-0.175,-0.175],[0.175,0.175,-0.175,-0.175],[0.175,0.175,-0.175,-0.175],[0.175,0.175,-0.175,-0.175],[0.175,0.175,-0.175,-0.175],[0.175,0.175,-0.175,-0.175],[0.175,0.175,-0.175,-0.175],[0.175,0.175,-0.175,-0.175],[0.175,0.175,-0.175,-0.175],[2.175,2.175,1.825,1.825],[2.175,2.175,1.825,1.825],[2.175,2.175,1.825,1.825],[6.175,6.175,5.825,5.825],[6.175,6.175,5.825,5.825],[6.175,6.175,5.825,5.825],[6.175,6.175,5.825,5.825],[6.175,6.175,5.825,5.825],[6.175,6.175,5.825,5.825],[6.175,6.175,5.825,5.825],[2.175,2.175,1.825,1.825],[2.175,2.175,1.825,1.825],[2.175,2.175,1.825,1.825],[2.175,2.175,1.825,1.825],[2.175,2.175,1.825,1.825],[2.175,2.175,1.825,1.825],[0.175,0.175,-0.175,-0.175],[0.175,0.175,-0.175,-0.175],[0.175,0.175,-0.175,-0.175],[0.175,0.175,-0.175,-0.175],[0.175,0.175,-0.175,-0.175],[0.175,0.175,-0.175,-0.175],[0.175,0.175,-0.175,-0.175],[4.175,4.175,3.825,3.825],[4.175,4.175,3.825,3.825],[4.175,4.175,3.825,3.825],[4.175,4.175,3.825,3.825],[4.175,4.175,3.825,3.825],[4.175,4.175,3.825,3.825],[4.175,4.175,3.825,3.825],[4.175,4.175,3.825,3.825],[0.175,0.175,-0.175,-0.175],[0.175,0.175,-0.175,-0.175]]}},\"id\":\"81303a3d-1683-4398-8352-36825866df4c\",\"type\":\"ColumnDataSource\"},{\"attributes\":{\"args\":{\"source\":{\"id\":\"659c28c5-8420-4ea7-acf5-2889a4d21555\",\"type\":\"ColumnDataSource\"}},\"code\":\"\\nvar start = cb_obj.start;\\nvar end = cb_obj.end;\\nvar width = end - start;\\nvar threshold = 0.010000 * width;     // threshold factor is set from python-side configuration\\nvar intron_alpha = 1.000000;          // alpha value is set from python-side configuration\\n\\n// iterate over each intron\\nvar data = source.data;\\nfor (i=0; i<data[\\\"x\\\"].length; i++)\\n{\\n    // if the screen-space width is large enough, make the intron visible\\n    if(data[\\\"width\\\"][i] >= threshold)\\n        data[\\\"alpha\\\"][i] = intron_alpha;\\n    else\\n    // otherwise, make the intron fully transparent\\n        data[\\\"alpha\\\"][i] = 0;\\n}\\n\\nsource.change.emit();\\n\"},\"id\":\"1853fca0-4b0c-47ad-aa1a-9ac09c3355f3\",\"type\":\"CustomJS\"},{\"attributes\":{\"mantissas\":[1,2,3,4,5,6,7,8,9],\"max_interval\":3,\"min_interval\":3,\"num_minor_ticks\":3},\"id\":\"f5f058f2-01ae-4f3a-b6c8-dc31208d9ba6\",\"type\":\"AdaptiveTicker\"},{\"attributes\":{\"angle\":{\"field\":\"angle\",\"units\":\"deg\"},\"text\":{\"value\":\"v\"},\"text_align\":\"center\",\"text_alpha\":{\"field\":\"alpha\"},\"text_baseline\":\"middle\",\"text_color\":{\"value\":\"Black\"},\"text_font\":\"sans-serif\",\"text_font_size\":{\"value\":\"5pt\"},\"text_font_style\":\"bold\",\"x\":{\"field\":\"x\"},\"y\":{\"field\":\"y\"}},\"id\":\"3e83dad9-98d0-4aed-8e0e-70a8d9e7d13f\",\"type\":\"Text\"},{\"attributes\":{},\"id\":\"4db701f0-e656-422f-a555-0d7310ae688b\",\"type\":\"NumeralTickFormatter\"},{\"attributes\":{\"axis_label\":\"22\",\"formatter\":{\"id\":\"4db701f0-e656-422f-a555-0d7310ae688b\",\"type\":\"NumeralTickFormatter\"},\"plot\":{\"id\":\"569cf599-b7a9-444a-aa1e-8594b6a3e076\",\"subtype\":\"Figure\",\"type\":\"Plot\"},\"ticker\":{\"id\":\"28f85ac0-3353-4f14-beaa-7b81568e35b1\",\"type\":\"CompositeTicker\"}},\"id\":\"29007f2d-aeee-47a2-9b43-5170e18042d5\",\"type\":\"LinearAxis\"},{\"attributes\":{\"mantissas\":[1,2,3,4,5,6,7,8,9],\"min_interval\":5},\"id\":\"67a66a79-4c42-47d9-a0fc-eb516d11d7de\",\"type\":\"AdaptiveTicker\"},{\"attributes\":{},\"id\":\"af5a48d6-8b60-413a-a04b-056c4c059d7f\",\"type\":\"BasicTicker\"},{\"attributes\":{\"data_source\":{\"id\":\"c021a3ae-ff22-4e2a-9410-31f5d19310da\",\"type\":\"ColumnDataSource\"},\"glyph\":{\"id\":\"6cf3a14b-2ff9-40c5-a946-89bb36631d6a\",\"type\":\"Segment\"},\"hover_glyph\":null,\"muted_glyph\":null,\"name\":\"transcripts\",\"nonselection_glyph\":{\"id\":\"2f6c3471-8e90-4c85-a35a-3e261a50a6fb\",\"type\":\"Segment\"},\"selection_glyph\":null,\"view\":{\"id\":\"5619b8fd-470d-4a41-9949-d40a1b09d24d\",\"type\":\"CDSView\"}},\"id\":\"a1ff5ae4-eb6d-4bd4-9a78-55cf465ac9ea\",\"type\":\"GlyphRenderer\"},{\"attributes\":{\"tickers\":[{\"id\":\"9c3ed879-ec4f-4d0d-bc7a-a7aad58fbd0e\",\"type\":\"AdaptiveTicker\"},{\"id\":\"1b940203-153a-4dec-8809-9e514e86d5d0\",\"type\":\"AdaptiveTicker\"},{\"id\":\"f5f058f2-01ae-4f3a-b6c8-dc31208d9ba6\",\"type\":\"AdaptiveTicker\"},{\"id\":\"c1730f94-863e-4a25-bad8-b003de14cd73\",\"type\":\"AdaptiveTicker\"},{\"id\":\"67a66a79-4c42-47d9-a0fc-eb516d11d7de\",\"type\":\"AdaptiveTicker\"}]},\"id\":\"28f85ac0-3353-4f14-beaa-7b81568e35b1\",\"type\":\"CompositeTicker\"},{\"attributes\":{\"grid_line_color\":{\"value\":null},\"plot\":{\"id\":\"569cf599-b7a9-444a-aa1e-8594b6a3e076\",\"subtype\":\"Figure\",\"type\":\"Plot\"},\"ticker\":{\"id\":\"af5a48d6-8b60-413a-a04b-056c4c059d7f\",\"type\":\"BasicTicker\"}},\"id\":\"bf2b3b75-b95a-4cf9-8154-3a71ea64637a\",\"type\":\"Grid\"},{\"attributes\":{\"callback\":null,\"column_names\":[\"x0\",\"y0\",\"x1\",\"y1\",\"index\"],\"data\":{\"index\":[0,1,2,3,4,5,6,7,8,9,10,11,12,13,14,15,16,17],\"x0\":[42126498,42126500,42126555,42160012,42161055,42161097,42140202,42140202,42140204,42140204,42149885,42132542,42136432,42090930,42091203,42091351,42132030,42138059],\"x1\":[42130906,42130881,42130865,42215442,42215440,42210208,42144549,42144577,42144554,42144577,42155001,42132998,42139927,42137742,42124959,42124959,42137050,42139726],\"y0\":[4,2,0,4,2,0,0,6,2,4,0,0,2,6,2,0,4,0],\"y1\":[4,2,0,4,2,0,0,6,2,4,0,0,2,6,2,0,4,0]}},\"id\":\"c021a3ae-ff22-4e2a-9410-31f5d19310da\",\"type\":\"ColumnDataSource\"},{\"attributes\":{\"formatter\":{\"id\":\"e4a71250-ad5f-4ee0-a3de-07a7ae794c14\",\"type\":\"BasicTickFormatter\"},\"plot\":{\"id\":\"569cf599-b7a9-444a-aa1e-8594b6a3e076\",\"subtype\":\"Figure\",\"type\":\"Plot\"},\"ticker\":{\"id\":\"ed8e02d0-7ee7-478e-8189-632f3202f98f\",\"type\":\"BasicTicker\"},\"visible\":false},\"id\":\"25540488-d49b-49fe-ae4e-ed691155ab2f\",\"type\":\"LinearAxis\"},{\"attributes\":{},\"id\":\"ed8e02d0-7ee7-478e-8189-632f3202f98f\",\"type\":\"BasicTicker\"},{\"attributes\":{\"dimension\":1,\"grid_line_color\":{\"value\":null},\"plot\":{\"id\":\"569cf599-b7a9-444a-aa1e-8594b6a3e076\",\"subtype\":\"Figure\",\"type\":\"Plot\"},\"ticker\":{\"id\":\"ed8e02d0-7ee7-478e-8189-632f3202f98f\",\"type\":\"BasicTicker\"}},\"id\":\"9c71b091-26ca-4a4f-a210-993ab62d886e\",\"type\":\"Grid\"},{\"attributes\":{\"dimensions\":\"width\"},\"id\":\"555dba76-e666-4012-9bee-4e6a24b2c7a4\",\"type\":\"PanTool\"},{\"attributes\":{\"line_alpha\":{\"value\":0.1},\"line_color\":{\"value\":\"#1f77b4\"},\"x0\":{\"field\":\"x0\"},\"x1\":{\"field\":\"x1\"},\"y0\":{\"field\":\"y0\"},\"y1\":{\"field\":\"y1\"}},\"id\":\"2f6c3471-8e90-4c85-a35a-3e261a50a6fb\",\"type\":\"Segment\"},{\"attributes\":{\"below\":[{\"id\":\"29007f2d-aeee-47a2-9b43-5170e18042d5\",\"type\":\"LinearAxis\"}],\"left\":[{\"id\":\"25540488-d49b-49fe-ae4e-ed691155ab2f\",\"type\":\"LinearAxis\"}],\"outline_line_alpha\":{\"value\":0},\"plot_height\":155,\"plot_width\":800,\"renderers\":[{\"id\":\"29007f2d-aeee-47a2-9b43-5170e18042d5\",\"type\":\"LinearAxis\"},{\"id\":\"bf2b3b75-b95a-4cf9-8154-3a71ea64637a\",\"type\":\"Grid\"},{\"id\":\"25540488-d49b-49fe-ae4e-ed691155ab2f\",\"type\":\"LinearAxis\"},{\"id\":\"9c71b091-26ca-4a4f-a210-993ab62d886e\",\"type\":\"Grid\"},{\"id\":\"dd8aca2c-84c5-451d-a710-9f21b156b567\",\"type\":\"BoxAnnotation\"},{\"id\":\"a1ff5ae4-eb6d-4bd4-9a78-55cf465ac9ea\",\"type\":\"GlyphRenderer\"},{\"id\":\"61b48d80-85b9-4594-ac20-e7c3949e7633\",\"type\":\"GlyphRenderer\"},{\"id\":\"5140b98f-6245-4d4e-850c-4bb451eb6da9\",\"type\":\"GlyphRenderer\"},{\"id\":\"a56cde9f-f494-45fe-b0f2-7ccd1f62a0f9\",\"type\":\"GlyphRenderer\"}],\"title\":{\"id\":\"e63be644-e0b2-4ba4-b6c1-b7b00fd645d4\",\"type\":\"Title\"},\"toolbar\":{\"id\":\"fd80d954-0a98-42e7-b90a-e8186c73cb9f\",\"type\":\"Toolbar\"},\"x_range\":{\"id\":\"73156444-239a-4911-bfb6-5e928c93ee2b\",\"type\":\"Range1d\"},\"x_scale\":{\"id\":\"b8644deb-fb9a-435d-a18a-b6b44f68ebbe\",\"type\":\"LinearScale\"},\"y_range\":{\"id\":\"f987c98d-2df0-461b-80c6-885315215a7d\",\"type\":\"Range1d\"},\"y_scale\":{\"id\":\"d34fb61f-c06f-4bcb-9215-6239dd17a4ca\",\"type\":\"LinearScale\"}},\"id\":\"569cf599-b7a9-444a-aa1e-8594b6a3e076\",\"subtype\":\"Figure\",\"type\":\"Plot\"},{\"attributes\":{\"bottom_units\":\"screen\",\"fill_alpha\":{\"value\":0.5},\"fill_color\":{\"value\":\"lightgrey\"},\"left_units\":\"screen\",\"level\":\"overlay\",\"line_alpha\":{\"value\":1.0},\"line_color\":{\"value\":\"black\"},\"line_dash\":[4,4],\"line_width\":{\"value\":2},\"plot\":null,\"render_mode\":\"css\",\"right_units\":\"screen\",\"top_units\":\"screen\"},\"id\":\"dd8aca2c-84c5-451d-a710-9f21b156b567\",\"type\":\"BoxAnnotation\"},{\"attributes\":{},\"id\":\"e4a71250-ad5f-4ee0-a3de-07a7ae794c14\",\"type\":\"BasicTickFormatter\"},{\"attributes\":{\"dimensions\":\"width\"},\"id\":\"388baa33-d1f5-4b28-a1df-30c2b8481729\",\"type\":\"WheelZoomTool\"},{\"attributes\":{\"dimensions\":\"width\",\"overlay\":{\"id\":\"dd8aca2c-84c5-451d-a710-9f21b156b567\",\"type\":\"BoxAnnotation\"}},\"id\":\"a24c4175-dc02-4b30-ba4e-d743dfe25d12\",\"type\":\"BoxZoomTool\"},{\"attributes\":{},\"id\":\"2e24c2f4-d022-40a8-ad0a-72c318ebb323\",\"type\":\"SaveTool\"},{\"attributes\":{},\"id\":\"d09b13ad-2197-4770-8013-324ccc216ece\",\"type\":\"ResetTool\"},{\"attributes\":{\"callback\":null,\"column_names\":[\"x\",\"y\",\"angle\",\"width\",\"alpha\",\"index\"],\"data\":{\"alpha\":{\"__ndarray__\":\"AAAAAAAAAAAAAAAAAAAAAAAAAAAAAAAAAAAAAAAAAAAAAAAAAAAAAAAAAAAAAAAAAAAAAAAAAAAAAAAAAAAAAAAAAAAAAAAAAAAAAAAAAAAAAAAAAAAAAAAAAAAAAAAAAAAAAAAAAAAAAAAAAAAAAAAAAAAAAAAAAAAAAAAAAAAAAAAAAAAAAAAAAAAAAAAAAAAAAAAAAAAAAAAAAAAAAAAAAAAAAAAAAAAAAAAAAAAAAAAAAAAAAAAAAAAAAAAAAAAAAAAA8D8AAAAAAAAAAAAAAAAAAPA/AAAAAAAA8D8AAAAAAADwPwAAAAAAAPA/AAAAAAAA8D8AAAAAAADwPwAAAAAAAAAAAAAAAAAA8D8AAAAAAADwPwAAAAAAAAAAAAAAAAAAAAAAAAAAAAAAAAAAAAAAAAAAAAAAAAAAAAAAAAAAAAAAAAAAAAAAAAAAAAAAAAAAAAAAAAAAAAAAAAAAAAAAAAAAAAAAAAAAAAAAAAAAAAAAAAAAAAAAAAAAAAAAAAAAAAAAAAAAAAAAAAAAAAAAAAAAAAAAAAAAAAAAAAAAAAAAAAAAAAAAAAAAAAAAAAAAAAAAAAAAAAAAAAAAAAAAAAAAAAAAAAAAAAAAAAAAAAAAAAAAAAAAAAAAAAAAAAAAAAAAAAAAAAAAAAAAAAAAAAAAAAAAAAAAAAAAAAAAAAAAAAAAAAAAAAAAAAAAAAAAAAAAAAAAAAAAAAAAAAAAAAAAAAAAAAAAAAAAAAAAAAAAAAAAAAAAAAAAAAAAAAAAAAAAAAAAAAAAAAAAAAAAAAAAAAAAAAAAAAAAAAAAAADwPwAAAAAAAPA/AAAAAAAA8D8AAAAAAAAAAAAAAAAAAAAAAAAAAAAA8D8AAAAAAAAAAAAAAAAAAPA/AAAAAAAAAAAAAAAAAADwPwAAAAAAAPA/AAAAAAAAAAAAAAAAAAAAAAAAAAAAAAAAAAAAAAAA8D8AAAAAAAAAAAAAAAAAAAAAAAAAAAAAAAAAAAAAAAAAAAAAAAAAAAAAAAAAAAAAAAAAAAAAAAAAAAAAAAAAAPA/AAAAAAAAAAAAAAAAAAAAAAAAAAAAAAAAAAAAAAAAAAAAAAAAAAAAAA==\",\"dtype\":\"float64\",\"shape\":[104]},\"angle\":{\"__ndarray__\":\"AAAAAACAVsAAAAAAAIBWwAAAAAAAgFbAAAAAAACAVsAAAAAAAIBWwAAAAAAAgFbAAAAAAACAVsAAAAAAAIBWwAAAAAAAgFbAAAAAAACAVsAAAAAAAIBWwAAAAAAAgFbAAAAAAACAVsAAAAAAAIBWwAAAAAAAgFbAAAAAAACAVsAAAAAAAIBWwAAAAAAAgFbAAAAAAACAVsAAAAAAAIBWwAAAAAAAgFbAAAAAAACAVsAAAAAAAIBWwAAAAAAAgFbAAAAAAACAVsAAAAAAAIBWwAAAAAAAgFbAAAAAAACAVsAAAAAAAIBWwAAAAAAAgFbAAAAAAACAVsAAAAAAAIBWwAAAAAAAgFbAAAAAAACAVsAAAAAAAIBWwAAAAAAAgFbAAAAAAACAVsAAAAAAAIBWwAAAAAAAgFbAAAAAAACAVsAAAAAAAIBWwAAAAAAAgFbAAAAAAACAVsAAAAAAAIBWwAAAAAAAgFbAAAAAAACAVsAAAAAAAIBWwAAAAAAAgFbAAAAAAACAVsAAAAAAAIBWwAAAAAAAgFbAAAAAAACAVsAAAAAAAIBWwAAAAAAAgFbAAAAAAACAVsAAAAAAAIBWwAAAAAAAgFbAAAAAAACAVsAAAAAAAIBWwAAAAAAAgFbAAAAAAACAVsAAAAAAAIBWwAAAAAAAgFbAAAAAAACAVsAAAAAAAIBWwAAAAAAAgFbAAAAAAACAVsAAAAAAAIBWwAAAAAAAgFbAAAAAAACAVsAAAAAAAIBWwAAAAAAAgFbAAAAAAACAVsAAAAAAAIBWwAAAAAAAgFbAAAAAAACAVsAAAAAAAIBWwAAAAAAAgFbAAAAAAACAVsAAAAAAAIBWQAAAAAAAgFZAAAAAAACAVkAAAAAAAIBWQAAAAAAAgFZAAAAAAACAVkAAAAAAAIBWQAAAAAAAgFZAAAAAAACAVkAAAAAAAIBWQAAAAAAAgFZAAAAAAACAVkAAAAAAAIBWQAAAAAAAgFZAAAAAAACAVkAAAAAAAIBWQAAAAAAAgFZAAAAAAACAVkAAAAAAAIBWQAAAAAAAgFZAAAAAAACAVkAAAAAAAIBWQAAAAAAAgFZAAAAAAACAVkAAAAAAAIBWQA==\",\"dtype\":\"float64\",\"shape\":[104]},\"index\":[0,1,2,3,4,5,6,7,8,9,10,11,12,13,14,15,16,17,18,19,20,21,22,23,24,25,26,27,28,29,30,31,32,33,34,35,36,37,38,39,40,41,42,43,44,45,46,47,48,49,50,51,52,53,54,55,56,57,58,59,60,61,62,63,64,65,66,67,68,69,70,71,72,73,74,75,76,77,78,79,80,81,82,83,84,85,86,87,88,89,90,91,92,93,94,95,96,97,98,99,100,101,102,103],\"width\":{\"__ndarray__\":\"AAAAAADAWEAAAAAAAHB8QAAAAAAAAGpAAAAAAADgZ0AAAAAAACB7QAAAAAAAQFZAAAAAAABIgUAAAAAAAPiFQAAAAAAAwFhAAAAAAABwfEAAAAAAAMBdQAAAAAAAgEBAAAAAAADgZ0AAAAAAACB7QAAAAAAAQFZAAAAAAABIgUAAAAAAAPiFQAAAAAAAwFhAAAAAAABwfEAAAAAAAABqQAAAAAAA4GdAAAAAAAAge0AAAAAAANCIQAAAAAAA+IVAAAAAAABTvEAAAAAAAFyRQAAAAACA+MJAAAAAAEA/3UAAAAAAgJTAQAAAAACA+MJAAAAAAEA/3UAAAAAAAFO8QAAAAAAA4JFAAAAAAID4wkAAAAAAQD/dQAAAAAAAwFhAAAAAAACAfEAAAAAAAGBoQAAAAAAAIGhAAAAAAAAwe0AAAAAAAEBWQAAAAAAAkIBAAAAAAAD4hUAAAAAAAMBYQAAAAAAAgHxAAAAAAABAYUAAAAAAACBoQAAAAAAAMHtAAAAAAABAVkAAAAAAAJCAQAAAAAAA+IVAAAAAAADAWEAAAAAAAIB8QAAAAAAAYGhAAAAAAAAgaEAAAAAAADB7QAAAAAAAGIhAAAAAAAD4hUAAAAAAAAAAQAAAAAAAwFhAAAAAAACAfEAAAAAAAAAQQAAAAAAAQGFAAAAAAAAgaEAAAAAAADB7QAAAAAAAQFZAAAAAAACQgEAAAAAAAPiFQAAAAAAAAABAAAAAAADAWEAAAAAAADB8QAAAAAAAoGlAAAAAAABgZ0AAAAAAAAB8QAAAAAAAQFZAAAAAAACQgEAAAAAAAGSZQAAAAAAArJRAAAAAAACMl0AAAAAAAABdQAAAAAAAOIBAAAAAAMAR30AAAAAAAJBzQAAAAAAAFMVAAAAAAACQc0AAAAAAgDjUQAAAAACAUcRAAAAAAAAckkAAAAAAALB1QAAAAAAAkHNAAAAAAEB23kAAAAAAAPCDQAAAAAAA4GVAAAAAAABgbkAAAAAAAGB4QAAAAAAAkHNAAAAAAACAZkAAAAAAAGB7QAAAAAAA9J9AAAAAAABwe0AAAAAAAIB8QAAAAAAAYHhAAAAAAACQc0AAAAAAADSQQA==\",\"dtype\":\"float64\",\"shape\":[104]},\"x\":{\"__ndarray__\":\"AAAAjG4WhEEAAACcexaEQQAAANCLFoRBAAAAdJYWhEEAAAC4pRaEQQAAAOSyFoRBAAAArMEWhEEAAACk2haEQQAAAIxuFoRBAAAAnHsWhEEAAABMixaEQQAAAIyOFoRBAAAAdJYWhEEAAAC4pRaEQQAAAOSyFoRBAAAArMEWhEEAAACk2haEQQAAAIxuFoRBAAAAnHsWhEEAAADQixaEQQAAAHSWFoRBAAAAuKUWhEEAAADovRaEQQAAAKTaFoRBAAAAvBcbhEEAAABcnhuEQQAAAARJHIRBAAAApLcehEEAAAAUKxuEQQAAAARJHIRBAAAApLcehEEAAAC8FxuEQQAAANidG4RBAAAABEkchEEAAACktx6EQQAAAMwaGIRBAAAA4CcYhEEAAADkNxiEQQAAAFxCGIRBAAAArFEYhEEAAADcXhiEQQAAAEhtGIRBAAAA5IUYhEEAAADMGhiEQQAAAOAnGIRBAAAAyDgYhEEAAABcQhiEQQAAAKxRGIRBAAAA3F4YhEEAAABIbRiEQQAAAOSFGIRBAAAAzBoYhEEAAADgJxiEQQAAAOQ3GIRBAAAAXEIYhEEAAACsURiEQQAAAIRpGIRBAAAA5IUYhEEAAABIkhiEQQAAAMwaGIRBAAAA4CcYhEEAAADINRiEQQAAAMg4GIRBAAAAXEIYhEEAAACsURiEQQAAANxeGIRBAAAASG0YhEEAAADkhRiEQQAAAEiSGIRBAAAADEcZhEEAAAAMVBmEQQAAAAxkGYRBAAAAlG4ZhEEAAAAAfhmEQQAAAHSLGYRBAAAA4JkZhEEAAADkwBmEQQAAAGy3F4RBAAAAVOcXhEEAAAA4FxKEQQAAAJwqEoRBAAAAXCcUhEEAAAB0LRaEQQAAAJjrFoRBAAAANKkXhEEAAAAIZhOEQQAAALxOFYRBAAAAXAYWhEEAAAB8IBaEQQAAAHQtFoRBAAAA5AkUhEEAAAA4/hWEQQAAAPQMFoRBAAAArBQWhEEAAAAoIRaEQQAAAHQtFoRBAAAAwBkXhEEAAACoKheEQQAAAARTF4RBAAAAFH0XhEEAAAAYjReEQQAAAOicF4RBAAAANKkXhEEAAACE5ReEQQ==\",\"dtype\":\"float64\",\"shape\":[104]},\"y\":{\"__ndarray__\":\"AAAAAAAAEEAAAAAAAAAQQAAAAAAAABBAAAAAAAAAEEAAAAAAAAAQQAAAAAAAABBAAAAAAAAAEEAAAAAAAAAQQAAAAAAAAABAAAAAAAAAAEAAAAAAAAAAQAAAAAAAAABAAAAAAAAAAEAAAAAAAAAAQAAAAAAAAABAAAAAAAAAAEAAAAAAAAAAQAAAAAAAAAAAAAAAAAAAAAAAAAAAAAAAAAAAAAAAAAAAAAAAAAAAAAAAAAAAAAAAAAAAAAAAAAAAAAAAAAAAEEAAAAAAAAAQQAAAAAAAABBAAAAAAAAAEEAAAAAAAAAAQAAAAAAAAABAAAAAAAAAAEAAAAAAAAAAAAAAAAAAAAAAAAAAAAAAAAAAAAAAAAAAAAAAAAAAAAAAAAAAAAAAAAAAAAAAAAAAAAAAAAAAAAAAAAAAAAAAAAAAAAAAAAAAAAAAAAAAAAAAAAAAAAAAAAAAAAAAAAAYQAAAAAAAABhAAAAAAAAAGEAAAAAAAAAYQAAAAAAAABhAAAAAAAAAGEAAAAAAAAAYQAAAAAAAABhAAAAAAAAAAEAAAAAAAAAAQAAAAAAAAABAAAAAAAAAAEAAAAAAAAAAQAAAAAAAAABAAAAAAAAAAEAAAAAAAAAAQAAAAAAAABBAAAAAAAAAEEAAAAAAAAAQQAAAAAAAABBAAAAAAAAAEEAAAAAAAAAQQAAAAAAAABBAAAAAAAAAEEAAAAAAAAAQQAAAAAAAABBAAAAAAAAAAAAAAAAAAAAAAAAAAAAAAAAAAAAAAAAAAAAAAAAAAAAAAAAAAAAAAAAAAAAAAAAAAAAAAAAAAAAAAAAAAAAAAABAAAAAAAAAAEAAAAAAAAAYQAAAAAAAABhAAAAAAAAAGEAAAAAAAAAYQAAAAAAAABhAAAAAAAAAGEAAAAAAAAAAQAAAAAAAAABAAAAAAAAAAEAAAAAAAAAAQAAAAAAAAABAAAAAAAAAAAAAAAAAAAAAAAAAAAAAAAAAAAAAAAAAAAAAAAAAAAAAAAAAAAAAAAAAAAAAAAAAEEAAAAAAAAAQQAAAAAAAABBAAAAAAAAAEEAAAAAAAAAQQAAAAAAAABBAAAAAAAAAEEAAAAAAAAAAAA==\",\"dtype\":\"float64\",\"shape\":[104]}}},\"id\":\"659c28c5-8420-4ea7-acf5-2889a4d21555\",\"type\":\"ColumnDataSource\"}],\"root_ids\":[\"569cf599-b7a9-444a-aa1e-8594b6a3e076\"]},\"title\":\"Bokeh Application\",\"version\":\"0.12.10\"}};\n",
       "    var render_items = [{\"docid\":\"95664d3f-9ac7-441b-b928-ad3178683876\",\"elementid\":\"94430f7b-9f03-400f-a250-f5ff1c30b3c9\",\"modelid\":\"569cf599-b7a9-444a-aa1e-8594b6a3e076\"}];\n",
       "\n",
       "    root.Bokeh.embed.embed_items(docs_json, render_items);\n",
       "  }\n",
       "\n",
       "  if (root.Bokeh !== undefined) {\n",
       "    embed_document(root);\n",
       "  } else {\n",
       "    var attempts = 0;\n",
       "    var timer = setInterval(function(root) {\n",
       "      if (root.Bokeh !== undefined) {\n",
       "        embed_document(root);\n",
       "        clearInterval(timer);\n",
       "      }\n",
       "      attempts++;\n",
       "      if (attempts > 100) {\n",
       "        console.log(\"Bokeh: ERROR: Unable to embed document because BokehJS library is missing\")\n",
       "        clearInterval(timer);\n",
       "      }\n",
       "    }, 10, root)\n",
       "  }\n",
       "})(window);"
      ],
      "application/vnd.bokehjs_exec.v0+json": ""
     },
     "metadata": {
      "application/vnd.bokehjs_exec.v0+json": {
       "id": "569cf599-b7a9-444a-aa1e-8594b6a3e076"
      }
     },
     "output_type": "display_data"
    }
   ],
   "source": [
    "fig = make_plot(transcripts_from_pyensembl(genome, \"chr22\", 42124000, 42180000))\n",
    "show(fig.figure)"
   ]
  },
  {
   "cell_type": "markdown",
   "metadata": {},
   "source": [
    "# Do the same using GFFUtils as the data source"
   ]
  },
  {
   "cell_type": "code",
   "execution_count": 5,
   "metadata": {
    "collapsed": true
   },
   "outputs": [],
   "source": [
    "import gffutils\n",
    "import sqlite3\n",
    "\n",
    "from gene_viz.utils import transcripts_from_gffutils"
   ]
  },
  {
   "cell_type": "markdown",
   "metadata": {},
   "source": [
    "## Set up a GFFUtils database using the same annotation data"
   ]
  },
  {
   "cell_type": "code",
   "execution_count": 6,
   "metadata": {
    "collapsed": true
   },
   "outputs": [],
   "source": [
    "# note:\n",
    "# database creation using gffutils is slower than pyensembl on the same dataset\n",
    "try:\n",
    "    gffutils.create_db(\n",
    "        \"gencode.v27.basic.annotation.gtf.gz\",\n",
    "        \"gencode.v27.basic.sqlite\",\n",
    "        keep_order=True,\n",
    "        disable_infer_genes=True, disable_infer_transcripts=True)\n",
    "except (sqlite3.OperationalError, AttributeError):\n",
    "    pass"
   ]
  },
  {
   "cell_type": "code",
   "execution_count": 7,
   "metadata": {
    "collapsed": true
   },
   "outputs": [],
   "source": [
    "# connect\n",
    "db = gffutils.FeatureDB(\"gencode.v27.basic.sqlite\")\n",
    "gffutils.constants.always_return_list = False"
   ]
  },
  {
   "cell_type": "markdown",
   "metadata": {},
   "source": [
    "## Perform a query and visualize the results"
   ]
  },
  {
   "cell_type": "code",
   "execution_count": 8,
   "metadata": {},
   "outputs": [
    {
     "data": {
      "text/html": [
       "\n",
       "<div class=\"bk-root\">\n",
       "    <div class=\"bk-plotdiv\" id=\"fcd15d92-7871-4536-a76f-d1c13904ce70\"></div>\n",
       "</div>"
      ]
     },
     "metadata": {},
     "output_type": "display_data"
    },
    {
     "data": {
      "application/javascript": [
       "(function(root) {\n",
       "  function embed_document(root) {\n",
       "    var docs_json = {\"182bf378-2d51-4f1e-8724-b32b22cf51c4\":{\"roots\":{\"references\":[{\"attributes\":{\"text\":{\"field\":\"label\"},\"text_align\":\"center\",\"text_alpha\":{\"value\":0.1},\"text_baseline\":\"middle\",\"text_color\":{\"value\":\"black\"},\"text_font\":\"monospace\",\"text_font_size\":{\"value\":\"6pt\"},\"x\":{\"field\":\"x\"},\"y\":{\"field\":\"y\"}},\"id\":\"5b6260c3-6d2c-4ab0-addc-940e8e1830c1\",\"type\":\"Text\"},{\"attributes\":{},\"id\":\"9bcbb465-8db4-4a87-a742-44e8ebbf595e\",\"type\":\"NumeralTickFormatter\"},{\"attributes\":{\"callback\":null,\"column_names\":[\"x\",\"y\",\"label\",\"index\"],\"data\":{\"index\":[0,1,2,3,4,5,6,7,8,9,10,11,12,13,14,15,16,17],\"label\":[\"NDUFA6-AS1-203\",\"NDUFA6-AS1-207\",\"NDUFA6-AS1-208\",\"NDUFA6-AS1-216\",\"CYP2D6-201\",\"CYP2D6-203\",\"CYP2D6-204\",\"AC254562.1-201\",\"AC254562.2-201\",\"AC254562.3-201\",\"CYP2D7-201\",\"CYP2D7-203\",\"CYP2D7-207\",\"CYP2D7-208\",\"CYP2D8P-201\",\"TCF20-201\",\"TCF20-202\",\"TCF20-203\"],\"x\":[42114336.5,42108081.5,42108155.5,42134540.5,42128710.5,42128702.5,42128691.0,42132770.5,42138180.0,42138893.0,42142376.0,42142390.0,42142391.0,42142379.5,42152443.5,42188248.0,42187727.5,42185653.0],\"y\":[5,1,-1,3,-1,3,1,-1,1,-1,-1,5,3,1,-1,1,3,-1]}},\"id\":\"2f5f2925-c555-4a61-a319-33c11b487746\",\"type\":\"ColumnDataSource\"},{\"attributes\":{\"bottom_units\":\"screen\",\"fill_alpha\":{\"value\":0.5},\"fill_color\":{\"value\":\"lightgrey\"},\"left_units\":\"screen\",\"level\":\"overlay\",\"line_alpha\":{\"value\":1.0},\"line_color\":{\"value\":\"black\"},\"line_dash\":[4,4],\"line_width\":{\"value\":2},\"plot\":null,\"render_mode\":\"css\",\"right_units\":\"screen\",\"top_units\":\"screen\"},\"id\":\"931fa12c-e4de-4983-b06f-8f5d7db1dd7e\",\"type\":\"BoxAnnotation\"},{\"attributes\":{\"tickers\":[{\"id\":\"84ad9798-2de7-4955-8f68-6b789d22f6f5\",\"type\":\"AdaptiveTicker\"},{\"id\":\"4122bca3-01c8-4a2c-a71e-af3a3f1c67c1\",\"type\":\"AdaptiveTicker\"},{\"id\":\"58a4327b-ea7a-4b70-991c-63149fa6b859\",\"type\":\"AdaptiveTicker\"},{\"id\":\"ec403805-d8a0-464e-bc86-164a7f227ca9\",\"type\":\"AdaptiveTicker\"},{\"id\":\"a49dc077-82a7-4db8-b001-217463201f45\",\"type\":\"AdaptiveTicker\"}]},\"id\":\"82c82f58-5b68-42f1-8352-b2d56cd995e9\",\"type\":\"CompositeTicker\"},{\"attributes\":{\"callback\":null,\"column_names\":[\"x\",\"y\",\"angle\",\"width\",\"alpha\",\"index\"],\"data\":{\"alpha\":{\"__ndarray__\":\"AAAAAAAAAAAAAAAAAAAAAAAAAAAAAPA/AAAAAAAAAAAAAAAAAADwPwAAAAAAAAAAAAAAAAAA8D8AAAAAAADwPwAAAAAAAAAAAAAAAAAAAAAAAAAAAAAAAAAAAAAAAPA/AAAAAAAAAAAAAAAAAAAAAAAAAAAAAAAAAAAAAAAAAAAAAAAAAAAAAAAAAAAAAAAAAAAAAAAAAAAAAAAAAADwPwAAAAAAAAAAAAAAAAAAAAAAAAAAAAAAAAAAAAAAAAAAAAAAAAAAAAAAAAAAAAAAAAAAAAAAAAAAAAAAAAAAAAAAAAAAAAAAAAAAAAAAAAAAAAAAAAAAAAAAAAAAAAAAAAAAAAAAAAAAAAAAAAAAAAAAAAAAAAAAAAAAAAAAAAAAAAAAAAAAAAAAAAAAAAAAAAAAAAAAAAAAAAAAAAAAAAAAAAAAAAAAAAAAAAAAAAAAAAAAAAAAAAAAAAAAAAAAAAAAAAAAAAAAAAAAAAAAAAAAAAAAAAAAAAAAAAAAAAAAAAAAAAAA8D8AAAAAAADwPwAAAAAAAAAAAAAAAAAAAAAAAAAAAAAAAAAAAAAAAAAAAAAAAAAAAAAAAAAAAAAAAAAAAAAAAAAAAAAAAAAAAAAAAAAAAAAAAAAAAAAAAAAAAAAAAAAAAAAAAAAAAAAAAAAAAAAAAAAAAAAAAAAAAAAAAAAAAAAAAAAAAAAAAAAAAAAAAAAAAAAAAAAAAAAAAAAAAAAAAAAAAAAAAAAAAAAAAAAAAAAAAAAAAAAAAAAAAAAAAAAAAAAAAAAAAAAAAAAAAAAAAAAAAAAAAAAAAAAAAAAAAAAAAAAAAAAAAAAAAAAAAAAAAAAAAAAAAAAAAAAAAAAAAAAAAAAAAAAAAAAAAAAAAAAAAAAAAAAAAAAAAAAAAAAAAAAAAAAAAAAAAAAAAAAAAAAAAAAAAAAAAAAAAAAAAAAAAAAAAAAAAAAAAAAAAAAAAAAAAAAAAAAAAAAAAAAAAPA/AAAAAAAA8D8AAAAAAADwPwAAAAAAAPA/AAAAAAAA8D8AAAAAAAAAAAAAAAAAAPA/AAAAAAAA8D8AAAAAAADwPwAAAAAAAAAAAAAAAAAA8D8AAAAAAADwPw==\",\"dtype\":\"float64\",\"shape\":[104]},\"angle\":{\"__ndarray__\":\"AAAAAACAVkAAAAAAAIBWQAAAAAAAgFZAAAAAAACAVkAAAAAAAIBWQAAAAAAAgFZAAAAAAACAVkAAAAAAAIBWQAAAAAAAgFZAAAAAAACAVkAAAAAAAIBWQAAAAAAAgFZAAAAAAACAVkAAAAAAAIBWQAAAAAAAgFZAAAAAAACAVkAAAAAAAIBWQAAAAAAAgFZAAAAAAACAVkAAAAAAAIBWQAAAAAAAgFZAAAAAAACAVkAAAAAAAIBWQAAAAAAAgFZAAAAAAACAVsAAAAAAAIBWwAAAAAAAgFbAAAAAAACAVsAAAAAAAIBWwAAAAAAAgFbAAAAAAACAVsAAAAAAAIBWwAAAAAAAgFbAAAAAAACAVsAAAAAAAIBWwAAAAAAAgFbAAAAAAACAVsAAAAAAAIBWwAAAAAAAgFbAAAAAAACAVsAAAAAAAIBWwAAAAAAAgFbAAAAAAACAVsAAAAAAAIBWwAAAAAAAgFbAAAAAAACAVsAAAAAAAIBWwAAAAAAAgFbAAAAAAACAVsAAAAAAAIBWwAAAAAAAgFZAAAAAAACAVsAAAAAAAIBWwAAAAAAAgFbAAAAAAACAVsAAAAAAAIBWwAAAAAAAgFbAAAAAAACAVsAAAAAAAIBWwAAAAAAAgFbAAAAAAACAVsAAAAAAAIBWwAAAAAAAgFbAAAAAAACAVsAAAAAAAIBWwAAAAAAAgFbAAAAAAACAVsAAAAAAAIBWwAAAAAAAgFbAAAAAAACAVsAAAAAAAIBWwAAAAAAAgFbAAAAAAACAVsAAAAAAAIBWwAAAAAAAgFbAAAAAAACAVsAAAAAAAIBWwAAAAAAAgFbAAAAAAACAVsAAAAAAAIBWwAAAAAAAgFbAAAAAAACAVsAAAAAAAIBWwAAAAAAAgFbAAAAAAACAVsAAAAAAAIBWwAAAAAAAgFbAAAAAAACAVsAAAAAAAIBWwAAAAAAAgFbAAAAAAACAVsAAAAAAAIBWwAAAAAAAgFbAAAAAAACAVsAAAAAAAIBWwAAAAAAAgFbAAAAAAACAVsAAAAAAAIBWwAAAAAAAgFbAAAAAAACAVsAAAAAAAIBWwAAAAAAAgFbAAAAAAACAVsAAAAAAAIBWwA==\",\"dtype\":\"float64\",\"shape\":[104]},\"index\":[0,1,2,3,4,5,6,7,8,9,10,11,12,13,14,15,16,17,18,19,20,21,22,23,24,25,26,27,28,29,30,31,32,33,34,35,36,37,38,39,40,41,42,43,44,45,46,47,48,49,50,51,52,53,54,55,56,57,58,59,60,61,62,63,64,65,66,67,68,69,70,71,72,73,74,75,76,77,78,79,80,81,82,83,84,85,86,87,88,89,90,91,92,93,94,95,96,97,98,99,100,101,102,103],\"width\":{\"__ndarray__\":\"AAAAAAAAXUAAAAAAADiAQAAAAADAEd9AAAAAAACQc0AAAAAAABTFQAAAAAAAkHNAAAAAAIA41EAAAAAAgFHEQAAAAAAAHJJAAAAAAACwdUAAAAAAAJBzQAAAAABAdt5AAAAAAADwg0AAAAAAAOBlQAAAAAAAYG5AAAAAAABgeEAAAAAAAJBzQAAAAAAAgGZAAAAAAABge0AAAAAAAPSfQAAAAAAAcHtAAAAAAACAfEAAAAAAAGB4QAAAAAAAkHNAAAAAAADAWEAAAAAAAHB8QAAAAAAAAGpAAAAAAADgZ0AAAAAAACB7QAAAAAAA0IhAAAAAAAD4hUAAAAAAAMBYQAAAAAAAcHxAAAAAAAAAakAAAAAAAOBnQAAAAAAAIHtAAAAAAABAVkAAAAAAAEiBQAAAAAAA+IVAAAAAAADAWEAAAAAAAHB8QAAAAAAAwF1AAAAAAACAQEAAAAAAAOBnQAAAAAAAIHtAAAAAAABAVkAAAAAAAEiBQAAAAAAA+IVAAAAAAACslEAAAAAAAIyXQAAAAAAANJBAAAAAAADAWEAAAAAAAIB8QAAAAAAAYGhAAAAAAAAgaEAAAAAAADB7QAAAAAAAQFZAAAAAAACQgEAAAAAAAPiFQAAAAAAAwFhAAAAAAACAfEAAAAAAAEBhQAAAAAAAIGhAAAAAAAAwe0AAAAAAAEBWQAAAAAAAkIBAAAAAAAD4hUAAAAAAAMBYQAAAAAAAgHxAAAAAAAAAEEAAAAAAAEBhQAAAAAAAIGhAAAAAAAAwe0AAAAAAAEBWQAAAAAAAkIBAAAAAAAD4hUAAAAAAAAAAQAAAAAAAwFhAAAAAAACAfEAAAAAAAGBoQAAAAAAAIGhAAAAAAAAwe0AAAAAAABiIQAAAAAAA+IVAAAAAAAAAAEAAAAAAAMBYQAAAAAAAMHxAAAAAAACgaUAAAAAAAGBnQAAAAAAAAHxAAAAAAABAVkAAAAAAAJCAQAAAAAAAZJlAAAAAAICUwEAAAAAAgPjCQAAAAABAP91AAAAAAABTvEAAAAAAAFyRQAAAAACA+MJAAAAAAEA/3UAAAAAAAFO8QAAAAAAA4JFAAAAAAID4wkAAAAAAQD/dQA==\",\"dtype\":\"float64\",\"shape\":[104]},\"x\":{\"__ndarray__\":\"AAAAOBcShEEAAACcKhKEQQAAAFwnFIRBAAAAdC0WhEEAAACY6xaEQQAAADSpF4RBAAAACGYThEEAAAC8ThWEQQAAAFwGFoRBAAAAfCAWhEEAAAB0LRaEQQAAAOQJFIRBAAAAOP4VhEEAAAD0DBaEQQAAAKwUFoRBAAAAKCEWhEEAAAB0LRaEQQAAAMAZF4RBAAAAqCoXhEEAAAAEUxeEQQAAABR9F4RBAAAAGI0XhEEAAADonBeEQQAAADSpF4RBAAAAjG4WhEEAAACcexaEQQAAANCLFoRBAAAAdJYWhEEAAAC4pRaEQQAAAOi9FoRBAAAApNoWhEEAAACMbhaEQQAAAJx7FoRBAAAA0IsWhEEAAAB0lhaEQQAAALilFoRBAAAA5LIWhEEAAACswRaEQQAAAKTaFoRBAAAAjG4WhEEAAACcexaEQQAAAEyLFoRBAAAAjI4WhEEAAAB0lhaEQQAAALilFoRBAAAA5LIWhEEAAACswRaEQQAAAKTaFoRBAAAAbLcXhEEAAABU5xeEQQAAAITlF4RBAAAAzBoYhEEAAADgJxiEQQAAAOQ3GIRBAAAAXEIYhEEAAACsURiEQQAAANxeGIRBAAAASG0YhEEAAADkhRiEQQAAAMwaGIRBAAAA4CcYhEEAAADIOBiEQQAAAFxCGIRBAAAArFEYhEEAAADcXhiEQQAAAEhtGIRBAAAA5IUYhEEAAADMGhiEQQAAAOAnGIRBAAAAyDUYhEEAAADIOBiEQQAAAFxCGIRBAAAArFEYhEEAAADcXhiEQQAAAEhtGIRBAAAA5IUYhEEAAABIkhiEQQAAAMwaGIRBAAAA4CcYhEEAAADkNxiEQQAAAFxCGIRBAAAArFEYhEEAAACEaRiEQQAAAOSFGIRBAAAASJIYhEEAAAAMRxmEQQAAAAxUGYRBAAAADGQZhEEAAACUbhmEQQAAAAB+GYRBAAAAdIsZhEEAAADgmRmEQQAAAOTAGYRBAAAAFCsbhEEAAAAESRyEQQAAAKS3HoRBAAAAvBcbhEEAAABcnhuEQQAAAARJHIRBAAAApLcehEEAAAC8FxuEQQAAANidG4RBAAAABEkchEEAAACktx6EQQ==\",\"dtype\":\"float64\",\"shape\":[104]},\"y\":{\"__ndarray__\":\"AAAAAAAAGEAAAAAAAAAYQAAAAAAAABhAAAAAAAAAGEAAAAAAAAAYQAAAAAAAABhAAAAAAAAAAEAAAAAAAAAAQAAAAAAAAABAAAAAAAAAAEAAAAAAAAAAQAAAAAAAAAAAAAAAAAAAAAAAAAAAAAAAAAAAAAAAAAAAAAAAAAAAAAAAAAAAAAAAAAAAAAAAABBAAAAAAAAAEEAAAAAAAAAQQAAAAAAAABBAAAAAAAAAEEAAAAAAAAAQQAAAAAAAABBAAAAAAAAAAAAAAAAAAAAAAAAAAAAAAAAAAAAAAAAAAAAAAAAAAAAAAAAAAAAAAAAAAAAAAAAAAAAAAAAAAAAQQAAAAAAAABBAAAAAAAAAEEAAAAAAAAAQQAAAAAAAABBAAAAAAAAAEEAAAAAAAAAQQAAAAAAAABBAAAAAAAAAAEAAAAAAAAAAQAAAAAAAAABAAAAAAAAAAEAAAAAAAAAAQAAAAAAAAABAAAAAAAAAAEAAAAAAAAAAQAAAAAAAAABAAAAAAAAAAEAAAAAAAAAAQAAAAAAAAAAAAAAAAAAAAAAAAAAAAAAAAAAAAAAAAAAAAAAAAAAAAAAAAAAAAAAAAAAAAAAAAAAAAAAAAAAAAAAAAAAAAAAAAAAAAAAAABhAAAAAAAAAGEAAAAAAAAAYQAAAAAAAABhAAAAAAAAAGEAAAAAAAAAYQAAAAAAAABhAAAAAAAAAGEAAAAAAAAAQQAAAAAAAABBAAAAAAAAAEEAAAAAAAAAQQAAAAAAAABBAAAAAAAAAEEAAAAAAAAAQQAAAAAAAABBAAAAAAAAAEEAAAAAAAAAQQAAAAAAAAABAAAAAAAAAAEAAAAAAAAAAQAAAAAAAAABAAAAAAAAAAEAAAAAAAAAAQAAAAAAAAABAAAAAAAAAAEAAAAAAAAAAAAAAAAAAAAAAAAAAAAAAAAAAAAAAAAAAAAAAAAAAAAAAAAAAAAAAAAAAAAAAAAAAAAAAAAAAAAAAAAAAAAAAAEAAAAAAAAAAQAAAAAAAAABAAAAAAAAAEEAAAAAAAAAQQAAAAAAAABBAAAAAAAAAEEAAAAAAAAAAAAAAAAAAAAAAAAAAAAAAAAAAAAAAAAAAAA==\",\"dtype\":\"float64\",\"shape\":[104]}}},\"id\":\"9d5d7314-50d9-4bba-a3e5-f3a00b9fa5c8\",\"type\":\"ColumnDataSource\"},{\"attributes\":{\"mantissas\":[1,2,3,4,5,6,7,8,9],\"min_interval\":5},\"id\":\"a49dc077-82a7-4db8-b001-217463201f45\",\"type\":\"AdaptiveTicker\"},{\"attributes\":{\"data_source\":{\"id\":\"9d5d7314-50d9-4bba-a3e5-f3a00b9fa5c8\",\"type\":\"ColumnDataSource\"},\"glyph\":{\"id\":\"390a4254-4150-4739-b73a-10c7d2ec3fe9\",\"type\":\"Text\"},\"hover_glyph\":null,\"muted_glyph\":null,\"name\":\"introns\",\"nonselection_glyph\":{\"id\":\"f269654d-cb9e-46e6-b913-25af29bc701c\",\"type\":\"Text\"},\"selection_glyph\":null,\"view\":{\"id\":\"d4b54eb2-469e-4558-a07f-84d4d4818f69\",\"type\":\"CDSView\"}},\"id\":\"05bd8765-a9d1-40db-b860-68948ad9c191\",\"type\":\"GlyphRenderer\"},{\"attributes\":{\"callback\":null,\"column_names\":[\"x\",\"y\",\"index\"],\"data\":{\"index\":[0,1,2,3,4,5,6,7,8,9,10,11,12,13,14,15,16,17,18,19,20,21,22,23,24,25,26,27,28,29,30,31,32,33,34,35,36,37,38,39,40,41,42,43,44,45,46,47,48,49,50,51,52,53,54,55,56,57,58,59,60,61,62,63,64,65,66,67,68,69,70,71,72,73,74,75,76,77,78,79,80,81,82,83,84,85,86,87,88,89,90,91,92,93,94,95,96,97,98,99,100,101,102,103,104,105,106,107,108,109,110,111,112,113,114,115,116,117,118,119,120,121],\"x\":[[42090931,42091181,42091181,42090931],[42091297,42091600,42091600,42091297],[42092119,42092232,42092232,42092119],[42124047,42124562,42124562,42124047],[42124875,42125407,42125407,42124875],[42136199,42136714,42136714,42136199],[42137027,42137742,42137742,42137027],[42091204,42091600,42091600,42091204],[42112306,42112390,42112390,42112306],[42122793,42122888,42122888,42122793],[42124047,42124130,42124130,42124047],[42124477,42124562,42124562,42124477],[42124875,42124959,42124959,42124875],[42091352,42091600,42091600,42091352],[42122793,42122888,42122888,42122793],[42123526,42123591,42123591,42123526],[42123766,42123804,42123804,42123766],[42124047,42124130,42124130,42124047],[42124520,42124562,42124562,42124520],[42124875,42124959,42124959,42124875],[42132031,42132190,42132190,42132031],[42132370,42132602,42132602,42132370],[42133040,42133090,42133090,42133040],[42135135,42135239,42135239,42135135],[42135678,42135743,42135743,42135678],[42136199,42136282,42136282,42136199],[42136672,42136714,42136714,42136672],[42137027,42137050,42137050,42137027],[42130612,42130791,42130791,42130865,42130865,42130791,42130791,42130612],[42129738,42129909,42129909,42129738],[42128784,42128944,42128944,42128784],[42128174,42128350,42128350,42128174],[42127842,42127983,42127983,42127842],[42127447,42127634,42127634,42127447],[42126851,42126992,42126992,42126851],[42126556,42126577,42126577,42126752,42126752,42126577,42126577,42126556],[42130612,42130791,42130791,42130906,42130906,42130791,42130791,42130612],[42129738,42129909,42129909,42129738],[42129033,42129185,42129185,42129033],[42128784,42128944,42128944,42128784],[42128174,42128350,42128350,42128174],[42127842,42127983,42127983,42127842],[42127447,42127634,42127634,42127447],[42126851,42126992,42126992,42126851],[42126499,42126577,42126577,42126752,42126752,42126577,42126577,42126499],[42130612,42130725,42130725,42130881,42130881,42130725,42130725,42130612],[42129738,42129909,42129909,42129738],[42129033,42129185,42129185,42129033],[42128784,42128944,42128944,42128784],[42128174,42128350,42128350,42128174],[42127842,42127983,42127983,42127842],[42127781,42127809,42127809,42127781],[42127447,42127662,42127662,42127447],[42126851,42126992,42126992,42126851],[42126501,42126577,42126577,42126752,42126752,42126577,42126577,42126501],[42132543,42132998,42132998,42132543],[42139612,42139927,42139927,42139612],[42137987,42138105,42138105,42137987],[42136433,42136664,42136664,42136433],[42138060,42138282,42138282,42138060],[42139319,42139726,42139726,42139319],[42144284,42144464,42144464,42144549,42144549,42144464,42144464,42144284],[42143410,42143581,42143581,42143410],[42142728,42142880,42142880,42142728],[42142479,42142639,42142639,42142479],[42141868,42142044,42142044,42141868],[42141534,42141675,42141675,42141534],[42141152,42141339,42141339,42141152],[42140555,42140696,42140696,42140555],[42140203,42140280,42140280,42140456,42140456,42140280,42140280,42140203],[42144284,42144464,42144464,42144577,42144577,42144464,42144464,42144284],[42143410,42143581,42143581,42143410],[42142728,42142880,42142880,42142728],[42142479,42142639,42142639,42142479],[42141868,42142044,42142044,42141868],[42141534,42141675,42141675,42141534],[42141152,42141396,42141396,42141152],[42140555,42140696,42140696,42140555],[42140203,42140280,42140280,42140456,42140456,42140280,42140280,42140203],[42144330,42144464,42144464,42144577,42144577,42144464,42144464,42144330],[42144284,42144328,42144328,42144284],[42143410,42143581,42143581,42143410],[42142728,42142880,42142880,42142728],[42142479,42142639,42142639,42142479],[42141868,42142044,42142044,42141868],[42141534,42141675,42141675,42141534],[42141371,42141396,42141396,42141371],[42141152,42141367,42141367,42141152],[42140555,42140696,42140696,42140555],[42140205,42140281,42140281,42140456,42140456,42140281,42140281,42140205],[42144330,42144464,42144464,42144554,42144554,42144464,42144464,42144330],[42144284,42144328,42144328,42144284],[42143410,42143581,42143581,42143410],[42142479,42142639,42142639,42142479],[42141868,42142044,42142044,42141868],[42141534,42141675,42141675,42141534],[42141152,42141339,42141339,42141152],[42140555,42140696,42140696,42140555],[42140205,42140281,42140281,42140456,42140456,42140281,42140281,42140205],[42154825,42155001,42155001,42154825],[42153029,42153200,42153200,42153029],[42152347,42152499,42152499,42152347],[42152096,42152258,42152258,42152096],[42151472,42151648,42151648,42151472],[42151144,42151285,42151285,42151144],[42150755,42150939,42150939,42150755],[42150163,42150304,42150304,42150163],[42149886,42150064,42150064,42149886],[42209651,42215305,42215305,42215440,42215440,42215305,42215305,42209651],[42179609,42179702,42179702,42179609],[42169847,42169896,42169896,42169847],[42161056,42161344,42161344,42161358,42161358,42161344,42161344,42161056],[42209651,42215305,42215305,42215442,42215442,42215305,42215305,42209651],[42179609,42179702,42179702,42179609],[42169847,42169896,42169896,42169847],[42168609,42168656,42168656,42168736,42168736,42168656,42168656,42168609],[42160013,42161358,42161358,42160013],[42209651,42210208,42210208,42209651],[42179609,42179702,42179702,42179609],[42169847,42169896,42169896,42169847],[42168609,42168656,42168656,42168703,42168703,42168656,42168656,42168609],[42161098,42161358,42161358,42161098]],\"y\":[[6.175,6.175,5.825,5.825],[6.175,6.175,5.825,5.825],[6.175,6.175,5.825,5.825],[6.175,6.175,5.825,5.825],[6.175,6.175,5.825,5.825],[6.175,6.175,5.825,5.825],[6.175,6.175,5.825,5.825],[2.175,2.175,1.825,1.825],[2.175,2.175,1.825,1.825],[2.175,2.175,1.825,1.825],[2.175,2.175,1.825,1.825],[2.175,2.175,1.825,1.825],[2.175,2.175,1.825,1.825],[0.175,0.175,-0.175,-0.175],[0.175,0.175,-0.175,-0.175],[0.175,0.175,-0.175,-0.175],[0.175,0.175,-0.175,-0.175],[0.175,0.175,-0.175,-0.175],[0.175,0.175,-0.175,-0.175],[0.175,0.175,-0.175,-0.175],[4.175,4.175,3.825,3.825],[4.175,4.175,3.825,3.825],[4.175,4.175,3.825,3.825],[4.175,4.175,3.825,3.825],[4.175,4.175,3.825,3.825],[4.175,4.175,3.825,3.825],[4.175,4.175,3.825,3.825],[4.175,4.175,3.825,3.825],[0.35,0.35,0.175,0.175,-0.175,-0.175,-0.35,-0.35],[0.35,0.35,-0.35,-0.35],[0.35,0.35,-0.35,-0.35],[0.35,0.35,-0.35,-0.35],[0.35,0.35,-0.35,-0.35],[0.35,0.35,-0.35,-0.35],[0.35,0.35,-0.35,-0.35],[0.175,0.175,0.35,0.35,-0.35,-0.35,-0.175,-0.175],[4.35,4.35,4.175,4.175,3.825,3.825,3.65,3.65],[4.35,4.35,3.65,3.65],[4.35,4.35,3.65,3.65],[4.35,4.35,3.65,3.65],[4.35,4.35,3.65,3.65],[4.35,4.35,3.65,3.65],[4.35,4.35,3.65,3.65],[4.35,4.35,3.65,3.65],[4.175,4.175,4.35,4.35,3.65,3.65,3.825,3.825],[2.35,2.35,2.175,2.175,1.825,1.825,1.65,1.65],[2.35,2.35,1.65,1.65],[2.35,2.35,1.65,1.65],[2.35,2.35,1.65,1.65],[2.35,2.35,1.65,1.65],[2.35,2.35,1.65,1.65],[2.35,2.35,1.65,1.65],[2.35,2.35,1.65,1.65],[2.35,2.35,1.65,1.65],[2.175,2.175,2.35,2.35,1.65,1.65,1.825,1.825],[0.175,0.175,-0.175,-0.175],[2.175,2.175,1.825,1.825],[2.175,2.175,1.825,1.825],[2.175,2.175,1.825,1.825],[0.175,0.175,-0.175,-0.175],[0.175,0.175,-0.175,-0.175],[0.35,0.35,0.175,0.175,-0.175,-0.175,-0.35,-0.35],[0.35,0.35,-0.35,-0.35],[0.35,0.35,-0.35,-0.35],[0.35,0.35,-0.35,-0.35],[0.35,0.35,-0.35,-0.35],[0.35,0.35,-0.35,-0.35],[0.35,0.35,-0.35,-0.35],[0.35,0.35,-0.35,-0.35],[0.175,0.175,0.35,0.35,-0.35,-0.35,-0.175,-0.175],[6.35,6.35,6.175,6.175,5.825,5.825,5.65,5.65],[6.35,6.35,5.65,5.65],[6.35,6.35,5.65,5.65],[6.35,6.35,5.65,5.65],[6.35,6.35,5.65,5.65],[6.35,6.35,5.65,5.65],[6.35,6.35,5.65,5.65],[6.35,6.35,5.65,5.65],[6.175,6.175,6.35,6.35,5.65,5.65,5.825,5.825],[4.35,4.35,4.175,4.175,3.825,3.825,3.65,3.65],[4.35,4.35,3.65,3.65],[4.35,4.35,3.65,3.65],[4.35,4.35,3.65,3.65],[4.35,4.35,3.65,3.65],[4.35,4.35,3.65,3.65],[4.35,4.35,3.65,3.65],[4.35,4.35,3.65,3.65],[4.35,4.35,3.65,3.65],[4.35,4.35,3.65,3.65],[4.175,4.175,4.35,4.35,3.65,3.65,3.825,3.825],[2.35,2.35,2.175,2.175,1.825,1.825,1.65,1.65],[2.35,2.35,1.65,1.65],[2.35,2.35,1.65,1.65],[2.35,2.35,1.65,1.65],[2.35,2.35,1.65,1.65],[2.35,2.35,1.65,1.65],[2.35,2.35,1.65,1.65],[2.35,2.35,1.65,1.65],[2.175,2.175,2.35,2.35,1.65,1.65,1.825,1.825],[0.175,0.175,-0.175,-0.175],[0.175,0.175,-0.175,-0.175],[0.175,0.175,-0.175,-0.175],[0.175,0.175,-0.175,-0.175],[0.175,0.175,-0.175,-0.175],[0.175,0.175,-0.175,-0.175],[0.175,0.175,-0.175,-0.175],[0.175,0.175,-0.175,-0.175],[0.175,0.175,-0.175,-0.175],[2.35,2.35,2.175,2.175,1.825,1.825,1.65,1.65],[2.35,2.35,1.65,1.65],[2.35,2.35,1.65,1.65],[2.175,2.175,2.35,2.35,1.65,1.65,1.825,1.825],[4.35,4.35,4.175,4.175,3.825,3.825,3.65,3.65],[4.35,4.35,3.65,3.65],[4.35,4.35,3.65,3.65],[4.175,4.175,4.35,4.35,3.65,3.65,3.825,3.825],[4.175,4.175,3.825,3.825],[0.35,0.35,-0.35,-0.35],[0.35,0.35,-0.35,-0.35],[0.35,0.35,-0.35,-0.35],[0.175,0.175,0.35,0.35,-0.35,-0.35,-0.175,-0.175],[0.175,0.175,-0.175,-0.175]]}},\"id\":\"7160a795-7877-46fe-a305-f2c3df7d556d\",\"type\":\"ColumnDataSource\"},{\"attributes\":{\"mantissas\":[1,2,3,4,5,6,7,8,9],\"max_interval\":4,\"min_interval\":4,\"num_minor_ticks\":4},\"id\":\"ec403805-d8a0-464e-bc86-164a7f227ca9\",\"type\":\"AdaptiveTicker\"},{\"attributes\":{\"active_drag\":\"auto\",\"active_inspect\":\"auto\",\"active_scroll\":{\"id\":\"94a1a79d-a24c-44c7-a2fa-ddfd9a46a8f6\",\"type\":\"WheelZoomTool\"},\"active_tap\":\"auto\",\"logo\":null,\"tools\":[{\"id\":\"dc8df1dc-a3d0-411c-af9b-ea646c2df819\",\"type\":\"PanTool\"},{\"id\":\"94a1a79d-a24c-44c7-a2fa-ddfd9a46a8f6\",\"type\":\"WheelZoomTool\"},{\"id\":\"b6fb8e56-e654-4b33-88ed-41a79f385ad6\",\"type\":\"BoxZoomTool\"},{\"id\":\"3c6821cd-95f3-4d05-b1d7-ee35ef2dd27d\",\"type\":\"SaveTool\"},{\"id\":\"341e4be1-1e9d-4ee6-92a3-0dacad115461\",\"type\":\"ResetTool\"}]},\"id\":\"a2d7e7bc-d36d-44af-a965-d39b1cb64488\",\"type\":\"Toolbar\"},{\"attributes\":{\"callback\":null,\"column_names\":[\"x0\",\"y0\",\"x1\",\"y1\",\"index\"],\"data\":{\"index\":[0,1,2,3,4,5,6,7,8,9,10,11,12,13,14,15,16,17],\"x0\":[42090930,42091203,42091351,42132030,42126555,42126498,42126500,42132542,42136432,42138059,42140202,42140202,42140204,42140204,42149885,42161055,42160012,42161097],\"x1\":[42137742,42124959,42124959,42137050,42130865,42130906,42130881,42132998,42139927,42139726,42144549,42144577,42144577,42144554,42155001,42215440,42215442,42210208],\"y0\":[6,2,0,4,0,4,2,0,2,0,0,6,4,2,0,2,4,0],\"y1\":[6,2,0,4,0,4,2,0,2,0,0,6,4,2,0,2,4,0]}},\"id\":\"3d4d377d-011e-42fe-b251-9ac1b1b6f68e\",\"type\":\"ColumnDataSource\"},{\"attributes\":{\"callback\":null,\"end\":-1.5,\"start\":7},\"id\":\"a7839809-498f-4409-88fa-3ac5acb7c637\",\"type\":\"Range1d\"},{\"attributes\":{\"mantissas\":[1,2,3,4,5,6,7,8,9],\"max_interval\":1,\"min_interval\":1,\"num_minor_ticks\":1},\"id\":\"84ad9798-2de7-4955-8f68-6b789d22f6f5\",\"type\":\"AdaptiveTicker\"},{\"attributes\":{\"data_source\":{\"id\":\"2f5f2925-c555-4a61-a319-33c11b487746\",\"type\":\"ColumnDataSource\"},\"glyph\":{\"id\":\"1b8cb915-8ae1-4956-b7c6-0e03d1589acf\",\"type\":\"Text\"},\"hover_glyph\":null,\"muted_glyph\":null,\"name\":\"transcript_labels\",\"nonselection_glyph\":{\"id\":\"5b6260c3-6d2c-4ab0-addc-940e8e1830c1\",\"type\":\"Text\"},\"selection_glyph\":null,\"view\":{\"id\":\"50d4ac9b-27b4-4b2e-8825-c0ba13aee5d0\",\"type\":\"CDSView\"}},\"id\":\"d59c9d51-2ab6-41ee-a0e7-fe4cff6f93d0\",\"type\":\"GlyphRenderer\"},{\"attributes\":{\"source\":{\"id\":\"7160a795-7877-46fe-a305-f2c3df7d556d\",\"type\":\"ColumnDataSource\"}},\"id\":\"ecb0ffd0-bbc2-4800-8f16-f6580f6ead20\",\"type\":\"CDSView\"},{\"attributes\":{\"angle\":{\"field\":\"angle\",\"units\":\"deg\"},\"text\":{\"value\":\"v\"},\"text_align\":\"center\",\"text_alpha\":{\"field\":\"alpha\"},\"text_baseline\":\"middle\",\"text_color\":{\"value\":\"Black\"},\"text_font\":\"sans-serif\",\"text_font_size\":{\"value\":\"5pt\"},\"text_font_style\":\"bold\",\"x\":{\"field\":\"x\"},\"y\":{\"field\":\"y\"}},\"id\":\"390a4254-4150-4739-b73a-10c7d2ec3fe9\",\"type\":\"Text\"},{\"attributes\":{},\"id\":\"2012ebb9-f6b6-4cd4-b33d-a95b2eea359c\",\"type\":\"LinearScale\"},{\"attributes\":{\"args\":{\"source\":{\"id\":\"9d5d7314-50d9-4bba-a3e5-f3a00b9fa5c8\",\"type\":\"ColumnDataSource\"}},\"code\":\"\\nvar start = cb_obj.start;\\nvar end = cb_obj.end;\\nvar width = end - start;\\nvar threshold = 0.010000 * width;     // threshold factor is set from python-side configuration\\nvar intron_alpha = 1.000000;          // alpha value is set from python-side configuration\\n\\n// iterate over each intron\\nvar data = source.data;\\nfor (i=0; i<data[\\\"x\\\"].length; i++)\\n{\\n    // if the screen-space width is large enough, make the intron visible\\n    if(data[\\\"width\\\"][i] >= threshold)\\n        data[\\\"alpha\\\"][i] = intron_alpha;\\n    else\\n    // otherwise, make the intron fully transparent\\n        data[\\\"alpha\\\"][i] = 0;\\n}\\n\\nsource.change.emit();\\n\"},\"id\":\"422bedcd-b0a6-4214-a742-0ff0e0989038\",\"type\":\"CustomJS\"},{\"attributes\":{\"dimension\":1,\"grid_line_color\":{\"value\":null},\"plot\":{\"id\":\"955f5731-afab-4760-a6e9-347793856de5\",\"subtype\":\"Figure\",\"type\":\"Plot\"},\"ticker\":{\"id\":\"9d41922a-7671-43da-963b-fb50bf0997b2\",\"type\":\"BasicTicker\"}},\"id\":\"c757755f-dfbe-456e-a65e-8cbde2471ce2\",\"type\":\"Grid\"},{\"attributes\":{\"mantissas\":[1,2,3,4,5,6,7,8,9],\"max_interval\":2,\"min_interval\":2,\"num_minor_ticks\":2},\"id\":\"4122bca3-01c8-4a2c-a71e-af3a3f1c67c1\",\"type\":\"AdaptiveTicker\"},{\"attributes\":{\"fill_color\":{\"value\":\"DarkBlue\"},\"line_color\":{\"value\":null},\"xs\":{\"field\":\"x\"},\"ys\":{\"field\":\"y\"}},\"id\":\"c9052cc4-0958-4701-8384-9d349bb01d46\",\"type\":\"Patches\"},{\"attributes\":{},\"id\":\"3c6821cd-95f3-4d05-b1d7-ee35ef2dd27d\",\"type\":\"SaveTool\"},{\"attributes\":{},\"id\":\"8c9b35ea-a157-41b1-b604-d68675556c08\",\"type\":\"BasicTicker\"},{\"attributes\":{\"source\":{\"id\":\"9d5d7314-50d9-4bba-a3e5-f3a00b9fa5c8\",\"type\":\"ColumnDataSource\"}},\"id\":\"d4b54eb2-469e-4558-a07f-84d4d4818f69\",\"type\":\"CDSView\"},{\"attributes\":{\"source\":{\"id\":\"3d4d377d-011e-42fe-b251-9ac1b1b6f68e\",\"type\":\"ColumnDataSource\"}},\"id\":\"5c3a46ac-c037-4b2f-adb0-5a6b1b307a4d\",\"type\":\"CDSView\"},{\"attributes\":{},\"id\":\"48794b73-e9c0-44e7-9594-135a3ab5f228\",\"type\":\"BasicTickFormatter\"},{\"attributes\":{\"fill_alpha\":{\"value\":0.1},\"fill_color\":{\"value\":\"#1f77b4\"},\"line_alpha\":{\"value\":0.1},\"line_color\":{\"value\":\"#1f77b4\"},\"xs\":{\"field\":\"x\"},\"ys\":{\"field\":\"y\"}},\"id\":\"7552214b-70a9-4eb7-9764-46d265ffec4b\",\"type\":\"Patches\"},{\"attributes\":{\"source\":{\"id\":\"2f5f2925-c555-4a61-a319-33c11b487746\",\"type\":\"ColumnDataSource\"}},\"id\":\"50d4ac9b-27b4-4b2e-8825-c0ba13aee5d0\",\"type\":\"CDSView\"},{\"attributes\":{\"angle\":{\"field\":\"angle\",\"units\":\"deg\"},\"text\":{\"value\":\"v\"},\"text_align\":\"center\",\"text_alpha\":{\"value\":0.1},\"text_baseline\":\"middle\",\"text_color\":{\"value\":\"black\"},\"text_font\":\"sans-serif\",\"text_font_size\":{\"value\":\"5pt\"},\"text_font_style\":\"bold\",\"x\":{\"field\":\"x\"},\"y\":{\"field\":\"y\"}},\"id\":\"f269654d-cb9e-46e6-b913-25af29bc701c\",\"type\":\"Text\"},{\"attributes\":{\"grid_line_color\":{\"value\":null},\"plot\":{\"id\":\"955f5731-afab-4760-a6e9-347793856de5\",\"subtype\":\"Figure\",\"type\":\"Plot\"},\"ticker\":{\"id\":\"8c9b35ea-a157-41b1-b604-d68675556c08\",\"type\":\"BasicTicker\"}},\"id\":\"c80b3cc5-ee58-41be-8a4f-3a125740846a\",\"type\":\"Grid\"},{\"attributes\":{},\"id\":\"96aa9683-2e8b-459a-bcfb-30027ce0dd23\",\"type\":\"LinearScale\"},{\"attributes\":{\"line_color\":{\"value\":\"Black\"},\"x0\":{\"field\":\"x0\"},\"x1\":{\"field\":\"x1\"},\"y0\":{\"field\":\"y0\"},\"y1\":{\"field\":\"y1\"}},\"id\":\"a9cf5fbd-b043-4ecb-a6bc-c0482316c8ad\",\"type\":\"Segment\"},{\"attributes\":{\"mantissas\":[1,2,3,4,5,6,7,8,9],\"max_interval\":3,\"min_interval\":3,\"num_minor_ticks\":3},\"id\":\"58a4327b-ea7a-4b70-991c-63149fa6b859\",\"type\":\"AdaptiveTicker\"},{\"attributes\":{\"dimensions\":\"width\",\"overlay\":{\"id\":\"931fa12c-e4de-4983-b06f-8f5d7db1dd7e\",\"type\":\"BoxAnnotation\"}},\"id\":\"b6fb8e56-e654-4b33-88ed-41a79f385ad6\",\"type\":\"BoxZoomTool\"},{\"attributes\":{},\"id\":\"9d41922a-7671-43da-963b-fb50bf0997b2\",\"type\":\"BasicTicker\"},{\"attributes\":{\"callback\":{\"id\":\"422bedcd-b0a6-4214-a742-0ff0e0989038\",\"type\":\"CustomJS\"},\"end\":42215442,\"start\":42090931},\"id\":\"8cce8280-c8e4-4483-b1e9-bd90bb7a7eb1\",\"type\":\"Range1d\"},{\"attributes\":{\"dimensions\":\"width\"},\"id\":\"94a1a79d-a24c-44c7-a2fa-ddfd9a46a8f6\",\"type\":\"WheelZoomTool\"},{\"attributes\":{\"below\":[{\"id\":\"5073b5d7-9313-4424-b6b7-0946b6211015\",\"type\":\"LinearAxis\"}],\"left\":[{\"id\":\"3caaf03a-0c0f-4aa6-832a-dcc6cd5a0821\",\"type\":\"LinearAxis\"}],\"outline_line_alpha\":{\"value\":0},\"plot_height\":155,\"plot_width\":800,\"renderers\":[{\"id\":\"5073b5d7-9313-4424-b6b7-0946b6211015\",\"type\":\"LinearAxis\"},{\"id\":\"c80b3cc5-ee58-41be-8a4f-3a125740846a\",\"type\":\"Grid\"},{\"id\":\"3caaf03a-0c0f-4aa6-832a-dcc6cd5a0821\",\"type\":\"LinearAxis\"},{\"id\":\"c757755f-dfbe-456e-a65e-8cbde2471ce2\",\"type\":\"Grid\"},{\"id\":\"931fa12c-e4de-4983-b06f-8f5d7db1dd7e\",\"type\":\"BoxAnnotation\"},{\"id\":\"35b8689e-1f33-459b-8f8b-15ce142feae8\",\"type\":\"GlyphRenderer\"},{\"id\":\"05bd8765-a9d1-40db-b860-68948ad9c191\",\"type\":\"GlyphRenderer\"},{\"id\":\"26145fda-9450-44fa-9b7e-bd36c06a5c3e\",\"type\":\"GlyphRenderer\"},{\"id\":\"d59c9d51-2ab6-41ee-a0e7-fe4cff6f93d0\",\"type\":\"GlyphRenderer\"}],\"title\":{\"id\":\"00dc8610-a6ce-40f8-bdf1-ee8afc994231\",\"type\":\"Title\"},\"toolbar\":{\"id\":\"a2d7e7bc-d36d-44af-a965-d39b1cb64488\",\"type\":\"Toolbar\"},\"x_range\":{\"id\":\"8cce8280-c8e4-4483-b1e9-bd90bb7a7eb1\",\"type\":\"Range1d\"},\"x_scale\":{\"id\":\"2012ebb9-f6b6-4cd4-b33d-a95b2eea359c\",\"type\":\"LinearScale\"},\"y_range\":{\"id\":\"a7839809-498f-4409-88fa-3ac5acb7c637\",\"type\":\"Range1d\"},\"y_scale\":{\"id\":\"96aa9683-2e8b-459a-bcfb-30027ce0dd23\",\"type\":\"LinearScale\"}},\"id\":\"955f5731-afab-4760-a6e9-347793856de5\",\"subtype\":\"Figure\",\"type\":\"Plot\"},{\"attributes\":{\"dimensions\":\"width\"},\"id\":\"dc8df1dc-a3d0-411c-af9b-ea646c2df819\",\"type\":\"PanTool\"},{\"attributes\":{\"axis_label\":\"chr22\",\"formatter\":{\"id\":\"9bcbb465-8db4-4a87-a742-44e8ebbf595e\",\"type\":\"NumeralTickFormatter\"},\"plot\":{\"id\":\"955f5731-afab-4760-a6e9-347793856de5\",\"subtype\":\"Figure\",\"type\":\"Plot\"},\"ticker\":{\"id\":\"82c82f58-5b68-42f1-8352-b2d56cd995e9\",\"type\":\"CompositeTicker\"}},\"id\":\"5073b5d7-9313-4424-b6b7-0946b6211015\",\"type\":\"LinearAxis\"},{\"attributes\":{\"text\":{\"field\":\"label\"},\"text_align\":\"center\",\"text_baseline\":\"middle\",\"text_color\":{\"value\":\"black\"},\"text_font\":\"monospace\",\"text_font_size\":{\"value\":\"6pt\"},\"x\":{\"field\":\"x\"},\"y\":{\"field\":\"y\"},\"y_offset\":{\"value\":4}},\"id\":\"1b8cb915-8ae1-4956-b7c6-0e03d1589acf\",\"type\":\"Text\"},{\"attributes\":{},\"id\":\"341e4be1-1e9d-4ee6-92a3-0dacad115461\",\"type\":\"ResetTool\"},{\"attributes\":{\"data_source\":{\"id\":\"7160a795-7877-46fe-a305-f2c3df7d556d\",\"type\":\"ColumnDataSource\"},\"glyph\":{\"id\":\"c9052cc4-0958-4701-8384-9d349bb01d46\",\"type\":\"Patches\"},\"hover_glyph\":null,\"muted_glyph\":null,\"name\":\"exons\",\"nonselection_glyph\":{\"id\":\"7552214b-70a9-4eb7-9764-46d265ffec4b\",\"type\":\"Patches\"},\"selection_glyph\":null,\"view\":{\"id\":\"ecb0ffd0-bbc2-4800-8f16-f6580f6ead20\",\"type\":\"CDSView\"}},\"id\":\"26145fda-9450-44fa-9b7e-bd36c06a5c3e\",\"type\":\"GlyphRenderer\"},{\"attributes\":{\"data_source\":{\"id\":\"3d4d377d-011e-42fe-b251-9ac1b1b6f68e\",\"type\":\"ColumnDataSource\"},\"glyph\":{\"id\":\"a9cf5fbd-b043-4ecb-a6bc-c0482316c8ad\",\"type\":\"Segment\"},\"hover_glyph\":null,\"muted_glyph\":null,\"name\":\"transcripts\",\"nonselection_glyph\":{\"id\":\"f704f338-6773-4695-a7ff-09fbea15ced5\",\"type\":\"Segment\"},\"selection_glyph\":null,\"view\":{\"id\":\"5c3a46ac-c037-4b2f-adb0-5a6b1b307a4d\",\"type\":\"CDSView\"}},\"id\":\"35b8689e-1f33-459b-8f8b-15ce142feae8\",\"type\":\"GlyphRenderer\"},{\"attributes\":{\"plot\":null,\"text\":\"\"},\"id\":\"00dc8610-a6ce-40f8-bdf1-ee8afc994231\",\"type\":\"Title\"},{\"attributes\":{\"line_alpha\":{\"value\":0.1},\"line_color\":{\"value\":\"#1f77b4\"},\"x0\":{\"field\":\"x0\"},\"x1\":{\"field\":\"x1\"},\"y0\":{\"field\":\"y0\"},\"y1\":{\"field\":\"y1\"}},\"id\":\"f704f338-6773-4695-a7ff-09fbea15ced5\",\"type\":\"Segment\"},{\"attributes\":{\"formatter\":{\"id\":\"48794b73-e9c0-44e7-9594-135a3ab5f228\",\"type\":\"BasicTickFormatter\"},\"plot\":{\"id\":\"955f5731-afab-4760-a6e9-347793856de5\",\"subtype\":\"Figure\",\"type\":\"Plot\"},\"ticker\":{\"id\":\"9d41922a-7671-43da-963b-fb50bf0997b2\",\"type\":\"BasicTicker\"},\"visible\":false},\"id\":\"3caaf03a-0c0f-4aa6-832a-dcc6cd5a0821\",\"type\":\"LinearAxis\"}],\"root_ids\":[\"955f5731-afab-4760-a6e9-347793856de5\"]},\"title\":\"Bokeh Application\",\"version\":\"0.12.10\"}};\n",
       "    var render_items = [{\"docid\":\"182bf378-2d51-4f1e-8724-b32b22cf51c4\",\"elementid\":\"fcd15d92-7871-4536-a76f-d1c13904ce70\",\"modelid\":\"955f5731-afab-4760-a6e9-347793856de5\"}];\n",
       "\n",
       "    root.Bokeh.embed.embed_items(docs_json, render_items);\n",
       "  }\n",
       "\n",
       "  if (root.Bokeh !== undefined) {\n",
       "    embed_document(root);\n",
       "  } else {\n",
       "    var attempts = 0;\n",
       "    var timer = setInterval(function(root) {\n",
       "      if (root.Bokeh !== undefined) {\n",
       "        embed_document(root);\n",
       "        clearInterval(timer);\n",
       "      }\n",
       "      attempts++;\n",
       "      if (attempts > 100) {\n",
       "        console.log(\"Bokeh: ERROR: Unable to embed document because BokehJS library is missing\")\n",
       "        clearInterval(timer);\n",
       "      }\n",
       "    }, 10, root)\n",
       "  }\n",
       "})(window);"
      ],
      "application/vnd.bokehjs_exec.v0+json": ""
     },
     "metadata": {
      "application/vnd.bokehjs_exec.v0+json": {
       "id": "955f5731-afab-4760-a6e9-347793856de5"
      }
     },
     "output_type": "display_data"
    }
   ],
   "source": [
    "fig = make_plot(transcripts_from_gffutils(db, \"chr22\", 42124000, 42180000))\n",
    "show(fig.figure)"
   ]
  },
  {
   "cell_type": "code",
   "execution_count": null,
   "metadata": {
    "collapsed": true
   },
   "outputs": [],
   "source": []
  }
 ],
 "metadata": {
  "kernelspec": {
   "display_name": "Python 3",
   "language": "python",
   "name": "python3"
  },
  "language_info": {
   "codemirror_mode": {
    "name": "ipython",
    "version": 3
   },
   "file_extension": ".py",
   "mimetype": "text/x-python",
   "name": "python",
   "nbconvert_exporter": "python",
   "pygments_lexer": "ipython3",
   "version": "3.6.2"
  }
 },
 "nbformat": 4,
 "nbformat_minor": 2
}
