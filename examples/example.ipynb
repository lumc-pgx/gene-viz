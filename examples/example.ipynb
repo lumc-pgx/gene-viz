{
 "cells": [
  {
   "cell_type": "markdown",
   "metadata": {},
   "source": [
    "# Prototype Visualization of Structural Variation Output"
   ]
  },
  {
   "cell_type": "markdown",
   "metadata": {},
   "source": [
    "set up bokeh for notebook drawing, and import gene_viz"
   ]
  },
  {
   "cell_type": "code",
   "execution_count": 1,
   "metadata": {},
   "outputs": [
    {
     "data": {
      "application/javascript": [
       "\n",
       "(function(root) {\n",
       "  function now() {\n",
       "    return new Date();\n",
       "  }\n",
       "\n",
       "  var force = true;\n",
       "\n",
       "  if (typeof (root._bokeh_onload_callbacks) === \"undefined\" || force === true) {\n",
       "    root._bokeh_onload_callbacks = [];\n",
       "    root._bokeh_is_loading = undefined;\n",
       "  }\n",
       "\n",
       "  var JS_MIME_TYPE = 'application/javascript';\n",
       "  var HTML_MIME_TYPE = 'text/html';\n",
       "  var EXEC_MIME_TYPE = 'application/vnd.bokehjs_exec.v0+json';\n",
       "  var CLASS_NAME = 'output_bokeh rendered_html';\n",
       "\n",
       "  /**\n",
       "   * Render data to the DOM node\n",
       "   */\n",
       "  function render(props, node) {\n",
       "    var script = document.createElement(\"script\");\n",
       "    node.appendChild(script);\n",
       "  }\n",
       "\n",
       "  /**\n",
       "   * Handle when an output is cleared or removed\n",
       "   */\n",
       "  function handleClearOutput(event, handle) {\n",
       "    var cell = handle.cell;\n",
       "\n",
       "    var id = cell.output_area._bokeh_element_id;\n",
       "    var server_id = cell.output_area._bokeh_server_id;\n",
       "    // Clean up Bokeh references\n",
       "    if (id !== undefined) {\n",
       "      Bokeh.index[id].model.document.clear();\n",
       "      delete Bokeh.index[id];\n",
       "    }\n",
       "\n",
       "    if (server_id !== undefined) {\n",
       "      // Clean up Bokeh references\n",
       "      var cmd = \"from bokeh.io.state import curstate; print(curstate().uuid_to_server['\" + server_id + \"'].get_sessions()[0].document.roots[0]._id)\";\n",
       "      cell.notebook.kernel.execute(cmd, {\n",
       "        iopub: {\n",
       "          output: function(msg) {\n",
       "            var element_id = msg.content.text.trim();\n",
       "            Bokeh.index[element_id].model.document.clear();\n",
       "            delete Bokeh.index[element_id];\n",
       "          }\n",
       "        }\n",
       "      });\n",
       "      // Destroy server and session\n",
       "      var cmd = \"import bokeh.io.notebook as ion; ion.destroy_server('\" + server_id + \"')\";\n",
       "      cell.notebook.kernel.execute(cmd);\n",
       "    }\n",
       "  }\n",
       "\n",
       "  /**\n",
       "   * Handle when a new output is added\n",
       "   */\n",
       "  function handleAddOutput(event, handle) {\n",
       "    var output_area = handle.output_area;\n",
       "    var output = handle.output;\n",
       "\n",
       "    // limit handleAddOutput to display_data with EXEC_MIME_TYPE content only\n",
       "    if ((output.output_type != \"display_data\") || (!output.data.hasOwnProperty(EXEC_MIME_TYPE))) {\n",
       "      return\n",
       "    }\n",
       "\n",
       "    var toinsert = output_area.element.find(`.${CLASS_NAME.split(' ')[0]}`);\n",
       "\n",
       "    if (output.metadata[EXEC_MIME_TYPE][\"id\"] !== undefined) {\n",
       "      toinsert[0].firstChild.textContent = output.data[JS_MIME_TYPE];\n",
       "      // store reference to embed id on output_area\n",
       "      output_area._bokeh_element_id = output.metadata[EXEC_MIME_TYPE][\"id\"];\n",
       "    }\n",
       "    if (output.metadata[EXEC_MIME_TYPE][\"server_id\"] !== undefined) {\n",
       "      var bk_div = document.createElement(\"div\");\n",
       "      bk_div.innerHTML = output.data[HTML_MIME_TYPE];\n",
       "      var script_attrs = bk_div.children[0].attributes;\n",
       "      for (var i = 0; i < script_attrs.length; i++) {\n",
       "        toinsert[0].firstChild.setAttribute(script_attrs[i].name, script_attrs[i].value);\n",
       "      }\n",
       "      // store reference to server id on output_area\n",
       "      output_area._bokeh_server_id = output.metadata[EXEC_MIME_TYPE][\"server_id\"];\n",
       "    }\n",
       "  }\n",
       "\n",
       "  function register_renderer(events, OutputArea) {\n",
       "\n",
       "    function append_mime(data, metadata, element) {\n",
       "      // create a DOM node to render to\n",
       "      var toinsert = this.create_output_subarea(\n",
       "        metadata,\n",
       "        CLASS_NAME,\n",
       "        EXEC_MIME_TYPE\n",
       "      );\n",
       "      this.keyboard_manager.register_events(toinsert);\n",
       "      // Render to node\n",
       "      var props = {data: data, metadata: metadata[EXEC_MIME_TYPE]};\n",
       "      render(props, toinsert[0]);\n",
       "      element.append(toinsert);\n",
       "      return toinsert\n",
       "    }\n",
       "\n",
       "    /* Handle when an output is cleared or removed */\n",
       "    events.on('clear_output.CodeCell', handleClearOutput);\n",
       "    events.on('delete.Cell', handleClearOutput);\n",
       "\n",
       "    /* Handle when a new output is added */\n",
       "    events.on('output_added.OutputArea', handleAddOutput);\n",
       "\n",
       "    /**\n",
       "     * Register the mime type and append_mime function with output_area\n",
       "     */\n",
       "    OutputArea.prototype.register_mime_type(EXEC_MIME_TYPE, append_mime, {\n",
       "      /* Is output safe? */\n",
       "      safe: true,\n",
       "      /* Index of renderer in `output_area.display_order` */\n",
       "      index: 0\n",
       "    });\n",
       "  }\n",
       "\n",
       "  // register the mime type if in Jupyter Notebook environment and previously unregistered\n",
       "  if (root.Jupyter !== undefined) {\n",
       "    var events = require('base/js/events');\n",
       "    var OutputArea = require('notebook/js/outputarea').OutputArea;\n",
       "\n",
       "    if (OutputArea.prototype.mime_types().indexOf(EXEC_MIME_TYPE) == -1) {\n",
       "      register_renderer(events, OutputArea);\n",
       "    }\n",
       "  }\n",
       "\n",
       "  \n",
       "  if (typeof (root._bokeh_timeout) === \"undefined\" || force === true) {\n",
       "    root._bokeh_timeout = Date.now() + 5000;\n",
       "    root._bokeh_failed_load = false;\n",
       "  }\n",
       "\n",
       "  var NB_LOAD_WARNING = {'data': {'text/html':\n",
       "     \"<div style='background-color: #fdd'>\\n\"+\n",
       "     \"<p>\\n\"+\n",
       "     \"BokehJS does not appear to have successfully loaded. If loading BokehJS from CDN, this \\n\"+\n",
       "     \"may be due to a slow or bad network connection. Possible fixes:\\n\"+\n",
       "     \"</p>\\n\"+\n",
       "     \"<ul>\\n\"+\n",
       "     \"<li>re-rerun `output_notebook()` to attempt to load from CDN again, or</li>\\n\"+\n",
       "     \"<li>use INLINE resources instead, as so:</li>\\n\"+\n",
       "     \"</ul>\\n\"+\n",
       "     \"<code>\\n\"+\n",
       "     \"from bokeh.resources import INLINE\\n\"+\n",
       "     \"output_notebook(resources=INLINE)\\n\"+\n",
       "     \"</code>\\n\"+\n",
       "     \"</div>\"}};\n",
       "\n",
       "  function display_loaded() {\n",
       "    var el = document.getElementById(null);\n",
       "    if (el != null) {\n",
       "      el.textContent = \"BokehJS is loading...\";\n",
       "    }\n",
       "    if (root.Bokeh !== undefined) {\n",
       "      if (el != null) {\n",
       "        el.textContent = \"BokehJS \" + root.Bokeh.version + \" successfully loaded.\";\n",
       "      }\n",
       "    } else if (Date.now() < root._bokeh_timeout) {\n",
       "      setTimeout(display_loaded, 100)\n",
       "    }\n",
       "  }\n",
       "\n",
       "\n",
       "  function run_callbacks() {\n",
       "    try {\n",
       "      root._bokeh_onload_callbacks.forEach(function(callback) { callback() });\n",
       "    }\n",
       "    finally {\n",
       "      delete root._bokeh_onload_callbacks\n",
       "    }\n",
       "    console.info(\"Bokeh: all callbacks have finished\");\n",
       "  }\n",
       "\n",
       "  function load_libs(js_urls, callback) {\n",
       "    root._bokeh_onload_callbacks.push(callback);\n",
       "    if (root._bokeh_is_loading > 0) {\n",
       "      console.log(\"Bokeh: BokehJS is being loaded, scheduling callback at\", now());\n",
       "      return null;\n",
       "    }\n",
       "    if (js_urls == null || js_urls.length === 0) {\n",
       "      run_callbacks();\n",
       "      return null;\n",
       "    }\n",
       "    console.log(\"Bokeh: BokehJS not loaded, scheduling load and callback at\", now());\n",
       "    root._bokeh_is_loading = js_urls.length;\n",
       "    for (var i = 0; i < js_urls.length; i++) {\n",
       "      var url = js_urls[i];\n",
       "      var s = document.createElement('script');\n",
       "      s.src = url;\n",
       "      s.async = false;\n",
       "      s.onreadystatechange = s.onload = function() {\n",
       "        root._bokeh_is_loading--;\n",
       "        if (root._bokeh_is_loading === 0) {\n",
       "          console.log(\"Bokeh: all BokehJS libraries loaded\");\n",
       "          run_callbacks()\n",
       "        }\n",
       "      };\n",
       "      s.onerror = function() {\n",
       "        console.warn(\"failed to load library \" + url);\n",
       "      };\n",
       "      console.log(\"Bokeh: injecting script tag for BokehJS library: \", url);\n",
       "      document.getElementsByTagName(\"head\")[0].appendChild(s);\n",
       "    }\n",
       "  };\n",
       "\n",
       "  var js_urls = [\"https://cdn.pydata.org/bokeh/release/bokeh-0.12.10.min.js\", \"https://cdn.pydata.org/bokeh/release/bokeh-widgets-0.12.10.min.js\", \"https://cdn.pydata.org/bokeh/release/bokeh-tables-0.12.10.min.js\", \"https://cdn.pydata.org/bokeh/release/bokeh-gl-0.12.10.min.js\"];\n",
       "\n",
       "  var inline_js = [\n",
       "    function(Bokeh) {\n",
       "      Bokeh.set_log_level(\"info\");\n",
       "    },\n",
       "    \n",
       "    function(Bokeh) {\n",
       "      \n",
       "    },\n",
       "    function(Bokeh) {\n",
       "      console.log(\"Bokeh: injecting CSS: https://cdn.pydata.org/bokeh/release/bokeh-0.12.10.min.css\");\n",
       "      Bokeh.embed.inject_css(\"https://cdn.pydata.org/bokeh/release/bokeh-0.12.10.min.css\");\n",
       "      console.log(\"Bokeh: injecting CSS: https://cdn.pydata.org/bokeh/release/bokeh-widgets-0.12.10.min.css\");\n",
       "      Bokeh.embed.inject_css(\"https://cdn.pydata.org/bokeh/release/bokeh-widgets-0.12.10.min.css\");\n",
       "      console.log(\"Bokeh: injecting CSS: https://cdn.pydata.org/bokeh/release/bokeh-tables-0.12.10.min.css\");\n",
       "      Bokeh.embed.inject_css(\"https://cdn.pydata.org/bokeh/release/bokeh-tables-0.12.10.min.css\");\n",
       "    }\n",
       "  ];\n",
       "\n",
       "  function run_inline_js() {\n",
       "    \n",
       "    if ((root.Bokeh !== undefined) || (force === true)) {\n",
       "      for (var i = 0; i < inline_js.length; i++) {\n",
       "        inline_js[i].call(root, root.Bokeh);\n",
       "      }} else if (Date.now() < root._bokeh_timeout) {\n",
       "      setTimeout(run_inline_js, 100);\n",
       "    } else if (!root._bokeh_failed_load) {\n",
       "      console.log(\"Bokeh: BokehJS failed to load within specified timeout.\");\n",
       "      root._bokeh_failed_load = true;\n",
       "    } else if (force !== true) {\n",
       "      var cell = $(document.getElementById(null)).parents('.cell').data().cell;\n",
       "      cell.output_area.append_execute_result(NB_LOAD_WARNING)\n",
       "    }\n",
       "\n",
       "  }\n",
       "\n",
       "  if (root._bokeh_is_loading === 0) {\n",
       "    console.log(\"Bokeh: BokehJS loaded, going straight to plotting\");\n",
       "    run_inline_js();\n",
       "  } else {\n",
       "    load_libs(js_urls, function() {\n",
       "      console.log(\"Bokeh: BokehJS plotting callback run at\", now());\n",
       "      run_inline_js();\n",
       "    });\n",
       "  }\n",
       "}(window));"
      ],
      "application/vnd.bokehjs_load.v0+json": "\n(function(root) {\n  function now() {\n    return new Date();\n  }\n\n  var force = true;\n\n  if (typeof (root._bokeh_onload_callbacks) === \"undefined\" || force === true) {\n    root._bokeh_onload_callbacks = [];\n    root._bokeh_is_loading = undefined;\n  }\n\n  \n\n  \n  if (typeof (root._bokeh_timeout) === \"undefined\" || force === true) {\n    root._bokeh_timeout = Date.now() + 5000;\n    root._bokeh_failed_load = false;\n  }\n\n  var NB_LOAD_WARNING = {'data': {'text/html':\n     \"<div style='background-color: #fdd'>\\n\"+\n     \"<p>\\n\"+\n     \"BokehJS does not appear to have successfully loaded. If loading BokehJS from CDN, this \\n\"+\n     \"may be due to a slow or bad network connection. Possible fixes:\\n\"+\n     \"</p>\\n\"+\n     \"<ul>\\n\"+\n     \"<li>re-rerun `output_notebook()` to attempt to load from CDN again, or</li>\\n\"+\n     \"<li>use INLINE resources instead, as so:</li>\\n\"+\n     \"</ul>\\n\"+\n     \"<code>\\n\"+\n     \"from bokeh.resources import INLINE\\n\"+\n     \"output_notebook(resources=INLINE)\\n\"+\n     \"</code>\\n\"+\n     \"</div>\"}};\n\n  function display_loaded() {\n    var el = document.getElementById(null);\n    if (el != null) {\n      el.textContent = \"BokehJS is loading...\";\n    }\n    if (root.Bokeh !== undefined) {\n      if (el != null) {\n        el.textContent = \"BokehJS \" + root.Bokeh.version + \" successfully loaded.\";\n      }\n    } else if (Date.now() < root._bokeh_timeout) {\n      setTimeout(display_loaded, 100)\n    }\n  }\n\n\n  function run_callbacks() {\n    try {\n      root._bokeh_onload_callbacks.forEach(function(callback) { callback() });\n    }\n    finally {\n      delete root._bokeh_onload_callbacks\n    }\n    console.info(\"Bokeh: all callbacks have finished\");\n  }\n\n  function load_libs(js_urls, callback) {\n    root._bokeh_onload_callbacks.push(callback);\n    if (root._bokeh_is_loading > 0) {\n      console.log(\"Bokeh: BokehJS is being loaded, scheduling callback at\", now());\n      return null;\n    }\n    if (js_urls == null || js_urls.length === 0) {\n      run_callbacks();\n      return null;\n    }\n    console.log(\"Bokeh: BokehJS not loaded, scheduling load and callback at\", now());\n    root._bokeh_is_loading = js_urls.length;\n    for (var i = 0; i < js_urls.length; i++) {\n      var url = js_urls[i];\n      var s = document.createElement('script');\n      s.src = url;\n      s.async = false;\n      s.onreadystatechange = s.onload = function() {\n        root._bokeh_is_loading--;\n        if (root._bokeh_is_loading === 0) {\n          console.log(\"Bokeh: all BokehJS libraries loaded\");\n          run_callbacks()\n        }\n      };\n      s.onerror = function() {\n        console.warn(\"failed to load library \" + url);\n      };\n      console.log(\"Bokeh: injecting script tag for BokehJS library: \", url);\n      document.getElementsByTagName(\"head\")[0].appendChild(s);\n    }\n  };\n\n  var js_urls = [\"https://cdn.pydata.org/bokeh/release/bokeh-0.12.10.min.js\", \"https://cdn.pydata.org/bokeh/release/bokeh-widgets-0.12.10.min.js\", \"https://cdn.pydata.org/bokeh/release/bokeh-tables-0.12.10.min.js\", \"https://cdn.pydata.org/bokeh/release/bokeh-gl-0.12.10.min.js\"];\n\n  var inline_js = [\n    function(Bokeh) {\n      Bokeh.set_log_level(\"info\");\n    },\n    \n    function(Bokeh) {\n      \n    },\n    function(Bokeh) {\n      console.log(\"Bokeh: injecting CSS: https://cdn.pydata.org/bokeh/release/bokeh-0.12.10.min.css\");\n      Bokeh.embed.inject_css(\"https://cdn.pydata.org/bokeh/release/bokeh-0.12.10.min.css\");\n      console.log(\"Bokeh: injecting CSS: https://cdn.pydata.org/bokeh/release/bokeh-widgets-0.12.10.min.css\");\n      Bokeh.embed.inject_css(\"https://cdn.pydata.org/bokeh/release/bokeh-widgets-0.12.10.min.css\");\n      console.log(\"Bokeh: injecting CSS: https://cdn.pydata.org/bokeh/release/bokeh-tables-0.12.10.min.css\");\n      Bokeh.embed.inject_css(\"https://cdn.pydata.org/bokeh/release/bokeh-tables-0.12.10.min.css\");\n    }\n  ];\n\n  function run_inline_js() {\n    \n    if ((root.Bokeh !== undefined) || (force === true)) {\n      for (var i = 0; i < inline_js.length; i++) {\n        inline_js[i].call(root, root.Bokeh);\n      }} else if (Date.now() < root._bokeh_timeout) {\n      setTimeout(run_inline_js, 100);\n    } else if (!root._bokeh_failed_load) {\n      console.log(\"Bokeh: BokehJS failed to load within specified timeout.\");\n      root._bokeh_failed_load = true;\n    } else if (force !== true) {\n      var cell = $(document.getElementById(null)).parents('.cell').data().cell;\n      cell.output_area.append_execute_result(NB_LOAD_WARNING)\n    }\n\n  }\n\n  if (root._bokeh_is_loading === 0) {\n    console.log(\"Bokeh: BokehJS loaded, going straight to plotting\");\n    run_inline_js();\n  } else {\n    load_libs(js_urls, function() {\n      console.log(\"Bokeh: BokehJS plotting callback run at\", now());\n      run_inline_js();\n    });\n  }\n}(window));"
     },
     "metadata": {},
     "output_type": "display_data"
    }
   ],
   "source": [
    "from bokeh.plotting import output_notebook, show\n",
    "output_notebook(hide_banner=True)\n",
    "\n",
    "import gene_viz\n",
    "from gene_viz.features import Transcript, Exon, CDS"
   ]
  },
  {
   "cell_type": "markdown",
   "metadata": {},
   "source": [
    "## Use PyEnsembl as the data source"
   ]
  },
  {
   "cell_type": "code",
   "execution_count": 2,
   "metadata": {
    "collapsed": true
   },
   "outputs": [],
   "source": [
    "import os\n",
    "import pyensembl\n",
    "\n",
    "# set database cache directory for pyensembl\n",
    "os.environ['PYENSEMBL_CACHE_DIR'] = os.path.abspath(\"./\")\n",
    "\n",
    "# download and unzip gencode basic annotations for hg38\n",
    "#!wget ftp://ftp.sanger.ac.uk/pub/gencode/Gencode_human/release_27/gencode.v27.basic.annotation.gtf.gz\n",
    "#!gunzip gencode.v27.basic.annotation.gtf.gz\n",
    "    \n",
    "genome = pyensembl.Genome(\n",
    "    reference_name=\"GRCh38\",\n",
    "    annotation_name=\"Gencode27\",\n",
    "    gtf_path_or_url=\"gencode.v27.basic.annotation.gtf.gz\"\n",
    ")\n",
    "genome.index()"
   ]
  },
  {
   "cell_type": "markdown",
   "metadata": {},
   "source": [
    "## Create a method to translate pyensembl objects into gene_viz features "
   ]
  },
  {
   "cell_type": "code",
   "execution_count": 3,
   "metadata": {
    "collapsed": true
   },
   "outputs": [],
   "source": [
    "def transcripts_from_pyensembl(contig, start, end):\n",
    "    \"\"\"\n",
    "    Get annotations from pyensembl and translate them into gene_viz features\n",
    "    \"\"\"\n",
    "    transcripts = []\n",
    "\n",
    "    for gene in genome.genes_at_locus(contig, start, end):\n",
    "        for t in gene.transcripts:\n",
    "            tr = Transcript(t.transcript_name, t.gene_id, t.contig, t.start, t.end, t.strand)\n",
    "                \n",
    "            for e in t.exons:\n",
    "                tr.add_exon(Exon(e.id, e.contig, e.start, e.end))\n",
    "        \n",
    "            try:\n",
    "                for c in t.coding_sequence_position_ranges:\n",
    "                    tr.add_cds(CDS(t.contig, c[0], c[1]))\n",
    "            except ValueError:\n",
    "                pass\n",
    "        \n",
    "            transcripts.append(tr)\n",
    "    \n",
    "    return transcripts"
   ]
  },
  {
   "cell_type": "markdown",
   "metadata": {},
   "source": [
    "## Create a gene_viz GenePlot"
   ]
  },
  {
   "cell_type": "code",
   "execution_count": 4,
   "metadata": {
    "scrolled": false
   },
   "outputs": [],
   "source": [
    "def make_plot(transcripts):\n",
    "    \"\"\"\n",
    "    Create a gene_plot object from a list of transcript feature objects\n",
    "    \"\"\"\n",
    "    start = min([t.start for t in transcripts])\n",
    "    end = max([t.end for t in transcripts])\n",
    "    contig = next((t.contig for t in transcripts), \"unlabelled\")\n",
    "    \n",
    "    gene_plot = gene_viz.GenePlot(\n",
    "        dict(\n",
    "            row_height=15,\n",
    "            pack=True,\n",
    "            show_labels=True,\n",
    "            label_horiz_position=\"center\",\n",
    "            label_vert_position=\"above\",\n",
    "            label_justify=\"center\",\n",
    "            label_offset=(0, -4),\n",
    "            label_font_size=\"6pt\",\n",
    "            intron_width_percent=0.01,\n",
    "        )\n",
    "    )\n",
    "        \n",
    "    gene_plot.x_range = (start, end)\n",
    "    gene_plot.figure.xaxis.axis_label = contig\n",
    "    gene_plot.transcripts = transcripts\n",
    "    gene_plot.update()\n",
    "    return gene_plot"
   ]
  },
  {
   "cell_type": "markdown",
   "metadata": {},
   "source": [
    "## Query pyensembl and visualize the results"
   ]
  },
  {
   "cell_type": "code",
   "execution_count": 5,
   "metadata": {},
   "outputs": [
    {
     "data": {
      "text/html": [
       "\n",
       "<div class=\"bk-root\">\n",
       "    <div class=\"bk-plotdiv\" id=\"dcb41914-b1f7-495f-8bde-578def815748\"></div>\n",
       "</div>"
      ]
     },
     "metadata": {},
     "output_type": "display_data"
    },
    {
     "data": {
      "application/javascript": [
       "(function(root) {\n",
       "  function embed_document(root) {\n",
       "    var docs_json = {\"25caad6e-572a-4961-8186-0f72b9aa192b\":{\"roots\":{\"references\":[{\"attributes\":{\"source\":{\"id\":\"e3da34f8-3957-4323-9389-4f57cdfb73db\",\"type\":\"ColumnDataSource\"}},\"id\":\"dd676c67-1a61-49e0-8445-08f3ad45739c\",\"type\":\"CDSView\"},{\"attributes\":{\"callback\":null,\"column_names\":[\"x\",\"y\",\"label\",\"index\"],\"data\":{\"index\":[0,1,2,3,4,5,6,7,8,9,10,11,12,13],\"label\":[\"CYP2D6-203\",\"CYP2D6-204\",\"CYP2D6-201\",\"CYP2D7-201\",\"CYP2D7-203\",\"CYP2D7-208\",\"CYP2D7-207\",\"AC254562.1-201\",\"AC254562.2-201\",\"NDUFA6-AS1-203\",\"NDUFA6-AS1-207\",\"NDUFA6-AS1-208\",\"NDUFA6-AS1-216\",\"AC254562.3-201\"],\"x\":[42128702.5,42128691.0,42128710.5,42142376.0,42142390.0,42142379.5,42142391.0,42132770.5,42138180.0,42114336.5,42108081.5,42108155.5,42134540.5,42138893.0],\"y\":[3,1,-1,-1,5,1,3,-1,1,5,1,-1,3,-1]}},\"id\":\"7afb8bcb-3a62-4eba-a080-f1f2f7a36eb6\",\"type\":\"ColumnDataSource\"},{\"attributes\":{\"text\":{\"field\":\"label\"},\"text_align\":\"center\",\"text_alpha\":{\"value\":0.1},\"text_baseline\":\"middle\",\"text_color\":{\"value\":\"black\"},\"text_font\":\"monospace\",\"text_font_size\":{\"value\":\"6pt\"},\"x\":{\"field\":\"x\"},\"y\":{\"field\":\"y\"}},\"id\":\"ba67ee57-f611-4f08-8c1b-3a5e177831df\",\"type\":\"Text\"},{\"attributes\":{\"line_alpha\":{\"value\":0.1},\"line_color\":{\"value\":\"#1f77b4\"},\"x0\":{\"field\":\"x0\"},\"x1\":{\"field\":\"x1\"},\"y0\":{\"field\":\"y0\"},\"y1\":{\"field\":\"y1\"}},\"id\":\"6cb9936a-a2ec-4286-9db1-5fa67c9b0008\",\"type\":\"Segment\"},{\"attributes\":{\"mantissas\":[1,2,3,4,5,6,7,8,9],\"max_interval\":2,\"min_interval\":2,\"num_minor_ticks\":2},\"id\":\"d9b121b1-b22e-4530-ac22-a537d144c7ee\",\"type\":\"AdaptiveTicker\"},{\"attributes\":{\"callback\":null,\"end\":-1.5,\"start\":7},\"id\":\"473c4e6a-27da-4110-96a5-8ed4eab45ccb\",\"type\":\"Range1d\"},{\"attributes\":{\"source\":{\"id\":\"7afb8bcb-3a62-4eba-a080-f1f2f7a36eb6\",\"type\":\"ColumnDataSource\"}},\"id\":\"657ce3d2-8c89-42db-9e5f-d5252a23e8d4\",\"type\":\"CDSView\"},{\"attributes\":{\"axis_label\":\"22\",\"formatter\":{\"id\":\"51373282-1417-485b-a5d3-b9db1858dde1\",\"type\":\"NumeralTickFormatter\"},\"plot\":{\"id\":\"f70354b9-ba5b-47b3-8f04-a1bd6e39b317\",\"subtype\":\"Figure\",\"type\":\"Plot\"},\"ticker\":{\"id\":\"eab2cb2e-2f2d-4411-bfb8-cb53944781ff\",\"type\":\"CompositeTicker\"}},\"id\":\"897c4cba-af72-47e6-ae43-11492ec4e0c1\",\"type\":\"LinearAxis\"},{\"attributes\":{\"dimension\":1,\"grid_line_color\":{\"value\":null},\"plot\":{\"id\":\"f70354b9-ba5b-47b3-8f04-a1bd6e39b317\",\"subtype\":\"Figure\",\"type\":\"Plot\"},\"ticker\":{\"id\":\"7db50834-cb42-4525-ba91-d750970555c0\",\"type\":\"BasicTicker\"}},\"id\":\"327f942d-2715-40c8-99d9-204c348ae3ec\",\"type\":\"Grid\"},{\"attributes\":{\"mantissas\":[1,2,3,4,5,6,7,8,9],\"max_interval\":3,\"min_interval\":3,\"num_minor_ticks\":3},\"id\":\"df2ec40e-976a-4249-82fd-9348955bb468\",\"type\":\"AdaptiveTicker\"},{\"attributes\":{},\"id\":\"51373282-1417-485b-a5d3-b9db1858dde1\",\"type\":\"NumeralTickFormatter\"},{\"attributes\":{},\"id\":\"cab652ac-c0d7-47a0-b60f-ed8a1ecbbc3e\",\"type\":\"LinearScale\"},{\"attributes\":{\"mantissas\":[1,2,3,4,5,6,7,8,9],\"max_interval\":4,\"min_interval\":4,\"num_minor_ticks\":4},\"id\":\"44f7921f-38aa-42c2-a41a-3cc15a6c3453\",\"type\":\"AdaptiveTicker\"},{\"attributes\":{\"args\":{\"source\":{\"id\":\"dff22595-2b5a-4502-89bc-f0b43baa1602\",\"type\":\"ColumnDataSource\"}},\"code\":\"\\nvar start = cb_obj.start;\\nvar end = cb_obj.end;\\nvar width = end - start;\\nvar threshold = 0.010000 * width;     // threshold factor is set from python-side configuration\\nvar intron_alpha = 1.000000;          // alpha value is set from python-side configuration\\n\\n// iterate over each intron\\nvar data = source.data;\\nfor (i=0; i<data[\\\"x\\\"].length; i++)\\n{\\n    // if the screen-space width is large enough, make the intron visible\\n    if(data[\\\"width\\\"][i] >= threshold)\\n        data[\\\"alpha\\\"][i] = intron_alpha;\\n    else\\n    // otherwise, make the intron fully transparent\\n        data[\\\"alpha\\\"][i] = 0;\\n}\\n\\nsource.change.emit();\\n\"},\"id\":\"cb900e58-3c9d-422e-b67b-c9426b06de82\",\"type\":\"CustomJS\"},{\"attributes\":{\"line_color\":{\"value\":\"Black\"},\"x0\":{\"field\":\"x0\"},\"x1\":{\"field\":\"x1\"},\"y0\":{\"field\":\"y0\"},\"y1\":{\"field\":\"y1\"}},\"id\":\"711ed8e2-adb8-420b-ae4a-2ac3d92da888\",\"type\":\"Segment\"},{\"attributes\":{\"mantissas\":[1,2,3,4,5,6,7,8,9],\"min_interval\":5},\"id\":\"02a9764d-09d2-4dc0-9aa3-31a55e432b68\",\"type\":\"AdaptiveTicker\"},{\"attributes\":{\"callback\":{\"id\":\"cb900e58-3c9d-422e-b67b-c9426b06de82\",\"type\":\"CustomJS\"},\"end\":42144577,\"start\":42090931},\"id\":\"972c9ea0-abc7-42fe-9fe6-0b63837c3100\",\"type\":\"Range1d\"},{\"attributes\":{\"grid_line_color\":{\"value\":null},\"plot\":{\"id\":\"f70354b9-ba5b-47b3-8f04-a1bd6e39b317\",\"subtype\":\"Figure\",\"type\":\"Plot\"},\"ticker\":{\"id\":\"30f2ff9f-2eb7-4e0b-b6e2-2261feeaa5a0\",\"type\":\"BasicTicker\"}},\"id\":\"489b3ffe-1ed5-443b-83c2-333a073c25f9\",\"type\":\"Grid\"},{\"attributes\":{\"tickers\":[{\"id\":\"967fe8d3-d596-453f-b509-738b8b42210d\",\"type\":\"AdaptiveTicker\"},{\"id\":\"d9b121b1-b22e-4530-ac22-a537d144c7ee\",\"type\":\"AdaptiveTicker\"},{\"id\":\"df2ec40e-976a-4249-82fd-9348955bb468\",\"type\":\"AdaptiveTicker\"},{\"id\":\"44f7921f-38aa-42c2-a41a-3cc15a6c3453\",\"type\":\"AdaptiveTicker\"},{\"id\":\"02a9764d-09d2-4dc0-9aa3-31a55e432b68\",\"type\":\"AdaptiveTicker\"}]},\"id\":\"eab2cb2e-2f2d-4411-bfb8-cb53944781ff\",\"type\":\"CompositeTicker\"},{\"attributes\":{},\"id\":\"47fc3f60-4b97-423b-9548-c6110b81ab26\",\"type\":\"BasicTickFormatter\"},{\"attributes\":{\"callback\":null,\"column_names\":[\"x0\",\"y0\",\"x1\",\"y1\",\"index\"],\"data\":{\"index\":[0,1,2,3,4,5,6,7,8,9,10,11,12,13,14,15,16,17,18,19,20,21,22,23,24,25,26,27,28,29,30,31,32,33,34,35,36,37,38,39,40,41,42,43,44,45,46,47,48,49,50,51,52,53,54,55,56,57,58,59,60,61,62,63,64],\"x0\":[42130611,42129737,42129032,42128783,42128173,42127841,42127446,42126850,42126576,42130611,42129737,42129032,42128783,42128173,42127841,42127780,42127446,42126850,42126576,42130611,42129737,42128783,42128173,42127841,42127446,42126850,42126576,42144283,42143409,42142727,42142478,42141867,42141533,42141151,42140554,42140279,42144283,42143409,42142727,42142478,42141867,42141533,42141151,42140554,42140279,42144329,42144283,42143409,42142478,42141867,42141533,42141151,42140554,42140280,42144329,42144283,42143409,42142727,42142478,42141867,42141533,42141370,42141151,42140554,42140280],\"x1\":[42130791,42129909,42129185,42128944,42128350,42127983,42127634,42126992,42126752,42130725,42129909,42129185,42128944,42128350,42127983,42127809,42127662,42126992,42126752,42130791,42129909,42128944,42128350,42127983,42127634,42126992,42126752,42144464,42143581,42142880,42142639,42142044,42141675,42141339,42140696,42140456,42144464,42143581,42142880,42142639,42142044,42141675,42141396,42140696,42140456,42144464,42144328,42143581,42142639,42142044,42141675,42141339,42140696,42140456,42144464,42144328,42143581,42142880,42142639,42142044,42141675,42141396,42141367,42140696,42140456],\"y0\":[3.65,3.65,3.65,3.65,3.65,3.65,3.65,3.65,3.65,1.65,1.65,1.65,1.65,1.65,1.65,1.65,1.65,1.65,1.65,-0.35,-0.35,-0.35,-0.35,-0.35,-0.35,-0.35,-0.35,-0.35,-0.35,-0.35,-0.35,-0.35,-0.35,-0.35,-0.35,-0.35,5.65,5.65,5.65,5.65,5.65,5.65,5.65,5.65,5.65,1.65,1.65,1.65,1.65,1.65,1.65,1.65,1.65,1.65,3.65,3.65,3.65,3.65,3.65,3.65,3.65,3.65,3.65,3.65,3.65],\"y1\":[4.35,4.35,4.35,4.35,4.35,4.35,4.35,4.35,4.35,2.35,2.35,2.35,2.35,2.35,2.35,2.35,2.35,2.35,2.35,0.35,0.35,0.35,0.35,0.35,0.35,0.35,0.35,0.35,0.35,0.35,0.35,0.35,0.35,0.35,0.35,0.35,6.35,6.35,6.35,6.35,6.35,6.35,6.35,6.35,6.35,2.35,2.35,2.35,2.35,2.35,2.35,2.35,2.35,2.35,4.35,4.35,4.35,4.35,4.35,4.35,4.35,4.35,4.35,4.35,4.35]}},\"id\":\"00356254-52c3-41df-ae6c-0aa4b4a12ef9\",\"type\":\"ColumnDataSource\"},{\"attributes\":{\"dimensions\":\"width\"},\"id\":\"832d5285-7100-4ad4-a8f1-755af9c97ff4\",\"type\":\"PanTool\"},{\"attributes\":{\"bottom_units\":\"screen\",\"fill_alpha\":{\"value\":0.5},\"fill_color\":{\"value\":\"lightgrey\"},\"left_units\":\"screen\",\"level\":\"overlay\",\"line_alpha\":{\"value\":1.0},\"line_color\":{\"value\":\"black\"},\"line_dash\":[4,4],\"line_width\":{\"value\":2},\"plot\":null,\"render_mode\":\"css\",\"right_units\":\"screen\",\"top_units\":\"screen\"},\"id\":\"71246476-8e36-4835-bf9e-b8898406cc93\",\"type\":\"BoxAnnotation\"},{\"attributes\":{\"callback\":null,\"column_names\":[\"x0\",\"y0\",\"x1\",\"y1\",\"index\"],\"data\":{\"index\":[0,1,2,3,4,5,6,7,8,9,10,11,12,13],\"x0\":[42126498,42126500,42126555,42140202,42140202,42140204,42140204,42132542,42136432,42090930,42091203,42091351,42132030,42138059],\"x1\":[42130906,42130881,42130865,42144549,42144577,42144554,42144577,42132998,42139927,42137742,42124959,42124959,42137050,42139726],\"y0\":[4,2,0,0,6,2,4,0,2,6,2,0,4,0],\"y1\":[4,2,0,0,6,2,4,0,2,6,2,0,4,0]}},\"id\":\"c1c19b66-816c-41b9-8640-e3cc4324235d\",\"type\":\"ColumnDataSource\"},{\"attributes\":{\"dimensions\":\"width\",\"overlay\":{\"id\":\"71246476-8e36-4835-bf9e-b8898406cc93\",\"type\":\"BoxAnnotation\"}},\"id\":\"a5f8b7b2-f1af-4f76-8296-98c787cb872a\",\"type\":\"BoxZoomTool\"},{\"attributes\":{\"angle\":{\"field\":\"angle\",\"units\":\"deg\"},\"text\":{\"value\":\"v\"},\"text_align\":\"center\",\"text_alpha\":{\"value\":0.1},\"text_baseline\":\"middle\",\"text_color\":{\"value\":\"black\"},\"text_font\":\"sans-serif\",\"text_font_size\":{\"value\":\"5pt\"},\"text_font_style\":\"bold\",\"x\":{\"field\":\"x\"},\"y\":{\"field\":\"y\"}},\"id\":\"0cc80280-e7da-4896-88c0-c13aced4dca6\",\"type\":\"Text\"},{\"attributes\":{},\"id\":\"23a7ed00-5a78-4a75-891e-25089c42e05e\",\"type\":\"SaveTool\"},{\"attributes\":{\"formatter\":{\"id\":\"47fc3f60-4b97-423b-9548-c6110b81ab26\",\"type\":\"BasicTickFormatter\"},\"plot\":{\"id\":\"f70354b9-ba5b-47b3-8f04-a1bd6e39b317\",\"subtype\":\"Figure\",\"type\":\"Plot\"},\"ticker\":{\"id\":\"7db50834-cb42-4525-ba91-d750970555c0\",\"type\":\"BasicTicker\"},\"visible\":false},\"id\":\"e8cd2446-8af3-473c-bc16-e565907559ce\",\"type\":\"LinearAxis\"},{\"attributes\":{},\"id\":\"621059b4-7d31-4e29-86be-724f46a0aeec\",\"type\":\"ResetTool\"},{\"attributes\":{\"data_source\":{\"id\":\"c1c19b66-816c-41b9-8640-e3cc4324235d\",\"type\":\"ColumnDataSource\"},\"glyph\":{\"id\":\"711ed8e2-adb8-420b-ae4a-2ac3d92da888\",\"type\":\"Segment\"},\"hover_glyph\":null,\"muted_glyph\":null,\"name\":\"transcripts\",\"nonselection_glyph\":{\"id\":\"6cb9936a-a2ec-4286-9db1-5fa67c9b0008\",\"type\":\"Segment\"},\"selection_glyph\":null,\"view\":{\"id\":\"42f07221-b91e-457a-a334-051d7da8a87b\",\"type\":\"CDSView\"}},\"id\":\"8e928934-df3f-42ab-b05d-4f733a609475\",\"type\":\"GlyphRenderer\"},{\"attributes\":{\"active_drag\":\"auto\",\"active_inspect\":\"auto\",\"active_scroll\":{\"id\":\"8f78cd14-8491-4016-a573-5bb935873cbc\",\"type\":\"WheelZoomTool\"},\"active_tap\":\"auto\",\"logo\":null,\"tools\":[{\"id\":\"832d5285-7100-4ad4-a8f1-755af9c97ff4\",\"type\":\"PanTool\"},{\"id\":\"8f78cd14-8491-4016-a573-5bb935873cbc\",\"type\":\"WheelZoomTool\"},{\"id\":\"a5f8b7b2-f1af-4f76-8296-98c787cb872a\",\"type\":\"BoxZoomTool\"},{\"id\":\"23a7ed00-5a78-4a75-891e-25089c42e05e\",\"type\":\"SaveTool\"},{\"id\":\"621059b4-7d31-4e29-86be-724f46a0aeec\",\"type\":\"ResetTool\"}]},\"id\":\"269ef6a6-de50-43af-be9a-96d65c2881f4\",\"type\":\"Toolbar\"},{\"attributes\":{\"callback\":null,\"column_names\":[\"x0\",\"y0\",\"x1\",\"y1\",\"index\"],\"data\":{\"index\":[0,1,2,3,4,5,6,7,8,9,10,11,12,13,14,15,16,17,18,19,20,21,22,23,24,25,26,27,28,29,30,31,32,33,34,35,36,37,38,39,40,41,42,43,44,45,46,47,48,49,50,51,52,53,54,55,56,57,58,59,60,61,62,63,64,65,66,67,68,69,70,71,72,73,74,75,76,77,78,79,80,81,82,83,84,85,86,87,88,89,90,91,92,93,94,95,96,97,98],\"x0\":[42130611,42129737,42129032,42128783,42128173,42127841,42127446,42126850,42126498,42130611,42129737,42129032,42128783,42128173,42127841,42127780,42127446,42126850,42126500,42130611,42129737,42128783,42128173,42127841,42127446,42126850,42126555,42144283,42143409,42142727,42142478,42141867,42141533,42141151,42140554,42140202,42144283,42143409,42142727,42142478,42141867,42141533,42141151,42140554,42140202,42144329,42144283,42143409,42142478,42141867,42141533,42141151,42140554,42140204,42144329,42144283,42143409,42142727,42142478,42141867,42141533,42141370,42141151,42140554,42140204,42132542,42139611,42137986,42136432,42090930,42091296,42092118,42124046,42124874,42136198,42137026,42091203,42112305,42122792,42124046,42124476,42124874,42091351,42122792,42123525,42123765,42124046,42124519,42124874,42132030,42132369,42133039,42135134,42135677,42136198,42136671,42137026,42138059,42139318],\"x1\":[42130906,42129909,42129185,42128944,42128350,42127983,42127634,42126992,42126752,42130881,42129909,42129185,42128944,42128350,42127983,42127809,42127662,42126992,42126752,42130865,42129909,42128944,42128350,42127983,42127634,42126992,42126752,42144549,42143581,42142880,42142639,42142044,42141675,42141339,42140696,42140456,42144577,42143581,42142880,42142639,42142044,42141675,42141396,42140696,42140456,42144554,42144328,42143581,42142639,42142044,42141675,42141339,42140696,42140456,42144577,42144328,42143581,42142880,42142639,42142044,42141675,42141396,42141367,42140696,42140456,42132998,42139927,42138105,42136664,42091181,42091600,42092232,42124562,42125407,42136714,42137742,42091600,42112390,42122888,42124130,42124562,42124959,42091600,42122888,42123591,42123804,42124130,42124562,42124959,42132190,42132602,42133090,42135239,42135743,42136282,42136714,42137050,42138282,42139726],\"y0\":[3.825,3.825,3.825,3.825,3.825,3.825,3.825,3.825,3.825,1.825,1.825,1.825,1.825,1.825,1.825,1.825,1.825,1.825,1.825,-0.175,-0.175,-0.175,-0.175,-0.175,-0.175,-0.175,-0.175,-0.175,-0.175,-0.175,-0.175,-0.175,-0.175,-0.175,-0.175,-0.175,5.825,5.825,5.825,5.825,5.825,5.825,5.825,5.825,5.825,1.825,1.825,1.825,1.825,1.825,1.825,1.825,1.825,1.825,3.825,3.825,3.825,3.825,3.825,3.825,3.825,3.825,3.825,3.825,3.825,-0.175,1.825,1.825,1.825,5.825,5.825,5.825,5.825,5.825,5.825,5.825,1.825,1.825,1.825,1.825,1.825,1.825,-0.175,-0.175,-0.175,-0.175,-0.175,-0.175,-0.175,3.825,3.825,3.825,3.825,3.825,3.825,3.825,3.825,-0.175,-0.175],\"y1\":[4.175,4.175,4.175,4.175,4.175,4.175,4.175,4.175,4.175,2.175,2.175,2.175,2.175,2.175,2.175,2.175,2.175,2.175,2.175,0.175,0.175,0.175,0.175,0.175,0.175,0.175,0.175,0.175,0.175,0.175,0.175,0.175,0.175,0.175,0.175,0.175,6.175,6.175,6.175,6.175,6.175,6.175,6.175,6.175,6.175,2.175,2.175,2.175,2.175,2.175,2.175,2.175,2.175,2.175,4.175,4.175,4.175,4.175,4.175,4.175,4.175,4.175,4.175,4.175,4.175,0.175,2.175,2.175,2.175,6.175,6.175,6.175,6.175,6.175,6.175,6.175,2.175,2.175,2.175,2.175,2.175,2.175,0.175,0.175,0.175,0.175,0.175,0.175,0.175,4.175,4.175,4.175,4.175,4.175,4.175,4.175,4.175,0.175,0.175]}},\"id\":\"e3da34f8-3957-4323-9389-4f57cdfb73db\",\"type\":\"ColumnDataSource\"},{\"attributes\":{},\"id\":\"3a1344be-d0f7-4c90-a2c8-b98d9423cb06\",\"type\":\"LinearScale\"},{\"attributes\":{\"source\":{\"id\":\"c1c19b66-816c-41b9-8640-e3cc4324235d\",\"type\":\"ColumnDataSource\"}},\"id\":\"42f07221-b91e-457a-a334-051d7da8a87b\",\"type\":\"CDSView\"},{\"attributes\":{\"plot\":null,\"text\":\"\"},\"id\":\"7d106c3f-ea3c-4821-8173-28cfe17913f3\",\"type\":\"Title\"},{\"attributes\":{\"bottom\":{\"field\":\"y0\"},\"fill_alpha\":{\"value\":0.1},\"fill_color\":{\"value\":\"#1f77b4\"},\"left\":{\"field\":\"x0\"},\"line_alpha\":{\"value\":0.1},\"line_color\":{\"value\":\"#1f77b4\"},\"right\":{\"field\":\"x1\"},\"top\":{\"field\":\"y1\"}},\"id\":\"1942fe52-3808-4339-b5cd-3abb7dfdb65c\",\"type\":\"Quad\"},{\"attributes\":{\"below\":[{\"id\":\"897c4cba-af72-47e6-ae43-11492ec4e0c1\",\"type\":\"LinearAxis\"}],\"left\":[{\"id\":\"e8cd2446-8af3-473c-bc16-e565907559ce\",\"type\":\"LinearAxis\"}],\"outline_line_alpha\":{\"value\":0},\"plot_height\":155,\"plot_width\":800,\"renderers\":[{\"id\":\"897c4cba-af72-47e6-ae43-11492ec4e0c1\",\"type\":\"LinearAxis\"},{\"id\":\"489b3ffe-1ed5-443b-83c2-333a073c25f9\",\"type\":\"Grid\"},{\"id\":\"e8cd2446-8af3-473c-bc16-e565907559ce\",\"type\":\"LinearAxis\"},{\"id\":\"327f942d-2715-40c8-99d9-204c348ae3ec\",\"type\":\"Grid\"},{\"id\":\"71246476-8e36-4835-bf9e-b8898406cc93\",\"type\":\"BoxAnnotation\"},{\"id\":\"8e928934-df3f-42ab-b05d-4f733a609475\",\"type\":\"GlyphRenderer\"},{\"id\":\"dfc1f9ef-9b71-44e2-9f9b-01c082d0bed4\",\"type\":\"GlyphRenderer\"},{\"id\":\"a839f2e5-5182-4398-9943-52d38b810426\",\"type\":\"GlyphRenderer\"},{\"id\":\"b58fe4c3-c980-4851-b4be-5dcf8ee350ad\",\"type\":\"GlyphRenderer\"},{\"id\":\"8b18c635-0824-49c2-a8a5-54b6a0f4f20a\",\"type\":\"GlyphRenderer\"}],\"title\":{\"id\":\"7d106c3f-ea3c-4821-8173-28cfe17913f3\",\"type\":\"Title\"},\"toolbar\":{\"id\":\"269ef6a6-de50-43af-be9a-96d65c2881f4\",\"type\":\"Toolbar\"},\"x_range\":{\"id\":\"972c9ea0-abc7-42fe-9fe6-0b63837c3100\",\"type\":\"Range1d\"},\"x_scale\":{\"id\":\"cab652ac-c0d7-47a0-b60f-ed8a1ecbbc3e\",\"type\":\"LinearScale\"},\"y_range\":{\"id\":\"473c4e6a-27da-4110-96a5-8ed4eab45ccb\",\"type\":\"Range1d\"},\"y_scale\":{\"id\":\"3a1344be-d0f7-4c90-a2c8-b98d9423cb06\",\"type\":\"LinearScale\"}},\"id\":\"f70354b9-ba5b-47b3-8f04-a1bd6e39b317\",\"subtype\":\"Figure\",\"type\":\"Plot\"},{\"attributes\":{\"angle\":{\"field\":\"angle\",\"units\":\"deg\"},\"text\":{\"value\":\"v\"},\"text_align\":\"center\",\"text_alpha\":{\"field\":\"alpha\"},\"text_baseline\":\"middle\",\"text_color\":{\"value\":\"Black\"},\"text_font\":\"sans-serif\",\"text_font_size\":{\"value\":\"5pt\"},\"text_font_style\":\"bold\",\"x\":{\"field\":\"x\"},\"y\":{\"field\":\"y\"}},\"id\":\"2e1fde45-3762-4c13-80f9-1b939be20d71\",\"type\":\"Text\"},{\"attributes\":{\"source\":{\"id\":\"dff22595-2b5a-4502-89bc-f0b43baa1602\",\"type\":\"ColumnDataSource\"}},\"id\":\"6e1474cb-d4e2-42d1-b845-b1d84a3de52a\",\"type\":\"CDSView\"},{\"attributes\":{\"data_source\":{\"id\":\"7afb8bcb-3a62-4eba-a080-f1f2f7a36eb6\",\"type\":\"ColumnDataSource\"},\"glyph\":{\"id\":\"1b41842f-1666-4d73-9f47-e1821ae82218\",\"type\":\"Text\"},\"hover_glyph\":null,\"muted_glyph\":null,\"name\":\"transcript_labels\",\"nonselection_glyph\":{\"id\":\"ba67ee57-f611-4f08-8c1b-3a5e177831df\",\"type\":\"Text\"},\"selection_glyph\":null,\"view\":{\"id\":\"657ce3d2-8c89-42db-9e5f-d5252a23e8d4\",\"type\":\"CDSView\"}},\"id\":\"8b18c635-0824-49c2-a8a5-54b6a0f4f20a\",\"type\":\"GlyphRenderer\"},{\"attributes\":{\"bottom\":{\"field\":\"y0\"},\"fill_alpha\":{\"value\":0.1},\"fill_color\":{\"value\":\"#1f77b4\"},\"left\":{\"field\":\"x0\"},\"line_alpha\":{\"value\":0.1},\"line_color\":{\"value\":\"#1f77b4\"},\"right\":{\"field\":\"x1\"},\"top\":{\"field\":\"y1\"}},\"id\":\"32a54ecf-4bc6-48f0-8cbf-29c493562eff\",\"type\":\"Quad\"},{\"attributes\":{},\"id\":\"30f2ff9f-2eb7-4e0b-b6e2-2261feeaa5a0\",\"type\":\"BasicTicker\"},{\"attributes\":{\"data_source\":{\"id\":\"dff22595-2b5a-4502-89bc-f0b43baa1602\",\"type\":\"ColumnDataSource\"},\"glyph\":{\"id\":\"2e1fde45-3762-4c13-80f9-1b939be20d71\",\"type\":\"Text\"},\"hover_glyph\":null,\"muted_glyph\":null,\"name\":\"introns\",\"nonselection_glyph\":{\"id\":\"0cc80280-e7da-4896-88c0-c13aced4dca6\",\"type\":\"Text\"},\"selection_glyph\":null,\"view\":{\"id\":\"6e1474cb-d4e2-42d1-b845-b1d84a3de52a\",\"type\":\"CDSView\"}},\"id\":\"dfc1f9ef-9b71-44e2-9f9b-01c082d0bed4\",\"type\":\"GlyphRenderer\"},{\"attributes\":{\"bottom\":{\"field\":\"y0\"},\"fill_color\":{\"value\":\"DarkBlue\"},\"left\":{\"field\":\"x0\"},\"line_color\":{\"value\":\"DarkBlue\"},\"right\":{\"field\":\"x1\"},\"top\":{\"field\":\"y1\"}},\"id\":\"a212c83b-ac4f-4c5c-9d4b-a3d33719ee5e\",\"type\":\"Quad\"},{\"attributes\":{\"data_source\":{\"id\":\"00356254-52c3-41df-ae6c-0aa4b4a12ef9\",\"type\":\"ColumnDataSource\"},\"glyph\":{\"id\":\"a212c83b-ac4f-4c5c-9d4b-a3d33719ee5e\",\"type\":\"Quad\"},\"hover_glyph\":null,\"muted_glyph\":null,\"name\":\"coding_exons\",\"nonselection_glyph\":{\"id\":\"32a54ecf-4bc6-48f0-8cbf-29c493562eff\",\"type\":\"Quad\"},\"selection_glyph\":null,\"view\":{\"id\":\"5cfb6df2-1d5d-40ae-b6df-0ba0b358ae00\",\"type\":\"CDSView\"}},\"id\":\"a839f2e5-5182-4398-9943-52d38b810426\",\"type\":\"GlyphRenderer\"},{\"attributes\":{\"mantissas\":[1,2,3,4,5,6,7,8,9],\"max_interval\":1,\"min_interval\":1,\"num_minor_ticks\":1},\"id\":\"967fe8d3-d596-453f-b509-738b8b42210d\",\"type\":\"AdaptiveTicker\"},{\"attributes\":{\"source\":{\"id\":\"00356254-52c3-41df-ae6c-0aa4b4a12ef9\",\"type\":\"ColumnDataSource\"}},\"id\":\"5cfb6df2-1d5d-40ae-b6df-0ba0b358ae00\",\"type\":\"CDSView\"},{\"attributes\":{\"dimensions\":\"width\"},\"id\":\"8f78cd14-8491-4016-a573-5bb935873cbc\",\"type\":\"WheelZoomTool\"},{\"attributes\":{\"bottom\":{\"field\":\"y0\"},\"fill_color\":{\"value\":\"DarkBlue\"},\"left\":{\"field\":\"x0\"},\"line_color\":{\"value\":\"DarkBlue\"},\"right\":{\"field\":\"x1\"},\"top\":{\"field\":\"y1\"}},\"id\":\"fc12e922-6e31-4737-8f61-feef09051743\",\"type\":\"Quad\"},{\"attributes\":{\"callback\":null,\"column_names\":[\"x\",\"y\",\"angle\",\"width\",\"alpha\",\"index\"],\"data\":{\"alpha\":{\"__ndarray__\":\"AAAAAAAAAAAAAAAAAAAAAAAAAAAAAAAAAAAAAAAAAAAAAAAAAAAAAAAAAAAAAAAAAAAAAAAA8D8AAAAAAADwPwAAAAAAAAAAAAAAAAAAAAAAAAAAAAAAAAAAAAAAAAAAAAAAAAAAAAAAAAAAAAAAAAAAAAAAAAAAAAAAAAAA8D8AAAAAAADwPwAAAAAAAAAAAAAAAAAAAAAAAAAAAAAAAAAAAAAAAAAAAAAAAAAAAAAAAAAAAADwPwAAAAAAAPA/AAAAAAAAAAAAAAAAAAAAAAAAAAAAAAAAAAAAAAAAAAAAAAAAAAAAAAAAAAAAAAAAAAAAAAAAAAAAAAAAAADwPwAAAAAAAAAAAAAAAAAAAAAAAAAAAAAAAAAAAAAAAAAAAAAAAAAAAAAAAAAAAAAAAAAAAAAAAAAAAAAAAAAA8D8AAAAAAAAAAAAAAAAAAAAAAAAAAAAAAAAAAAAAAAAAAAAAAAAAAAAAAAAAAAAA8D8AAAAAAADwPwAAAAAAAAAAAAAAAAAAAAAAAAAAAAAAAAAAAAAAAAAAAAAAAAAAAAAAAAAAAAAAAAAAAAAAAAAAAAAAAAAAAAAAAAAAAAAAAAAAAAAAAPA/AAAAAAAAAAAAAAAAAADwPwAAAAAAAPA/AAAAAAAAAAAAAAAAAAAAAAAAAAAAAPA/AAAAAAAAAAAAAAAAAADwPwAAAAAAAAAAAAAAAAAA8D8AAAAAAADwPwAAAAAAAPA/AAAAAAAAAAAAAAAAAAAAAAAAAAAAAPA/AAAAAAAA8D8AAAAAAAAAAAAAAAAAAAAAAAAAAAAAAAAAAAAAAAAAAAAAAAAAAAAAAAAAAAAAAAAAAAAAAADwPwAAAAAAAAAAAAAAAAAAAAAAAAAAAAAAAAAAAAAAAAAAAAAAAAAA8D8=\",\"dtype\":\"float64\",\"shape\":[85]},\"angle\":{\"__ndarray__\":\"AAAAAACAVsAAAAAAAIBWwAAAAAAAgFbAAAAAAACAVsAAAAAAAIBWwAAAAAAAgFbAAAAAAACAVsAAAAAAAIBWwAAAAAAAgFbAAAAAAACAVsAAAAAAAIBWwAAAAAAAgFbAAAAAAACAVsAAAAAAAIBWwAAAAAAAgFbAAAAAAACAVsAAAAAAAIBWwAAAAAAAgFbAAAAAAACAVsAAAAAAAIBWwAAAAAAAgFbAAAAAAACAVsAAAAAAAIBWwAAAAAAAgFbAAAAAAACAVsAAAAAAAIBWwAAAAAAAgFbAAAAAAACAVsAAAAAAAIBWwAAAAAAAgFbAAAAAAACAVsAAAAAAAIBWwAAAAAAAgFbAAAAAAACAVsAAAAAAAIBWwAAAAAAAgFbAAAAAAACAVsAAAAAAAIBWwAAAAAAAgFbAAAAAAACAVsAAAAAAAIBWwAAAAAAAgFbAAAAAAACAVsAAAAAAAIBWwAAAAAAAgFbAAAAAAACAVsAAAAAAAIBWwAAAAAAAgFbAAAAAAACAVsAAAAAAAIBWwAAAAAAAgFbAAAAAAACAVsAAAAAAAIBWwAAAAAAAgFbAAAAAAACAVsAAAAAAAIBWwAAAAAAAgFbAAAAAAACAVsAAAAAAAIBWwAAAAAAAgFbAAAAAAACAVkAAAAAAAIBWQAAAAAAAgFZAAAAAAACAVkAAAAAAAIBWQAAAAAAAgFZAAAAAAACAVkAAAAAAAIBWQAAAAAAAgFZAAAAAAACAVkAAAAAAAIBWQAAAAAAAgFZAAAAAAACAVkAAAAAAAIBWQAAAAAAAgFZAAAAAAACAVkAAAAAAAIBWQAAAAAAAgFZAAAAAAACAVkAAAAAAAIBWQAAAAAAAgFZAAAAAAACAVkAAAAAAAIBWQAAAAAAAgFZAAAAAAACAVkA=\",\"dtype\":\"float64\",\"shape\":[85]},\"index\":[0,1,2,3,4,5,6,7,8,9,10,11,12,13,14,15,16,17,18,19,20,21,22,23,24,25,26,27,28,29,30,31,32,33,34,35,36,37,38,39,40,41,42,43,44,45,46,47,48,49,50,51,52,53,54,55,56,57,58,59,60,61,62,63,64,65,66,67,68,69,70,71,72,73,74,75,76,77,78,79,80,81,82,83,84],\"width\":{\"__ndarray__\":\"AAAAAADAWEAAAAAAAHB8QAAAAAAAAGpAAAAAAADgZ0AAAAAAACB7QAAAAAAAQFZAAAAAAABIgUAAAAAAAPiFQAAAAAAAwFhAAAAAAABwfEAAAAAAAMBdQAAAAAAAgEBAAAAAAADgZ0AAAAAAACB7QAAAAAAAQFZAAAAAAABIgUAAAAAAAPiFQAAAAAAAwFhAAAAAAABwfEAAAAAAAABqQAAAAAAA4GdAAAAAAAAge0AAAAAAANCIQAAAAAAA+IVAAAAAAADAWEAAAAAAAIB8QAAAAAAAYGhAAAAAAAAgaEAAAAAAADB7QAAAAAAAQFZAAAAAAACQgEAAAAAAAPiFQAAAAAAAwFhAAAAAAACAfEAAAAAAAEBhQAAAAAAAIGhAAAAAAAAwe0AAAAAAAEBWQAAAAAAAkIBAAAAAAAD4hUAAAAAAAMBYQAAAAAAAgHxAAAAAAABgaEAAAAAAACBoQAAAAAAAMHtAAAAAAAAYiEAAAAAAAPiFQAAAAAAAAABAAAAAAADAWEAAAAAAAIB8QAAAAAAAABBAAAAAAABAYUAAAAAAACBoQAAAAAAAMHtAAAAAAABAVkAAAAAAAJCAQAAAAAAA+IVAAAAAAAAAAEAAAAAAAKyUQAAAAAAAjJdAAAAAAAAAXUAAAAAAADiAQAAAAADAEd9AAAAAAACQc0AAAAAAABTFQAAAAAAAkHNAAAAAAIA41EAAAAAAgFHEQAAAAAAAHJJAAAAAAACwdUAAAAAAAJBzQAAAAABAdt5AAAAAAADwg0AAAAAAAOBlQAAAAAAAYG5AAAAAAABgeEAAAAAAAJBzQAAAAAAAgGZAAAAAAABge0AAAAAAAPSfQAAAAAAAcHtAAAAAAACAfEAAAAAAAGB4QAAAAAAAkHNAAAAAAAA0kEA=\",\"dtype\":\"float64\",\"shape\":[85]},\"x\":{\"__ndarray__\":\"AAAAjG4WhEEAAACcexaEQQAAANCLFoRBAAAAdJYWhEEAAAC4pRaEQQAAAOSyFoRBAAAArMEWhEEAAACk2haEQQAAAIxuFoRBAAAAnHsWhEEAAABMixaEQQAAAIyOFoRBAAAAdJYWhEEAAAC4pRaEQQAAAOSyFoRBAAAArMEWhEEAAACk2haEQQAAAIxuFoRBAAAAnHsWhEEAAADQixaEQQAAAHSWFoRBAAAAuKUWhEEAAADovRaEQQAAAKTaFoRBAAAAzBoYhEEAAADgJxiEQQAAAOQ3GIRBAAAAXEIYhEEAAACsURiEQQAAANxeGIRBAAAASG0YhEEAAADkhRiEQQAAAMwaGIRBAAAA4CcYhEEAAADIOBiEQQAAAFxCGIRBAAAArFEYhEEAAADcXhiEQQAAAEhtGIRBAAAA5IUYhEEAAADMGhiEQQAAAOAnGIRBAAAA5DcYhEEAAABcQhiEQQAAAKxRGIRBAAAAhGkYhEEAAADkhRiEQQAAAEiSGIRBAAAAzBoYhEEAAADgJxiEQQAAAMg1GIRBAAAAyDgYhEEAAABcQhiEQQAAAKxRGIRBAAAA3F4YhEEAAABIbRiEQQAAAOSFGIRBAAAASJIYhEEAAABstxeEQQAAAFTnF4RBAAAAOBcShEEAAACcKhKEQQAAAFwnFIRBAAAAdC0WhEEAAACY6xaEQQAAADSpF4RBAAAACGYThEEAAAC8ThWEQQAAAFwGFoRBAAAAfCAWhEEAAAB0LRaEQQAAAOQJFIRBAAAAOP4VhEEAAAD0DBaEQQAAAKwUFoRBAAAAKCEWhEEAAAB0LRaEQQAAAMAZF4RBAAAAqCoXhEEAAAAEUxeEQQAAABR9F4RBAAAAGI0XhEEAAADonBeEQQAAADSpF4RBAAAAhOUXhEE=\",\"dtype\":\"float64\",\"shape\":[85]},\"y\":{\"__ndarray__\":\"AAAAAAAAEEAAAAAAAAAQQAAAAAAAABBAAAAAAAAAEEAAAAAAAAAQQAAAAAAAABBAAAAAAAAAEEAAAAAAAAAQQAAAAAAAAABAAAAAAAAAAEAAAAAAAAAAQAAAAAAAAABAAAAAAAAAAEAAAAAAAAAAQAAAAAAAAABAAAAAAAAAAEAAAAAAAAAAQAAAAAAAAAAAAAAAAAAAAAAAAAAAAAAAAAAAAAAAAAAAAAAAAAAAAAAAAAAAAAAAAAAAAAAAAAAAAAAAAAAAAAAAAAAAAAAAAAAAAAAAAAAAAAAAAAAAAAAAAAAAAAAAAAAAAAAAAAAAAAAAAAAAAAAAAAAAAAAAAAAAAAAAABhAAAAAAAAAGEAAAAAAAAAYQAAAAAAAABhAAAAAAAAAGEAAAAAAAAAYQAAAAAAAABhAAAAAAAAAGEAAAAAAAAAAQAAAAAAAAABAAAAAAAAAAEAAAAAAAAAAQAAAAAAAAABAAAAAAAAAAEAAAAAAAAAAQAAAAAAAAABAAAAAAAAAEEAAAAAAAAAQQAAAAAAAABBAAAAAAAAAEEAAAAAAAAAQQAAAAAAAABBAAAAAAAAAEEAAAAAAAAAQQAAAAAAAABBAAAAAAAAAEEAAAAAAAAAAQAAAAAAAAABAAAAAAAAAGEAAAAAAAAAYQAAAAAAAABhAAAAAAAAAGEAAAAAAAAAYQAAAAAAAABhAAAAAAAAAAEAAAAAAAAAAQAAAAAAAAABAAAAAAAAAAEAAAAAAAAAAQAAAAAAAAAAAAAAAAAAAAAAAAAAAAAAAAAAAAAAAAAAAAAAAAAAAAAAAAAAAAAAAAAAAAAAAABBAAAAAAAAAEEAAAAAAAAAQQAAAAAAAABBAAAAAAAAAEEAAAAAAAAAQQAAAAAAAABBAAAAAAAAAAAA=\",\"dtype\":\"float64\",\"shape\":[85]}}},\"id\":\"dff22595-2b5a-4502-89bc-f0b43baa1602\",\"type\":\"ColumnDataSource\"},{\"attributes\":{\"data_source\":{\"id\":\"e3da34f8-3957-4323-9389-4f57cdfb73db\",\"type\":\"ColumnDataSource\"},\"glyph\":{\"id\":\"fc12e922-6e31-4737-8f61-feef09051743\",\"type\":\"Quad\"},\"hover_glyph\":null,\"muted_glyph\":null,\"name\":\"noncoding_exons\",\"nonselection_glyph\":{\"id\":\"1942fe52-3808-4339-b5cd-3abb7dfdb65c\",\"type\":\"Quad\"},\"selection_glyph\":null,\"view\":{\"id\":\"dd676c67-1a61-49e0-8445-08f3ad45739c\",\"type\":\"CDSView\"}},\"id\":\"b58fe4c3-c980-4851-b4be-5dcf8ee350ad\",\"type\":\"GlyphRenderer\"},{\"attributes\":{},\"id\":\"7db50834-cb42-4525-ba91-d750970555c0\",\"type\":\"BasicTicker\"},{\"attributes\":{\"text\":{\"field\":\"label\"},\"text_align\":\"center\",\"text_baseline\":\"middle\",\"text_color\":{\"value\":\"black\"},\"text_font\":\"monospace\",\"text_font_size\":{\"value\":\"6pt\"},\"x\":{\"field\":\"x\"},\"y\":{\"field\":\"y\"},\"y_offset\":{\"value\":4}},\"id\":\"1b41842f-1666-4d73-9f47-e1821ae82218\",\"type\":\"Text\"}],\"root_ids\":[\"f70354b9-ba5b-47b3-8f04-a1bd6e39b317\"]},\"title\":\"Bokeh Application\",\"version\":\"0.12.10\"}};\n",
       "    var render_items = [{\"docid\":\"25caad6e-572a-4961-8186-0f72b9aa192b\",\"elementid\":\"dcb41914-b1f7-495f-8bde-578def815748\",\"modelid\":\"f70354b9-ba5b-47b3-8f04-a1bd6e39b317\"}];\n",
       "\n",
       "    root.Bokeh.embed.embed_items(docs_json, render_items);\n",
       "  }\n",
       "\n",
       "  if (root.Bokeh !== undefined) {\n",
       "    embed_document(root);\n",
       "  } else {\n",
       "    var attempts = 0;\n",
       "    var timer = setInterval(function(root) {\n",
       "      if (root.Bokeh !== undefined) {\n",
       "        embed_document(root);\n",
       "        clearInterval(timer);\n",
       "      }\n",
       "      attempts++;\n",
       "      if (attempts > 100) {\n",
       "        console.log(\"Bokeh: ERROR: Unable to embed document because BokehJS library is missing\")\n",
       "        clearInterval(timer);\n",
       "      }\n",
       "    }, 10, root)\n",
       "  }\n",
       "})(window);"
      ],
      "application/vnd.bokehjs_exec.v0+json": ""
     },
     "metadata": {
      "application/vnd.bokehjs_exec.v0+json": {
       "id": "f70354b9-ba5b-47b3-8f04-a1bd6e39b317"
      }
     },
     "output_type": "display_data"
    }
   ],
   "source": [
    "fig = make_plot(transcripts_from_pyensembl(\"chr22\", 42124000, 42148000))\n",
    "show(fig.figure)"
   ]
  },
  {
   "cell_type": "markdown",
   "metadata": {},
   "source": [
    "# Do the same using GFFUtils as the data source"
   ]
  },
  {
   "cell_type": "code",
   "execution_count": 6,
   "metadata": {},
   "outputs": [],
   "source": [
    "import gffutils\n",
    "import sqlite3"
   ]
  },
  {
   "cell_type": "markdown",
   "metadata": {},
   "source": [
    "## Set up a GFFUtils database using the same annotation data"
   ]
  },
  {
   "cell_type": "code",
   "execution_count": 7,
   "metadata": {},
   "outputs": [],
   "source": [
    "# note:\n",
    "# database creation using gffutils is slower than pyensembl on the same dataset\n",
    "try:\n",
    "    gffutils.create_db(\n",
    "        \"gencode.v27.basic.annotation.gtf.gz\",\n",
    "        \"gencode.v27.basic.sqlite\",\n",
    "        keep_order=True,\n",
    "        disable_infer_genes=True, disable_infer_transcripts=True)\n",
    "except (sqlite3.OperationalError, AttributeError):\n",
    "    pass"
   ]
  },
  {
   "cell_type": "code",
   "execution_count": 8,
   "metadata": {},
   "outputs": [],
   "source": [
    "# connect\n",
    "db = gffutils.FeatureDB(\"gencode.v27.basic.sqlite\")\n",
    "gffutils.constants.always_return_list = False"
   ]
  },
  {
   "cell_type": "markdown",
   "metadata": {},
   "source": [
    "# Create a function to translate GFFUtils queries into gene_viz features"
   ]
  },
  {
   "cell_type": "code",
   "execution_count": 9,
   "metadata": {},
   "outputs": [],
   "source": [
    "# translate into features for gene_viz\n",
    "def transcripts_from_gffutils(contig, start, end):\n",
    "    transcripts = []\n",
    "\n",
    "    for gene in db.features_of_type(\"gene\", limit=(contig, start, end)):\n",
    "        trs = db.children(gene.id, featuretype=\"transcript\")\n",
    "        for t in trs:\n",
    "            transcript = Transcript(t.attributes[\"transcript_name\"], gene.attributes[\"gene_name\"], t.seqid, t.start, t.end, t.strand)\n",
    "        \n",
    "            es = db.children(t.id, featuretype=\"exon\")\n",
    "            for e in es:\n",
    "                transcript.add_exon(Exon(e.attributes[\"exon_id\"], e.seqid, e.start, e.end))\n",
    "            \n",
    "            cs = db.children(t.id, featuretype=\"CDS\")\n",
    "            for c in cs:\n",
    "                transcript.add_cds(CDS(c.seqid, c.start, c.end))\n",
    "        \n",
    "            transcripts.append(transcript)\n",
    "    \n",
    "    return transcripts"
   ]
  },
  {
   "cell_type": "markdown",
   "metadata": {},
   "source": [
    "## Perform a query and visualize the results"
   ]
  },
  {
   "cell_type": "code",
   "execution_count": 10,
   "metadata": {},
   "outputs": [
    {
     "data": {
      "text/html": [
       "\n",
       "<div class=\"bk-root\">\n",
       "    <div class=\"bk-plotdiv\" id=\"7355e866-08cc-4b80-b022-2692fcb6399a\"></div>\n",
       "</div>"
      ]
     },
     "metadata": {},
     "output_type": "display_data"
    },
    {
     "data": {
      "application/javascript": [
       "(function(root) {\n",
       "  function embed_document(root) {\n",
       "    var docs_json = {\"fe42a764-2cb4-43db-98bb-fb54321dfb47\":{\"roots\":{\"references\":[{\"attributes\":{\"callback\":null,\"column_names\":[\"x0\",\"y0\",\"x1\",\"y1\",\"index\"],\"data\":{\"index\":[0,1,2,3,4,5,6,7,8,9,10,11,12,13,14,15,16,17,18,19,20,21,22,23,24,25,26,27,28,29,30,31,32,33,34,35,36,37,38,39,40,41,42,43,44,45,46,47,48,49,50,51,52,53,54,55,56,57,58,59,60,61,62,63,64,65,66,67,68,69,70,71,72,73,74,75,76,77,78,79,80,81,82,83,84,85,86,87,88,89,90,91,92,93,94,95,96,97,98],\"x0\":[42090930,42091296,42092118,42124046,42124874,42136198,42137026,42091203,42112305,42122792,42124046,42124476,42124874,42091351,42122792,42123525,42123765,42124046,42124519,42124874,42132030,42132369,42133039,42135134,42135677,42136198,42136671,42137026,42130611,42129737,42128783,42128173,42127841,42127446,42126850,42126555,42130611,42129737,42129032,42128783,42128173,42127841,42127446,42126850,42126498,42130611,42129737,42129032,42128783,42128173,42127841,42127780,42127446,42126850,42126500,42132542,42139611,42137986,42136432,42138059,42139318,42144283,42143409,42142727,42142478,42141867,42141533,42141151,42140554,42140202,42144283,42143409,42142727,42142478,42141867,42141533,42141151,42140554,42140202,42144329,42144283,42143409,42142727,42142478,42141867,42141533,42141370,42141151,42140554,42140204,42144329,42144283,42143409,42142478,42141867,42141533,42141151,42140554,42140204],\"x1\":[42091181,42091600,42092232,42124562,42125407,42136714,42137742,42091600,42112390,42122888,42124130,42124562,42124959,42091600,42122888,42123591,42123804,42124130,42124562,42124959,42132190,42132602,42133090,42135239,42135743,42136282,42136714,42137050,42130865,42129909,42128944,42128350,42127983,42127634,42126992,42126752,42130906,42129909,42129185,42128944,42128350,42127983,42127634,42126992,42126752,42130881,42129909,42129185,42128944,42128350,42127983,42127809,42127662,42126992,42126752,42132998,42139927,42138105,42136664,42138282,42139726,42144549,42143581,42142880,42142639,42142044,42141675,42141339,42140696,42140456,42144577,42143581,42142880,42142639,42142044,42141675,42141396,42140696,42140456,42144577,42144328,42143581,42142880,42142639,42142044,42141675,42141396,42141367,42140696,42140456,42144554,42144328,42143581,42142639,42142044,42141675,42141339,42140696,42140456],\"y0\":[5.825,5.825,5.825,5.825,5.825,5.825,5.825,1.825,1.825,1.825,1.825,1.825,1.825,-0.175,-0.175,-0.175,-0.175,-0.175,-0.175,-0.175,3.825,3.825,3.825,3.825,3.825,3.825,3.825,3.825,-0.175,-0.175,-0.175,-0.175,-0.175,-0.175,-0.175,-0.175,3.825,3.825,3.825,3.825,3.825,3.825,3.825,3.825,3.825,1.825,1.825,1.825,1.825,1.825,1.825,1.825,1.825,1.825,1.825,-0.175,1.825,1.825,1.825,-0.175,-0.175,-0.175,-0.175,-0.175,-0.175,-0.175,-0.175,-0.175,-0.175,-0.175,5.825,5.825,5.825,5.825,5.825,5.825,5.825,5.825,5.825,3.825,3.825,3.825,3.825,3.825,3.825,3.825,3.825,3.825,3.825,3.825,1.825,1.825,1.825,1.825,1.825,1.825,1.825,1.825,1.825],\"y1\":[6.175,6.175,6.175,6.175,6.175,6.175,6.175,2.175,2.175,2.175,2.175,2.175,2.175,0.175,0.175,0.175,0.175,0.175,0.175,0.175,4.175,4.175,4.175,4.175,4.175,4.175,4.175,4.175,0.175,0.175,0.175,0.175,0.175,0.175,0.175,0.175,4.175,4.175,4.175,4.175,4.175,4.175,4.175,4.175,4.175,2.175,2.175,2.175,2.175,2.175,2.175,2.175,2.175,2.175,2.175,0.175,2.175,2.175,2.175,0.175,0.175,0.175,0.175,0.175,0.175,0.175,0.175,0.175,0.175,0.175,6.175,6.175,6.175,6.175,6.175,6.175,6.175,6.175,6.175,4.175,4.175,4.175,4.175,4.175,4.175,4.175,4.175,4.175,4.175,4.175,2.175,2.175,2.175,2.175,2.175,2.175,2.175,2.175,2.175]}},\"id\":\"49db0ca7-be11-45fc-8c2f-88235eae9bf7\",\"type\":\"ColumnDataSource\"},{\"attributes\":{\"plot\":null,\"text\":\"\"},\"id\":\"8a6b50a9-9e8f-441b-8b4f-8b1ea955d054\",\"type\":\"Title\"},{\"attributes\":{\"dimension\":1,\"grid_line_color\":{\"value\":null},\"plot\":{\"id\":\"def6c093-51a1-4932-bea9-fe3ba80d8adc\",\"subtype\":\"Figure\",\"type\":\"Plot\"},\"ticker\":{\"id\":\"5c3145b2-741a-40e3-8de5-9f6f3030383f\",\"type\":\"BasicTicker\"}},\"id\":\"63d27f0e-737f-4a5b-ba07-45efb5d41c99\",\"type\":\"Grid\"},{\"attributes\":{\"data_source\":{\"id\":\"b90315fb-6e47-4700-a34f-0738c041139d\",\"type\":\"ColumnDataSource\"},\"glyph\":{\"id\":\"1e896f35-e235-4dd4-9027-602b914b609e\",\"type\":\"Segment\"},\"hover_glyph\":null,\"muted_glyph\":null,\"name\":\"transcripts\",\"nonselection_glyph\":{\"id\":\"d9e0049e-f5b5-4eb6-9ab1-e74045d22cf5\",\"type\":\"Segment\"},\"selection_glyph\":null,\"view\":{\"id\":\"a35c7c30-c102-495c-9f20-e33c07d74060\",\"type\":\"CDSView\"}},\"id\":\"75c3acad-a3b3-4087-a135-d8ad8fd7137d\",\"type\":\"GlyphRenderer\"},{\"attributes\":{\"dimensions\":\"width\"},\"id\":\"a04d354a-2e06-464c-a7e8-7c2733f36f11\",\"type\":\"PanTool\"},{\"attributes\":{},\"id\":\"ff764703-7470-4779-8217-cf79c05d223d\",\"type\":\"SaveTool\"},{\"attributes\":{\"mantissas\":[1,2,3,4,5,6,7,8,9],\"max_interval\":4,\"min_interval\":4,\"num_minor_ticks\":4},\"id\":\"3980352d-776c-445c-84b5-bbdaa8abccd7\",\"type\":\"AdaptiveTicker\"},{\"attributes\":{\"dimensions\":\"width\"},\"id\":\"4f9a6fe6-2ca3-49dd-86af-d93354ddfa20\",\"type\":\"WheelZoomTool\"},{\"attributes\":{},\"id\":\"d319d567-f45b-41e8-a785-1fd789efad56\",\"type\":\"BasicTicker\"},{\"attributes\":{\"callback\":null,\"column_names\":[\"x\",\"y\",\"label\",\"index\"],\"data\":{\"index\":[0,1,2,3,4,5,6,7,8,9,10,11,12,13],\"label\":[\"NDUFA6-AS1-203\",\"NDUFA6-AS1-207\",\"NDUFA6-AS1-208\",\"NDUFA6-AS1-216\",\"CYP2D6-201\",\"CYP2D6-203\",\"CYP2D6-204\",\"AC254562.1-201\",\"AC254562.2-201\",\"AC254562.3-201\",\"CYP2D7-201\",\"CYP2D7-203\",\"CYP2D7-207\",\"CYP2D7-208\"],\"x\":[42114336.5,42108081.5,42108155.5,42134540.5,42128710.5,42128702.5,42128691.0,42132770.5,42138180.0,42138893.0,42142376.0,42142390.0,42142391.0,42142379.5],\"y\":[5,1,-1,3,-1,3,1,-1,1,-1,-1,5,3,1]}},\"id\":\"b131d5cc-bf85-4ab4-987a-305002c84955\",\"type\":\"ColumnDataSource\"},{\"attributes\":{\"source\":{\"id\":\"b131d5cc-bf85-4ab4-987a-305002c84955\",\"type\":\"ColumnDataSource\"}},\"id\":\"5040ee3a-215f-4f44-8322-c36b53197ab0\",\"type\":\"CDSView\"},{\"attributes\":{\"mantissas\":[1,2,3,4,5,6,7,8,9],\"min_interval\":5},\"id\":\"258ac4e8-a829-4585-a3ad-2a4a42d255f2\",\"type\":\"AdaptiveTicker\"},{\"attributes\":{},\"id\":\"2abcf031-9300-499e-8b68-e4b6b9854cff\",\"type\":\"LinearScale\"},{\"attributes\":{\"mantissas\":[1,2,3,4,5,6,7,8,9],\"max_interval\":3,\"min_interval\":3,\"num_minor_ticks\":3},\"id\":\"ef9a82e7-1e1f-431e-9b26-dec3975236f5\",\"type\":\"AdaptiveTicker\"},{\"attributes\":{\"tickers\":[{\"id\":\"ee7688f1-27a8-4a4a-8ba8-43ad2d08c266\",\"type\":\"AdaptiveTicker\"},{\"id\":\"6e466a62-7d1a-4d39-b237-816576a4e8ef\",\"type\":\"AdaptiveTicker\"},{\"id\":\"ef9a82e7-1e1f-431e-9b26-dec3975236f5\",\"type\":\"AdaptiveTicker\"},{\"id\":\"3980352d-776c-445c-84b5-bbdaa8abccd7\",\"type\":\"AdaptiveTicker\"},{\"id\":\"258ac4e8-a829-4585-a3ad-2a4a42d255f2\",\"type\":\"AdaptiveTicker\"}]},\"id\":\"43ea7eb2-eb24-49e7-8c3f-5f873e90957f\",\"type\":\"CompositeTicker\"},{\"attributes\":{\"line_color\":{\"value\":\"Black\"},\"x0\":{\"field\":\"x0\"},\"x1\":{\"field\":\"x1\"},\"y0\":{\"field\":\"y0\"},\"y1\":{\"field\":\"y1\"}},\"id\":\"1e896f35-e235-4dd4-9027-602b914b609e\",\"type\":\"Segment\"},{\"attributes\":{\"text\":{\"field\":\"label\"},\"text_align\":\"center\",\"text_alpha\":{\"value\":0.1},\"text_baseline\":\"middle\",\"text_color\":{\"value\":\"black\"},\"text_font\":\"monospace\",\"text_font_size\":{\"value\":\"6pt\"},\"x\":{\"field\":\"x\"},\"y\":{\"field\":\"y\"}},\"id\":\"be337012-1fec-4a52-a377-2f5d84b033b2\",\"type\":\"Text\"},{\"attributes\":{\"source\":{\"id\":\"b90315fb-6e47-4700-a34f-0738c041139d\",\"type\":\"ColumnDataSource\"}},\"id\":\"a35c7c30-c102-495c-9f20-e33c07d74060\",\"type\":\"CDSView\"},{\"attributes\":{\"data_source\":{\"id\":\"b131d5cc-bf85-4ab4-987a-305002c84955\",\"type\":\"ColumnDataSource\"},\"glyph\":{\"id\":\"643d5a5b-7513-4714-a4a1-79924424d497\",\"type\":\"Text\"},\"hover_glyph\":null,\"muted_glyph\":null,\"name\":\"transcript_labels\",\"nonselection_glyph\":{\"id\":\"be337012-1fec-4a52-a377-2f5d84b033b2\",\"type\":\"Text\"},\"selection_glyph\":null,\"view\":{\"id\":\"5040ee3a-215f-4f44-8322-c36b53197ab0\",\"type\":\"CDSView\"}},\"id\":\"8b34f565-965b-4779-b234-8aa140d3b6c6\",\"type\":\"GlyphRenderer\"},{\"attributes\":{},\"id\":\"5c3145b2-741a-40e3-8de5-9f6f3030383f\",\"type\":\"BasicTicker\"},{\"attributes\":{},\"id\":\"bdc6c639-3b41-43a2-a519-a5bf7f9a8d86\",\"type\":\"ResetTool\"},{\"attributes\":{\"bottom\":{\"field\":\"y0\"},\"fill_color\":{\"value\":\"DarkBlue\"},\"left\":{\"field\":\"x0\"},\"line_color\":{\"value\":\"DarkBlue\"},\"right\":{\"field\":\"x1\"},\"top\":{\"field\":\"y1\"}},\"id\":\"022438c7-9193-4cc3-ae48-4cb1a7bdb70f\",\"type\":\"Quad\"},{\"attributes\":{\"grid_line_color\":{\"value\":null},\"plot\":{\"id\":\"def6c093-51a1-4932-bea9-fe3ba80d8adc\",\"subtype\":\"Figure\",\"type\":\"Plot\"},\"ticker\":{\"id\":\"d319d567-f45b-41e8-a785-1fd789efad56\",\"type\":\"BasicTicker\"}},\"id\":\"f57c04d3-445f-47de-bca6-1113302c2378\",\"type\":\"Grid\"},{\"attributes\":{\"mantissas\":[1,2,3,4,5,6,7,8,9],\"max_interval\":2,\"min_interval\":2,\"num_minor_ticks\":2},\"id\":\"6e466a62-7d1a-4d39-b237-816576a4e8ef\",\"type\":\"AdaptiveTicker\"},{\"attributes\":{\"bottom\":{\"field\":\"y0\"},\"fill_alpha\":{\"value\":0.1},\"fill_color\":{\"value\":\"#1f77b4\"},\"left\":{\"field\":\"x0\"},\"line_alpha\":{\"value\":0.1},\"line_color\":{\"value\":\"#1f77b4\"},\"right\":{\"field\":\"x1\"},\"top\":{\"field\":\"y1\"}},\"id\":\"f4f30088-bec0-451b-b351-1a88469aae0f\",\"type\":\"Quad\"},{\"attributes\":{\"text\":{\"field\":\"label\"},\"text_align\":\"center\",\"text_baseline\":\"middle\",\"text_color\":{\"value\":\"black\"},\"text_font\":\"monospace\",\"text_font_size\":{\"value\":\"6pt\"},\"x\":{\"field\":\"x\"},\"y\":{\"field\":\"y\"},\"y_offset\":{\"value\":4}},\"id\":\"643d5a5b-7513-4714-a4a1-79924424d497\",\"type\":\"Text\"},{\"attributes\":{\"callback\":null,\"column_names\":[\"x0\",\"y0\",\"x1\",\"y1\",\"index\"],\"data\":{\"index\":[0,1,2,3,4,5,6,7,8,9,10,11,12,13],\"x0\":[42090930,42091203,42091351,42132030,42126555,42126498,42126500,42132542,42136432,42138059,42140202,42140202,42140204,42140204],\"x1\":[42137742,42124959,42124959,42137050,42130865,42130906,42130881,42132998,42139927,42139726,42144549,42144577,42144577,42144554],\"y0\":[6,2,0,4,0,4,2,0,2,0,0,6,4,2],\"y1\":[6,2,0,4,0,4,2,0,2,0,0,6,4,2]}},\"id\":\"b90315fb-6e47-4700-a34f-0738c041139d\",\"type\":\"ColumnDataSource\"},{\"attributes\":{\"callback\":{\"id\":\"8791a28f-cbc7-48d6-81a8-682974dd0746\",\"type\":\"CustomJS\"},\"end\":42144577,\"start\":42090931},\"id\":\"fef0df19-bb8f-4dc8-b455-dd78244e8ec0\",\"type\":\"Range1d\"},{\"attributes\":{\"callback\":null,\"column_names\":[\"x\",\"y\",\"angle\",\"width\",\"alpha\",\"index\"],\"data\":{\"alpha\":{\"__ndarray__\":\"AAAAAAAAAAAAAAAAAAAAAAAAAAAAAPA/AAAAAAAAAAAAAAAAAADwPwAAAAAAAAAAAAAAAAAA8D8AAAAAAADwPwAAAAAAAPA/AAAAAAAAAAAAAAAAAAAAAAAAAAAAAPA/AAAAAAAA8D8AAAAAAAAAAAAAAAAAAAAAAAAAAAAAAAAAAAAAAAAAAAAAAAAAAAAAAAAAAAAAAAAAAAAAAADwPwAAAAAAAAAAAAAAAAAAAAAAAAAAAAAAAAAAAAAAAAAAAAAAAAAAAAAAAAAAAAAAAAAAAAAAAAAAAAAAAAAAAAAAAAAAAAAAAAAAAAAAAPA/AAAAAAAA8D8AAAAAAAAAAAAAAAAAAAAAAAAAAAAAAAAAAAAAAAAAAAAAAAAAAAAAAAAAAAAAAAAAAAAAAADwPwAAAAAAAPA/AAAAAAAAAAAAAAAAAAAAAAAAAAAAAAAAAAAAAAAAAAAAAAAAAAAAAAAAAAAAAAAAAAAAAAAAAAAAAAAAAADwPwAAAAAAAPA/AAAAAAAA8D8AAAAAAADwPwAAAAAAAPA/AAAAAAAAAAAAAAAAAAAAAAAAAAAAAAAAAAAAAAAAAAAAAAAAAAAAAAAAAAAAAAAAAAAAAAAAAAAAAAAAAADwPwAAAAAAAAAAAAAAAAAAAAAAAAAAAAAAAAAAAAAAAAAAAAAAAAAAAAAAAAAAAAAAAAAAAAAAAAAAAAAAAAAA8D8AAAAAAAAAAAAAAAAAAAAAAAAAAAAAAAAAAAAAAAAAAAAAAAAAAAAAAAAAAAAAAAAAAAAAAAAAAAAAAAAAAAAAAAAAAAAA8D8AAAAAAAAAAAAAAAAAAAAAAAAAAAAAAAAAAAAAAAAAAAAAAAAAAAAAAAAAAAAAAAAAAAAAAADwPwAAAAAAAPA/AAAAAAAAAAA=\",\"dtype\":\"float64\",\"shape\":[85]},\"angle\":{\"__ndarray__\":\"AAAAAACAVkAAAAAAAIBWQAAAAAAAgFZAAAAAAACAVkAAAAAAAIBWQAAAAAAAgFZAAAAAAACAVkAAAAAAAIBWQAAAAAAAgFZAAAAAAACAVkAAAAAAAIBWQAAAAAAAgFZAAAAAAACAVkAAAAAAAIBWQAAAAAAAgFZAAAAAAACAVkAAAAAAAIBWQAAAAAAAgFZAAAAAAACAVkAAAAAAAIBWQAAAAAAAgFZAAAAAAACAVkAAAAAAAIBWQAAAAAAAgFZAAAAAAACAVsAAAAAAAIBWwAAAAAAAgFbAAAAAAACAVsAAAAAAAIBWwAAAAAAAgFbAAAAAAACAVsAAAAAAAIBWwAAAAAAAgFbAAAAAAACAVsAAAAAAAIBWwAAAAAAAgFbAAAAAAACAVsAAAAAAAIBWwAAAAAAAgFbAAAAAAACAVsAAAAAAAIBWwAAAAAAAgFbAAAAAAACAVsAAAAAAAIBWwAAAAAAAgFbAAAAAAACAVsAAAAAAAIBWwAAAAAAAgFbAAAAAAACAVsAAAAAAAIBWwAAAAAAAgFZAAAAAAACAVsAAAAAAAIBWwAAAAAAAgFbAAAAAAACAVsAAAAAAAIBWwAAAAAAAgFbAAAAAAACAVsAAAAAAAIBWwAAAAAAAgFbAAAAAAACAVsAAAAAAAIBWwAAAAAAAgFbAAAAAAACAVsAAAAAAAIBWwAAAAAAAgFbAAAAAAACAVsAAAAAAAIBWwAAAAAAAgFbAAAAAAACAVsAAAAAAAIBWwAAAAAAAgFbAAAAAAACAVsAAAAAAAIBWwAAAAAAAgFbAAAAAAACAVsAAAAAAAIBWwAAAAAAAgFbAAAAAAACAVsAAAAAAAIBWwAAAAAAAgFbAAAAAAACAVsAAAAAAAIBWwAAAAAAAgFbAAAAAAACAVsA=\",\"dtype\":\"float64\",\"shape\":[85]},\"index\":[0,1,2,3,4,5,6,7,8,9,10,11,12,13,14,15,16,17,18,19,20,21,22,23,24,25,26,27,28,29,30,31,32,33,34,35,36,37,38,39,40,41,42,43,44,45,46,47,48,49,50,51,52,53,54,55,56,57,58,59,60,61,62,63,64,65,66,67,68,69,70,71,72,73,74,75,76,77,78,79,80,81,82,83,84],\"width\":{\"__ndarray__\":\"AAAAAAAAXUAAAAAAADiAQAAAAADAEd9AAAAAAACQc0AAAAAAABTFQAAAAAAAkHNAAAAAAIA41EAAAAAAgFHEQAAAAAAAHJJAAAAAAACwdUAAAAAAAJBzQAAAAABAdt5AAAAAAADwg0AAAAAAAOBlQAAAAAAAYG5AAAAAAABgeEAAAAAAAJBzQAAAAAAAgGZAAAAAAABge0AAAAAAAPSfQAAAAAAAcHtAAAAAAACAfEAAAAAAAGB4QAAAAAAAkHNAAAAAAADAWEAAAAAAAHB8QAAAAAAAAGpAAAAAAADgZ0AAAAAAACB7QAAAAAAA0IhAAAAAAAD4hUAAAAAAAMBYQAAAAAAAcHxAAAAAAAAAakAAAAAAAOBnQAAAAAAAIHtAAAAAAABAVkAAAAAAAEiBQAAAAAAA+IVAAAAAAADAWEAAAAAAAHB8QAAAAAAAwF1AAAAAAACAQEAAAAAAAOBnQAAAAAAAIHtAAAAAAABAVkAAAAAAAEiBQAAAAAAA+IVAAAAAAACslEAAAAAAAIyXQAAAAAAANJBAAAAAAADAWEAAAAAAAIB8QAAAAAAAYGhAAAAAAAAgaEAAAAAAADB7QAAAAAAAQFZAAAAAAACQgEAAAAAAAPiFQAAAAAAAwFhAAAAAAACAfEAAAAAAAEBhQAAAAAAAIGhAAAAAAAAwe0AAAAAAAEBWQAAAAAAAkIBAAAAAAAD4hUAAAAAAAMBYQAAAAAAAgHxAAAAAAAAAEEAAAAAAAEBhQAAAAAAAIGhAAAAAAAAwe0AAAAAAAEBWQAAAAAAAkIBAAAAAAAD4hUAAAAAAAAAAQAAAAAAAwFhAAAAAAACAfEAAAAAAAGBoQAAAAAAAIGhAAAAAAAAwe0AAAAAAABiIQAAAAAAA+IVAAAAAAAAAAEA=\",\"dtype\":\"float64\",\"shape\":[85]},\"x\":{\"__ndarray__\":\"AAAAOBcShEEAAACcKhKEQQAAAFwnFIRBAAAAdC0WhEEAAACY6xaEQQAAADSpF4RBAAAACGYThEEAAAC8ThWEQQAAAFwGFoRBAAAAfCAWhEEAAAB0LRaEQQAAAOQJFIRBAAAAOP4VhEEAAAD0DBaEQQAAAKwUFoRBAAAAKCEWhEEAAAB0LRaEQQAAAMAZF4RBAAAAqCoXhEEAAAAEUxeEQQAAABR9F4RBAAAAGI0XhEEAAADonBeEQQAAADSpF4RBAAAAjG4WhEEAAACcexaEQQAAANCLFoRBAAAAdJYWhEEAAAC4pRaEQQAAAOi9FoRBAAAApNoWhEEAAACMbhaEQQAAAJx7FoRBAAAA0IsWhEEAAAB0lhaEQQAAALilFoRBAAAA5LIWhEEAAACswRaEQQAAAKTaFoRBAAAAjG4WhEEAAACcexaEQQAAAEyLFoRBAAAAjI4WhEEAAAB0lhaEQQAAALilFoRBAAAA5LIWhEEAAACswRaEQQAAAKTaFoRBAAAAbLcXhEEAAABU5xeEQQAAAITlF4RBAAAAzBoYhEEAAADgJxiEQQAAAOQ3GIRBAAAAXEIYhEEAAACsURiEQQAAANxeGIRBAAAASG0YhEEAAADkhRiEQQAAAMwaGIRBAAAA4CcYhEEAAADIOBiEQQAAAFxCGIRBAAAArFEYhEEAAADcXhiEQQAAAEhtGIRBAAAA5IUYhEEAAADMGhiEQQAAAOAnGIRBAAAAyDUYhEEAAADIOBiEQQAAAFxCGIRBAAAArFEYhEEAAADcXhiEQQAAAEhtGIRBAAAA5IUYhEEAAABIkhiEQQAAAMwaGIRBAAAA4CcYhEEAAADkNxiEQQAAAFxCGIRBAAAArFEYhEEAAACEaRiEQQAAAOSFGIRBAAAASJIYhEE=\",\"dtype\":\"float64\",\"shape\":[85]},\"y\":{\"__ndarray__\":\"AAAAAAAAGEAAAAAAAAAYQAAAAAAAABhAAAAAAAAAGEAAAAAAAAAYQAAAAAAAABhAAAAAAAAAAEAAAAAAAAAAQAAAAAAAAABAAAAAAAAAAEAAAAAAAAAAQAAAAAAAAAAAAAAAAAAAAAAAAAAAAAAAAAAAAAAAAAAAAAAAAAAAAAAAAAAAAAAAAAAAAAAAABBAAAAAAAAAEEAAAAAAAAAQQAAAAAAAABBAAAAAAAAAEEAAAAAAAAAQQAAAAAAAABBAAAAAAAAAAAAAAAAAAAAAAAAAAAAAAAAAAAAAAAAAAAAAAAAAAAAAAAAAAAAAAAAAAAAAAAAAAAAAAAAAAAAQQAAAAAAAABBAAAAAAAAAEEAAAAAAAAAQQAAAAAAAABBAAAAAAAAAEEAAAAAAAAAQQAAAAAAAABBAAAAAAAAAAEAAAAAAAAAAQAAAAAAAAABAAAAAAAAAAEAAAAAAAAAAQAAAAAAAAABAAAAAAAAAAEAAAAAAAAAAQAAAAAAAAABAAAAAAAAAAEAAAAAAAAAAQAAAAAAAAAAAAAAAAAAAAAAAAAAAAAAAAAAAAAAAAAAAAAAAAAAAAAAAAAAAAAAAAAAAAAAAAAAAAAAAAAAAAAAAAAAAAAAAAAAAAAAAABhAAAAAAAAAGEAAAAAAAAAYQAAAAAAAABhAAAAAAAAAGEAAAAAAAAAYQAAAAAAAABhAAAAAAAAAGEAAAAAAAAAQQAAAAAAAABBAAAAAAAAAEEAAAAAAAAAQQAAAAAAAABBAAAAAAAAAEEAAAAAAAAAQQAAAAAAAABBAAAAAAAAAEEAAAAAAAAAQQAAAAAAAAABAAAAAAAAAAEAAAAAAAAAAQAAAAAAAAABAAAAAAAAAAEAAAAAAAAAAQAAAAAAAAABAAAAAAAAAAEA=\",\"dtype\":\"float64\",\"shape\":[85]}}},\"id\":\"450ed3a2-d0bb-4c16-b328-50c454a3dab4\",\"type\":\"ColumnDataSource\"},{\"attributes\":{\"active_drag\":\"auto\",\"active_inspect\":\"auto\",\"active_scroll\":{\"id\":\"4f9a6fe6-2ca3-49dd-86af-d93354ddfa20\",\"type\":\"WheelZoomTool\"},\"active_tap\":\"auto\",\"logo\":null,\"tools\":[{\"id\":\"a04d354a-2e06-464c-a7e8-7c2733f36f11\",\"type\":\"PanTool\"},{\"id\":\"4f9a6fe6-2ca3-49dd-86af-d93354ddfa20\",\"type\":\"WheelZoomTool\"},{\"id\":\"a56f74b6-b3b4-475a-8bb5-20ed2fd22916\",\"type\":\"BoxZoomTool\"},{\"id\":\"ff764703-7470-4779-8217-cf79c05d223d\",\"type\":\"SaveTool\"},{\"id\":\"bdc6c639-3b41-43a2-a519-a5bf7f9a8d86\",\"type\":\"ResetTool\"}]},\"id\":\"e7b7548f-c1c2-4884-b058-6406120f79f3\",\"type\":\"Toolbar\"},{\"attributes\":{\"angle\":{\"field\":\"angle\",\"units\":\"deg\"},\"text\":{\"value\":\"v\"},\"text_align\":\"center\",\"text_alpha\":{\"value\":0.1},\"text_baseline\":\"middle\",\"text_color\":{\"value\":\"black\"},\"text_font\":\"sans-serif\",\"text_font_size\":{\"value\":\"5pt\"},\"text_font_style\":\"bold\",\"x\":{\"field\":\"x\"},\"y\":{\"field\":\"y\"}},\"id\":\"259d728e-06ee-481d-b3cc-cbfe93987732\",\"type\":\"Text\"},{\"attributes\":{\"bottom\":{\"field\":\"y0\"},\"fill_color\":{\"value\":\"DarkBlue\"},\"left\":{\"field\":\"x0\"},\"line_color\":{\"value\":\"DarkBlue\"},\"right\":{\"field\":\"x1\"},\"top\":{\"field\":\"y1\"}},\"id\":\"caf9776d-21c1-456e-bef4-50b126acc67b\",\"type\":\"Quad\"},{\"attributes\":{\"bottom\":{\"field\":\"y0\"},\"fill_alpha\":{\"value\":0.1},\"fill_color\":{\"value\":\"#1f77b4\"},\"left\":{\"field\":\"x0\"},\"line_alpha\":{\"value\":0.1},\"line_color\":{\"value\":\"#1f77b4\"},\"right\":{\"field\":\"x1\"},\"top\":{\"field\":\"y1\"}},\"id\":\"3204c283-3fb5-4bb8-b6c5-6ec417700e1d\",\"type\":\"Quad\"},{\"attributes\":{\"args\":{\"source\":{\"id\":\"450ed3a2-d0bb-4c16-b328-50c454a3dab4\",\"type\":\"ColumnDataSource\"}},\"code\":\"\\nvar start = cb_obj.start;\\nvar end = cb_obj.end;\\nvar width = end - start;\\nvar threshold = 0.010000 * width;     // threshold factor is set from python-side configuration\\nvar intron_alpha = 1.000000;          // alpha value is set from python-side configuration\\n\\n// iterate over each intron\\nvar data = source.data;\\nfor (i=0; i<data[\\\"x\\\"].length; i++)\\n{\\n    // if the screen-space width is large enough, make the intron visible\\n    if(data[\\\"width\\\"][i] >= threshold)\\n        data[\\\"alpha\\\"][i] = intron_alpha;\\n    else\\n    // otherwise, make the intron fully transparent\\n        data[\\\"alpha\\\"][i] = 0;\\n}\\n\\nsource.change.emit();\\n\"},\"id\":\"8791a28f-cbc7-48d6-81a8-682974dd0746\",\"type\":\"CustomJS\"},{\"attributes\":{\"below\":[{\"id\":\"fcf489d4-b90d-40a8-a6b1-789d1232b2c6\",\"type\":\"LinearAxis\"}],\"left\":[{\"id\":\"ce809405-1722-4214-b781-c9961c92efa6\",\"type\":\"LinearAxis\"}],\"outline_line_alpha\":{\"value\":0},\"plot_height\":155,\"plot_width\":800,\"renderers\":[{\"id\":\"fcf489d4-b90d-40a8-a6b1-789d1232b2c6\",\"type\":\"LinearAxis\"},{\"id\":\"f57c04d3-445f-47de-bca6-1113302c2378\",\"type\":\"Grid\"},{\"id\":\"ce809405-1722-4214-b781-c9961c92efa6\",\"type\":\"LinearAxis\"},{\"id\":\"63d27f0e-737f-4a5b-ba07-45efb5d41c99\",\"type\":\"Grid\"},{\"id\":\"59d7145c-8008-4d23-9c36-68edcec88958\",\"type\":\"BoxAnnotation\"},{\"id\":\"75c3acad-a3b3-4087-a135-d8ad8fd7137d\",\"type\":\"GlyphRenderer\"},{\"id\":\"8bc7e31e-ee84-4826-96ad-9ef5161fa33c\",\"type\":\"GlyphRenderer\"},{\"id\":\"636a726f-9bd0-4dd7-89ab-cc7bb68bcc9a\",\"type\":\"GlyphRenderer\"},{\"id\":\"8c91aadf-898e-4e11-9292-8e6b4f109f2c\",\"type\":\"GlyphRenderer\"},{\"id\":\"8b34f565-965b-4779-b234-8aa140d3b6c6\",\"type\":\"GlyphRenderer\"}],\"title\":{\"id\":\"8a6b50a9-9e8f-441b-8b4f-8b1ea955d054\",\"type\":\"Title\"},\"toolbar\":{\"id\":\"e7b7548f-c1c2-4884-b058-6406120f79f3\",\"type\":\"Toolbar\"},\"x_range\":{\"id\":\"fef0df19-bb8f-4dc8-b455-dd78244e8ec0\",\"type\":\"Range1d\"},\"x_scale\":{\"id\":\"a115871f-a2e2-496d-8310-0794bc40e8c1\",\"type\":\"LinearScale\"},\"y_range\":{\"id\":\"ec8c3440-41fa-4970-b9e3-7f90cc3ebce5\",\"type\":\"Range1d\"},\"y_scale\":{\"id\":\"2abcf031-9300-499e-8b68-e4b6b9854cff\",\"type\":\"LinearScale\"}},\"id\":\"def6c093-51a1-4932-bea9-fe3ba80d8adc\",\"subtype\":\"Figure\",\"type\":\"Plot\"},{\"attributes\":{\"bottom_units\":\"screen\",\"fill_alpha\":{\"value\":0.5},\"fill_color\":{\"value\":\"lightgrey\"},\"left_units\":\"screen\",\"level\":\"overlay\",\"line_alpha\":{\"value\":1.0},\"line_color\":{\"value\":\"black\"},\"line_dash\":[4,4],\"line_width\":{\"value\":2},\"plot\":null,\"render_mode\":\"css\",\"right_units\":\"screen\",\"top_units\":\"screen\"},\"id\":\"59d7145c-8008-4d23-9c36-68edcec88958\",\"type\":\"BoxAnnotation\"},{\"attributes\":{\"data_source\":{\"id\":\"450ed3a2-d0bb-4c16-b328-50c454a3dab4\",\"type\":\"ColumnDataSource\"},\"glyph\":{\"id\":\"2cc598f9-50a5-494e-88de-e2a268b97ee0\",\"type\":\"Text\"},\"hover_glyph\":null,\"muted_glyph\":null,\"name\":\"introns\",\"nonselection_glyph\":{\"id\":\"259d728e-06ee-481d-b3cc-cbfe93987732\",\"type\":\"Text\"},\"selection_glyph\":null,\"view\":{\"id\":\"5eb35599-1abb-4298-8502-53e899503928\",\"type\":\"CDSView\"}},\"id\":\"8bc7e31e-ee84-4826-96ad-9ef5161fa33c\",\"type\":\"GlyphRenderer\"},{\"attributes\":{\"data_source\":{\"id\":\"49db0ca7-be11-45fc-8c2f-88235eae9bf7\",\"type\":\"ColumnDataSource\"},\"glyph\":{\"id\":\"caf9776d-21c1-456e-bef4-50b126acc67b\",\"type\":\"Quad\"},\"hover_glyph\":null,\"muted_glyph\":null,\"name\":\"noncoding_exons\",\"nonselection_glyph\":{\"id\":\"f4f30088-bec0-451b-b351-1a88469aae0f\",\"type\":\"Quad\"},\"selection_glyph\":null,\"view\":{\"id\":\"10073bfa-7a5d-4978-9f3b-212ed43a5301\",\"type\":\"CDSView\"}},\"id\":\"8c91aadf-898e-4e11-9292-8e6b4f109f2c\",\"type\":\"GlyphRenderer\"},{\"attributes\":{\"dimensions\":\"width\",\"overlay\":{\"id\":\"59d7145c-8008-4d23-9c36-68edcec88958\",\"type\":\"BoxAnnotation\"}},\"id\":\"a56f74b6-b3b4-475a-8bb5-20ed2fd22916\",\"type\":\"BoxZoomTool\"},{\"attributes\":{},\"id\":\"a115871f-a2e2-496d-8310-0794bc40e8c1\",\"type\":\"LinearScale\"},{\"attributes\":{\"angle\":{\"field\":\"angle\",\"units\":\"deg\"},\"text\":{\"value\":\"v\"},\"text_align\":\"center\",\"text_alpha\":{\"field\":\"alpha\"},\"text_baseline\":\"middle\",\"text_color\":{\"value\":\"Black\"},\"text_font\":\"sans-serif\",\"text_font_size\":{\"value\":\"5pt\"},\"text_font_style\":\"bold\",\"x\":{\"field\":\"x\"},\"y\":{\"field\":\"y\"}},\"id\":\"2cc598f9-50a5-494e-88de-e2a268b97ee0\",\"type\":\"Text\"},{\"attributes\":{\"line_alpha\":{\"value\":0.1},\"line_color\":{\"value\":\"#1f77b4\"},\"x0\":{\"field\":\"x0\"},\"x1\":{\"field\":\"x1\"},\"y0\":{\"field\":\"y0\"},\"y1\":{\"field\":\"y1\"}},\"id\":\"d9e0049e-f5b5-4eb6-9ab1-e74045d22cf5\",\"type\":\"Segment\"},{\"attributes\":{\"mantissas\":[1,2,3,4,5,6,7,8,9],\"max_interval\":1,\"min_interval\":1,\"num_minor_ticks\":1},\"id\":\"ee7688f1-27a8-4a4a-8ba8-43ad2d08c266\",\"type\":\"AdaptiveTicker\"},{\"attributes\":{\"source\":{\"id\":\"c3f57e3f-7d39-4027-a491-2e593a956370\",\"type\":\"ColumnDataSource\"}},\"id\":\"5a8785a7-72df-4862-8ef5-fd0c6e61683e\",\"type\":\"CDSView\"},{\"attributes\":{\"data_source\":{\"id\":\"c3f57e3f-7d39-4027-a491-2e593a956370\",\"type\":\"ColumnDataSource\"},\"glyph\":{\"id\":\"022438c7-9193-4cc3-ae48-4cb1a7bdb70f\",\"type\":\"Quad\"},\"hover_glyph\":null,\"muted_glyph\":null,\"name\":\"coding_exons\",\"nonselection_glyph\":{\"id\":\"3204c283-3fb5-4bb8-b6c5-6ec417700e1d\",\"type\":\"Quad\"},\"selection_glyph\":null,\"view\":{\"id\":\"5a8785a7-72df-4862-8ef5-fd0c6e61683e\",\"type\":\"CDSView\"}},\"id\":\"636a726f-9bd0-4dd7-89ab-cc7bb68bcc9a\",\"type\":\"GlyphRenderer\"},{\"attributes\":{\"callback\":null,\"end\":-1.5,\"start\":7},\"id\":\"ec8c3440-41fa-4970-b9e3-7f90cc3ebce5\",\"type\":\"Range1d\"},{\"attributes\":{},\"id\":\"faee04e7-d060-40d1-8848-dc2cdc3952d4\",\"type\":\"BasicTickFormatter\"},{\"attributes\":{},\"id\":\"e093108c-9b8e-4df1-8942-91165a7f0cd2\",\"type\":\"NumeralTickFormatter\"},{\"attributes\":{\"source\":{\"id\":\"450ed3a2-d0bb-4c16-b328-50c454a3dab4\",\"type\":\"ColumnDataSource\"}},\"id\":\"5eb35599-1abb-4298-8502-53e899503928\",\"type\":\"CDSView\"},{\"attributes\":{\"callback\":null,\"column_names\":[\"x0\",\"y0\",\"x1\",\"y1\",\"index\"],\"data\":{\"index\":[0,1,2,3,4,5,6,7,8,9,10,11,12,13,14,15,16,17,18,19,20,21,22,23,24,25,26,27,28,29,30,31,32,33,34,35,36,37,38,39,40,41,42,43,44,45,46,47,48,49,50,51,52,53,54,55,56,57,58,59,60,61,62,63,64],\"x0\":[42130611,42129737,42128783,42128173,42127841,42127446,42126850,42126576,42130611,42129737,42129032,42128783,42128173,42127841,42127446,42126850,42126576,42130611,42129737,42129032,42128783,42128173,42127841,42127780,42127446,42126850,42126576,42144283,42143409,42142727,42142478,42141867,42141533,42141151,42140554,42140279,42144283,42143409,42142727,42142478,42141867,42141533,42141151,42140554,42140279,42144329,42144283,42143409,42142727,42142478,42141867,42141533,42141370,42141151,42140554,42140280,42144329,42144283,42143409,42142478,42141867,42141533,42141151,42140554,42140280],\"x1\":[42130791,42129909,42128944,42128350,42127983,42127634,42126992,42126752,42130791,42129909,42129185,42128944,42128350,42127983,42127634,42126992,42126752,42130725,42129909,42129185,42128944,42128350,42127983,42127809,42127662,42126992,42126752,42144464,42143581,42142880,42142639,42142044,42141675,42141339,42140696,42140456,42144464,42143581,42142880,42142639,42142044,42141675,42141396,42140696,42140456,42144464,42144328,42143581,42142880,42142639,42142044,42141675,42141396,42141367,42140696,42140456,42144464,42144328,42143581,42142639,42142044,42141675,42141339,42140696,42140456],\"y0\":[-0.35,-0.35,-0.35,-0.35,-0.35,-0.35,-0.35,-0.35,3.65,3.65,3.65,3.65,3.65,3.65,3.65,3.65,3.65,1.65,1.65,1.65,1.65,1.65,1.65,1.65,1.65,1.65,1.65,-0.35,-0.35,-0.35,-0.35,-0.35,-0.35,-0.35,-0.35,-0.35,5.65,5.65,5.65,5.65,5.65,5.65,5.65,5.65,5.65,3.65,3.65,3.65,3.65,3.65,3.65,3.65,3.65,3.65,3.65,3.65,1.65,1.65,1.65,1.65,1.65,1.65,1.65,1.65,1.65],\"y1\":[0.35,0.35,0.35,0.35,0.35,0.35,0.35,0.35,4.35,4.35,4.35,4.35,4.35,4.35,4.35,4.35,4.35,2.35,2.35,2.35,2.35,2.35,2.35,2.35,2.35,2.35,2.35,0.35,0.35,0.35,0.35,0.35,0.35,0.35,0.35,0.35,6.35,6.35,6.35,6.35,6.35,6.35,6.35,6.35,6.35,4.35,4.35,4.35,4.35,4.35,4.35,4.35,4.35,4.35,4.35,4.35,2.35,2.35,2.35,2.35,2.35,2.35,2.35,2.35,2.35]}},\"id\":\"c3f57e3f-7d39-4027-a491-2e593a956370\",\"type\":\"ColumnDataSource\"},{\"attributes\":{\"source\":{\"id\":\"49db0ca7-be11-45fc-8c2f-88235eae9bf7\",\"type\":\"ColumnDataSource\"}},\"id\":\"10073bfa-7a5d-4978-9f3b-212ed43a5301\",\"type\":\"CDSView\"},{\"attributes\":{\"formatter\":{\"id\":\"faee04e7-d060-40d1-8848-dc2cdc3952d4\",\"type\":\"BasicTickFormatter\"},\"plot\":{\"id\":\"def6c093-51a1-4932-bea9-fe3ba80d8adc\",\"subtype\":\"Figure\",\"type\":\"Plot\"},\"ticker\":{\"id\":\"5c3145b2-741a-40e3-8de5-9f6f3030383f\",\"type\":\"BasicTicker\"},\"visible\":false},\"id\":\"ce809405-1722-4214-b781-c9961c92efa6\",\"type\":\"LinearAxis\"},{\"attributes\":{\"axis_label\":\"chr22\",\"formatter\":{\"id\":\"e093108c-9b8e-4df1-8942-91165a7f0cd2\",\"type\":\"NumeralTickFormatter\"},\"plot\":{\"id\":\"def6c093-51a1-4932-bea9-fe3ba80d8adc\",\"subtype\":\"Figure\",\"type\":\"Plot\"},\"ticker\":{\"id\":\"43ea7eb2-eb24-49e7-8c3f-5f873e90957f\",\"type\":\"CompositeTicker\"}},\"id\":\"fcf489d4-b90d-40a8-a6b1-789d1232b2c6\",\"type\":\"LinearAxis\"}],\"root_ids\":[\"def6c093-51a1-4932-bea9-fe3ba80d8adc\"]},\"title\":\"Bokeh Application\",\"version\":\"0.12.10\"}};\n",
       "    var render_items = [{\"docid\":\"fe42a764-2cb4-43db-98bb-fb54321dfb47\",\"elementid\":\"7355e866-08cc-4b80-b022-2692fcb6399a\",\"modelid\":\"def6c093-51a1-4932-bea9-fe3ba80d8adc\"}];\n",
       "\n",
       "    root.Bokeh.embed.embed_items(docs_json, render_items);\n",
       "  }\n",
       "\n",
       "  if (root.Bokeh !== undefined) {\n",
       "    embed_document(root);\n",
       "  } else {\n",
       "    var attempts = 0;\n",
       "    var timer = setInterval(function(root) {\n",
       "      if (root.Bokeh !== undefined) {\n",
       "        embed_document(root);\n",
       "        clearInterval(timer);\n",
       "      }\n",
       "      attempts++;\n",
       "      if (attempts > 100) {\n",
       "        console.log(\"Bokeh: ERROR: Unable to embed document because BokehJS library is missing\")\n",
       "        clearInterval(timer);\n",
       "      }\n",
       "    }, 10, root)\n",
       "  }\n",
       "})(window);"
      ],
      "application/vnd.bokehjs_exec.v0+json": ""
     },
     "metadata": {
      "application/vnd.bokehjs_exec.v0+json": {
       "id": "def6c093-51a1-4932-bea9-fe3ba80d8adc"
      }
     },
     "output_type": "display_data"
    }
   ],
   "source": [
    "fig = make_plot(transcripts_from_gffutils(\"chr22\", 42124000, 42148000))\n",
    "show(fig.figure)"
   ]
  },
  {
   "cell_type": "code",
   "execution_count": null,
   "metadata": {
    "collapsed": true
   },
   "outputs": [],
   "source": []
  }
 ],
 "metadata": {
  "kernelspec": {
   "display_name": "Python 3",
   "language": "python",
   "name": "python3"
  },
  "language_info": {
   "codemirror_mode": {
    "name": "ipython",
    "version": 3
   },
   "file_extension": ".py",
   "mimetype": "text/x-python",
   "name": "python",
   "nbconvert_exporter": "python",
   "pygments_lexer": "ipython3",
   "version": "3.6.2"
  }
 },
 "nbformat": 4,
 "nbformat_minor": 2
}
