{
 "cells": [
  {
   "cell_type": "markdown",
   "metadata": {},
   "source": [
    "# Visualizing annotation data"
   ]
  },
  {
   "cell_type": "markdown",
   "metadata": {},
   "source": [
    "set up bokeh for notebook drawing, and import gene_viz"
   ]
  },
  {
   "cell_type": "code",
   "execution_count": 1,
   "metadata": {},
   "outputs": [
    {
     "data": {
      "application/javascript": [
       "\n",
       "(function(root) {\n",
       "  function now() {\n",
       "    return new Date();\n",
       "  }\n",
       "\n",
       "  var force = true;\n",
       "\n",
       "  if (typeof root._bokeh_onload_callbacks === \"undefined\" || force === true) {\n",
       "    root._bokeh_onload_callbacks = [];\n",
       "    root._bokeh_is_loading = undefined;\n",
       "  }\n",
       "\n",
       "  var JS_MIME_TYPE = 'application/javascript';\n",
       "  var HTML_MIME_TYPE = 'text/html';\n",
       "  var EXEC_MIME_TYPE = 'application/vnd.bokehjs_exec.v0+json';\n",
       "  var CLASS_NAME = 'output_bokeh rendered_html';\n",
       "\n",
       "  /**\n",
       "   * Render data to the DOM node\n",
       "   */\n",
       "  function render(props, node) {\n",
       "    var script = document.createElement(\"script\");\n",
       "    node.appendChild(script);\n",
       "  }\n",
       "\n",
       "  /**\n",
       "   * Handle when an output is cleared or removed\n",
       "   */\n",
       "  function handleClearOutput(event, handle) {\n",
       "    var cell = handle.cell;\n",
       "\n",
       "    var id = cell.output_area._bokeh_element_id;\n",
       "    var server_id = cell.output_area._bokeh_server_id;\n",
       "    // Clean up Bokeh references\n",
       "    if (id != null && id in Bokeh.index) {\n",
       "      Bokeh.index[id].model.document.clear();\n",
       "      delete Bokeh.index[id];\n",
       "    }\n",
       "\n",
       "    if (server_id !== undefined) {\n",
       "      // Clean up Bokeh references\n",
       "      var cmd = \"from bokeh.io.state import curstate; print(curstate().uuid_to_server['\" + server_id + \"'].get_sessions()[0].document.roots[0]._id)\";\n",
       "      cell.notebook.kernel.execute(cmd, {\n",
       "        iopub: {\n",
       "          output: function(msg) {\n",
       "            var id = msg.content.text.trim();\n",
       "            if (id in Bokeh.index) {\n",
       "              Bokeh.index[id].model.document.clear();\n",
       "              delete Bokeh.index[id];\n",
       "            }\n",
       "          }\n",
       "        }\n",
       "      });\n",
       "      // Destroy server and session\n",
       "      var cmd = \"import bokeh.io.notebook as ion; ion.destroy_server('\" + server_id + \"')\";\n",
       "      cell.notebook.kernel.execute(cmd);\n",
       "    }\n",
       "  }\n",
       "\n",
       "  /**\n",
       "   * Handle when a new output is added\n",
       "   */\n",
       "  function handleAddOutput(event, handle) {\n",
       "    var output_area = handle.output_area;\n",
       "    var output = handle.output;\n",
       "\n",
       "    // limit handleAddOutput to display_data with EXEC_MIME_TYPE content only\n",
       "    if ((output.output_type != \"display_data\") || (!output.data.hasOwnProperty(EXEC_MIME_TYPE))) {\n",
       "      return\n",
       "    }\n",
       "\n",
       "    var toinsert = output_area.element.find(\".\" + CLASS_NAME.split(' ')[0]);\n",
       "\n",
       "    if (output.metadata[EXEC_MIME_TYPE][\"id\"] !== undefined) {\n",
       "      toinsert[toinsert.length - 1].firstChild.textContent = output.data[JS_MIME_TYPE];\n",
       "      // store reference to embed id on output_area\n",
       "      output_area._bokeh_element_id = output.metadata[EXEC_MIME_TYPE][\"id\"];\n",
       "    }\n",
       "    if (output.metadata[EXEC_MIME_TYPE][\"server_id\"] !== undefined) {\n",
       "      var bk_div = document.createElement(\"div\");\n",
       "      bk_div.innerHTML = output.data[HTML_MIME_TYPE];\n",
       "      var script_attrs = bk_div.children[0].attributes;\n",
       "      for (var i = 0; i < script_attrs.length; i++) {\n",
       "        toinsert[toinsert.length - 1].firstChild.setAttribute(script_attrs[i].name, script_attrs[i].value);\n",
       "      }\n",
       "      // store reference to server id on output_area\n",
       "      output_area._bokeh_server_id = output.metadata[EXEC_MIME_TYPE][\"server_id\"];\n",
       "    }\n",
       "  }\n",
       "\n",
       "  function register_renderer(events, OutputArea) {\n",
       "\n",
       "    function append_mime(data, metadata, element) {\n",
       "      // create a DOM node to render to\n",
       "      var toinsert = this.create_output_subarea(\n",
       "        metadata,\n",
       "        CLASS_NAME,\n",
       "        EXEC_MIME_TYPE\n",
       "      );\n",
       "      this.keyboard_manager.register_events(toinsert);\n",
       "      // Render to node\n",
       "      var props = {data: data, metadata: metadata[EXEC_MIME_TYPE]};\n",
       "      render(props, toinsert[toinsert.length - 1]);\n",
       "      element.append(toinsert);\n",
       "      return toinsert\n",
       "    }\n",
       "\n",
       "    /* Handle when an output is cleared or removed */\n",
       "    events.on('clear_output.CodeCell', handleClearOutput);\n",
       "    events.on('delete.Cell', handleClearOutput);\n",
       "\n",
       "    /* Handle when a new output is added */\n",
       "    events.on('output_added.OutputArea', handleAddOutput);\n",
       "\n",
       "    /**\n",
       "     * Register the mime type and append_mime function with output_area\n",
       "     */\n",
       "    OutputArea.prototype.register_mime_type(EXEC_MIME_TYPE, append_mime, {\n",
       "      /* Is output safe? */\n",
       "      safe: true,\n",
       "      /* Index of renderer in `output_area.display_order` */\n",
       "      index: 0\n",
       "    });\n",
       "  }\n",
       "\n",
       "  // register the mime type if in Jupyter Notebook environment and previously unregistered\n",
       "  if (root.Jupyter !== undefined) {\n",
       "    var events = require('base/js/events');\n",
       "    var OutputArea = require('notebook/js/outputarea').OutputArea;\n",
       "\n",
       "    if (OutputArea.prototype.mime_types().indexOf(EXEC_MIME_TYPE) == -1) {\n",
       "      register_renderer(events, OutputArea);\n",
       "    }\n",
       "  }\n",
       "\n",
       "  \n",
       "  if (typeof (root._bokeh_timeout) === \"undefined\" || force === true) {\n",
       "    root._bokeh_timeout = Date.now() + 5000;\n",
       "    root._bokeh_failed_load = false;\n",
       "  }\n",
       "\n",
       "  var NB_LOAD_WARNING = {'data': {'text/html':\n",
       "     \"<div style='background-color: #fdd'>\\n\"+\n",
       "     \"<p>\\n\"+\n",
       "     \"BokehJS does not appear to have successfully loaded. If loading BokehJS from CDN, this \\n\"+\n",
       "     \"may be due to a slow or bad network connection. Possible fixes:\\n\"+\n",
       "     \"</p>\\n\"+\n",
       "     \"<ul>\\n\"+\n",
       "     \"<li>re-rerun `output_notebook()` to attempt to load from CDN again, or</li>\\n\"+\n",
       "     \"<li>use INLINE resources instead, as so:</li>\\n\"+\n",
       "     \"</ul>\\n\"+\n",
       "     \"<code>\\n\"+\n",
       "     \"from bokeh.resources import INLINE\\n\"+\n",
       "     \"output_notebook(resources=INLINE)\\n\"+\n",
       "     \"</code>\\n\"+\n",
       "     \"</div>\"}};\n",
       "\n",
       "  function display_loaded() {\n",
       "    var el = document.getElementById(null);\n",
       "    if (el != null) {\n",
       "      el.textContent = \"BokehJS is loading...\";\n",
       "    }\n",
       "    if (root.Bokeh !== undefined) {\n",
       "      if (el != null) {\n",
       "        el.textContent = \"BokehJS \" + root.Bokeh.version + \" successfully loaded.\";\n",
       "      }\n",
       "    } else if (Date.now() < root._bokeh_timeout) {\n",
       "      setTimeout(display_loaded, 100)\n",
       "    }\n",
       "  }\n",
       "\n",
       "\n",
       "  function run_callbacks() {\n",
       "    try {\n",
       "      root._bokeh_onload_callbacks.forEach(function(callback) {\n",
       "        if (callback != null)\n",
       "          callback();\n",
       "      });\n",
       "    } finally {\n",
       "      delete root._bokeh_onload_callbacks\n",
       "    }\n",
       "    console.debug(\"Bokeh: all callbacks have finished\");\n",
       "  }\n",
       "\n",
       "  function load_libs(css_urls, js_urls, callback) {\n",
       "    if (css_urls == null) css_urls = [];\n",
       "    if (js_urls == null) js_urls = [];\n",
       "\n",
       "    root._bokeh_onload_callbacks.push(callback);\n",
       "    if (root._bokeh_is_loading > 0) {\n",
       "      console.debug(\"Bokeh: BokehJS is being loaded, scheduling callback at\", now());\n",
       "      return null;\n",
       "    }\n",
       "    if (js_urls == null || js_urls.length === 0) {\n",
       "      run_callbacks();\n",
       "      return null;\n",
       "    }\n",
       "    console.debug(\"Bokeh: BokehJS not loaded, scheduling load and callback at\", now());\n",
       "    root._bokeh_is_loading = css_urls.length + js_urls.length;\n",
       "\n",
       "    function on_load() {\n",
       "      root._bokeh_is_loading--;\n",
       "      if (root._bokeh_is_loading === 0) {\n",
       "        console.debug(\"Bokeh: all BokehJS libraries/stylesheets loaded\");\n",
       "        run_callbacks()\n",
       "      }\n",
       "    }\n",
       "\n",
       "    function on_error() {\n",
       "      console.error(\"failed to load \" + url);\n",
       "    }\n",
       "\n",
       "    for (var i = 0; i < css_urls.length; i++) {\n",
       "      var url = css_urls[i];\n",
       "      const element = document.createElement(\"link\");\n",
       "      element.onload = on_load;\n",
       "      element.onerror = on_error;\n",
       "      element.rel = \"stylesheet\";\n",
       "      element.type = \"text/css\";\n",
       "      element.href = url;\n",
       "      console.debug(\"Bokeh: injecting link tag for BokehJS stylesheet: \", url);\n",
       "      document.body.appendChild(element);\n",
       "    }\n",
       "\n",
       "    for (var i = 0; i < js_urls.length; i++) {\n",
       "      var url = js_urls[i];\n",
       "      var element = document.createElement('script');\n",
       "      element.onload = on_load;\n",
       "      element.onerror = on_error;\n",
       "      element.async = false;\n",
       "      element.src = url;\n",
       "      console.debug(\"Bokeh: injecting script tag for BokehJS library: \", url);\n",
       "      document.head.appendChild(element);\n",
       "    }\n",
       "  };\n",
       "\n",
       "  function inject_raw_css(css) {\n",
       "    const element = document.createElement(\"style\");\n",
       "    element.appendChild(document.createTextNode(css));\n",
       "    document.body.appendChild(element);\n",
       "  }\n",
       "\n",
       "  var js_urls = [\"https://cdn.pydata.org/bokeh/release/bokeh-1.2.0.min.js\", \"https://cdn.pydata.org/bokeh/release/bokeh-widgets-1.2.0.min.js\", \"https://cdn.pydata.org/bokeh/release/bokeh-tables-1.2.0.min.js\", \"https://cdn.pydata.org/bokeh/release/bokeh-gl-1.2.0.min.js\"];\n",
       "  var css_urls = [\"https://cdn.pydata.org/bokeh/release/bokeh-1.2.0.min.css\", \"https://cdn.pydata.org/bokeh/release/bokeh-widgets-1.2.0.min.css\", \"https://cdn.pydata.org/bokeh/release/bokeh-tables-1.2.0.min.css\"];\n",
       "\n",
       "  var inline_js = [\n",
       "    function(Bokeh) {\n",
       "      Bokeh.set_log_level(\"info\");\n",
       "    },\n",
       "    \n",
       "    function(Bokeh) {\n",
       "      \n",
       "    },\n",
       "    function(Bokeh) {} // ensure no trailing comma for IE\n",
       "  ];\n",
       "\n",
       "  function run_inline_js() {\n",
       "    \n",
       "    if ((root.Bokeh !== undefined) || (force === true)) {\n",
       "      for (var i = 0; i < inline_js.length; i++) {\n",
       "        inline_js[i].call(root, root.Bokeh);\n",
       "      }} else if (Date.now() < root._bokeh_timeout) {\n",
       "      setTimeout(run_inline_js, 100);\n",
       "    } else if (!root._bokeh_failed_load) {\n",
       "      console.log(\"Bokeh: BokehJS failed to load within specified timeout.\");\n",
       "      root._bokeh_failed_load = true;\n",
       "    } else if (force !== true) {\n",
       "      var cell = $(document.getElementById(null)).parents('.cell').data().cell;\n",
       "      cell.output_area.append_execute_result(NB_LOAD_WARNING)\n",
       "    }\n",
       "\n",
       "  }\n",
       "\n",
       "  if (root._bokeh_is_loading === 0) {\n",
       "    console.debug(\"Bokeh: BokehJS loaded, going straight to plotting\");\n",
       "    run_inline_js();\n",
       "  } else {\n",
       "    load_libs(css_urls, js_urls, function() {\n",
       "      console.debug(\"Bokeh: BokehJS plotting callback run at\", now());\n",
       "      run_inline_js();\n",
       "    });\n",
       "  }\n",
       "}(window));"
      ],
      "application/vnd.bokehjs_load.v0+json": "\n(function(root) {\n  function now() {\n    return new Date();\n  }\n\n  var force = true;\n\n  if (typeof root._bokeh_onload_callbacks === \"undefined\" || force === true) {\n    root._bokeh_onload_callbacks = [];\n    root._bokeh_is_loading = undefined;\n  }\n\n  \n\n  \n  if (typeof (root._bokeh_timeout) === \"undefined\" || force === true) {\n    root._bokeh_timeout = Date.now() + 5000;\n    root._bokeh_failed_load = false;\n  }\n\n  var NB_LOAD_WARNING = {'data': {'text/html':\n     \"<div style='background-color: #fdd'>\\n\"+\n     \"<p>\\n\"+\n     \"BokehJS does not appear to have successfully loaded. If loading BokehJS from CDN, this \\n\"+\n     \"may be due to a slow or bad network connection. Possible fixes:\\n\"+\n     \"</p>\\n\"+\n     \"<ul>\\n\"+\n     \"<li>re-rerun `output_notebook()` to attempt to load from CDN again, or</li>\\n\"+\n     \"<li>use INLINE resources instead, as so:</li>\\n\"+\n     \"</ul>\\n\"+\n     \"<code>\\n\"+\n     \"from bokeh.resources import INLINE\\n\"+\n     \"output_notebook(resources=INLINE)\\n\"+\n     \"</code>\\n\"+\n     \"</div>\"}};\n\n  function display_loaded() {\n    var el = document.getElementById(null);\n    if (el != null) {\n      el.textContent = \"BokehJS is loading...\";\n    }\n    if (root.Bokeh !== undefined) {\n      if (el != null) {\n        el.textContent = \"BokehJS \" + root.Bokeh.version + \" successfully loaded.\";\n      }\n    } else if (Date.now() < root._bokeh_timeout) {\n      setTimeout(display_loaded, 100)\n    }\n  }\n\n\n  function run_callbacks() {\n    try {\n      root._bokeh_onload_callbacks.forEach(function(callback) {\n        if (callback != null)\n          callback();\n      });\n    } finally {\n      delete root._bokeh_onload_callbacks\n    }\n    console.debug(\"Bokeh: all callbacks have finished\");\n  }\n\n  function load_libs(css_urls, js_urls, callback) {\n    if (css_urls == null) css_urls = [];\n    if (js_urls == null) js_urls = [];\n\n    root._bokeh_onload_callbacks.push(callback);\n    if (root._bokeh_is_loading > 0) {\n      console.debug(\"Bokeh: BokehJS is being loaded, scheduling callback at\", now());\n      return null;\n    }\n    if (js_urls == null || js_urls.length === 0) {\n      run_callbacks();\n      return null;\n    }\n    console.debug(\"Bokeh: BokehJS not loaded, scheduling load and callback at\", now());\n    root._bokeh_is_loading = css_urls.length + js_urls.length;\n\n    function on_load() {\n      root._bokeh_is_loading--;\n      if (root._bokeh_is_loading === 0) {\n        console.debug(\"Bokeh: all BokehJS libraries/stylesheets loaded\");\n        run_callbacks()\n      }\n    }\n\n    function on_error() {\n      console.error(\"failed to load \" + url);\n    }\n\n    for (var i = 0; i < css_urls.length; i++) {\n      var url = css_urls[i];\n      const element = document.createElement(\"link\");\n      element.onload = on_load;\n      element.onerror = on_error;\n      element.rel = \"stylesheet\";\n      element.type = \"text/css\";\n      element.href = url;\n      console.debug(\"Bokeh: injecting link tag for BokehJS stylesheet: \", url);\n      document.body.appendChild(element);\n    }\n\n    for (var i = 0; i < js_urls.length; i++) {\n      var url = js_urls[i];\n      var element = document.createElement('script');\n      element.onload = on_load;\n      element.onerror = on_error;\n      element.async = false;\n      element.src = url;\n      console.debug(\"Bokeh: injecting script tag for BokehJS library: \", url);\n      document.head.appendChild(element);\n    }\n  };\n\n  function inject_raw_css(css) {\n    const element = document.createElement(\"style\");\n    element.appendChild(document.createTextNode(css));\n    document.body.appendChild(element);\n  }\n\n  var js_urls = [\"https://cdn.pydata.org/bokeh/release/bokeh-1.2.0.min.js\", \"https://cdn.pydata.org/bokeh/release/bokeh-widgets-1.2.0.min.js\", \"https://cdn.pydata.org/bokeh/release/bokeh-tables-1.2.0.min.js\", \"https://cdn.pydata.org/bokeh/release/bokeh-gl-1.2.0.min.js\"];\n  var css_urls = [\"https://cdn.pydata.org/bokeh/release/bokeh-1.2.0.min.css\", \"https://cdn.pydata.org/bokeh/release/bokeh-widgets-1.2.0.min.css\", \"https://cdn.pydata.org/bokeh/release/bokeh-tables-1.2.0.min.css\"];\n\n  var inline_js = [\n    function(Bokeh) {\n      Bokeh.set_log_level(\"info\");\n    },\n    \n    function(Bokeh) {\n      \n    },\n    function(Bokeh) {} // ensure no trailing comma for IE\n  ];\n\n  function run_inline_js() {\n    \n    if ((root.Bokeh !== undefined) || (force === true)) {\n      for (var i = 0; i < inline_js.length; i++) {\n        inline_js[i].call(root, root.Bokeh);\n      }} else if (Date.now() < root._bokeh_timeout) {\n      setTimeout(run_inline_js, 100);\n    } else if (!root._bokeh_failed_load) {\n      console.log(\"Bokeh: BokehJS failed to load within specified timeout.\");\n      root._bokeh_failed_load = true;\n    } else if (force !== true) {\n      var cell = $(document.getElementById(null)).parents('.cell').data().cell;\n      cell.output_area.append_execute_result(NB_LOAD_WARNING)\n    }\n\n  }\n\n  if (root._bokeh_is_loading === 0) {\n    console.debug(\"Bokeh: BokehJS loaded, going straight to plotting\");\n    run_inline_js();\n  } else {\n    load_libs(css_urls, js_urls, function() {\n      console.debug(\"Bokeh: BokehJS plotting callback run at\", now());\n      run_inline_js();\n    });\n  }\n}(window));"
     },
     "metadata": {},
     "output_type": "display_data"
    }
   ],
   "source": [
    "from bokeh.plotting import output_notebook, show\n",
    "output_notebook(hide_banner=True)\n",
    "\n",
    "import gene_viz\n",
    "from gene_viz.features import Transcript, Exon, CDS"
   ]
  },
  {
   "cell_type": "markdown",
   "metadata": {},
   "source": [
    "## Use PyEnsembl as the data source\n",
    "\n",
    "**note** - requires [pyensembl](https://github.com/openvax/pyensembl)"
   ]
  },
  {
   "cell_type": "code",
   "execution_count": 2,
   "metadata": {},
   "outputs": [],
   "source": [
    "import os\n",
    "import pyensembl\n",
    "from gene_viz.utils import transcripts_from_pyensembl\n",
    "\n",
    "# set database cache directory for pyensembl\n",
    "os.environ['PYENSEMBL_CACHE_DIR'] = os.path.abspath(\"./\")"
   ]
  },
  {
   "cell_type": "code",
   "execution_count": null,
   "metadata": {},
   "outputs": [],
   "source": [
    "# download and unzip gencode basic annotations for hg38\n",
    "!wget ftp://ftp.ebi.ac.uk/pub/databases/gencode/Gencode_human/release_27/gencode.v27.basic.annotation.gtf.gz"
   ]
  },
  {
   "cell_type": "code",
   "execution_count": 3,
   "metadata": {},
   "outputs": [],
   "source": [
    "# create pyensemble database from annotations\n",
    "genome = pyensembl.Genome(\n",
    "    reference_name=\"GRCh38\",\n",
    "    annotation_name=\"Gencode27\",\n",
    "    gtf_path_or_url=\"gencode.v27.basic.annotation.gtf.gz\"\n",
    ")\n",
    "genome.index()"
   ]
  },
  {
   "cell_type": "markdown",
   "metadata": {},
   "source": [
    "## Define the plot"
   ]
  },
  {
   "cell_type": "code",
   "execution_count": 4,
   "metadata": {},
   "outputs": [],
   "source": [
    "def make_plot(transcripts):\n",
    "    \"\"\"\n",
    "    Create a gene_plot object from a list of transcript feature objects\n",
    "    \"\"\"\n",
    "    start = min([t.start for t in transcripts])\n",
    "    end = max([t.end for t in transcripts])\n",
    "    contig = next((t.contig for t in transcripts), \"unlabelled\")\n",
    "    \n",
    "    gene_plot = gene_viz.GenePlot(\n",
    "        dict(\n",
    "            row_height=15,\n",
    "            pack=True,\n",
    "            show_labels=True,\n",
    "            label_horiz_position=\"center\",\n",
    "            label_vert_position=\"above\",\n",
    "            label_justify=\"center\",\n",
    "            label_offset=(0, -4),\n",
    "            label_font_size=\"6pt\",\n",
    "            intron_width_percent=0.01,\n",
    "            toolbar_location=\"above\",\n",
    "        )\n",
    "    )\n",
    "        \n",
    "    gene_plot.x_range = (start, end)\n",
    "    gene_plot.figure.xaxis.axis_label = contig\n",
    "    gene_plot.transcripts = transcripts\n",
    "    gene_plot.update()\n",
    "    return gene_plot"
   ]
  },
  {
   "cell_type": "markdown",
   "metadata": {},
   "source": [
    "## Query pyensembl and visualize the results"
   ]
  },
  {
   "cell_type": "code",
   "execution_count": 5,
   "metadata": {},
   "outputs": [
    {
     "data": {
      "text/html": [
       "\n",
       "\n",
       "\n",
       "\n",
       "\n",
       "\n",
       "  <div class=\"bk-root\" id=\"d51d3be1-e2a0-4eb5-a6e7-6d8382261284\" data-root-id=\"1005\"></div>\n"
      ]
     },
     "metadata": {},
     "output_type": "display_data"
    },
    {
     "data": {
      "application/javascript": [
       "(function(root) {\n",
       "  function embed_document(root) {\n",
       "    \n",
       "  var docs_json = {\"e54f2814-21fa-4e8c-ac00-94000435450c\":{\"roots\":{\"references\":[{\"attributes\":{\"below\":[{\"id\":\"1014\",\"type\":\"LinearAxis\"}],\"center\":[{\"id\":\"1018\",\"type\":\"Grid\"},{\"id\":\"1023\",\"type\":\"Grid\"}],\"left\":[{\"id\":\"1019\",\"type\":\"LinearAxis\"}],\"outline_line_alpha\":{\"value\":0},\"plot_height\":155,\"plot_width\":800,\"renderers\":[{\"id\":\"1038\",\"type\":\"GlyphRenderer\"},{\"id\":\"1043\",\"type\":\"GlyphRenderer\"},{\"id\":\"1048\",\"type\":\"GlyphRenderer\"},{\"id\":\"1053\",\"type\":\"GlyphRenderer\"}],\"title\":{\"id\":\"1065\",\"type\":\"Title\"},\"toolbar\":{\"id\":\"1029\",\"type\":\"Toolbar\"},\"toolbar_location\":\"above\",\"x_range\":{\"id\":\"1006\",\"type\":\"Range1d\"},\"x_scale\":{\"id\":\"1010\",\"type\":\"LinearScale\"},\"y_range\":{\"id\":\"1008\",\"type\":\"Range1d\"},\"y_scale\":{\"id\":\"1012\",\"type\":\"LinearScale\"}},\"id\":\"1005\",\"subtype\":\"Figure\",\"type\":\"Plot\"},{\"attributes\":{},\"id\":\"1012\",\"type\":\"LinearScale\"},{\"attributes\":{\"mantissas\":[1,2,3,4,5,6,7,8,9],\"max_interval\":2,\"min_interval\":2,\"num_minor_ticks\":2},\"id\":\"1056\",\"type\":\"AdaptiveTicker\"},{\"attributes\":{},\"id\":\"1073\",\"type\":\"Selection\"},{\"attributes\":{\"source\":{\"id\":\"1001\",\"type\":\"ColumnDataSource\"}},\"id\":\"1039\",\"type\":\"CDSView\"},{\"attributes\":{},\"id\":\"1010\",\"type\":\"LinearScale\"},{\"attributes\":{},\"id\":\"1076\",\"type\":\"UnionRenderers\"},{\"attributes\":{\"mantissas\":[1,2,3,4,5,6,7,8,9],\"max_interval\":3,\"min_interval\":3,\"num_minor_ticks\":3},\"id\":\"1057\",\"type\":\"AdaptiveTicker\"},{\"attributes\":{},\"id\":\"1015\",\"type\":\"BasicTicker\"},{\"attributes\":{\"mantissas\":[1,2,3,4,5,6,7,8,9],\"max_interval\":4,\"min_interval\":4,\"num_minor_ticks\":4},\"id\":\"1058\",\"type\":\"AdaptiveTicker\"},{\"attributes\":{\"mantissas\":[1,2,3,4,5,6,7,8,9],\"max_interval\":1,\"min_interval\":1,\"num_minor_ticks\":1},\"id\":\"1055\",\"type\":\"AdaptiveTicker\"},{\"attributes\":{\"angle\":{\"field\":\"angle\",\"units\":\"deg\"},\"text\":{\"value\":\"v\"},\"text_align\":\"center\",\"text_alpha\":{\"field\":\"alpha\"},\"text_baseline\":\"middle\",\"text_color\":{\"value\":\"Black\"},\"text_font\":\"sans-serif\",\"text_font_size\":{\"value\":\"5pt\"},\"text_font_style\":\"bold\",\"x\":{\"field\":\"x\"},\"y\":{\"field\":\"y\"}},\"id\":\"1041\",\"type\":\"Text\"},{\"attributes\":{\"mantissas\":[1,2,3,4,5,6,7,8,9],\"min_interval\":5},\"id\":\"1059\",\"type\":\"AdaptiveTicker\"},{\"attributes\":{\"callback\":null,\"data\":{\"color\":[\"DarkBlue\",\"DarkBlue\",\"DarkBlue\",\"DarkBlue\",\"DarkBlue\",\"DarkBlue\",\"DarkBlue\",\"DarkBlue\",\"DarkBlue\",\"DarkBlue\",\"DarkBlue\",\"DarkBlue\",\"DarkBlue\",\"DarkBlue\",\"DarkBlue\",\"DarkBlue\",\"DarkBlue\",\"DarkBlue\",\"DarkBlue\",\"DarkBlue\",\"DarkBlue\",\"DarkBlue\",\"DarkBlue\",\"DarkBlue\",\"DarkBlue\",\"DarkBlue\",\"DarkBlue\",\"DarkBlue\",\"DarkBlue\",\"DarkBlue\",\"DarkBlue\",\"DarkBlue\",\"DarkBlue\",\"DarkBlue\",\"DarkBlue\",\"DarkBlue\",\"DarkBlue\",\"DarkBlue\",\"DarkBlue\",\"DarkBlue\",\"DarkBlue\",\"DarkBlue\",\"DarkBlue\",\"DarkBlue\",\"DarkBlue\",\"DarkBlue\",\"DarkBlue\",\"DarkBlue\",\"DarkBlue\",\"DarkBlue\",\"DarkBlue\",\"DarkBlue\",\"DarkBlue\",\"DarkBlue\",\"DarkBlue\",\"DarkBlue\",\"DarkBlue\",\"DarkBlue\",\"DarkBlue\",\"DarkBlue\",\"DarkBlue\",\"DarkBlue\",\"DarkBlue\",\"DarkBlue\",\"DarkBlue\",\"DarkBlue\",\"DarkBlue\",\"DarkBlue\",\"DarkBlue\",\"DarkBlue\",\"DarkBlue\",\"DarkBlue\",\"DarkBlue\",\"DarkBlue\",\"DarkBlue\",\"DarkBlue\",\"DarkBlue\",\"DarkBlue\",\"DarkBlue\",\"DarkBlue\",\"DarkBlue\",\"DarkBlue\",\"DarkBlue\",\"DarkBlue\",\"DarkBlue\",\"DarkBlue\",\"DarkBlue\",\"DarkBlue\",\"DarkBlue\",\"DarkBlue\",\"DarkBlue\",\"DarkBlue\",\"DarkBlue\",\"DarkBlue\",\"DarkBlue\",\"DarkBlue\",\"DarkBlue\",\"DarkBlue\",\"DarkBlue\",\"DarkBlue\",\"DarkBlue\",\"DarkBlue\",\"DarkBlue\",\"DarkBlue\",\"DarkBlue\",\"DarkBlue\",\"DarkBlue\",\"DarkBlue\",\"DarkBlue\",\"DarkBlue\",\"DarkBlue\",\"DarkBlue\",\"DarkBlue\",\"DarkBlue\",\"DarkBlue\",\"DarkBlue\",\"DarkBlue\",\"DarkBlue\",\"DarkBlue\",\"DarkBlue\",\"DarkBlue\",\"DarkBlue\"],\"index\":[0,1,2,3,4,5,6,7,8,9,10,11,12,13,14,15,16,17,18,19,20,21,22,23,24,25,26,27,28,29,30,31,32,33,34,35,36,37,38,39,40,41,42,43,44,45,46,47,48,49,50,51,52,53,54,55,56,57,58,59,60,61,62,63,64,65,66,67,68,69,70,71,72,73,74,75,76,77,78,79,80,81,82,83,84,85,86,87,88,89,90,91,92,93,94,95,96,97,98,99,100,101,102,103,104,105,106,107,108,109,110,111,112,113,114,115,116,117,118,119,120,121],\"x\":[[42130612,42130791,42130791,42130906,42130906,42130791,42130791,42130612],[42129738,42129909,42129909,42129738],[42129033,42129185,42129185,42129033],[42128784,42128944,42128944,42128784],[42128174,42128350,42128350,42128174],[42127842,42127983,42127983,42127842],[42127447,42127634,42127634,42127447],[42126851,42126992,42126992,42126851],[42126499,42126577,42126577,42126752,42126752,42126577,42126577,42126499],[42130612,42130725,42130725,42130881,42130881,42130725,42130725,42130612],[42129738,42129909,42129909,42129738],[42129033,42129185,42129185,42129033],[42128784,42128944,42128944,42128784],[42128174,42128350,42128350,42128174],[42127842,42127983,42127983,42127842],[42127781,42127809,42127809,42127781],[42127447,42127662,42127662,42127447],[42126851,42126992,42126992,42126851],[42126501,42126577,42126577,42126752,42126752,42126577,42126577,42126501],[42130612,42130791,42130791,42130865,42130865,42130791,42130791,42130612],[42129738,42129909,42129909,42129738],[42128784,42128944,42128944,42128784],[42128174,42128350,42128350,42128174],[42127842,42127983,42127983,42127842],[42127447,42127634,42127634,42127447],[42126851,42126992,42126992,42126851],[42126556,42126577,42126577,42126752,42126752,42126577,42126577,42126556],[42209651,42215305,42215305,42215442,42215442,42215305,42215305,42209651],[42179609,42179702,42179702,42179609],[42169847,42169896,42169896,42169847],[42168609,42168656,42168656,42168736,42168736,42168656,42168656,42168609],[42160013,42161358,42161358,42160013],[42209651,42215305,42215305,42215440,42215440,42215305,42215305,42209651],[42179609,42179702,42179702,42179609],[42169847,42169896,42169896,42169847],[42161056,42161344,42161344,42161358,42161358,42161344,42161344,42161056],[42209651,42210208,42210208,42209651],[42179609,42179702,42179702,42179609],[42169847,42169896,42169896,42169847],[42168609,42168656,42168656,42168703,42168703,42168656,42168656,42168609],[42161098,42161358,42161358,42161098],[42144284,42144464,42144464,42144549,42144549,42144464,42144464,42144284],[42143410,42143581,42143581,42143410],[42142728,42142880,42142880,42142728],[42142479,42142639,42142639,42142479],[42141868,42142044,42142044,42141868],[42141534,42141675,42141675,42141534],[42141152,42141339,42141339,42141152],[42140555,42140696,42140696,42140555],[42140203,42140280,42140280,42140456,42140456,42140280,42140280,42140203],[42144284,42144464,42144464,42144577,42144577,42144464,42144464,42144284],[42143410,42143581,42143581,42143410],[42142728,42142880,42142880,42142728],[42142479,42142639,42142639,42142479],[42141868,42142044,42142044,42141868],[42141534,42141675,42141675,42141534],[42141152,42141396,42141396,42141152],[42140555,42140696,42140696,42140555],[42140203,42140280,42140280,42140456,42140456,42140280,42140280,42140203],[42144330,42144464,42144464,42144554,42144554,42144464,42144464,42144330],[42144284,42144328,42144328,42144284],[42143410,42143581,42143581,42143410],[42142479,42142639,42142639,42142479],[42141868,42142044,42142044,42141868],[42141534,42141675,42141675,42141534],[42141152,42141339,42141339,42141152],[42140555,42140696,42140696,42140555],[42140205,42140281,42140281,42140456,42140456,42140281,42140281,42140205],[42144330,42144464,42144464,42144577,42144577,42144464,42144464,42144330],[42144284,42144328,42144328,42144284],[42143410,42143581,42143581,42143410],[42142728,42142880,42142880,42142728],[42142479,42142639,42142639,42142479],[42141868,42142044,42142044,42141868],[42141534,42141675,42141675,42141534],[42141371,42141396,42141396,42141371],[42141152,42141367,42141367,42141152],[42140555,42140696,42140696,42140555],[42140205,42140281,42140281,42140456,42140456,42140281,42140281,42140205],[42154825,42155001,42155001,42154825],[42153029,42153200,42153200,42153029],[42152347,42152499,42152499,42152347],[42152096,42152258,42152258,42152096],[42151472,42151648,42151648,42151472],[42151144,42151285,42151285,42151144],[42150755,42150939,42150939,42150755],[42150163,42150304,42150304,42150163],[42149886,42150064,42150064,42149886],[42132543,42132998,42132998,42132543],[42139612,42139927,42139927,42139612],[42137987,42138105,42138105,42137987],[42136433,42136664,42136664,42136433],[42090931,42091181,42091181,42090931],[42091297,42091600,42091600,42091297],[42092119,42092232,42092232,42092119],[42124047,42124562,42124562,42124047],[42124875,42125407,42125407,42124875],[42136199,42136714,42136714,42136199],[42137027,42137742,42137742,42137027],[42091204,42091600,42091600,42091204],[42112306,42112390,42112390,42112306],[42122793,42122888,42122888,42122793],[42124047,42124130,42124130,42124047],[42124477,42124562,42124562,42124477],[42124875,42124959,42124959,42124875],[42091352,42091600,42091600,42091352],[42122793,42122888,42122888,42122793],[42123526,42123591,42123591,42123526],[42123766,42123804,42123804,42123766],[42124047,42124130,42124130,42124047],[42124520,42124562,42124562,42124520],[42124875,42124959,42124959,42124875],[42132031,42132190,42132190,42132031],[42132370,42132602,42132602,42132370],[42133040,42133090,42133090,42133040],[42135135,42135239,42135239,42135135],[42135678,42135743,42135743,42135678],[42136199,42136282,42136282,42136199],[42136672,42136714,42136714,42136672],[42137027,42137050,42137050,42137027],[42138060,42138282,42138282,42138060],[42139319,42139726,42139726,42139319]],\"y\":[[4.35,4.35,4.175,4.175,3.825,3.825,3.65,3.65],[4.35,4.35,3.65,3.65],[4.35,4.35,3.65,3.65],[4.35,4.35,3.65,3.65],[4.35,4.35,3.65,3.65],[4.35,4.35,3.65,3.65],[4.35,4.35,3.65,3.65],[4.35,4.35,3.65,3.65],[4.175,4.175,4.35,4.35,3.65,3.65,3.825,3.825],[2.35,2.35,2.175,2.175,1.825,1.825,1.65,1.65],[2.35,2.35,1.65,1.65],[2.35,2.35,1.65,1.65],[2.35,2.35,1.65,1.65],[2.35,2.35,1.65,1.65],[2.35,2.35,1.65,1.65],[2.35,2.35,1.65,1.65],[2.35,2.35,1.65,1.65],[2.35,2.35,1.65,1.65],[2.175,2.175,2.35,2.35,1.65,1.65,1.825,1.825],[0.35,0.35,0.175,0.175,-0.175,-0.175,-0.35,-0.35],[0.35,0.35,-0.35,-0.35],[0.35,0.35,-0.35,-0.35],[0.35,0.35,-0.35,-0.35],[0.35,0.35,-0.35,-0.35],[0.35,0.35,-0.35,-0.35],[0.35,0.35,-0.35,-0.35],[0.175,0.175,0.35,0.35,-0.35,-0.35,-0.175,-0.175],[4.35,4.35,4.175,4.175,3.825,3.825,3.65,3.65],[4.35,4.35,3.65,3.65],[4.35,4.35,3.65,3.65],[4.175,4.175,4.35,4.35,3.65,3.65,3.825,3.825],[4.175,4.175,3.825,3.825],[2.35,2.35,2.175,2.175,1.825,1.825,1.65,1.65],[2.35,2.35,1.65,1.65],[2.35,2.35,1.65,1.65],[2.175,2.175,2.35,2.35,1.65,1.65,1.825,1.825],[0.35,0.35,-0.35,-0.35],[0.35,0.35,-0.35,-0.35],[0.35,0.35,-0.35,-0.35],[0.175,0.175,0.35,0.35,-0.35,-0.35,-0.175,-0.175],[0.175,0.175,-0.175,-0.175],[0.35,0.35,0.175,0.175,-0.175,-0.175,-0.35,-0.35],[0.35,0.35,-0.35,-0.35],[0.35,0.35,-0.35,-0.35],[0.35,0.35,-0.35,-0.35],[0.35,0.35,-0.35,-0.35],[0.35,0.35,-0.35,-0.35],[0.35,0.35,-0.35,-0.35],[0.35,0.35,-0.35,-0.35],[0.175,0.175,0.35,0.35,-0.35,-0.35,-0.175,-0.175],[6.35,6.35,6.175,6.175,5.825,5.825,5.65,5.65],[6.35,6.35,5.65,5.65],[6.35,6.35,5.65,5.65],[6.35,6.35,5.65,5.65],[6.35,6.35,5.65,5.65],[6.35,6.35,5.65,5.65],[6.35,6.35,5.65,5.65],[6.35,6.35,5.65,5.65],[6.175,6.175,6.35,6.35,5.65,5.65,5.825,5.825],[2.35,2.35,2.175,2.175,1.825,1.825,1.65,1.65],[2.35,2.35,1.65,1.65],[2.35,2.35,1.65,1.65],[2.35,2.35,1.65,1.65],[2.35,2.35,1.65,1.65],[2.35,2.35,1.65,1.65],[2.35,2.35,1.65,1.65],[2.35,2.35,1.65,1.65],[2.175,2.175,2.35,2.35,1.65,1.65,1.825,1.825],[4.35,4.35,4.175,4.175,3.825,3.825,3.65,3.65],[4.35,4.35,3.65,3.65],[4.35,4.35,3.65,3.65],[4.35,4.35,3.65,3.65],[4.35,4.35,3.65,3.65],[4.35,4.35,3.65,3.65],[4.35,4.35,3.65,3.65],[4.35,4.35,3.65,3.65],[4.35,4.35,3.65,3.65],[4.35,4.35,3.65,3.65],[4.175,4.175,4.35,4.35,3.65,3.65,3.825,3.825],[0.175,0.175,-0.175,-0.175],[0.175,0.175,-0.175,-0.175],[0.175,0.175,-0.175,-0.175],[0.175,0.175,-0.175,-0.175],[0.175,0.175,-0.175,-0.175],[0.175,0.175,-0.175,-0.175],[0.175,0.175,-0.175,-0.175],[0.175,0.175,-0.175,-0.175],[0.175,0.175,-0.175,-0.175],[0.175,0.175,-0.175,-0.175],[2.175,2.175,1.825,1.825],[2.175,2.175,1.825,1.825],[2.175,2.175,1.825,1.825],[6.175,6.175,5.825,5.825],[6.175,6.175,5.825,5.825],[6.175,6.175,5.825,5.825],[6.175,6.175,5.825,5.825],[6.175,6.175,5.825,5.825],[6.175,6.175,5.825,5.825],[6.175,6.175,5.825,5.825],[2.175,2.175,1.825,1.825],[2.175,2.175,1.825,1.825],[2.175,2.175,1.825,1.825],[2.175,2.175,1.825,1.825],[2.175,2.175,1.825,1.825],[2.175,2.175,1.825,1.825],[0.175,0.175,-0.175,-0.175],[0.175,0.175,-0.175,-0.175],[0.175,0.175,-0.175,-0.175],[0.175,0.175,-0.175,-0.175],[0.175,0.175,-0.175,-0.175],[0.175,0.175,-0.175,-0.175],[0.175,0.175,-0.175,-0.175],[4.175,4.175,3.825,3.825],[4.175,4.175,3.825,3.825],[4.175,4.175,3.825,3.825],[4.175,4.175,3.825,3.825],[4.175,4.175,3.825,3.825],[4.175,4.175,3.825,3.825],[4.175,4.175,3.825,3.825],[4.175,4.175,3.825,3.825],[0.175,0.175,-0.175,-0.175],[0.175,0.175,-0.175,-0.175]]},\"selected\":{\"id\":\"1073\",\"type\":\"Selection\"},\"selection_policy\":{\"id\":\"1074\",\"type\":\"UnionRenderers\"}},\"id\":\"1002\",\"type\":\"ColumnDataSource\"},{\"attributes\":{\"angle\":{\"field\":\"angle\",\"units\":\"deg\"},\"text\":{\"value\":\"v\"},\"text_align\":\"center\",\"text_alpha\":{\"value\":0.1},\"text_baseline\":\"middle\",\"text_color\":{\"value\":\"black\"},\"text_font\":\"sans-serif\",\"text_font_size\":{\"value\":\"5pt\"},\"text_font_style\":\"bold\",\"x\":{\"field\":\"x\"},\"y\":{\"field\":\"y\"}},\"id\":\"1042\",\"type\":\"Text\"},{\"attributes\":{\"tickers\":[{\"id\":\"1055\",\"type\":\"AdaptiveTicker\"},{\"id\":\"1056\",\"type\":\"AdaptiveTicker\"},{\"id\":\"1057\",\"type\":\"AdaptiveTicker\"},{\"id\":\"1058\",\"type\":\"AdaptiveTicker\"},{\"id\":\"1059\",\"type\":\"AdaptiveTicker\"}]},\"id\":\"1060\",\"type\":\"CompositeTicker\"},{\"attributes\":{\"axis_label\":\"22\",\"formatter\":{\"id\":\"1062\",\"type\":\"NumeralTickFormatter\"},\"ticker\":{\"id\":\"1060\",\"type\":\"CompositeTicker\"}},\"id\":\"1014\",\"type\":\"LinearAxis\"},{\"attributes\":{\"data_source\":{\"id\":\"1003\",\"type\":\"ColumnDataSource\"},\"glyph\":{\"id\":\"1041\",\"type\":\"Text\"},\"hover_glyph\":null,\"muted_glyph\":null,\"name\":\"introns\",\"nonselection_glyph\":{\"id\":\"1042\",\"type\":\"Text\"},\"selection_glyph\":null,\"view\":{\"id\":\"1044\",\"type\":\"CDSView\"}},\"id\":\"1043\",\"type\":\"GlyphRenderer\"},{\"attributes\":{},\"id\":\"1074\",\"type\":\"UnionRenderers\"},{\"attributes\":{},\"id\":\"1062\",\"type\":\"NumeralTickFormatter\"},{\"attributes\":{\"grid_line_color\":null,\"ticker\":{\"id\":\"1015\",\"type\":\"BasicTicker\"}},\"id\":\"1018\",\"type\":\"Grid\"},{\"attributes\":{\"source\":{\"id\":\"1003\",\"type\":\"ColumnDataSource\"}},\"id\":\"1044\",\"type\":\"CDSView\"},{\"attributes\":{\"args\":{\"source\":{\"id\":\"1003\",\"type\":\"ColumnDataSource\"}},\"code\":\"\\nvar start = cb_obj.start;\\nvar end = cb_obj.end;\\nvar width = end - start;\\nvar threshold = 0.010000 * width;     // threshold factor is set from python-side configuration\\nvar intron_alpha = 1.000000;          // alpha value is set from python-side configuration\\n\\n// iterate over each intron\\nvar data = source.data;\\nfor (i=0; i<data[\\\"x\\\"].length; i++)\\n{\\n    // if the screen-space width is large enough, make the intron visible\\n    if(data[\\\"width\\\"][i] >= threshold)\\n        data[\\\"alpha\\\"][i] = intron_alpha;\\n    else\\n    // otherwise, make the intron fully transparent\\n        data[\\\"alpha\\\"][i] = 0;\\n}\\n\\nsource.change.emit();\\n\"},\"id\":\"1064\",\"type\":\"CustomJS\"},{\"attributes\":{\"formatter\":{\"id\":\"1067\",\"type\":\"BasicTickFormatter\"},\"ticker\":{\"id\":\"1020\",\"type\":\"BasicTicker\"},\"visible\":false},\"id\":\"1019\",\"type\":\"LinearAxis\"},{\"attributes\":{},\"id\":\"1067\",\"type\":\"BasicTickFormatter\"},{\"attributes\":{},\"id\":\"1020\",\"type\":\"BasicTicker\"},{\"attributes\":{\"fill_color\":{\"field\":\"color\"},\"line_color\":{\"value\":null},\"xs\":{\"field\":\"x\"},\"ys\":{\"field\":\"y\"}},\"id\":\"1046\",\"type\":\"Patches\"},{\"attributes\":{\"bottom_units\":\"screen\",\"fill_alpha\":{\"value\":0.5},\"fill_color\":{\"value\":\"lightgrey\"},\"left_units\":\"screen\",\"level\":\"overlay\",\"line_alpha\":{\"value\":1.0},\"line_color\":{\"value\":\"black\"},\"line_dash\":[4,4],\"line_width\":{\"value\":2},\"render_mode\":\"css\",\"right_units\":\"screen\",\"top_units\":\"screen\"},\"id\":\"1077\",\"type\":\"BoxAnnotation\"},{\"attributes\":{},\"id\":\"1071\",\"type\":\"Selection\"},{\"attributes\":{},\"id\":\"1075\",\"type\":\"Selection\"},{\"attributes\":{\"dimension\":1,\"grid_line_color\":null,\"ticker\":{\"id\":\"1020\",\"type\":\"BasicTicker\"}},\"id\":\"1023\",\"type\":\"Grid\"},{\"attributes\":{\"fill_alpha\":{\"value\":0.1},\"fill_color\":{\"value\":\"#1f77b4\"},\"line_alpha\":{\"value\":0.1},\"line_color\":{\"value\":\"#1f77b4\"},\"xs\":{\"field\":\"x\"},\"ys\":{\"field\":\"y\"}},\"id\":\"1047\",\"type\":\"Patches\"},{\"attributes\":{\"text\":\"\"},\"id\":\"1065\",\"type\":\"Title\"},{\"attributes\":{\"callback\":{\"id\":\"1064\",\"type\":\"CustomJS\"},\"end\":42215442,\"start\":42090931},\"id\":\"1006\",\"type\":\"Range1d\"},{\"attributes\":{\"data_source\":{\"id\":\"1002\",\"type\":\"ColumnDataSource\"},\"glyph\":{\"id\":\"1046\",\"type\":\"Patches\"},\"hover_glyph\":null,\"muted_glyph\":null,\"name\":\"exons\",\"nonselection_glyph\":{\"id\":\"1047\",\"type\":\"Patches\"},\"selection_glyph\":null,\"view\":{\"id\":\"1049\",\"type\":\"CDSView\"}},\"id\":\"1048\",\"type\":\"GlyphRenderer\"},{\"attributes\":{\"line_color\":{\"value\":\"Black\"},\"x0\":{\"field\":\"x0\"},\"x1\":{\"field\":\"x1\"},\"y0\":{\"field\":\"y0\"},\"y1\":{\"field\":\"y1\"}},\"id\":\"1036\",\"type\":\"Segment\"},{\"attributes\":{\"dimensions\":\"width\"},\"id\":\"1024\",\"type\":\"PanTool\"},{\"attributes\":{},\"id\":\"1069\",\"type\":\"Selection\"},{\"attributes\":{\"source\":{\"id\":\"1002\",\"type\":\"ColumnDataSource\"}},\"id\":\"1049\",\"type\":\"CDSView\"},{\"attributes\":{\"active_drag\":\"auto\",\"active_inspect\":\"auto\",\"active_multi\":null,\"active_scroll\":{\"id\":\"1025\",\"type\":\"WheelZoomTool\"},\"active_tap\":\"auto\",\"tools\":[{\"id\":\"1024\",\"type\":\"PanTool\"},{\"id\":\"1025\",\"type\":\"WheelZoomTool\"},{\"id\":\"1026\",\"type\":\"BoxZoomTool\"},{\"id\":\"1027\",\"type\":\"SaveTool\"},{\"id\":\"1028\",\"type\":\"ResetTool\"}]},\"id\":\"1029\",\"type\":\"Toolbar\"},{\"attributes\":{\"callback\":null,\"end\":-1.5,\"start\":7},\"id\":\"1008\",\"type\":\"Range1d\"},{\"attributes\":{},\"id\":\"1070\",\"type\":\"UnionRenderers\"},{\"attributes\":{\"dimensions\":\"width\"},\"id\":\"1025\",\"type\":\"WheelZoomTool\"},{\"attributes\":{\"text\":{\"field\":\"label\"},\"text_align\":\"center\",\"text_baseline\":\"middle\",\"text_color\":{\"value\":\"black\"},\"text_font\":\"monospace\",\"text_font_size\":{\"value\":\"6pt\"},\"x\":{\"field\":\"x\"},\"y\":{\"field\":\"y\"},\"y_offset\":{\"value\":4}},\"id\":\"1051\",\"type\":\"Text\"},{\"attributes\":{\"dimensions\":\"width\",\"overlay\":{\"id\":\"1077\",\"type\":\"BoxAnnotation\"}},\"id\":\"1026\",\"type\":\"BoxZoomTool\"},{\"attributes\":{\"text\":{\"field\":\"label\"},\"text_align\":\"center\",\"text_alpha\":{\"value\":0.1},\"text_baseline\":\"middle\",\"text_color\":{\"value\":\"black\"},\"text_font\":\"monospace\",\"text_font_size\":{\"value\":\"6pt\"},\"x\":{\"field\":\"x\"},\"y\":{\"field\":\"y\"}},\"id\":\"1052\",\"type\":\"Text\"},{\"attributes\":{\"callback\":null,\"data\":{\"index\":[0,1,2,3,4,5,6,7,8,9,10,11,12,13,14,15,16,17],\"label\":[\"CYP2D6-203\",\"CYP2D6-204\",\"CYP2D6-201\",\"TCF20-202\",\"TCF20-201\",\"TCF20-203\",\"CYP2D7-201\",\"CYP2D7-203\",\"CYP2D7-208\",\"CYP2D7-207\",\"CYP2D8P-201\",\"AC254562.1-201\",\"AC254562.2-201\",\"NDUFA6-AS1-203\",\"NDUFA6-AS1-207\",\"NDUFA6-AS1-208\",\"NDUFA6-AS1-216\",\"AC254562.3-201\"],\"x\":[42128702.5,42128691.0,42128710.5,42187727.5,42188248.0,42185653.0,42142376.0,42142390.0,42142379.5,42142391.0,42152443.5,42132770.5,42138180.0,42114336.5,42108081.5,42108155.5,42134540.5,42138893.0],\"y\":[3,1,-1,3,1,-1,-1,5,1,3,-1,-1,1,5,1,-1,3,-1]},\"selected\":{\"id\":\"1075\",\"type\":\"Selection\"},\"selection_policy\":{\"id\":\"1076\",\"type\":\"UnionRenderers\"}},\"id\":\"1004\",\"type\":\"ColumnDataSource\"},{\"attributes\":{},\"id\":\"1027\",\"type\":\"SaveTool\"},{\"attributes\":{\"data_source\":{\"id\":\"1004\",\"type\":\"ColumnDataSource\"},\"glyph\":{\"id\":\"1051\",\"type\":\"Text\"},\"hover_glyph\":null,\"muted_glyph\":null,\"name\":\"transcript_labels\",\"nonselection_glyph\":{\"id\":\"1052\",\"type\":\"Text\"},\"selection_glyph\":null,\"view\":{\"id\":\"1054\",\"type\":\"CDSView\"}},\"id\":\"1053\",\"type\":\"GlyphRenderer\"},{\"attributes\":{\"callback\":null,\"data\":{\"alpha\":{\"__ndarray__\":\"AAAAAAAAAAAAAAAAAAAAAAAAAAAAAAAAAAAAAAAAAAAAAAAAAAAAAAAAAAAAAAAAAAAAAAAAAAAAAAAAAAAAAAAAAAAAAAAAAAAAAAAAAAAAAAAAAAAAAAAAAAAAAAAAAAAAAAAAAAAAAAAAAAAAAAAAAAAAAAAAAAAAAAAAAAAAAAAAAAAAAAAAAAAAAAAAAAAAAAAAAAAAAAAAAAAAAAAAAAAAAAAAAAAAAAAAAAAAAAAAAAAAAAAAAAAAAAAAAAAAAAAA8D8AAAAAAAAAAAAAAAAAAPA/AAAAAAAA8D8AAAAAAADwPwAAAAAAAPA/AAAAAAAA8D8AAAAAAADwPwAAAAAAAAAAAAAAAAAA8D8AAAAAAADwPwAAAAAAAAAAAAAAAAAAAAAAAAAAAAAAAAAAAAAAAAAAAAAAAAAAAAAAAAAAAAAAAAAAAAAAAAAAAAAAAAAAAAAAAAAAAAAAAAAAAAAAAAAAAAAAAAAAAAAAAAAAAAAAAAAAAAAAAAAAAAAAAAAAAAAAAAAAAAAAAAAAAAAAAAAAAAAAAAAAAAAAAAAAAAAAAAAAAAAAAAAAAAAAAAAAAAAAAAAAAAAAAAAAAAAAAAAAAAAAAAAAAAAAAAAAAAAAAAAAAAAAAAAAAAAAAAAAAAAAAAAAAAAAAAAAAAAAAAAAAAAAAAAAAAAAAAAAAAAAAAAAAAAAAAAAAAAAAAAAAAAAAAAAAAAAAAAAAAAAAAAAAAAAAAAAAAAAAAAAAAAAAAAAAAAAAAAAAAAAAAAAAAAAAAAAAAAAAAAAAAAAAAAAAAAAAAAAAAAAAAAAAADwPwAAAAAAAPA/AAAAAAAA8D8AAAAAAAAAAAAAAAAAAAAAAAAAAAAA8D8AAAAAAAAAAAAAAAAAAPA/AAAAAAAAAAAAAAAAAADwPwAAAAAAAPA/AAAAAAAAAAAAAAAAAAAAAAAAAAAAAAAAAAAAAAAA8D8AAAAAAAAAAAAAAAAAAAAAAAAAAAAAAAAAAAAAAAAAAAAAAAAAAAAAAAAAAAAAAAAAAAAAAAAAAAAAAAAAAPA/AAAAAAAAAAAAAAAAAAAAAAAAAAAAAAAAAAAAAAAAAAAAAAAAAAAAAA==\",\"dtype\":\"float64\",\"shape\":[104]},\"angle\":{\"__ndarray__\":\"AAAAAACAVsAAAAAAAIBWwAAAAAAAgFbAAAAAAACAVsAAAAAAAIBWwAAAAAAAgFbAAAAAAACAVsAAAAAAAIBWwAAAAAAAgFbAAAAAAACAVsAAAAAAAIBWwAAAAAAAgFbAAAAAAACAVsAAAAAAAIBWwAAAAAAAgFbAAAAAAACAVsAAAAAAAIBWwAAAAAAAgFbAAAAAAACAVsAAAAAAAIBWwAAAAAAAgFbAAAAAAACAVsAAAAAAAIBWwAAAAAAAgFbAAAAAAACAVsAAAAAAAIBWwAAAAAAAgFbAAAAAAACAVsAAAAAAAIBWwAAAAAAAgFbAAAAAAACAVsAAAAAAAIBWwAAAAAAAgFbAAAAAAACAVsAAAAAAAIBWwAAAAAAAgFbAAAAAAACAVsAAAAAAAIBWwAAAAAAAgFbAAAAAAACAVsAAAAAAAIBWwAAAAAAAgFbAAAAAAACAVsAAAAAAAIBWwAAAAAAAgFbAAAAAAACAVsAAAAAAAIBWwAAAAAAAgFbAAAAAAACAVsAAAAAAAIBWwAAAAAAAgFbAAAAAAACAVsAAAAAAAIBWwAAAAAAAgFbAAAAAAACAVsAAAAAAAIBWwAAAAAAAgFbAAAAAAACAVsAAAAAAAIBWwAAAAAAAgFbAAAAAAACAVsAAAAAAAIBWwAAAAAAAgFbAAAAAAACAVsAAAAAAAIBWwAAAAAAAgFbAAAAAAACAVsAAAAAAAIBWwAAAAAAAgFbAAAAAAACAVsAAAAAAAIBWwAAAAAAAgFbAAAAAAACAVsAAAAAAAIBWwAAAAAAAgFbAAAAAAACAVsAAAAAAAIBWwAAAAAAAgFbAAAAAAACAVsAAAAAAAIBWQAAAAAAAgFZAAAAAAACAVkAAAAAAAIBWQAAAAAAAgFZAAAAAAACAVkAAAAAAAIBWQAAAAAAAgFZAAAAAAACAVkAAAAAAAIBWQAAAAAAAgFZAAAAAAACAVkAAAAAAAIBWQAAAAAAAgFZAAAAAAACAVkAAAAAAAIBWQAAAAAAAgFZAAAAAAACAVkAAAAAAAIBWQAAAAAAAgFZAAAAAAACAVkAAAAAAAIBWQAAAAAAAgFZAAAAAAACAVkAAAAAAAIBWQA==\",\"dtype\":\"float64\",\"shape\":[104]},\"index\":[0,1,2,3,4,5,6,7,8,9,10,11,12,13,14,15,16,17,18,19,20,21,22,23,24,25,26,27,28,29,30,31,32,33,34,35,36,37,38,39,40,41,42,43,44,45,46,47,48,49,50,51,52,53,54,55,56,57,58,59,60,61,62,63,64,65,66,67,68,69,70,71,72,73,74,75,76,77,78,79,80,81,82,83,84,85,86,87,88,89,90,91,92,93,94,95,96,97,98,99,100,101,102,103],\"width\":{\"__ndarray__\":\"AAAAAADAWEAAAAAAAHB8QAAAAAAAAGpAAAAAAADgZ0AAAAAAACB7QAAAAAAAQFZAAAAAAABIgUAAAAAAAPiFQAAAAAAAwFhAAAAAAABwfEAAAAAAAMBdQAAAAAAAgEBAAAAAAADgZ0AAAAAAACB7QAAAAAAAQFZAAAAAAABIgUAAAAAAAPiFQAAAAAAAwFhAAAAAAABwfEAAAAAAAABqQAAAAAAA4GdAAAAAAAAge0AAAAAAANCIQAAAAAAA+IVAAAAAAABTvEAAAAAAAFyRQAAAAACA+MJAAAAAAEA/3UAAAAAAgJTAQAAAAACA+MJAAAAAAEA/3UAAAAAAAFO8QAAAAAAA4JFAAAAAAID4wkAAAAAAQD/dQAAAAAAAwFhAAAAAAACAfEAAAAAAAGBoQAAAAAAAIGhAAAAAAAAwe0AAAAAAAEBWQAAAAAAAkIBAAAAAAAD4hUAAAAAAAMBYQAAAAAAAgHxAAAAAAABAYUAAAAAAACBoQAAAAAAAMHtAAAAAAABAVkAAAAAAAJCAQAAAAAAA+IVAAAAAAADAWEAAAAAAAIB8QAAAAAAAYGhAAAAAAAAgaEAAAAAAADB7QAAAAAAAGIhAAAAAAAD4hUAAAAAAAAAAQAAAAAAAwFhAAAAAAACAfEAAAAAAAAAQQAAAAAAAQGFAAAAAAAAgaEAAAAAAADB7QAAAAAAAQFZAAAAAAACQgEAAAAAAAPiFQAAAAAAAAABAAAAAAADAWEAAAAAAADB8QAAAAAAAoGlAAAAAAABgZ0AAAAAAAAB8QAAAAAAAQFZAAAAAAACQgEAAAAAAAGSZQAAAAAAArJRAAAAAAACMl0AAAAAAAABdQAAAAAAAOIBAAAAAAMAR30AAAAAAAJBzQAAAAAAAFMVAAAAAAACQc0AAAAAAgDjUQAAAAACAUcRAAAAAAAAckkAAAAAAALB1QAAAAAAAkHNAAAAAAEB23kAAAAAAAPCDQAAAAAAA4GVAAAAAAABgbkAAAAAAAGB4QAAAAAAAkHNAAAAAAACAZkAAAAAAAGB7QAAAAAAA9J9AAAAAAABwe0AAAAAAAIB8QAAAAAAAYHhAAAAAAACQc0AAAAAAADSQQA==\",\"dtype\":\"float64\",\"shape\":[104]},\"x\":{\"__ndarray__\":\"AAAAjG4WhEEAAACcexaEQQAAANCLFoRBAAAAdJYWhEEAAAC4pRaEQQAAAOSyFoRBAAAArMEWhEEAAACk2haEQQAAAIxuFoRBAAAAnHsWhEEAAABMixaEQQAAAIyOFoRBAAAAdJYWhEEAAAC4pRaEQQAAAOSyFoRBAAAArMEWhEEAAACk2haEQQAAAIxuFoRBAAAAnHsWhEEAAADQixaEQQAAAHSWFoRBAAAAuKUWhEEAAADovRaEQQAAAKTaFoRBAAAAvBcbhEEAAABcnhuEQQAAAARJHIRBAAAApLcehEEAAAAUKxuEQQAAAARJHIRBAAAApLcehEEAAAC8FxuEQQAAANidG4RBAAAABEkchEEAAACktx6EQQAAAMwaGIRBAAAA4CcYhEEAAADkNxiEQQAAAFxCGIRBAAAArFEYhEEAAADcXhiEQQAAAEhtGIRBAAAA5IUYhEEAAADMGhiEQQAAAOAnGIRBAAAAyDgYhEEAAABcQhiEQQAAAKxRGIRBAAAA3F4YhEEAAABIbRiEQQAAAOSFGIRBAAAAzBoYhEEAAADgJxiEQQAAAOQ3GIRBAAAAXEIYhEEAAACsURiEQQAAAIRpGIRBAAAA5IUYhEEAAABIkhiEQQAAAMwaGIRBAAAA4CcYhEEAAADINRiEQQAAAMg4GIRBAAAAXEIYhEEAAACsURiEQQAAANxeGIRBAAAASG0YhEEAAADkhRiEQQAAAEiSGIRBAAAADEcZhEEAAAAMVBmEQQAAAAxkGYRBAAAAlG4ZhEEAAAAAfhmEQQAAAHSLGYRBAAAA4JkZhEEAAADkwBmEQQAAAGy3F4RBAAAAVOcXhEEAAAA4FxKEQQAAAJwqEoRBAAAAXCcUhEEAAAB0LRaEQQAAAJjrFoRBAAAANKkXhEEAAAAIZhOEQQAAALxOFYRBAAAAXAYWhEEAAAB8IBaEQQAAAHQtFoRBAAAA5AkUhEEAAAA4/hWEQQAAAPQMFoRBAAAArBQWhEEAAAAoIRaEQQAAAHQtFoRBAAAAwBkXhEEAAACoKheEQQAAAARTF4RBAAAAFH0XhEEAAAAYjReEQQAAAOicF4RBAAAANKkXhEEAAACE5ReEQQ==\",\"dtype\":\"float64\",\"shape\":[104]},\"y\":{\"__ndarray__\":\"AAAAAAAAEEAAAAAAAAAQQAAAAAAAABBAAAAAAAAAEEAAAAAAAAAQQAAAAAAAABBAAAAAAAAAEEAAAAAAAAAQQAAAAAAAAABAAAAAAAAAAEAAAAAAAAAAQAAAAAAAAABAAAAAAAAAAEAAAAAAAAAAQAAAAAAAAABAAAAAAAAAAEAAAAAAAAAAQAAAAAAAAAAAAAAAAAAAAAAAAAAAAAAAAAAAAAAAAAAAAAAAAAAAAAAAAAAAAAAAAAAAAAAAAAAAAAAAAAAAEEAAAAAAAAAQQAAAAAAAABBAAAAAAAAAEEAAAAAAAAAAQAAAAAAAAABAAAAAAAAAAEAAAAAAAAAAAAAAAAAAAAAAAAAAAAAAAAAAAAAAAAAAAAAAAAAAAAAAAAAAAAAAAAAAAAAAAAAAAAAAAAAAAAAAAAAAAAAAAAAAAAAAAAAAAAAAAAAAAAAAAAAAAAAAAAAAAAAAAAAYQAAAAAAAABhAAAAAAAAAGEAAAAAAAAAYQAAAAAAAABhAAAAAAAAAGEAAAAAAAAAYQAAAAAAAABhAAAAAAAAAAEAAAAAAAAAAQAAAAAAAAABAAAAAAAAAAEAAAAAAAAAAQAAAAAAAAABAAAAAAAAAAEAAAAAAAAAAQAAAAAAAABBAAAAAAAAAEEAAAAAAAAAQQAAAAAAAABBAAAAAAAAAEEAAAAAAAAAQQAAAAAAAABBAAAAAAAAAEEAAAAAAAAAQQAAAAAAAABBAAAAAAAAAAAAAAAAAAAAAAAAAAAAAAAAAAAAAAAAAAAAAAAAAAAAAAAAAAAAAAAAAAAAAAAAAAAAAAAAAAAAAAAAAAAAAAABAAAAAAAAAAEAAAAAAAAAYQAAAAAAAABhAAAAAAAAAGEAAAAAAAAAYQAAAAAAAABhAAAAAAAAAGEAAAAAAAAAAQAAAAAAAAABAAAAAAAAAAEAAAAAAAAAAQAAAAAAAAABAAAAAAAAAAAAAAAAAAAAAAAAAAAAAAAAAAAAAAAAAAAAAAAAAAAAAAAAAAAAAAAAAAAAAAAAAEEAAAAAAAAAQQAAAAAAAABBAAAAAAAAAEEAAAAAAAAAQQAAAAAAAABBAAAAAAAAAEEAAAAAAAAAAAA==\",\"dtype\":\"float64\",\"shape\":[104]}},\"selected\":{\"id\":\"1071\",\"type\":\"Selection\"},\"selection_policy\":{\"id\":\"1072\",\"type\":\"UnionRenderers\"}},\"id\":\"1003\",\"type\":\"ColumnDataSource\"},{\"attributes\":{},\"id\":\"1028\",\"type\":\"ResetTool\"},{\"attributes\":{\"source\":{\"id\":\"1004\",\"type\":\"ColumnDataSource\"}},\"id\":\"1054\",\"type\":\"CDSView\"},{\"attributes\":{},\"id\":\"1072\",\"type\":\"UnionRenderers\"},{\"attributes\":{\"line_alpha\":{\"value\":0.1},\"line_color\":{\"value\":\"#1f77b4\"},\"x0\":{\"field\":\"x0\"},\"x1\":{\"field\":\"x1\"},\"y0\":{\"field\":\"y0\"},\"y1\":{\"field\":\"y1\"}},\"id\":\"1037\",\"type\":\"Segment\"},{\"attributes\":{\"callback\":null,\"data\":{\"index\":[0,1,2,3,4,5,6,7,8,9,10,11,12,13,14,15,16,17],\"x0\":[42126499,42126501,42126556,42160013,42161056,42161098,42140203,42140203,42140205,42140205,42149886,42132543,42136433,42090931,42091204,42091352,42132031,42138060],\"x1\":[42130906,42130881,42130865,42215442,42215440,42210208,42144549,42144577,42144554,42144577,42155001,42132998,42139927,42137742,42124959,42124959,42137050,42139726],\"y0\":[4,2,0,4,2,0,0,6,2,4,0,0,2,6,2,0,4,0],\"y1\":[4,2,0,4,2,0,0,6,2,4,0,0,2,6,2,0,4,0]},\"selected\":{\"id\":\"1069\",\"type\":\"Selection\"},\"selection_policy\":{\"id\":\"1070\",\"type\":\"UnionRenderers\"}},\"id\":\"1001\",\"type\":\"ColumnDataSource\"},{\"attributes\":{\"data_source\":{\"id\":\"1001\",\"type\":\"ColumnDataSource\"},\"glyph\":{\"id\":\"1036\",\"type\":\"Segment\"},\"hover_glyph\":null,\"muted_glyph\":null,\"name\":\"transcripts\",\"nonselection_glyph\":{\"id\":\"1037\",\"type\":\"Segment\"},\"selection_glyph\":null,\"view\":{\"id\":\"1039\",\"type\":\"CDSView\"}},\"id\":\"1038\",\"type\":\"GlyphRenderer\"}],\"root_ids\":[\"1005\"]},\"title\":\"Bokeh Application\",\"version\":\"1.2.0\"}};\n",
       "  var render_items = [{\"docid\":\"e54f2814-21fa-4e8c-ac00-94000435450c\",\"roots\":{\"1005\":\"d51d3be1-e2a0-4eb5-a6e7-6d8382261284\"}}];\n",
       "  root.Bokeh.embed.embed_items_notebook(docs_json, render_items);\n",
       "\n",
       "  }\n",
       "  if (root.Bokeh !== undefined) {\n",
       "    embed_document(root);\n",
       "  } else {\n",
       "    var attempts = 0;\n",
       "    var timer = setInterval(function(root) {\n",
       "      if (root.Bokeh !== undefined) {\n",
       "        embed_document(root);\n",
       "        clearInterval(timer);\n",
       "      }\n",
       "      attempts++;\n",
       "      if (attempts > 100) {\n",
       "        console.log(\"Bokeh: ERROR: Unable to run BokehJS code because BokehJS library is missing\");\n",
       "        clearInterval(timer);\n",
       "      }\n",
       "    }, 10, root)\n",
       "  }\n",
       "})(window);"
      ],
      "application/vnd.bokehjs_exec.v0+json": ""
     },
     "metadata": {
      "application/vnd.bokehjs_exec.v0+json": {
       "id": "1005"
      }
     },
     "output_type": "display_data"
    }
   ],
   "source": [
    "fig = make_plot(transcripts_from_pyensembl(genome, \"chr22\", 42124000, 42180000))\n",
    "show(fig.figure)"
   ]
  },
  {
   "cell_type": "markdown",
   "metadata": {},
   "source": [
    "# Do the same using GFFUtils as the data source\n",
    "\n",
    "**note** - requires [GFFUtils](https://github.com/daler/gffutils)"
   ]
  },
  {
   "cell_type": "code",
   "execution_count": 6,
   "metadata": {},
   "outputs": [],
   "source": [
    "import gffutils\n",
    "import sqlite3\n",
    "\n",
    "from gene_viz.utils import transcripts_from_gffutils"
   ]
  },
  {
   "cell_type": "markdown",
   "metadata": {},
   "source": [
    "## Set up a GFFUtils database using the same annotation data"
   ]
  },
  {
   "cell_type": "code",
   "execution_count": 7,
   "metadata": {},
   "outputs": [],
   "source": [
    "# note:\n",
    "# database creation using gffutils is slower than pyensembl on the same dataset,\n",
    "# so be patient\n",
    "try:\n",
    "    gffutils.create_db(\n",
    "        \"gencode.v27.basic.annotation.gtf.gz\",\n",
    "        \"gencode.v27.basic.sqlite\",\n",
    "        keep_order=True,\n",
    "        disable_infer_genes=True, disable_infer_transcripts=True)\n",
    "except (sqlite3.OperationalError, AttributeError):\n",
    "    pass"
   ]
  },
  {
   "cell_type": "code",
   "execution_count": 8,
   "metadata": {},
   "outputs": [],
   "source": [
    "# connect\n",
    "db = gffutils.FeatureDB(\"gencode.v27.basic.sqlite\")"
   ]
  },
  {
   "cell_type": "markdown",
   "metadata": {},
   "source": [
    "## Perform a query and visualize the results"
   ]
  },
  {
   "cell_type": "code",
   "execution_count": 9,
   "metadata": {},
   "outputs": [
    {
     "data": {
      "text/html": [
       "\n",
       "\n",
       "\n",
       "\n",
       "\n",
       "\n",
       "  <div class=\"bk-root\" id=\"df03a1df-1957-414b-ae44-94478e29bd3d\" data-root-id=\"1160\"></div>\n"
      ]
     },
     "metadata": {},
     "output_type": "display_data"
    },
    {
     "data": {
      "application/javascript": [
       "(function(root) {\n",
       "  function embed_document(root) {\n",
       "    \n",
       "  var docs_json = {\"8044b0fd-0fee-4378-863b-ea03975931b6\":{\"roots\":{\"references\":[{\"attributes\":{\"below\":[{\"id\":\"1169\",\"type\":\"LinearAxis\"}],\"center\":[{\"id\":\"1173\",\"type\":\"Grid\"},{\"id\":\"1178\",\"type\":\"Grid\"}],\"left\":[{\"id\":\"1174\",\"type\":\"LinearAxis\"}],\"outline_line_alpha\":{\"value\":0},\"plot_height\":155,\"plot_width\":800,\"renderers\":[{\"id\":\"1193\",\"type\":\"GlyphRenderer\"},{\"id\":\"1198\",\"type\":\"GlyphRenderer\"},{\"id\":\"1203\",\"type\":\"GlyphRenderer\"},{\"id\":\"1208\",\"type\":\"GlyphRenderer\"}],\"title\":{\"id\":\"1233\",\"type\":\"Title\"},\"toolbar\":{\"id\":\"1184\",\"type\":\"Toolbar\"},\"toolbar_location\":\"above\",\"x_range\":{\"id\":\"1161\",\"type\":\"Range1d\"},\"x_scale\":{\"id\":\"1165\",\"type\":\"LinearScale\"},\"y_range\":{\"id\":\"1163\",\"type\":\"Range1d\"},\"y_scale\":{\"id\":\"1167\",\"type\":\"LinearScale\"}},\"id\":\"1160\",\"subtype\":\"Figure\",\"type\":\"Plot\"},{\"attributes\":{},\"id\":\"1170\",\"type\":\"BasicTicker\"},{\"attributes\":{\"text\":{\"field\":\"label\"},\"text_align\":\"center\",\"text_alpha\":{\"value\":0.1},\"text_baseline\":\"middle\",\"text_color\":{\"value\":\"black\"},\"text_font\":\"monospace\",\"text_font_size\":{\"value\":\"6pt\"},\"x\":{\"field\":\"x\"},\"y\":{\"field\":\"y\"}},\"id\":\"1207\",\"type\":\"Text\"},{\"attributes\":{},\"id\":\"1167\",\"type\":\"LinearScale\"},{\"attributes\":{},\"id\":\"1165\",\"type\":\"LinearScale\"},{\"attributes\":{\"dimensions\":\"width\"},\"id\":\"1180\",\"type\":\"WheelZoomTool\"},{\"attributes\":{\"mantissas\":[1,2,3,4,5,6,7,8,9],\"min_interval\":5},\"id\":\"1214\",\"type\":\"AdaptiveTicker\"},{\"attributes\":{\"dimension\":1,\"grid_line_color\":null,\"ticker\":{\"id\":\"1175\",\"type\":\"BasicTicker\"}},\"id\":\"1178\",\"type\":\"Grid\"},{\"attributes\":{\"callback\":null,\"data\":{\"index\":[0,1,2,3,4,5,6,7,8,9,10,11,12,13,14,15,16,17],\"label\":[\"ENST00000439129.5\",\"ENST00000595777.5\",\"ENST00000600968.5\",\"ENST00000621190.1\",\"ENST00000359033.4\",\"ENST00000360608.9\",\"ENST00000389970.7\",\"ENST00000417586.1\",\"ENST00000428786.1\",\"ENST00000626627.1\",\"ENST00000358097.8\",\"ENST00000433992.2\",\"ENST00000612115.1\",\"ENST00000614967.4\",\"ENST00000433633.1\",\"ENST00000335626.8\",\"ENST00000359486.7\",\"ENST00000404876.1\"],\"x\":[42114336.5,42108081.5,42108155.5,42134540.5,42128710.5,42128702.5,42128691.0,42132770.5,42138180.0,42138893.0,42142376.0,42142390.0,42142391.0,42142379.5,42152443.5,42188248.0,42187727.5,42185653.0],\"y\":[5,1,-1,3,-1,3,1,-1,1,-1,-1,5,3,1,-1,1,3,-1]},\"selected\":{\"id\":\"1243\",\"type\":\"Selection\"},\"selection_policy\":{\"id\":\"1244\",\"type\":\"UnionRenderers\"}},\"id\":\"1159\",\"type\":\"ColumnDataSource\"},{\"attributes\":{\"mantissas\":[1,2,3,4,5,6,7,8,9],\"max_interval\":4,\"min_interval\":4,\"num_minor_ticks\":4},\"id\":\"1213\",\"type\":\"AdaptiveTicker\"},{\"attributes\":{\"formatter\":{\"id\":\"1235\",\"type\":\"BasicTickFormatter\"},\"ticker\":{\"id\":\"1175\",\"type\":\"BasicTicker\"},\"visible\":false},\"id\":\"1174\",\"type\":\"LinearAxis\"},{\"attributes\":{},\"id\":\"1175\",\"type\":\"BasicTicker\"},{\"attributes\":{},\"id\":\"1240\",\"type\":\"UnionRenderers\"},{\"attributes\":{\"source\":{\"id\":\"1159\",\"type\":\"ColumnDataSource\"}},\"id\":\"1209\",\"type\":\"CDSView\"},{\"attributes\":{\"text\":\"\"},\"id\":\"1233\",\"type\":\"Title\"},{\"attributes\":{\"callback\":null,\"data\":{\"alpha\":{\"__ndarray__\":\"AAAAAAAAAAAAAAAAAAAAAAAAAAAAAPA/AAAAAAAAAAAAAAAAAADwPwAAAAAAAAAAAAAAAAAA8D8AAAAAAADwPwAAAAAAAAAAAAAAAAAAAAAAAAAAAAAAAAAAAAAAAPA/AAAAAAAAAAAAAAAAAAAAAAAAAAAAAAAAAAAAAAAAAAAAAAAAAAAAAAAAAAAAAAAAAAAAAAAAAAAAAAAAAADwPwAAAAAAAAAAAAAAAAAAAAAAAAAAAAAAAAAAAAAAAAAAAAAAAAAAAAAAAAAAAAAAAAAAAAAAAAAAAAAAAAAAAAAAAAAAAAAAAAAAAAAAAAAAAAAAAAAAAAAAAAAAAAAAAAAAAAAAAAAAAAAAAAAAAAAAAAAAAAAAAAAAAAAAAAAAAAAAAAAAAAAAAAAAAAAAAAAAAAAAAAAAAAAAAAAAAAAAAAAAAAAAAAAAAAAAAAAAAAAAAAAAAAAAAAAAAAAAAAAAAAAAAAAAAAAAAAAAAAAAAAAAAAAAAAAAAAAAAAAAAAAAAAAA8D8AAAAAAADwPwAAAAAAAAAAAAAAAAAAAAAAAAAAAAAAAAAAAAAAAAAAAAAAAAAAAAAAAAAAAAAAAAAAAAAAAAAAAAAAAAAAAAAAAAAAAAAAAAAAAAAAAAAAAAAAAAAAAAAAAAAAAAAAAAAAAAAAAAAAAAAAAAAAAAAAAAAAAAAAAAAAAAAAAAAAAAAAAAAAAAAAAAAAAAAAAAAAAAAAAAAAAAAAAAAAAAAAAAAAAAAAAAAAAAAAAAAAAAAAAAAAAAAAAAAAAAAAAAAAAAAAAAAAAAAAAAAAAAAAAAAAAAAAAAAAAAAAAAAAAAAAAAAAAAAAAAAAAAAAAAAAAAAAAAAAAAAAAAAAAAAAAAAAAAAAAAAAAAAAAAAAAAAAAAAAAAAAAAAAAAAAAAAAAAAAAAAAAAAAAAAAAAAAAAAAAAAAAAAAAAAAAAAAAAAAAAAAAAAAAAAAAAAAAAAAAAAAAPA/AAAAAAAA8D8AAAAAAADwPwAAAAAAAPA/AAAAAAAA8D8AAAAAAAAAAAAAAAAAAPA/AAAAAAAA8D8AAAAAAADwPwAAAAAAAAAAAAAAAAAA8D8AAAAAAADwPw==\",\"dtype\":\"float64\",\"shape\":[104]},\"angle\":{\"__ndarray__\":\"AAAAAACAVkAAAAAAAIBWQAAAAAAAgFZAAAAAAACAVkAAAAAAAIBWQAAAAAAAgFZAAAAAAACAVkAAAAAAAIBWQAAAAAAAgFZAAAAAAACAVkAAAAAAAIBWQAAAAAAAgFZAAAAAAACAVkAAAAAAAIBWQAAAAAAAgFZAAAAAAACAVkAAAAAAAIBWQAAAAAAAgFZAAAAAAACAVkAAAAAAAIBWQAAAAAAAgFZAAAAAAACAVkAAAAAAAIBWQAAAAAAAgFZAAAAAAACAVsAAAAAAAIBWwAAAAAAAgFbAAAAAAACAVsAAAAAAAIBWwAAAAAAAgFbAAAAAAACAVsAAAAAAAIBWwAAAAAAAgFbAAAAAAACAVsAAAAAAAIBWwAAAAAAAgFbAAAAAAACAVsAAAAAAAIBWwAAAAAAAgFbAAAAAAACAVsAAAAAAAIBWwAAAAAAAgFbAAAAAAACAVsAAAAAAAIBWwAAAAAAAgFbAAAAAAACAVsAAAAAAAIBWwAAAAAAAgFbAAAAAAACAVsAAAAAAAIBWwAAAAAAAgFZAAAAAAACAVsAAAAAAAIBWwAAAAAAAgFbAAAAAAACAVsAAAAAAAIBWwAAAAAAAgFbAAAAAAACAVsAAAAAAAIBWwAAAAAAAgFbAAAAAAACAVsAAAAAAAIBWwAAAAAAAgFbAAAAAAACAVsAAAAAAAIBWwAAAAAAAgFbAAAAAAACAVsAAAAAAAIBWwAAAAAAAgFbAAAAAAACAVsAAAAAAAIBWwAAAAAAAgFbAAAAAAACAVsAAAAAAAIBWwAAAAAAAgFbAAAAAAACAVsAAAAAAAIBWwAAAAAAAgFbAAAAAAACAVsAAAAAAAIBWwAAAAAAAgFbAAAAAAACAVsAAAAAAAIBWwAAAAAAAgFbAAAAAAACAVsAAAAAAAIBWwAAAAAAAgFbAAAAAAACAVsAAAAAAAIBWwAAAAAAAgFbAAAAAAACAVsAAAAAAAIBWwAAAAAAAgFbAAAAAAACAVsAAAAAAAIBWwAAAAAAAgFbAAAAAAACAVsAAAAAAAIBWwAAAAAAAgFbAAAAAAACAVsAAAAAAAIBWwAAAAAAAgFbAAAAAAACAVsAAAAAAAIBWwA==\",\"dtype\":\"float64\",\"shape\":[104]},\"index\":[0,1,2,3,4,5,6,7,8,9,10,11,12,13,14,15,16,17,18,19,20,21,22,23,24,25,26,27,28,29,30,31,32,33,34,35,36,37,38,39,40,41,42,43,44,45,46,47,48,49,50,51,52,53,54,55,56,57,58,59,60,61,62,63,64,65,66,67,68,69,70,71,72,73,74,75,76,77,78,79,80,81,82,83,84,85,86,87,88,89,90,91,92,93,94,95,96,97,98,99,100,101,102,103],\"width\":{\"__ndarray__\":\"AAAAAAAAXUAAAAAAADiAQAAAAADAEd9AAAAAAACQc0AAAAAAABTFQAAAAAAAkHNAAAAAAIA41EAAAAAAgFHEQAAAAAAAHJJAAAAAAACwdUAAAAAAAJBzQAAAAABAdt5AAAAAAADwg0AAAAAAAOBlQAAAAAAAYG5AAAAAAABgeEAAAAAAAJBzQAAAAAAAgGZAAAAAAABge0AAAAAAAPSfQAAAAAAAcHtAAAAAAACAfEAAAAAAAGB4QAAAAAAAkHNAAAAAAADAWEAAAAAAAHB8QAAAAAAAAGpAAAAAAADgZ0AAAAAAACB7QAAAAAAA0IhAAAAAAAD4hUAAAAAAAMBYQAAAAAAAcHxAAAAAAAAAakAAAAAAAOBnQAAAAAAAIHtAAAAAAABAVkAAAAAAAEiBQAAAAAAA+IVAAAAAAADAWEAAAAAAAHB8QAAAAAAAwF1AAAAAAACAQEAAAAAAAOBnQAAAAAAAIHtAAAAAAABAVkAAAAAAAEiBQAAAAAAA+IVAAAAAAACslEAAAAAAAIyXQAAAAAAANJBAAAAAAADAWEAAAAAAAIB8QAAAAAAAYGhAAAAAAAAgaEAAAAAAADB7QAAAAAAAQFZAAAAAAACQgEAAAAAAAPiFQAAAAAAAwFhAAAAAAACAfEAAAAAAAEBhQAAAAAAAIGhAAAAAAAAwe0AAAAAAAEBWQAAAAAAAkIBAAAAAAAD4hUAAAAAAAMBYQAAAAAAAgHxAAAAAAAAAEEAAAAAAAEBhQAAAAAAAIGhAAAAAAAAwe0AAAAAAAEBWQAAAAAAAkIBAAAAAAAD4hUAAAAAAAAAAQAAAAAAAwFhAAAAAAACAfEAAAAAAAGBoQAAAAAAAIGhAAAAAAAAwe0AAAAAAABiIQAAAAAAA+IVAAAAAAAAAAEAAAAAAAMBYQAAAAAAAMHxAAAAAAACgaUAAAAAAAGBnQAAAAAAAAHxAAAAAAABAVkAAAAAAAJCAQAAAAAAAZJlAAAAAAICUwEAAAAAAgPjCQAAAAABAP91AAAAAAABTvEAAAAAAAFyRQAAAAACA+MJAAAAAAEA/3UAAAAAAAFO8QAAAAAAA4JFAAAAAAID4wkAAAAAAQD/dQA==\",\"dtype\":\"float64\",\"shape\":[104]},\"x\":{\"__ndarray__\":\"AAAAOBcShEEAAACcKhKEQQAAAFwnFIRBAAAAdC0WhEEAAACY6xaEQQAAADSpF4RBAAAACGYThEEAAAC8ThWEQQAAAFwGFoRBAAAAfCAWhEEAAAB0LRaEQQAAAOQJFIRBAAAAOP4VhEEAAAD0DBaEQQAAAKwUFoRBAAAAKCEWhEEAAAB0LRaEQQAAAMAZF4RBAAAAqCoXhEEAAAAEUxeEQQAAABR9F4RBAAAAGI0XhEEAAADonBeEQQAAADSpF4RBAAAAjG4WhEEAAACcexaEQQAAANCLFoRBAAAAdJYWhEEAAAC4pRaEQQAAAOi9FoRBAAAApNoWhEEAAACMbhaEQQAAAJx7FoRBAAAA0IsWhEEAAAB0lhaEQQAAALilFoRBAAAA5LIWhEEAAACswRaEQQAAAKTaFoRBAAAAjG4WhEEAAACcexaEQQAAAEyLFoRBAAAAjI4WhEEAAAB0lhaEQQAAALilFoRBAAAA5LIWhEEAAACswRaEQQAAAKTaFoRBAAAAbLcXhEEAAABU5xeEQQAAAITlF4RBAAAAzBoYhEEAAADgJxiEQQAAAOQ3GIRBAAAAXEIYhEEAAACsURiEQQAAANxeGIRBAAAASG0YhEEAAADkhRiEQQAAAMwaGIRBAAAA4CcYhEEAAADIOBiEQQAAAFxCGIRBAAAArFEYhEEAAADcXhiEQQAAAEhtGIRBAAAA5IUYhEEAAADMGhiEQQAAAOAnGIRBAAAAyDUYhEEAAADIOBiEQQAAAFxCGIRBAAAArFEYhEEAAADcXhiEQQAAAEhtGIRBAAAA5IUYhEEAAABIkhiEQQAAAMwaGIRBAAAA4CcYhEEAAADkNxiEQQAAAFxCGIRBAAAArFEYhEEAAACEaRiEQQAAAOSFGIRBAAAASJIYhEEAAAAMRxmEQQAAAAxUGYRBAAAADGQZhEEAAACUbhmEQQAAAAB+GYRBAAAAdIsZhEEAAADgmRmEQQAAAOTAGYRBAAAAFCsbhEEAAAAESRyEQQAAAKS3HoRBAAAAvBcbhEEAAABcnhuEQQAAAARJHIRBAAAApLcehEEAAAC8FxuEQQAAANidG4RBAAAABEkchEEAAACktx6EQQ==\",\"dtype\":\"float64\",\"shape\":[104]},\"y\":{\"__ndarray__\":\"AAAAAAAAGEAAAAAAAAAYQAAAAAAAABhAAAAAAAAAGEAAAAAAAAAYQAAAAAAAABhAAAAAAAAAAEAAAAAAAAAAQAAAAAAAAABAAAAAAAAAAEAAAAAAAAAAQAAAAAAAAAAAAAAAAAAAAAAAAAAAAAAAAAAAAAAAAAAAAAAAAAAAAAAAAAAAAAAAAAAAAAAAABBAAAAAAAAAEEAAAAAAAAAQQAAAAAAAABBAAAAAAAAAEEAAAAAAAAAQQAAAAAAAABBAAAAAAAAAAAAAAAAAAAAAAAAAAAAAAAAAAAAAAAAAAAAAAAAAAAAAAAAAAAAAAAAAAAAAAAAAAAAAAAAAAAAQQAAAAAAAABBAAAAAAAAAEEAAAAAAAAAQQAAAAAAAABBAAAAAAAAAEEAAAAAAAAAQQAAAAAAAABBAAAAAAAAAAEAAAAAAAAAAQAAAAAAAAABAAAAAAAAAAEAAAAAAAAAAQAAAAAAAAABAAAAAAAAAAEAAAAAAAAAAQAAAAAAAAABAAAAAAAAAAEAAAAAAAAAAQAAAAAAAAAAAAAAAAAAAAAAAAAAAAAAAAAAAAAAAAAAAAAAAAAAAAAAAAAAAAAAAAAAAAAAAAAAAAAAAAAAAAAAAAAAAAAAAAAAAAAAAABhAAAAAAAAAGEAAAAAAAAAYQAAAAAAAABhAAAAAAAAAGEAAAAAAAAAYQAAAAAAAABhAAAAAAAAAGEAAAAAAAAAQQAAAAAAAABBAAAAAAAAAEEAAAAAAAAAQQAAAAAAAABBAAAAAAAAAEEAAAAAAAAAQQAAAAAAAABBAAAAAAAAAEEAAAAAAAAAQQAAAAAAAAABAAAAAAAAAAEAAAAAAAAAAQAAAAAAAAABAAAAAAAAAAEAAAAAAAAAAQAAAAAAAAABAAAAAAAAAAEAAAAAAAAAAAAAAAAAAAAAAAAAAAAAAAAAAAAAAAAAAAAAAAAAAAAAAAAAAAAAAAAAAAAAAAAAAAAAAAAAAAAAAAAAAAAAAAEAAAAAAAAAAQAAAAAAAAABAAAAAAAAAEEAAAAAAAAAQQAAAAAAAABBAAAAAAAAAEEAAAAAAAAAAAAAAAAAAAAAAAAAAAAAAAAAAAAAAAAAAAA==\",\"dtype\":\"float64\",\"shape\":[104]}},\"selected\":{\"id\":\"1239\",\"type\":\"Selection\"},\"selection_policy\":{\"id\":\"1240\",\"type\":\"UnionRenderers\"}},\"id\":\"1158\",\"type\":\"ColumnDataSource\"},{\"attributes\":{\"mantissas\":[1,2,3,4,5,6,7,8,9],\"max_interval\":3,\"min_interval\":3,\"num_minor_ticks\":3},\"id\":\"1212\",\"type\":\"AdaptiveTicker\"},{\"attributes\":{\"mantissas\":[1,2,3,4,5,6,7,8,9],\"max_interval\":1,\"min_interval\":1,\"num_minor_ticks\":1},\"id\":\"1210\",\"type\":\"AdaptiveTicker\"},{\"attributes\":{\"args\":{\"source\":{\"id\":\"1158\",\"type\":\"ColumnDataSource\"}},\"code\":\"\\nvar start = cb_obj.start;\\nvar end = cb_obj.end;\\nvar width = end - start;\\nvar threshold = 0.010000 * width;     // threshold factor is set from python-side configuration\\nvar intron_alpha = 1.000000;          // alpha value is set from python-side configuration\\n\\n// iterate over each intron\\nvar data = source.data;\\nfor (i=0; i<data[\\\"x\\\"].length; i++)\\n{\\n    // if the screen-space width is large enough, make the intron visible\\n    if(data[\\\"width\\\"][i] >= threshold)\\n        data[\\\"alpha\\\"][i] = intron_alpha;\\n    else\\n    // otherwise, make the intron fully transparent\\n        data[\\\"alpha\\\"][i] = 0;\\n}\\n\\nsource.change.emit();\\n\"},\"id\":\"1219\",\"type\":\"CustomJS\"},{\"attributes\":{},\"id\":\"1235\",\"type\":\"BasicTickFormatter\"},{\"attributes\":{},\"id\":\"1241\",\"type\":\"Selection\"},{\"attributes\":{\"dimensions\":\"width\",\"overlay\":{\"id\":\"1245\",\"type\":\"BoxAnnotation\"}},\"id\":\"1181\",\"type\":\"BoxZoomTool\"},{\"attributes\":{\"angle\":{\"field\":\"angle\",\"units\":\"deg\"},\"text\":{\"value\":\"v\"},\"text_align\":\"center\",\"text_alpha\":{\"field\":\"alpha\"},\"text_baseline\":\"middle\",\"text_color\":{\"value\":\"Black\"},\"text_font\":\"sans-serif\",\"text_font_size\":{\"value\":\"5pt\"},\"text_font_style\":\"bold\",\"x\":{\"field\":\"x\"},\"y\":{\"field\":\"y\"}},\"id\":\"1196\",\"type\":\"Text\"},{\"attributes\":{\"source\":{\"id\":\"1157\",\"type\":\"ColumnDataSource\"}},\"id\":\"1204\",\"type\":\"CDSView\"},{\"attributes\":{\"source\":{\"id\":\"1158\",\"type\":\"ColumnDataSource\"}},\"id\":\"1199\",\"type\":\"CDSView\"},{\"attributes\":{\"callback\":null,\"end\":-1.5,\"start\":7},\"id\":\"1163\",\"type\":\"Range1d\"},{\"attributes\":{},\"id\":\"1237\",\"type\":\"Selection\"},{\"attributes\":{},\"id\":\"1182\",\"type\":\"SaveTool\"},{\"attributes\":{},\"id\":\"1238\",\"type\":\"UnionRenderers\"},{\"attributes\":{\"callback\":null,\"data\":{\"color\":[\"DarkBlue\",\"DarkBlue\",\"DarkBlue\",\"DarkBlue\",\"DarkBlue\",\"DarkBlue\",\"DarkBlue\",\"DarkBlue\",\"DarkBlue\",\"DarkBlue\",\"DarkBlue\",\"DarkBlue\",\"DarkBlue\",\"DarkBlue\",\"DarkBlue\",\"DarkBlue\",\"DarkBlue\",\"DarkBlue\",\"DarkBlue\",\"DarkBlue\",\"DarkBlue\",\"DarkBlue\",\"DarkBlue\",\"DarkBlue\",\"DarkBlue\",\"DarkBlue\",\"DarkBlue\",\"DarkBlue\",\"DarkBlue\",\"DarkBlue\",\"DarkBlue\",\"DarkBlue\",\"DarkBlue\",\"DarkBlue\",\"DarkBlue\",\"DarkBlue\",\"DarkBlue\",\"DarkBlue\",\"DarkBlue\",\"DarkBlue\",\"DarkBlue\",\"DarkBlue\",\"DarkBlue\",\"DarkBlue\",\"DarkBlue\",\"DarkBlue\",\"DarkBlue\",\"DarkBlue\",\"DarkBlue\",\"DarkBlue\",\"DarkBlue\",\"DarkBlue\",\"DarkBlue\",\"DarkBlue\",\"DarkBlue\",\"DarkBlue\",\"DarkBlue\",\"DarkBlue\",\"DarkBlue\",\"DarkBlue\",\"DarkBlue\",\"DarkBlue\",\"DarkBlue\",\"DarkBlue\",\"DarkBlue\",\"DarkBlue\",\"DarkBlue\",\"DarkBlue\",\"DarkBlue\",\"DarkBlue\",\"DarkBlue\",\"DarkBlue\",\"DarkBlue\",\"DarkBlue\",\"DarkBlue\",\"DarkBlue\",\"DarkBlue\",\"DarkBlue\",\"DarkBlue\",\"DarkBlue\",\"DarkBlue\",\"DarkBlue\",\"DarkBlue\",\"DarkBlue\",\"DarkBlue\",\"DarkBlue\",\"DarkBlue\",\"DarkBlue\",\"DarkBlue\",\"DarkBlue\",\"DarkBlue\",\"DarkBlue\",\"DarkBlue\",\"DarkBlue\",\"DarkBlue\",\"DarkBlue\",\"DarkBlue\",\"DarkBlue\",\"DarkBlue\",\"DarkBlue\",\"DarkBlue\",\"DarkBlue\",\"DarkBlue\",\"DarkBlue\",\"DarkBlue\",\"DarkBlue\",\"DarkBlue\",\"DarkBlue\",\"DarkBlue\",\"DarkBlue\",\"DarkBlue\",\"DarkBlue\",\"DarkBlue\",\"DarkBlue\",\"DarkBlue\",\"DarkBlue\",\"DarkBlue\",\"DarkBlue\",\"DarkBlue\",\"DarkBlue\",\"DarkBlue\",\"DarkBlue\"],\"index\":[0,1,2,3,4,5,6,7,8,9,10,11,12,13,14,15,16,17,18,19,20,21,22,23,24,25,26,27,28,29,30,31,32,33,34,35,36,37,38,39,40,41,42,43,44,45,46,47,48,49,50,51,52,53,54,55,56,57,58,59,60,61,62,63,64,65,66,67,68,69,70,71,72,73,74,75,76,77,78,79,80,81,82,83,84,85,86,87,88,89,90,91,92,93,94,95,96,97,98,99,100,101,102,103,104,105,106,107,108,109,110,111,112,113,114,115,116,117,118,119,120,121],\"x\":[[42090931,42091181,42091181,42090931],[42091297,42091600,42091600,42091297],[42092119,42092232,42092232,42092119],[42124047,42124562,42124562,42124047],[42124875,42125407,42125407,42124875],[42136199,42136714,42136714,42136199],[42137027,42137742,42137742,42137027],[42091204,42091600,42091600,42091204],[42112306,42112390,42112390,42112306],[42122793,42122888,42122888,42122793],[42124047,42124130,42124130,42124047],[42124477,42124562,42124562,42124477],[42124875,42124959,42124959,42124875],[42091352,42091600,42091600,42091352],[42122793,42122888,42122888,42122793],[42123526,42123591,42123591,42123526],[42123766,42123804,42123804,42123766],[42124047,42124130,42124130,42124047],[42124520,42124562,42124562,42124520],[42124875,42124959,42124959,42124875],[42132031,42132190,42132190,42132031],[42132370,42132602,42132602,42132370],[42133040,42133090,42133090,42133040],[42135135,42135239,42135239,42135135],[42135678,42135743,42135743,42135678],[42136199,42136282,42136282,42136199],[42136672,42136714,42136714,42136672],[42137027,42137050,42137050,42137027],[42130612,42130791,42130791,42130865,42130865,42130791,42130791,42130612],[42129738,42129909,42129909,42129738],[42128784,42128944,42128944,42128784],[42128174,42128350,42128350,42128174],[42127842,42127983,42127983,42127842],[42127447,42127634,42127634,42127447],[42126851,42126992,42126992,42126851],[42126556,42126577,42126577,42126752,42126752,42126577,42126577,42126556],[42130612,42130791,42130791,42130906,42130906,42130791,42130791,42130612],[42129738,42129909,42129909,42129738],[42129033,42129185,42129185,42129033],[42128784,42128944,42128944,42128784],[42128174,42128350,42128350,42128174],[42127842,42127983,42127983,42127842],[42127447,42127634,42127634,42127447],[42126851,42126992,42126992,42126851],[42126499,42126577,42126577,42126752,42126752,42126577,42126577,42126499],[42130612,42130725,42130725,42130881,42130881,42130725,42130725,42130612],[42129738,42129909,42129909,42129738],[42129033,42129185,42129185,42129033],[42128784,42128944,42128944,42128784],[42128174,42128350,42128350,42128174],[42127842,42127983,42127983,42127842],[42127781,42127809,42127809,42127781],[42127447,42127662,42127662,42127447],[42126851,42126992,42126992,42126851],[42126501,42126577,42126577,42126752,42126752,42126577,42126577,42126501],[42132543,42132998,42132998,42132543],[42139612,42139927,42139927,42139612],[42137987,42138105,42138105,42137987],[42136433,42136664,42136664,42136433],[42138060,42138282,42138282,42138060],[42139319,42139726,42139726,42139319],[42144284,42144464,42144464,42144549,42144549,42144464,42144464,42144284],[42143410,42143581,42143581,42143410],[42142728,42142880,42142880,42142728],[42142479,42142639,42142639,42142479],[42141868,42142044,42142044,42141868],[42141534,42141675,42141675,42141534],[42141152,42141339,42141339,42141152],[42140555,42140696,42140696,42140555],[42140203,42140280,42140280,42140456,42140456,42140280,42140280,42140203],[42144284,42144464,42144464,42144577,42144577,42144464,42144464,42144284],[42143410,42143581,42143581,42143410],[42142728,42142880,42142880,42142728],[42142479,42142639,42142639,42142479],[42141868,42142044,42142044,42141868],[42141534,42141675,42141675,42141534],[42141152,42141396,42141396,42141152],[42140555,42140696,42140696,42140555],[42140203,42140280,42140280,42140456,42140456,42140280,42140280,42140203],[42144330,42144464,42144464,42144577,42144577,42144464,42144464,42144330],[42144284,42144328,42144328,42144284],[42143410,42143581,42143581,42143410],[42142728,42142880,42142880,42142728],[42142479,42142639,42142639,42142479],[42141868,42142044,42142044,42141868],[42141534,42141675,42141675,42141534],[42141371,42141396,42141396,42141371],[42141152,42141367,42141367,42141152],[42140555,42140696,42140696,42140555],[42140205,42140281,42140281,42140456,42140456,42140281,42140281,42140205],[42144330,42144464,42144464,42144554,42144554,42144464,42144464,42144330],[42144284,42144328,42144328,42144284],[42143410,42143581,42143581,42143410],[42142479,42142639,42142639,42142479],[42141868,42142044,42142044,42141868],[42141534,42141675,42141675,42141534],[42141152,42141339,42141339,42141152],[42140555,42140696,42140696,42140555],[42140205,42140281,42140281,42140456,42140456,42140281,42140281,42140205],[42154825,42155001,42155001,42154825],[42153029,42153200,42153200,42153029],[42152347,42152499,42152499,42152347],[42152096,42152258,42152258,42152096],[42151472,42151648,42151648,42151472],[42151144,42151285,42151285,42151144],[42150755,42150939,42150939,42150755],[42150163,42150304,42150304,42150163],[42149886,42150064,42150064,42149886],[42209651,42215305,42215305,42215440,42215440,42215305,42215305,42209651],[42179609,42179702,42179702,42179609],[42169847,42169896,42169896,42169847],[42161056,42161344,42161344,42161358,42161358,42161344,42161344,42161056],[42209651,42215305,42215305,42215442,42215442,42215305,42215305,42209651],[42179609,42179702,42179702,42179609],[42169847,42169896,42169896,42169847],[42168609,42168656,42168656,42168736,42168736,42168656,42168656,42168609],[42160013,42161358,42161358,42160013],[42209651,42210208,42210208,42209651],[42179609,42179702,42179702,42179609],[42169847,42169896,42169896,42169847],[42168609,42168656,42168656,42168703,42168703,42168656,42168656,42168609],[42161098,42161358,42161358,42161098]],\"y\":[[6.175,6.175,5.825,5.825],[6.175,6.175,5.825,5.825],[6.175,6.175,5.825,5.825],[6.175,6.175,5.825,5.825],[6.175,6.175,5.825,5.825],[6.175,6.175,5.825,5.825],[6.175,6.175,5.825,5.825],[2.175,2.175,1.825,1.825],[2.175,2.175,1.825,1.825],[2.175,2.175,1.825,1.825],[2.175,2.175,1.825,1.825],[2.175,2.175,1.825,1.825],[2.175,2.175,1.825,1.825],[0.175,0.175,-0.175,-0.175],[0.175,0.175,-0.175,-0.175],[0.175,0.175,-0.175,-0.175],[0.175,0.175,-0.175,-0.175],[0.175,0.175,-0.175,-0.175],[0.175,0.175,-0.175,-0.175],[0.175,0.175,-0.175,-0.175],[4.175,4.175,3.825,3.825],[4.175,4.175,3.825,3.825],[4.175,4.175,3.825,3.825],[4.175,4.175,3.825,3.825],[4.175,4.175,3.825,3.825],[4.175,4.175,3.825,3.825],[4.175,4.175,3.825,3.825],[4.175,4.175,3.825,3.825],[0.35,0.35,0.175,0.175,-0.175,-0.175,-0.35,-0.35],[0.35,0.35,-0.35,-0.35],[0.35,0.35,-0.35,-0.35],[0.35,0.35,-0.35,-0.35],[0.35,0.35,-0.35,-0.35],[0.35,0.35,-0.35,-0.35],[0.35,0.35,-0.35,-0.35],[0.175,0.175,0.35,0.35,-0.35,-0.35,-0.175,-0.175],[4.35,4.35,4.175,4.175,3.825,3.825,3.65,3.65],[4.35,4.35,3.65,3.65],[4.35,4.35,3.65,3.65],[4.35,4.35,3.65,3.65],[4.35,4.35,3.65,3.65],[4.35,4.35,3.65,3.65],[4.35,4.35,3.65,3.65],[4.35,4.35,3.65,3.65],[4.175,4.175,4.35,4.35,3.65,3.65,3.825,3.825],[2.35,2.35,2.175,2.175,1.825,1.825,1.65,1.65],[2.35,2.35,1.65,1.65],[2.35,2.35,1.65,1.65],[2.35,2.35,1.65,1.65],[2.35,2.35,1.65,1.65],[2.35,2.35,1.65,1.65],[2.35,2.35,1.65,1.65],[2.35,2.35,1.65,1.65],[2.35,2.35,1.65,1.65],[2.175,2.175,2.35,2.35,1.65,1.65,1.825,1.825],[0.175,0.175,-0.175,-0.175],[2.175,2.175,1.825,1.825],[2.175,2.175,1.825,1.825],[2.175,2.175,1.825,1.825],[0.175,0.175,-0.175,-0.175],[0.175,0.175,-0.175,-0.175],[0.35,0.35,0.175,0.175,-0.175,-0.175,-0.35,-0.35],[0.35,0.35,-0.35,-0.35],[0.35,0.35,-0.35,-0.35],[0.35,0.35,-0.35,-0.35],[0.35,0.35,-0.35,-0.35],[0.35,0.35,-0.35,-0.35],[0.35,0.35,-0.35,-0.35],[0.35,0.35,-0.35,-0.35],[0.175,0.175,0.35,0.35,-0.35,-0.35,-0.175,-0.175],[6.35,6.35,6.175,6.175,5.825,5.825,5.65,5.65],[6.35,6.35,5.65,5.65],[6.35,6.35,5.65,5.65],[6.35,6.35,5.65,5.65],[6.35,6.35,5.65,5.65],[6.35,6.35,5.65,5.65],[6.35,6.35,5.65,5.65],[6.35,6.35,5.65,5.65],[6.175,6.175,6.35,6.35,5.65,5.65,5.825,5.825],[4.35,4.35,4.175,4.175,3.825,3.825,3.65,3.65],[4.35,4.35,3.65,3.65],[4.35,4.35,3.65,3.65],[4.35,4.35,3.65,3.65],[4.35,4.35,3.65,3.65],[4.35,4.35,3.65,3.65],[4.35,4.35,3.65,3.65],[4.35,4.35,3.65,3.65],[4.35,4.35,3.65,3.65],[4.35,4.35,3.65,3.65],[4.175,4.175,4.35,4.35,3.65,3.65,3.825,3.825],[2.35,2.35,2.175,2.175,1.825,1.825,1.65,1.65],[2.35,2.35,1.65,1.65],[2.35,2.35,1.65,1.65],[2.35,2.35,1.65,1.65],[2.35,2.35,1.65,1.65],[2.35,2.35,1.65,1.65],[2.35,2.35,1.65,1.65],[2.35,2.35,1.65,1.65],[2.175,2.175,2.35,2.35,1.65,1.65,1.825,1.825],[0.175,0.175,-0.175,-0.175],[0.175,0.175,-0.175,-0.175],[0.175,0.175,-0.175,-0.175],[0.175,0.175,-0.175,-0.175],[0.175,0.175,-0.175,-0.175],[0.175,0.175,-0.175,-0.175],[0.175,0.175,-0.175,-0.175],[0.175,0.175,-0.175,-0.175],[0.175,0.175,-0.175,-0.175],[2.35,2.35,2.175,2.175,1.825,1.825,1.65,1.65],[2.35,2.35,1.65,1.65],[2.35,2.35,1.65,1.65],[2.175,2.175,2.35,2.35,1.65,1.65,1.825,1.825],[4.35,4.35,4.175,4.175,3.825,3.825,3.65,3.65],[4.35,4.35,3.65,3.65],[4.35,4.35,3.65,3.65],[4.175,4.175,4.35,4.35,3.65,3.65,3.825,3.825],[4.175,4.175,3.825,3.825],[0.35,0.35,-0.35,-0.35],[0.35,0.35,-0.35,-0.35],[0.35,0.35,-0.35,-0.35],[0.175,0.175,0.35,0.35,-0.35,-0.35,-0.175,-0.175],[0.175,0.175,-0.175,-0.175]]},\"selected\":{\"id\":\"1241\",\"type\":\"Selection\"},\"selection_policy\":{\"id\":\"1242\",\"type\":\"UnionRenderers\"}},\"id\":\"1157\",\"type\":\"ColumnDataSource\"},{\"attributes\":{},\"id\":\"1217\",\"type\":\"NumeralTickFormatter\"},{\"attributes\":{},\"id\":\"1239\",\"type\":\"Selection\"},{\"attributes\":{\"fill_alpha\":{\"value\":0.1},\"fill_color\":{\"value\":\"#1f77b4\"},\"line_alpha\":{\"value\":0.1},\"line_color\":{\"value\":\"#1f77b4\"},\"xs\":{\"field\":\"x\"},\"ys\":{\"field\":\"y\"}},\"id\":\"1202\",\"type\":\"Patches\"},{\"attributes\":{\"data_source\":{\"id\":\"1159\",\"type\":\"ColumnDataSource\"},\"glyph\":{\"id\":\"1206\",\"type\":\"Text\"},\"hover_glyph\":null,\"muted_glyph\":null,\"name\":\"transcript_labels\",\"nonselection_glyph\":{\"id\":\"1207\",\"type\":\"Text\"},\"selection_glyph\":null,\"view\":{\"id\":\"1209\",\"type\":\"CDSView\"}},\"id\":\"1208\",\"type\":\"GlyphRenderer\"},{\"attributes\":{\"dimensions\":\"width\"},\"id\":\"1179\",\"type\":\"PanTool\"},{\"attributes\":{\"grid_line_color\":null,\"ticker\":{\"id\":\"1170\",\"type\":\"BasicTicker\"}},\"id\":\"1173\",\"type\":\"Grid\"},{\"attributes\":{\"active_drag\":\"auto\",\"active_inspect\":\"auto\",\"active_multi\":null,\"active_scroll\":{\"id\":\"1180\",\"type\":\"WheelZoomTool\"},\"active_tap\":\"auto\",\"tools\":[{\"id\":\"1179\",\"type\":\"PanTool\"},{\"id\":\"1180\",\"type\":\"WheelZoomTool\"},{\"id\":\"1181\",\"type\":\"BoxZoomTool\"},{\"id\":\"1182\",\"type\":\"SaveTool\"},{\"id\":\"1183\",\"type\":\"ResetTool\"}]},\"id\":\"1184\",\"type\":\"Toolbar\"},{\"attributes\":{\"callback\":{\"id\":\"1219\",\"type\":\"CustomJS\"},\"end\":42215442,\"start\":42090931},\"id\":\"1161\",\"type\":\"Range1d\"},{\"attributes\":{\"fill_color\":{\"field\":\"color\"},\"line_color\":{\"value\":null},\"xs\":{\"field\":\"x\"},\"ys\":{\"field\":\"y\"}},\"id\":\"1201\",\"type\":\"Patches\"},{\"attributes\":{\"tickers\":[{\"id\":\"1210\",\"type\":\"AdaptiveTicker\"},{\"id\":\"1211\",\"type\":\"AdaptiveTicker\"},{\"id\":\"1212\",\"type\":\"AdaptiveTicker\"},{\"id\":\"1213\",\"type\":\"AdaptiveTicker\"},{\"id\":\"1214\",\"type\":\"AdaptiveTicker\"}]},\"id\":\"1215\",\"type\":\"CompositeTicker\"},{\"attributes\":{},\"id\":\"1242\",\"type\":\"UnionRenderers\"},{\"attributes\":{},\"id\":\"1243\",\"type\":\"Selection\"},{\"attributes\":{\"data_source\":{\"id\":\"1156\",\"type\":\"ColumnDataSource\"},\"glyph\":{\"id\":\"1191\",\"type\":\"Segment\"},\"hover_glyph\":null,\"muted_glyph\":null,\"name\":\"transcripts\",\"nonselection_glyph\":{\"id\":\"1192\",\"type\":\"Segment\"},\"selection_glyph\":null,\"view\":{\"id\":\"1194\",\"type\":\"CDSView\"}},\"id\":\"1193\",\"type\":\"GlyphRenderer\"},{\"attributes\":{\"text\":{\"field\":\"label\"},\"text_align\":\"center\",\"text_baseline\":\"middle\",\"text_color\":{\"value\":\"black\"},\"text_font\":\"monospace\",\"text_font_size\":{\"value\":\"6pt\"},\"x\":{\"field\":\"x\"},\"y\":{\"field\":\"y\"},\"y_offset\":{\"value\":4}},\"id\":\"1206\",\"type\":\"Text\"},{\"attributes\":{},\"id\":\"1244\",\"type\":\"UnionRenderers\"},{\"attributes\":{\"data_source\":{\"id\":\"1158\",\"type\":\"ColumnDataSource\"},\"glyph\":{\"id\":\"1196\",\"type\":\"Text\"},\"hover_glyph\":null,\"muted_glyph\":null,\"name\":\"introns\",\"nonselection_glyph\":{\"id\":\"1197\",\"type\":\"Text\"},\"selection_glyph\":null,\"view\":{\"id\":\"1199\",\"type\":\"CDSView\"}},\"id\":\"1198\",\"type\":\"GlyphRenderer\"},{\"attributes\":{\"data_source\":{\"id\":\"1157\",\"type\":\"ColumnDataSource\"},\"glyph\":{\"id\":\"1201\",\"type\":\"Patches\"},\"hover_glyph\":null,\"muted_glyph\":null,\"name\":\"exons\",\"nonselection_glyph\":{\"id\":\"1202\",\"type\":\"Patches\"},\"selection_glyph\":null,\"view\":{\"id\":\"1204\",\"type\":\"CDSView\"}},\"id\":\"1203\",\"type\":\"GlyphRenderer\"},{\"attributes\":{\"axis_label\":\"chr22\",\"formatter\":{\"id\":\"1217\",\"type\":\"NumeralTickFormatter\"},\"ticker\":{\"id\":\"1215\",\"type\":\"CompositeTicker\"}},\"id\":\"1169\",\"type\":\"LinearAxis\"},{\"attributes\":{\"source\":{\"id\":\"1156\",\"type\":\"ColumnDataSource\"}},\"id\":\"1194\",\"type\":\"CDSView\"},{\"attributes\":{\"angle\":{\"field\":\"angle\",\"units\":\"deg\"},\"text\":{\"value\":\"v\"},\"text_align\":\"center\",\"text_alpha\":{\"value\":0.1},\"text_baseline\":\"middle\",\"text_color\":{\"value\":\"black\"},\"text_font\":\"sans-serif\",\"text_font_size\":{\"value\":\"5pt\"},\"text_font_style\":\"bold\",\"x\":{\"field\":\"x\"},\"y\":{\"field\":\"y\"}},\"id\":\"1197\",\"type\":\"Text\"},{\"attributes\":{},\"id\":\"1183\",\"type\":\"ResetTool\"},{\"attributes\":{\"mantissas\":[1,2,3,4,5,6,7,8,9],\"max_interval\":2,\"min_interval\":2,\"num_minor_ticks\":2},\"id\":\"1211\",\"type\":\"AdaptiveTicker\"},{\"attributes\":{\"line_alpha\":{\"value\":0.1},\"line_color\":{\"value\":\"#1f77b4\"},\"x0\":{\"field\":\"x0\"},\"x1\":{\"field\":\"x1\"},\"y0\":{\"field\":\"y0\"},\"y1\":{\"field\":\"y1\"}},\"id\":\"1192\",\"type\":\"Segment\"},{\"attributes\":{\"callback\":null,\"data\":{\"index\":[0,1,2,3,4,5,6,7,8,9,10,11,12,13,14,15,16,17],\"x0\":[42090931,42091204,42091352,42132031,42126556,42126499,42126501,42132543,42136433,42138060,42140203,42140203,42140205,42140205,42149886,42161056,42160013,42161098],\"x1\":[42137742,42124959,42124959,42137050,42130865,42130906,42130881,42132998,42139927,42139726,42144549,42144577,42144577,42144554,42155001,42215440,42215442,42210208],\"y0\":[6,2,0,4,0,4,2,0,2,0,0,6,4,2,0,2,4,0],\"y1\":[6,2,0,4,0,4,2,0,2,0,0,6,4,2,0,2,4,0]},\"selected\":{\"id\":\"1237\",\"type\":\"Selection\"},\"selection_policy\":{\"id\":\"1238\",\"type\":\"UnionRenderers\"}},\"id\":\"1156\",\"type\":\"ColumnDataSource\"},{\"attributes\":{\"bottom_units\":\"screen\",\"fill_alpha\":{\"value\":0.5},\"fill_color\":{\"value\":\"lightgrey\"},\"left_units\":\"screen\",\"level\":\"overlay\",\"line_alpha\":{\"value\":1.0},\"line_color\":{\"value\":\"black\"},\"line_dash\":[4,4],\"line_width\":{\"value\":2},\"render_mode\":\"css\",\"right_units\":\"screen\",\"top_units\":\"screen\"},\"id\":\"1245\",\"type\":\"BoxAnnotation\"},{\"attributes\":{\"line_color\":{\"value\":\"Black\"},\"x0\":{\"field\":\"x0\"},\"x1\":{\"field\":\"x1\"},\"y0\":{\"field\":\"y0\"},\"y1\":{\"field\":\"y1\"}},\"id\":\"1191\",\"type\":\"Segment\"}],\"root_ids\":[\"1160\"]},\"title\":\"Bokeh Application\",\"version\":\"1.2.0\"}};\n",
       "  var render_items = [{\"docid\":\"8044b0fd-0fee-4378-863b-ea03975931b6\",\"roots\":{\"1160\":\"df03a1df-1957-414b-ae44-94478e29bd3d\"}}];\n",
       "  root.Bokeh.embed.embed_items_notebook(docs_json, render_items);\n",
       "\n",
       "  }\n",
       "  if (root.Bokeh !== undefined) {\n",
       "    embed_document(root);\n",
       "  } else {\n",
       "    var attempts = 0;\n",
       "    var timer = setInterval(function(root) {\n",
       "      if (root.Bokeh !== undefined) {\n",
       "        embed_document(root);\n",
       "        clearInterval(timer);\n",
       "      }\n",
       "      attempts++;\n",
       "      if (attempts > 100) {\n",
       "        console.log(\"Bokeh: ERROR: Unable to run BokehJS code because BokehJS library is missing\");\n",
       "        clearInterval(timer);\n",
       "      }\n",
       "    }, 10, root)\n",
       "  }\n",
       "})(window);"
      ],
      "application/vnd.bokehjs_exec.v0+json": ""
     },
     "metadata": {
      "application/vnd.bokehjs_exec.v0+json": {
       "id": "1160"
      }
     },
     "output_type": "display_data"
    }
   ],
   "source": [
    "fig = make_plot(transcripts_from_gffutils(db, \"chr22\", 42124000, 42180000))\n",
    "show(fig.figure)"
   ]
  }
 ],
 "metadata": {
  "kernelspec": {
   "display_name": "Python 3",
   "language": "python",
   "name": "python3"
  },
  "language_info": {
   "codemirror_mode": {
    "name": "ipython",
    "version": 3
   },
   "file_extension": ".py",
   "mimetype": "text/x-python",
   "name": "python",
   "nbconvert_exporter": "python",
   "pygments_lexer": "ipython3",
   "version": "3.7.3"
  }
 },
 "nbformat": 4,
 "nbformat_minor": 4
}
