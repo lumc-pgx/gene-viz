{
 "cells": [
  {
   "cell_type": "markdown",
   "metadata": {},
   "source": [
    "# Visualizing annotation data"
   ]
  },
  {
   "cell_type": "markdown",
   "metadata": {},
   "source": [
    "set up bokeh for notebook drawing, and import gene_viz"
   ]
  },
  {
   "cell_type": "code",
   "execution_count": 1,
   "metadata": {},
   "outputs": [
    {
     "data": {
      "application/javascript": [
       "\n",
       "(function(root) {\n",
       "  function now() {\n",
       "    return new Date();\n",
       "  }\n",
       "\n",
       "  var force = true;\n",
       "\n",
       "  if (typeof (root._bokeh_onload_callbacks) === \"undefined\" || force === true) {\n",
       "    root._bokeh_onload_callbacks = [];\n",
       "    root._bokeh_is_loading = undefined;\n",
       "  }\n",
       "\n",
       "  var JS_MIME_TYPE = 'application/javascript';\n",
       "  var HTML_MIME_TYPE = 'text/html';\n",
       "  var EXEC_MIME_TYPE = 'application/vnd.bokehjs_exec.v0+json';\n",
       "  var CLASS_NAME = 'output_bokeh rendered_html';\n",
       "\n",
       "  /**\n",
       "   * Render data to the DOM node\n",
       "   */\n",
       "  function render(props, node) {\n",
       "    var script = document.createElement(\"script\");\n",
       "    node.appendChild(script);\n",
       "  }\n",
       "\n",
       "  /**\n",
       "   * Handle when an output is cleared or removed\n",
       "   */\n",
       "  function handleClearOutput(event, handle) {\n",
       "    var cell = handle.cell;\n",
       "\n",
       "    var id = cell.output_area._bokeh_element_id;\n",
       "    var server_id = cell.output_area._bokeh_server_id;\n",
       "    // Clean up Bokeh references\n",
       "    if (id !== undefined) {\n",
       "      Bokeh.index[id].model.document.clear();\n",
       "      delete Bokeh.index[id];\n",
       "    }\n",
       "\n",
       "    if (server_id !== undefined) {\n",
       "      // Clean up Bokeh references\n",
       "      var cmd = \"from bokeh.io.state import curstate; print(curstate().uuid_to_server['\" + server_id + \"'].get_sessions()[0].document.roots[0]._id)\";\n",
       "      cell.notebook.kernel.execute(cmd, {\n",
       "        iopub: {\n",
       "          output: function(msg) {\n",
       "            var element_id = msg.content.text.trim();\n",
       "            Bokeh.index[element_id].model.document.clear();\n",
       "            delete Bokeh.index[element_id];\n",
       "          }\n",
       "        }\n",
       "      });\n",
       "      // Destroy server and session\n",
       "      var cmd = \"import bokeh.io.notebook as ion; ion.destroy_server('\" + server_id + \"')\";\n",
       "      cell.notebook.kernel.execute(cmd);\n",
       "    }\n",
       "  }\n",
       "\n",
       "  /**\n",
       "   * Handle when a new output is added\n",
       "   */\n",
       "  function handleAddOutput(event, handle) {\n",
       "    var output_area = handle.output_area;\n",
       "    var output = handle.output;\n",
       "\n",
       "    // limit handleAddOutput to display_data with EXEC_MIME_TYPE content only\n",
       "    if ((output.output_type != \"display_data\") || (!output.data.hasOwnProperty(EXEC_MIME_TYPE))) {\n",
       "      return\n",
       "    }\n",
       "\n",
       "    var toinsert = output_area.element.find(`.${CLASS_NAME.split(' ')[0]}`);\n",
       "\n",
       "    if (output.metadata[EXEC_MIME_TYPE][\"id\"] !== undefined) {\n",
       "      toinsert[0].firstChild.textContent = output.data[JS_MIME_TYPE];\n",
       "      // store reference to embed id on output_area\n",
       "      output_area._bokeh_element_id = output.metadata[EXEC_MIME_TYPE][\"id\"];\n",
       "    }\n",
       "    if (output.metadata[EXEC_MIME_TYPE][\"server_id\"] !== undefined) {\n",
       "      var bk_div = document.createElement(\"div\");\n",
       "      bk_div.innerHTML = output.data[HTML_MIME_TYPE];\n",
       "      var script_attrs = bk_div.children[0].attributes;\n",
       "      for (var i = 0; i < script_attrs.length; i++) {\n",
       "        toinsert[0].firstChild.setAttribute(script_attrs[i].name, script_attrs[i].value);\n",
       "      }\n",
       "      // store reference to server id on output_area\n",
       "      output_area._bokeh_server_id = output.metadata[EXEC_MIME_TYPE][\"server_id\"];\n",
       "    }\n",
       "  }\n",
       "\n",
       "  function register_renderer(events, OutputArea) {\n",
       "\n",
       "    function append_mime(data, metadata, element) {\n",
       "      // create a DOM node to render to\n",
       "      var toinsert = this.create_output_subarea(\n",
       "        metadata,\n",
       "        CLASS_NAME,\n",
       "        EXEC_MIME_TYPE\n",
       "      );\n",
       "      this.keyboard_manager.register_events(toinsert);\n",
       "      // Render to node\n",
       "      var props = {data: data, metadata: metadata[EXEC_MIME_TYPE]};\n",
       "      render(props, toinsert[0]);\n",
       "      element.append(toinsert);\n",
       "      return toinsert\n",
       "    }\n",
       "\n",
       "    /* Handle when an output is cleared or removed */\n",
       "    events.on('clear_output.CodeCell', handleClearOutput);\n",
       "    events.on('delete.Cell', handleClearOutput);\n",
       "\n",
       "    /* Handle when a new output is added */\n",
       "    events.on('output_added.OutputArea', handleAddOutput);\n",
       "\n",
       "    /**\n",
       "     * Register the mime type and append_mime function with output_area\n",
       "     */\n",
       "    OutputArea.prototype.register_mime_type(EXEC_MIME_TYPE, append_mime, {\n",
       "      /* Is output safe? */\n",
       "      safe: true,\n",
       "      /* Index of renderer in `output_area.display_order` */\n",
       "      index: 0\n",
       "    });\n",
       "  }\n",
       "\n",
       "  // register the mime type if in Jupyter Notebook environment and previously unregistered\n",
       "  if (root.Jupyter !== undefined) {\n",
       "    var events = require('base/js/events');\n",
       "    var OutputArea = require('notebook/js/outputarea').OutputArea;\n",
       "\n",
       "    if (OutputArea.prototype.mime_types().indexOf(EXEC_MIME_TYPE) == -1) {\n",
       "      register_renderer(events, OutputArea);\n",
       "    }\n",
       "  }\n",
       "\n",
       "  \n",
       "  if (typeof (root._bokeh_timeout) === \"undefined\" || force === true) {\n",
       "    root._bokeh_timeout = Date.now() + 5000;\n",
       "    root._bokeh_failed_load = false;\n",
       "  }\n",
       "\n",
       "  var NB_LOAD_WARNING = {'data': {'text/html':\n",
       "     \"<div style='background-color: #fdd'>\\n\"+\n",
       "     \"<p>\\n\"+\n",
       "     \"BokehJS does not appear to have successfully loaded. If loading BokehJS from CDN, this \\n\"+\n",
       "     \"may be due to a slow or bad network connection. Possible fixes:\\n\"+\n",
       "     \"</p>\\n\"+\n",
       "     \"<ul>\\n\"+\n",
       "     \"<li>re-rerun `output_notebook()` to attempt to load from CDN again, or</li>\\n\"+\n",
       "     \"<li>use INLINE resources instead, as so:</li>\\n\"+\n",
       "     \"</ul>\\n\"+\n",
       "     \"<code>\\n\"+\n",
       "     \"from bokeh.resources import INLINE\\n\"+\n",
       "     \"output_notebook(resources=INLINE)\\n\"+\n",
       "     \"</code>\\n\"+\n",
       "     \"</div>\"}};\n",
       "\n",
       "  function display_loaded() {\n",
       "    var el = document.getElementById(null);\n",
       "    if (el != null) {\n",
       "      el.textContent = \"BokehJS is loading...\";\n",
       "    }\n",
       "    if (root.Bokeh !== undefined) {\n",
       "      if (el != null) {\n",
       "        el.textContent = \"BokehJS \" + root.Bokeh.version + \" successfully loaded.\";\n",
       "      }\n",
       "    } else if (Date.now() < root._bokeh_timeout) {\n",
       "      setTimeout(display_loaded, 100)\n",
       "    }\n",
       "  }\n",
       "\n",
       "\n",
       "  function run_callbacks() {\n",
       "    try {\n",
       "      root._bokeh_onload_callbacks.forEach(function(callback) { callback() });\n",
       "    }\n",
       "    finally {\n",
       "      delete root._bokeh_onload_callbacks\n",
       "    }\n",
       "    console.info(\"Bokeh: all callbacks have finished\");\n",
       "  }\n",
       "\n",
       "  function load_libs(js_urls, callback) {\n",
       "    root._bokeh_onload_callbacks.push(callback);\n",
       "    if (root._bokeh_is_loading > 0) {\n",
       "      console.log(\"Bokeh: BokehJS is being loaded, scheduling callback at\", now());\n",
       "      return null;\n",
       "    }\n",
       "    if (js_urls == null || js_urls.length === 0) {\n",
       "      run_callbacks();\n",
       "      return null;\n",
       "    }\n",
       "    console.log(\"Bokeh: BokehJS not loaded, scheduling load and callback at\", now());\n",
       "    root._bokeh_is_loading = js_urls.length;\n",
       "    for (var i = 0; i < js_urls.length; i++) {\n",
       "      var url = js_urls[i];\n",
       "      var s = document.createElement('script');\n",
       "      s.src = url;\n",
       "      s.async = false;\n",
       "      s.onreadystatechange = s.onload = function() {\n",
       "        root._bokeh_is_loading--;\n",
       "        if (root._bokeh_is_loading === 0) {\n",
       "          console.log(\"Bokeh: all BokehJS libraries loaded\");\n",
       "          run_callbacks()\n",
       "        }\n",
       "      };\n",
       "      s.onerror = function() {\n",
       "        console.warn(\"failed to load library \" + url);\n",
       "      };\n",
       "      console.log(\"Bokeh: injecting script tag for BokehJS library: \", url);\n",
       "      document.getElementsByTagName(\"head\")[0].appendChild(s);\n",
       "    }\n",
       "  };\n",
       "\n",
       "  var js_urls = [\"https://cdn.pydata.org/bokeh/release/bokeh-0.12.10.min.js\", \"https://cdn.pydata.org/bokeh/release/bokeh-widgets-0.12.10.min.js\", \"https://cdn.pydata.org/bokeh/release/bokeh-tables-0.12.10.min.js\", \"https://cdn.pydata.org/bokeh/release/bokeh-gl-0.12.10.min.js\"];\n",
       "\n",
       "  var inline_js = [\n",
       "    function(Bokeh) {\n",
       "      Bokeh.set_log_level(\"info\");\n",
       "    },\n",
       "    \n",
       "    function(Bokeh) {\n",
       "      \n",
       "    },\n",
       "    function(Bokeh) {\n",
       "      console.log(\"Bokeh: injecting CSS: https://cdn.pydata.org/bokeh/release/bokeh-0.12.10.min.css\");\n",
       "      Bokeh.embed.inject_css(\"https://cdn.pydata.org/bokeh/release/bokeh-0.12.10.min.css\");\n",
       "      console.log(\"Bokeh: injecting CSS: https://cdn.pydata.org/bokeh/release/bokeh-widgets-0.12.10.min.css\");\n",
       "      Bokeh.embed.inject_css(\"https://cdn.pydata.org/bokeh/release/bokeh-widgets-0.12.10.min.css\");\n",
       "      console.log(\"Bokeh: injecting CSS: https://cdn.pydata.org/bokeh/release/bokeh-tables-0.12.10.min.css\");\n",
       "      Bokeh.embed.inject_css(\"https://cdn.pydata.org/bokeh/release/bokeh-tables-0.12.10.min.css\");\n",
       "    }\n",
       "  ];\n",
       "\n",
       "  function run_inline_js() {\n",
       "    \n",
       "    if ((root.Bokeh !== undefined) || (force === true)) {\n",
       "      for (var i = 0; i < inline_js.length; i++) {\n",
       "        inline_js[i].call(root, root.Bokeh);\n",
       "      }} else if (Date.now() < root._bokeh_timeout) {\n",
       "      setTimeout(run_inline_js, 100);\n",
       "    } else if (!root._bokeh_failed_load) {\n",
       "      console.log(\"Bokeh: BokehJS failed to load within specified timeout.\");\n",
       "      root._bokeh_failed_load = true;\n",
       "    } else if (force !== true) {\n",
       "      var cell = $(document.getElementById(null)).parents('.cell').data().cell;\n",
       "      cell.output_area.append_execute_result(NB_LOAD_WARNING)\n",
       "    }\n",
       "\n",
       "  }\n",
       "\n",
       "  if (root._bokeh_is_loading === 0) {\n",
       "    console.log(\"Bokeh: BokehJS loaded, going straight to plotting\");\n",
       "    run_inline_js();\n",
       "  } else {\n",
       "    load_libs(js_urls, function() {\n",
       "      console.log(\"Bokeh: BokehJS plotting callback run at\", now());\n",
       "      run_inline_js();\n",
       "    });\n",
       "  }\n",
       "}(window));"
      ],
      "application/vnd.bokehjs_load.v0+json": "\n(function(root) {\n  function now() {\n    return new Date();\n  }\n\n  var force = true;\n\n  if (typeof (root._bokeh_onload_callbacks) === \"undefined\" || force === true) {\n    root._bokeh_onload_callbacks = [];\n    root._bokeh_is_loading = undefined;\n  }\n\n  \n\n  \n  if (typeof (root._bokeh_timeout) === \"undefined\" || force === true) {\n    root._bokeh_timeout = Date.now() + 5000;\n    root._bokeh_failed_load = false;\n  }\n\n  var NB_LOAD_WARNING = {'data': {'text/html':\n     \"<div style='background-color: #fdd'>\\n\"+\n     \"<p>\\n\"+\n     \"BokehJS does not appear to have successfully loaded. If loading BokehJS from CDN, this \\n\"+\n     \"may be due to a slow or bad network connection. Possible fixes:\\n\"+\n     \"</p>\\n\"+\n     \"<ul>\\n\"+\n     \"<li>re-rerun `output_notebook()` to attempt to load from CDN again, or</li>\\n\"+\n     \"<li>use INLINE resources instead, as so:</li>\\n\"+\n     \"</ul>\\n\"+\n     \"<code>\\n\"+\n     \"from bokeh.resources import INLINE\\n\"+\n     \"output_notebook(resources=INLINE)\\n\"+\n     \"</code>\\n\"+\n     \"</div>\"}};\n\n  function display_loaded() {\n    var el = document.getElementById(null);\n    if (el != null) {\n      el.textContent = \"BokehJS is loading...\";\n    }\n    if (root.Bokeh !== undefined) {\n      if (el != null) {\n        el.textContent = \"BokehJS \" + root.Bokeh.version + \" successfully loaded.\";\n      }\n    } else if (Date.now() < root._bokeh_timeout) {\n      setTimeout(display_loaded, 100)\n    }\n  }\n\n\n  function run_callbacks() {\n    try {\n      root._bokeh_onload_callbacks.forEach(function(callback) { callback() });\n    }\n    finally {\n      delete root._bokeh_onload_callbacks\n    }\n    console.info(\"Bokeh: all callbacks have finished\");\n  }\n\n  function load_libs(js_urls, callback) {\n    root._bokeh_onload_callbacks.push(callback);\n    if (root._bokeh_is_loading > 0) {\n      console.log(\"Bokeh: BokehJS is being loaded, scheduling callback at\", now());\n      return null;\n    }\n    if (js_urls == null || js_urls.length === 0) {\n      run_callbacks();\n      return null;\n    }\n    console.log(\"Bokeh: BokehJS not loaded, scheduling load and callback at\", now());\n    root._bokeh_is_loading = js_urls.length;\n    for (var i = 0; i < js_urls.length; i++) {\n      var url = js_urls[i];\n      var s = document.createElement('script');\n      s.src = url;\n      s.async = false;\n      s.onreadystatechange = s.onload = function() {\n        root._bokeh_is_loading--;\n        if (root._bokeh_is_loading === 0) {\n          console.log(\"Bokeh: all BokehJS libraries loaded\");\n          run_callbacks()\n        }\n      };\n      s.onerror = function() {\n        console.warn(\"failed to load library \" + url);\n      };\n      console.log(\"Bokeh: injecting script tag for BokehJS library: \", url);\n      document.getElementsByTagName(\"head\")[0].appendChild(s);\n    }\n  };\n\n  var js_urls = [\"https://cdn.pydata.org/bokeh/release/bokeh-0.12.10.min.js\", \"https://cdn.pydata.org/bokeh/release/bokeh-widgets-0.12.10.min.js\", \"https://cdn.pydata.org/bokeh/release/bokeh-tables-0.12.10.min.js\", \"https://cdn.pydata.org/bokeh/release/bokeh-gl-0.12.10.min.js\"];\n\n  var inline_js = [\n    function(Bokeh) {\n      Bokeh.set_log_level(\"info\");\n    },\n    \n    function(Bokeh) {\n      \n    },\n    function(Bokeh) {\n      console.log(\"Bokeh: injecting CSS: https://cdn.pydata.org/bokeh/release/bokeh-0.12.10.min.css\");\n      Bokeh.embed.inject_css(\"https://cdn.pydata.org/bokeh/release/bokeh-0.12.10.min.css\");\n      console.log(\"Bokeh: injecting CSS: https://cdn.pydata.org/bokeh/release/bokeh-widgets-0.12.10.min.css\");\n      Bokeh.embed.inject_css(\"https://cdn.pydata.org/bokeh/release/bokeh-widgets-0.12.10.min.css\");\n      console.log(\"Bokeh: injecting CSS: https://cdn.pydata.org/bokeh/release/bokeh-tables-0.12.10.min.css\");\n      Bokeh.embed.inject_css(\"https://cdn.pydata.org/bokeh/release/bokeh-tables-0.12.10.min.css\");\n    }\n  ];\n\n  function run_inline_js() {\n    \n    if ((root.Bokeh !== undefined) || (force === true)) {\n      for (var i = 0; i < inline_js.length; i++) {\n        inline_js[i].call(root, root.Bokeh);\n      }} else if (Date.now() < root._bokeh_timeout) {\n      setTimeout(run_inline_js, 100);\n    } else if (!root._bokeh_failed_load) {\n      console.log(\"Bokeh: BokehJS failed to load within specified timeout.\");\n      root._bokeh_failed_load = true;\n    } else if (force !== true) {\n      var cell = $(document.getElementById(null)).parents('.cell').data().cell;\n      cell.output_area.append_execute_result(NB_LOAD_WARNING)\n    }\n\n  }\n\n  if (root._bokeh_is_loading === 0) {\n    console.log(\"Bokeh: BokehJS loaded, going straight to plotting\");\n    run_inline_js();\n  } else {\n    load_libs(js_urls, function() {\n      console.log(\"Bokeh: BokehJS plotting callback run at\", now());\n      run_inline_js();\n    });\n  }\n}(window));"
     },
     "metadata": {},
     "output_type": "display_data"
    }
   ],
   "source": [
    "from bokeh.plotting import output_notebook, show\n",
    "output_notebook(hide_banner=True)\n",
    "\n",
    "import gene_viz\n",
    "from gene_viz.features import Transcript, Exon, CDS"
   ]
  },
  {
   "cell_type": "markdown",
   "metadata": {},
   "source": [
    "## Use PyEnsembl as the data source"
   ]
  },
  {
   "cell_type": "code",
   "execution_count": 2,
   "metadata": {
    "collapsed": true
   },
   "outputs": [],
   "source": [
    "import os\n",
    "import pyensembl\n",
    "\n",
    "# set database cache directory for pyensembl\n",
    "os.environ['PYENSEMBL_CACHE_DIR'] = os.path.abspath(\"./\")\n",
    "\n",
    "# download and unzip gencode basic annotations for hg38\n",
    "#!wget ftp://ftp.sanger.ac.uk/pub/gencode/Gencode_human/release_27/gencode.v27.basic.annotation.gtf.gz\n",
    "#!gunzip gencode.v27.basic.annotation.gtf.gz\n",
    "    \n",
    "genome = pyensembl.Genome(\n",
    "    reference_name=\"GRCh38\",\n",
    "    annotation_name=\"Gencode27\",\n",
    "    gtf_path_or_url=\"gencode.v27.basic.annotation.gtf.gz\"\n",
    ")\n",
    "genome.index()"
   ]
  },
  {
   "cell_type": "markdown",
   "metadata": {},
   "source": [
    "## Create a method to translate pyensembl objects into gene_viz features "
   ]
  },
  {
   "cell_type": "code",
   "execution_count": 3,
   "metadata": {
    "collapsed": true
   },
   "outputs": [],
   "source": [
    "def transcripts_from_pyensembl(contig, start, end):\n",
    "    \"\"\"\n",
    "    Get annotations from pyensembl and translate them into gene_viz features\n",
    "    \"\"\"\n",
    "    transcripts = []\n",
    "\n",
    "    for gene in genome.genes_at_locus(contig, start, end):\n",
    "        for t in gene.transcripts:\n",
    "            tr = Transcript(t.transcript_name, t.gene_id, t.contig, t.start, t.end, t.strand)\n",
    "                \n",
    "            for e in t.exons:\n",
    "                tr.add_exon(Exon(e.id, e.contig, e.start, e.end))\n",
    "        \n",
    "            try:\n",
    "                for c in t.coding_sequence_position_ranges:\n",
    "                    tr.add_cds(CDS(t.contig, c[0], c[1]))\n",
    "            except ValueError:\n",
    "                pass\n",
    "        \n",
    "            transcripts.append(tr)\n",
    "    \n",
    "    return transcripts"
   ]
  },
  {
   "cell_type": "markdown",
   "metadata": {},
   "source": [
    "## Create a gene_viz GenePlot"
   ]
  },
  {
   "cell_type": "code",
   "execution_count": 18,
   "metadata": {
    "collapsed": true,
    "scrolled": false
   },
   "outputs": [],
   "source": [
    "def make_plot(transcripts):\n",
    "    \"\"\"\n",
    "    Create a gene_plot object from a list of transcript feature objects\n",
    "    \"\"\"\n",
    "    start = min([t.start for t in transcripts])\n",
    "    end = max([t.end for t in transcripts])\n",
    "    contig = next((t.contig for t in transcripts), \"unlabelled\")\n",
    "    \n",
    "    gene_plot = gene_viz.GenePlot(\n",
    "        dict(\n",
    "            row_height=15,\n",
    "            pack=True,\n",
    "            show_labels=True,\n",
    "            label_horiz_position=\"center\",\n",
    "            label_vert_position=\"above\",\n",
    "            label_justify=\"center\",\n",
    "            label_offset=(0, -4),\n",
    "            label_font_size=\"6pt\",\n",
    "            intron_width_percent=0.01,\n",
    "        )\n",
    "    )\n",
    "        \n",
    "    gene_plot.x_range = (start, end)\n",
    "    gene_plot.figure.xaxis.axis_label = contig\n",
    "    gene_plot.transcripts = transcripts\n",
    "    gene_plot.update()\n",
    "    return gene_plot"
   ]
  },
  {
   "cell_type": "markdown",
   "metadata": {},
   "source": [
    "## Query pyensembl and visualize the results"
   ]
  },
  {
   "cell_type": "code",
   "execution_count": 19,
   "metadata": {},
   "outputs": [
    {
     "data": {
      "text/html": [
       "\n",
       "<div class=\"bk-root\">\n",
       "    <div class=\"bk-plotdiv\" id=\"a71ab5df-c479-48c7-9d93-b59ad8fd21f3\"></div>\n",
       "</div>"
      ]
     },
     "metadata": {},
     "output_type": "display_data"
    },
    {
     "data": {
      "application/javascript": [
       "(function(root) {\n",
       "  function embed_document(root) {\n",
       "    var docs_json = {\"c480125a-02a0-4dfd-8817-4d7a31a43ceb\":{\"roots\":{\"references\":[{\"attributes\":{\"line_color\":{\"value\":\"Black\"},\"x0\":{\"field\":\"x0\"},\"x1\":{\"field\":\"x1\"},\"y0\":{\"field\":\"y0\"},\"y1\":{\"field\":\"y1\"}},\"id\":\"5b5c6600-7b36-4073-b8ca-ff46689fbd02\",\"type\":\"Segment\"},{\"attributes\":{\"dimensions\":\"width\",\"overlay\":{\"id\":\"aaca0220-b6c5-449b-ae97-7a77de8d5769\",\"type\":\"BoxAnnotation\"}},\"id\":\"eef0bd78-90a3-449f-96d2-75193e8affd1\",\"type\":\"BoxZoomTool\"},{\"attributes\":{\"callback\":{\"id\":\"3a4732d4-27f4-49fd-8b7a-b12d1110062f\",\"type\":\"CustomJS\"},\"end\":42215442,\"start\":42090931},\"id\":\"29d0ac38-85d1-461c-8c93-03e9c48d1f75\",\"type\":\"Range1d\"},{\"attributes\":{\"text\":{\"field\":\"label\"},\"text_align\":\"center\",\"text_baseline\":\"middle\",\"text_color\":{\"value\":\"black\"},\"text_font\":\"monospace\",\"text_font_size\":{\"value\":\"6pt\"},\"x\":{\"field\":\"x\"},\"y\":{\"field\":\"y\"},\"y_offset\":{\"value\":4}},\"id\":\"84aa3aa6-dddf-4329-b1f5-83847235bc65\",\"type\":\"Text\"},{\"attributes\":{\"mantissas\":[1,2,3,4,5,6,7,8,9],\"max_interval\":3,\"min_interval\":3,\"num_minor_ticks\":3},\"id\":\"0197e767-9db5-417a-a6ac-2fbc93a33977\",\"type\":\"AdaptiveTicker\"},{\"attributes\":{\"data_source\":{\"id\":\"316a2ea1-daf1-499f-81f7-5e86ed9243ec\",\"type\":\"ColumnDataSource\"},\"glyph\":{\"id\":\"ef822c45-a472-4cde-bc9b-c596f2473982\",\"type\":\"Text\"},\"hover_glyph\":null,\"muted_glyph\":null,\"name\":\"introns\",\"nonselection_glyph\":{\"id\":\"23abc1f0-88c0-4d48-84c7-a1e672b20e50\",\"type\":\"Text\"},\"selection_glyph\":null,\"view\":{\"id\":\"3abfc417-58b3-4d96-88b8-73ec0e79479e\",\"type\":\"CDSView\"}},\"id\":\"1200fb9d-3880-42ee-8e09-9bc446777763\",\"type\":\"GlyphRenderer\"},{\"attributes\":{\"active_drag\":\"auto\",\"active_inspect\":\"auto\",\"active_scroll\":{\"id\":\"e32bb090-a3a0-40be-a0d8-12d7a47e601c\",\"type\":\"WheelZoomTool\"},\"active_tap\":\"auto\",\"logo\":null,\"tools\":[{\"id\":\"154c670d-64d1-4780-bf9e-d37e7e618fde\",\"type\":\"PanTool\"},{\"id\":\"e32bb090-a3a0-40be-a0d8-12d7a47e601c\",\"type\":\"WheelZoomTool\"},{\"id\":\"eef0bd78-90a3-449f-96d2-75193e8affd1\",\"type\":\"BoxZoomTool\"},{\"id\":\"d17275ef-82ef-4532-854e-00c9d056108e\",\"type\":\"SaveTool\"},{\"id\":\"af48b86c-90a9-4df4-b682-4a3b27ba7499\",\"type\":\"ResetTool\"}]},\"id\":\"d2c01adc-8345-40a8-a03b-b3e8e2d09201\",\"type\":\"Toolbar\"},{\"attributes\":{\"fill_color\":{\"value\":\"DarkBlue\"},\"line_color\":{\"value\":null},\"xs\":{\"field\":\"x\"},\"ys\":{\"field\":\"y\"}},\"id\":\"adaf5ab3-9b16-4780-b255-e6f86c2226d4\",\"type\":\"Patches\"},{\"attributes\":{\"source\":{\"id\":\"2d092378-1d35-4859-ba5c-8deb5dfe42de\",\"type\":\"ColumnDataSource\"}},\"id\":\"6d0808d3-3b6a-4220-9a34-68e9cf3d9555\",\"type\":\"CDSView\"},{\"attributes\":{\"callback\":null,\"column_names\":[\"x\",\"y\",\"label\",\"index\"],\"data\":{\"index\":[0,1,2,3,4,5,6,7,8,9,10,11,12,13,14,15,16,17],\"label\":[\"CYP2D6-203\",\"CYP2D6-204\",\"CYP2D6-201\",\"TCF20-202\",\"TCF20-201\",\"TCF20-203\",\"CYP2D7-201\",\"CYP2D7-203\",\"CYP2D7-208\",\"CYP2D7-207\",\"CYP2D8P-201\",\"AC254562.1-201\",\"AC254562.2-201\",\"NDUFA6-AS1-203\",\"NDUFA6-AS1-207\",\"NDUFA6-AS1-208\",\"NDUFA6-AS1-216\",\"AC254562.3-201\"],\"x\":[42128702.5,42128691.0,42128710.5,42187727.5,42188248.0,42185653.0,42142376.0,42142390.0,42142379.5,42142391.0,42152443.5,42132770.5,42138180.0,42114336.5,42108081.5,42108155.5,42134540.5,42138893.0],\"y\":[3,1,-1,3,1,-1,-1,5,1,3,-1,-1,1,5,1,-1,3,-1]}},\"id\":\"02792e63-1fa7-40da-929b-5e1454e1f10f\",\"type\":\"ColumnDataSource\"},{\"attributes\":{\"callback\":null,\"column_names\":[\"x\",\"y\",\"index\"],\"data\":{\"index\":[0,1,2,3,4,5,6,7,8,9,10,11,12,13,14,15,16,17,18,19,20,21,22,23,24,25,26,27,28,29,30,31,32,33,34,35,36,37,38,39,40,41,42,43,44,45,46,47,48,49,50,51,52,53,54,55,56,57,58,59,60,61,62,63,64,65,66,67,68,69,70,71,72,73,74,75,76,77,78,79,80,81,82,83,84,85,86,87,88,89,90,91,92,93,94,95,96,97,98,99,100,101,102,103,104,105,106,107,108,109,110,111,112,113,114,115,116,117,118,119,120,121],\"x\":[[42130612,42130791,42130791,42130906,42130906,42130791,42130791,42130612],[42129738,42129909,42129909,42129738],[42129033,42129185,42129185,42129033],[42128784,42128944,42128944,42128784],[42128174,42128350,42128350,42128174],[42127842,42127983,42127983,42127842],[42127447,42127634,42127634,42127447],[42126851,42126992,42126992,42126851],[42126499,42126577,42126577,42126752,42126752,42126577,42126577,42126499],[42130612,42130725,42130725,42130881,42130881,42130725,42130725,42130612],[42129738,42129909,42129909,42129738],[42129033,42129185,42129185,42129033],[42128784,42128944,42128944,42128784],[42128174,42128350,42128350,42128174],[42127842,42127983,42127983,42127842],[42127781,42127809,42127809,42127781],[42127447,42127662,42127662,42127447],[42126851,42126992,42126992,42126851],[42126501,42126577,42126577,42126752,42126752,42126577,42126577,42126501],[42130612,42130791,42130791,42130865,42130865,42130791,42130791,42130612],[42129738,42129909,42129909,42129738],[42128784,42128944,42128944,42128784],[42128174,42128350,42128350,42128174],[42127842,42127983,42127983,42127842],[42127447,42127634,42127634,42127447],[42126851,42126992,42126992,42126851],[42126556,42126577,42126577,42126752,42126752,42126577,42126577,42126556],[42209651,42215305,42215305,42215442,42215442,42215305,42215305,42209651],[42179609,42179702,42179702,42179609],[42169847,42169896,42169896,42169847],[42168609,42168656,42168656,42168736,42168736,42168656,42168656,42168609],[42160013,42161358,42161358,42160013],[42209651,42215305,42215305,42215440,42215440,42215305,42215305,42209651],[42179609,42179702,42179702,42179609],[42169847,42169896,42169896,42169847],[42161056,42161344,42161344,42161358,42161358,42161344,42161344,42161056],[42209651,42210208,42210208,42209651],[42179609,42179702,42179702,42179609],[42169847,42169896,42169896,42169847],[42168609,42168656,42168656,42168703,42168703,42168656,42168656,42168609],[42161098,42161358,42161358,42161098],[42144284,42144464,42144464,42144549,42144549,42144464,42144464,42144284],[42143410,42143581,42143581,42143410],[42142728,42142880,42142880,42142728],[42142479,42142639,42142639,42142479],[42141868,42142044,42142044,42141868],[42141534,42141675,42141675,42141534],[42141152,42141339,42141339,42141152],[42140555,42140696,42140696,42140555],[42140203,42140280,42140280,42140456,42140456,42140280,42140280,42140203],[42144284,42144464,42144464,42144577,42144577,42144464,42144464,42144284],[42143410,42143581,42143581,42143410],[42142728,42142880,42142880,42142728],[42142479,42142639,42142639,42142479],[42141868,42142044,42142044,42141868],[42141534,42141675,42141675,42141534],[42141152,42141396,42141396,42141152],[42140555,42140696,42140696,42140555],[42140203,42140280,42140280,42140456,42140456,42140280,42140280,42140203],[42144330,42144464,42144464,42144554,42144554,42144464,42144464,42144330],[42144284,42144328,42144328,42144284],[42143410,42143581,42143581,42143410],[42142479,42142639,42142639,42142479],[42141868,42142044,42142044,42141868],[42141534,42141675,42141675,42141534],[42141152,42141339,42141339,42141152],[42140555,42140696,42140696,42140555],[42140205,42140281,42140281,42140456,42140456,42140281,42140281,42140205],[42144330,42144464,42144464,42144577,42144577,42144464,42144464,42144330],[42144284,42144328,42144328,42144284],[42143410,42143581,42143581,42143410],[42142728,42142880,42142880,42142728],[42142479,42142639,42142639,42142479],[42141868,42142044,42142044,42141868],[42141534,42141675,42141675,42141534],[42141371,42141396,42141396,42141371],[42141152,42141367,42141367,42141152],[42140555,42140696,42140696,42140555],[42140205,42140281,42140281,42140456,42140456,42140281,42140281,42140205],[42154825,42155001,42155001,42154825],[42153029,42153200,42153200,42153029],[42152347,42152499,42152499,42152347],[42152096,42152258,42152258,42152096],[42151472,42151648,42151648,42151472],[42151144,42151285,42151285,42151144],[42150755,42150939,42150939,42150755],[42150163,42150304,42150304,42150163],[42149886,42150064,42150064,42149886],[42132543,42132998,42132998,42132543],[42139612,42139927,42139927,42139612],[42137987,42138105,42138105,42137987],[42136433,42136664,42136664,42136433],[42090931,42091181,42091181,42090931],[42091297,42091600,42091600,42091297],[42092119,42092232,42092232,42092119],[42124047,42124562,42124562,42124047],[42124875,42125407,42125407,42124875],[42136199,42136714,42136714,42136199],[42137027,42137742,42137742,42137027],[42091204,42091600,42091600,42091204],[42112306,42112390,42112390,42112306],[42122793,42122888,42122888,42122793],[42124047,42124130,42124130,42124047],[42124477,42124562,42124562,42124477],[42124875,42124959,42124959,42124875],[42091352,42091600,42091600,42091352],[42122793,42122888,42122888,42122793],[42123526,42123591,42123591,42123526],[42123766,42123804,42123804,42123766],[42124047,42124130,42124130,42124047],[42124520,42124562,42124562,42124520],[42124875,42124959,42124959,42124875],[42132031,42132190,42132190,42132031],[42132370,42132602,42132602,42132370],[42133040,42133090,42133090,42133040],[42135135,42135239,42135239,42135135],[42135678,42135743,42135743,42135678],[42136199,42136282,42136282,42136199],[42136672,42136714,42136714,42136672],[42137027,42137050,42137050,42137027],[42138060,42138282,42138282,42138060],[42139319,42139726,42139726,42139319]],\"y\":[[4.35,4.35,4.175,4.175,3.825,3.825,3.65,3.65],[4.35,4.35,3.65,3.65],[4.35,4.35,3.65,3.65],[4.35,4.35,3.65,3.65],[4.35,4.35,3.65,3.65],[4.35,4.35,3.65,3.65],[4.35,4.35,3.65,3.65],[4.35,4.35,3.65,3.65],[4.175,4.175,4.35,4.35,3.65,3.65,3.825,3.825],[2.35,2.35,2.175,2.175,1.825,1.825,1.65,1.65],[2.35,2.35,1.65,1.65],[2.35,2.35,1.65,1.65],[2.35,2.35,1.65,1.65],[2.35,2.35,1.65,1.65],[2.35,2.35,1.65,1.65],[2.35,2.35,1.65,1.65],[2.35,2.35,1.65,1.65],[2.35,2.35,1.65,1.65],[2.175,2.175,2.35,2.35,1.65,1.65,1.825,1.825],[0.35,0.35,0.175,0.175,-0.175,-0.175,-0.35,-0.35],[0.35,0.35,-0.35,-0.35],[0.35,0.35,-0.35,-0.35],[0.35,0.35,-0.35,-0.35],[0.35,0.35,-0.35,-0.35],[0.35,0.35,-0.35,-0.35],[0.35,0.35,-0.35,-0.35],[0.175,0.175,0.35,0.35,-0.35,-0.35,-0.175,-0.175],[4.35,4.35,4.175,4.175,3.825,3.825,3.65,3.65],[4.35,4.35,3.65,3.65],[4.35,4.35,3.65,3.65],[4.175,4.175,4.35,4.35,3.65,3.65,3.825,3.825],[4.175,4.175,3.825,3.825],[2.35,2.35,2.175,2.175,1.825,1.825,1.65,1.65],[2.35,2.35,1.65,1.65],[2.35,2.35,1.65,1.65],[2.175,2.175,2.35,2.35,1.65,1.65,1.825,1.825],[0.35,0.35,-0.35,-0.35],[0.35,0.35,-0.35,-0.35],[0.35,0.35,-0.35,-0.35],[0.175,0.175,0.35,0.35,-0.35,-0.35,-0.175,-0.175],[0.175,0.175,-0.175,-0.175],[0.35,0.35,0.175,0.175,-0.175,-0.175,-0.35,-0.35],[0.35,0.35,-0.35,-0.35],[0.35,0.35,-0.35,-0.35],[0.35,0.35,-0.35,-0.35],[0.35,0.35,-0.35,-0.35],[0.35,0.35,-0.35,-0.35],[0.35,0.35,-0.35,-0.35],[0.35,0.35,-0.35,-0.35],[0.175,0.175,0.35,0.35,-0.35,-0.35,-0.175,-0.175],[6.35,6.35,6.175,6.175,5.825,5.825,5.65,5.65],[6.35,6.35,5.65,5.65],[6.35,6.35,5.65,5.65],[6.35,6.35,5.65,5.65],[6.35,6.35,5.65,5.65],[6.35,6.35,5.65,5.65],[6.35,6.35,5.65,5.65],[6.35,6.35,5.65,5.65],[6.175,6.175,6.35,6.35,5.65,5.65,5.825,5.825],[2.35,2.35,2.175,2.175,1.825,1.825,1.65,1.65],[2.35,2.35,1.65,1.65],[2.35,2.35,1.65,1.65],[2.35,2.35,1.65,1.65],[2.35,2.35,1.65,1.65],[2.35,2.35,1.65,1.65],[2.35,2.35,1.65,1.65],[2.35,2.35,1.65,1.65],[2.175,2.175,2.35,2.35,1.65,1.65,1.825,1.825],[4.35,4.35,4.175,4.175,3.825,3.825,3.65,3.65],[4.35,4.35,3.65,3.65],[4.35,4.35,3.65,3.65],[4.35,4.35,3.65,3.65],[4.35,4.35,3.65,3.65],[4.35,4.35,3.65,3.65],[4.35,4.35,3.65,3.65],[4.35,4.35,3.65,3.65],[4.35,4.35,3.65,3.65],[4.35,4.35,3.65,3.65],[4.175,4.175,4.35,4.35,3.65,3.65,3.825,3.825],[0.175,0.175,-0.175,-0.175],[0.175,0.175,-0.175,-0.175],[0.175,0.175,-0.175,-0.175],[0.175,0.175,-0.175,-0.175],[0.175,0.175,-0.175,-0.175],[0.175,0.175,-0.175,-0.175],[0.175,0.175,-0.175,-0.175],[0.175,0.175,-0.175,-0.175],[0.175,0.175,-0.175,-0.175],[0.175,0.175,-0.175,-0.175],[2.175,2.175,1.825,1.825],[2.175,2.175,1.825,1.825],[2.175,2.175,1.825,1.825],[6.175,6.175,5.825,5.825],[6.175,6.175,5.825,5.825],[6.175,6.175,5.825,5.825],[6.175,6.175,5.825,5.825],[6.175,6.175,5.825,5.825],[6.175,6.175,5.825,5.825],[6.175,6.175,5.825,5.825],[2.175,2.175,1.825,1.825],[2.175,2.175,1.825,1.825],[2.175,2.175,1.825,1.825],[2.175,2.175,1.825,1.825],[2.175,2.175,1.825,1.825],[2.175,2.175,1.825,1.825],[0.175,0.175,-0.175,-0.175],[0.175,0.175,-0.175,-0.175],[0.175,0.175,-0.175,-0.175],[0.175,0.175,-0.175,-0.175],[0.175,0.175,-0.175,-0.175],[0.175,0.175,-0.175,-0.175],[0.175,0.175,-0.175,-0.175],[4.175,4.175,3.825,3.825],[4.175,4.175,3.825,3.825],[4.175,4.175,3.825,3.825],[4.175,4.175,3.825,3.825],[4.175,4.175,3.825,3.825],[4.175,4.175,3.825,3.825],[4.175,4.175,3.825,3.825],[4.175,4.175,3.825,3.825],[0.175,0.175,-0.175,-0.175],[0.175,0.175,-0.175,-0.175]]}},\"id\":\"01bdca52-ac15-4364-82d5-3560a519cfc4\",\"type\":\"ColumnDataSource\"},{\"attributes\":{},\"id\":\"d17275ef-82ef-4532-854e-00c9d056108e\",\"type\":\"SaveTool\"},{\"attributes\":{},\"id\":\"cf906b10-9065-4e0c-8840-070433599d0d\",\"type\":\"LinearScale\"},{\"attributes\":{},\"id\":\"187641e7-ff53-48b8-b37d-5df94513419e\",\"type\":\"LinearScale\"},{\"attributes\":{\"data_source\":{\"id\":\"01bdca52-ac15-4364-82d5-3560a519cfc4\",\"type\":\"ColumnDataSource\"},\"glyph\":{\"id\":\"adaf5ab3-9b16-4780-b255-e6f86c2226d4\",\"type\":\"Patches\"},\"hover_glyph\":null,\"muted_glyph\":null,\"name\":\"exons\",\"nonselection_glyph\":{\"id\":\"1e303e08-73e1-466a-8f01-2f5b6fa7943b\",\"type\":\"Patches\"},\"selection_glyph\":null,\"view\":{\"id\":\"c3a9f088-c8f8-4247-9c2d-33f61a30244f\",\"type\":\"CDSView\"}},\"id\":\"adfee458-81cb-4d76-a268-28b20e2cc5a1\",\"type\":\"GlyphRenderer\"},{\"attributes\":{\"axis_label\":\"22\",\"formatter\":{\"id\":\"21215553-c284-44a4-91ae-641d8e20125e\",\"type\":\"NumeralTickFormatter\"},\"plot\":{\"id\":\"665b5bde-48a0-469e-9ac3-e89c2de3af1c\",\"subtype\":\"Figure\",\"type\":\"Plot\"},\"ticker\":{\"id\":\"a1667052-d2ba-4e41-b46f-34a9f5d60358\",\"type\":\"CompositeTicker\"}},\"id\":\"6410af2a-10b7-4d72-a53a-a689c103a596\",\"type\":\"LinearAxis\"},{\"attributes\":{\"callback\":null,\"column_names\":[\"x\",\"y\",\"angle\",\"width\",\"alpha\",\"index\"],\"data\":{\"alpha\":{\"__ndarray__\":\"AAAAAAAAAAAAAAAAAAAAAAAAAAAAAAAAAAAAAAAAAAAAAAAAAAAAAAAAAAAAAAAAAAAAAAAAAAAAAAAAAAAAAAAAAAAAAAAAAAAAAAAAAAAAAAAAAAAAAAAAAAAAAAAAAAAAAAAAAAAAAAAAAAAAAAAAAAAAAAAAAAAAAAAAAAAAAAAAAAAAAAAAAAAAAAAAAAAAAAAAAAAAAAAAAAAAAAAAAAAAAAAAAAAAAAAAAAAAAAAAAAAAAAAAAAAAAAAAAAAAAAAA8D8AAAAAAAAAAAAAAAAAAPA/AAAAAAAA8D8AAAAAAADwPwAAAAAAAPA/AAAAAAAA8D8AAAAAAADwPwAAAAAAAAAAAAAAAAAA8D8AAAAAAADwPwAAAAAAAAAAAAAAAAAAAAAAAAAAAAAAAAAAAAAAAAAAAAAAAAAAAAAAAAAAAAAAAAAAAAAAAAAAAAAAAAAAAAAAAAAAAAAAAAAAAAAAAAAAAAAAAAAAAAAAAAAAAAAAAAAAAAAAAAAAAAAAAAAAAAAAAAAAAAAAAAAAAAAAAAAAAAAAAAAAAAAAAAAAAAAAAAAAAAAAAAAAAAAAAAAAAAAAAAAAAAAAAAAAAAAAAAAAAAAAAAAAAAAAAAAAAAAAAAAAAAAAAAAAAAAAAAAAAAAAAAAAAAAAAAAAAAAAAAAAAAAAAAAAAAAAAAAAAAAAAAAAAAAAAAAAAAAAAAAAAAAAAAAAAAAAAAAAAAAAAAAAAAAAAAAAAAAAAAAAAAAAAAAAAAAAAAAAAAAAAAAAAAAAAAAAAAAAAAAAAAAAAAAAAAAAAAAAAAAAAAAAAADwPwAAAAAAAPA/AAAAAAAA8D8AAAAAAAAAAAAAAAAAAAAAAAAAAAAA8D8AAAAAAAAAAAAAAAAAAPA/AAAAAAAAAAAAAAAAAADwPwAAAAAAAPA/AAAAAAAAAAAAAAAAAAAAAAAAAAAAAAAAAAAAAAAA8D8AAAAAAAAAAAAAAAAAAAAAAAAAAAAAAAAAAAAAAAAAAAAAAAAAAAAAAAAAAAAAAAAAAAAAAAAAAAAAAAAAAPA/AAAAAAAAAAAAAAAAAAAAAAAAAAAAAAAAAAAAAAAAAAAAAAAAAAAAAA==\",\"dtype\":\"float64\",\"shape\":[104]},\"angle\":{\"__ndarray__\":\"AAAAAACAVsAAAAAAAIBWwAAAAAAAgFbAAAAAAACAVsAAAAAAAIBWwAAAAAAAgFbAAAAAAACAVsAAAAAAAIBWwAAAAAAAgFbAAAAAAACAVsAAAAAAAIBWwAAAAAAAgFbAAAAAAACAVsAAAAAAAIBWwAAAAAAAgFbAAAAAAACAVsAAAAAAAIBWwAAAAAAAgFbAAAAAAACAVsAAAAAAAIBWwAAAAAAAgFbAAAAAAACAVsAAAAAAAIBWwAAAAAAAgFbAAAAAAACAVsAAAAAAAIBWwAAAAAAAgFbAAAAAAACAVsAAAAAAAIBWwAAAAAAAgFbAAAAAAACAVsAAAAAAAIBWwAAAAAAAgFbAAAAAAACAVsAAAAAAAIBWwAAAAAAAgFbAAAAAAACAVsAAAAAAAIBWwAAAAAAAgFbAAAAAAACAVsAAAAAAAIBWwAAAAAAAgFbAAAAAAACAVsAAAAAAAIBWwAAAAAAAgFbAAAAAAACAVsAAAAAAAIBWwAAAAAAAgFbAAAAAAACAVsAAAAAAAIBWwAAAAAAAgFbAAAAAAACAVsAAAAAAAIBWwAAAAAAAgFbAAAAAAACAVsAAAAAAAIBWwAAAAAAAgFbAAAAAAACAVsAAAAAAAIBWwAAAAAAAgFbAAAAAAACAVsAAAAAAAIBWwAAAAAAAgFbAAAAAAACAVsAAAAAAAIBWwAAAAAAAgFbAAAAAAACAVsAAAAAAAIBWwAAAAAAAgFbAAAAAAACAVsAAAAAAAIBWwAAAAAAAgFbAAAAAAACAVsAAAAAAAIBWwAAAAAAAgFbAAAAAAACAVsAAAAAAAIBWwAAAAAAAgFbAAAAAAACAVsAAAAAAAIBWQAAAAAAAgFZAAAAAAACAVkAAAAAAAIBWQAAAAAAAgFZAAAAAAACAVkAAAAAAAIBWQAAAAAAAgFZAAAAAAACAVkAAAAAAAIBWQAAAAAAAgFZAAAAAAACAVkAAAAAAAIBWQAAAAAAAgFZAAAAAAACAVkAAAAAAAIBWQAAAAAAAgFZAAAAAAACAVkAAAAAAAIBWQAAAAAAAgFZAAAAAAACAVkAAAAAAAIBWQAAAAAAAgFZAAAAAAACAVkAAAAAAAIBWQA==\",\"dtype\":\"float64\",\"shape\":[104]},\"index\":[0,1,2,3,4,5,6,7,8,9,10,11,12,13,14,15,16,17,18,19,20,21,22,23,24,25,26,27,28,29,30,31,32,33,34,35,36,37,38,39,40,41,42,43,44,45,46,47,48,49,50,51,52,53,54,55,56,57,58,59,60,61,62,63,64,65,66,67,68,69,70,71,72,73,74,75,76,77,78,79,80,81,82,83,84,85,86,87,88,89,90,91,92,93,94,95,96,97,98,99,100,101,102,103],\"width\":{\"__ndarray__\":\"AAAAAADAWEAAAAAAAHB8QAAAAAAAAGpAAAAAAADgZ0AAAAAAACB7QAAAAAAAQFZAAAAAAABIgUAAAAAAAPiFQAAAAAAAwFhAAAAAAABwfEAAAAAAAMBdQAAAAAAAgEBAAAAAAADgZ0AAAAAAACB7QAAAAAAAQFZAAAAAAABIgUAAAAAAAPiFQAAAAAAAwFhAAAAAAABwfEAAAAAAAABqQAAAAAAA4GdAAAAAAAAge0AAAAAAANCIQAAAAAAA+IVAAAAAAABTvEAAAAAAAFyRQAAAAACA+MJAAAAAAEA/3UAAAAAAgJTAQAAAAACA+MJAAAAAAEA/3UAAAAAAAFO8QAAAAAAA4JFAAAAAAID4wkAAAAAAQD/dQAAAAAAAwFhAAAAAAACAfEAAAAAAAGBoQAAAAAAAIGhAAAAAAAAwe0AAAAAAAEBWQAAAAAAAkIBAAAAAAAD4hUAAAAAAAMBYQAAAAAAAgHxAAAAAAABAYUAAAAAAACBoQAAAAAAAMHtAAAAAAABAVkAAAAAAAJCAQAAAAAAA+IVAAAAAAADAWEAAAAAAAIB8QAAAAAAAYGhAAAAAAAAgaEAAAAAAADB7QAAAAAAAGIhAAAAAAAD4hUAAAAAAAAAAQAAAAAAAwFhAAAAAAACAfEAAAAAAAAAQQAAAAAAAQGFAAAAAAAAgaEAAAAAAADB7QAAAAAAAQFZAAAAAAACQgEAAAAAAAPiFQAAAAAAAAABAAAAAAADAWEAAAAAAADB8QAAAAAAAoGlAAAAAAABgZ0AAAAAAAAB8QAAAAAAAQFZAAAAAAACQgEAAAAAAAGSZQAAAAAAArJRAAAAAAACMl0AAAAAAAABdQAAAAAAAOIBAAAAAAMAR30AAAAAAAJBzQAAAAAAAFMVAAAAAAACQc0AAAAAAgDjUQAAAAACAUcRAAAAAAAAckkAAAAAAALB1QAAAAAAAkHNAAAAAAEB23kAAAAAAAPCDQAAAAAAA4GVAAAAAAABgbkAAAAAAAGB4QAAAAAAAkHNAAAAAAACAZkAAAAAAAGB7QAAAAAAA9J9AAAAAAABwe0AAAAAAAIB8QAAAAAAAYHhAAAAAAACQc0AAAAAAADSQQA==\",\"dtype\":\"float64\",\"shape\":[104]},\"x\":{\"__ndarray__\":\"AAAAjG4WhEEAAACcexaEQQAAANCLFoRBAAAAdJYWhEEAAAC4pRaEQQAAAOSyFoRBAAAArMEWhEEAAACk2haEQQAAAIxuFoRBAAAAnHsWhEEAAABMixaEQQAAAIyOFoRBAAAAdJYWhEEAAAC4pRaEQQAAAOSyFoRBAAAArMEWhEEAAACk2haEQQAAAIxuFoRBAAAAnHsWhEEAAADQixaEQQAAAHSWFoRBAAAAuKUWhEEAAADovRaEQQAAAKTaFoRBAAAAvBcbhEEAAABcnhuEQQAAAARJHIRBAAAApLcehEEAAAAUKxuEQQAAAARJHIRBAAAApLcehEEAAAC8FxuEQQAAANidG4RBAAAABEkchEEAAACktx6EQQAAAMwaGIRBAAAA4CcYhEEAAADkNxiEQQAAAFxCGIRBAAAArFEYhEEAAADcXhiEQQAAAEhtGIRBAAAA5IUYhEEAAADMGhiEQQAAAOAnGIRBAAAAyDgYhEEAAABcQhiEQQAAAKxRGIRBAAAA3F4YhEEAAABIbRiEQQAAAOSFGIRBAAAAzBoYhEEAAADgJxiEQQAAAOQ3GIRBAAAAXEIYhEEAAACsURiEQQAAAIRpGIRBAAAA5IUYhEEAAABIkhiEQQAAAMwaGIRBAAAA4CcYhEEAAADINRiEQQAAAMg4GIRBAAAAXEIYhEEAAACsURiEQQAAANxeGIRBAAAASG0YhEEAAADkhRiEQQAAAEiSGIRBAAAADEcZhEEAAAAMVBmEQQAAAAxkGYRBAAAAlG4ZhEEAAAAAfhmEQQAAAHSLGYRBAAAA4JkZhEEAAADkwBmEQQAAAGy3F4RBAAAAVOcXhEEAAAA4FxKEQQAAAJwqEoRBAAAAXCcUhEEAAAB0LRaEQQAAAJjrFoRBAAAANKkXhEEAAAAIZhOEQQAAALxOFYRBAAAAXAYWhEEAAAB8IBaEQQAAAHQtFoRBAAAA5AkUhEEAAAA4/hWEQQAAAPQMFoRBAAAArBQWhEEAAAAoIRaEQQAAAHQtFoRBAAAAwBkXhEEAAACoKheEQQAAAARTF4RBAAAAFH0XhEEAAAAYjReEQQAAAOicF4RBAAAANKkXhEEAAACE5ReEQQ==\",\"dtype\":\"float64\",\"shape\":[104]},\"y\":{\"__ndarray__\":\"AAAAAAAAEEAAAAAAAAAQQAAAAAAAABBAAAAAAAAAEEAAAAAAAAAQQAAAAAAAABBAAAAAAAAAEEAAAAAAAAAQQAAAAAAAAABAAAAAAAAAAEAAAAAAAAAAQAAAAAAAAABAAAAAAAAAAEAAAAAAAAAAQAAAAAAAAABAAAAAAAAAAEAAAAAAAAAAQAAAAAAAAAAAAAAAAAAAAAAAAAAAAAAAAAAAAAAAAAAAAAAAAAAAAAAAAAAAAAAAAAAAAAAAAAAAAAAAAAAAEEAAAAAAAAAQQAAAAAAAABBAAAAAAAAAEEAAAAAAAAAAQAAAAAAAAABAAAAAAAAAAEAAAAAAAAAAAAAAAAAAAAAAAAAAAAAAAAAAAAAAAAAAAAAAAAAAAAAAAAAAAAAAAAAAAAAAAAAAAAAAAAAAAAAAAAAAAAAAAAAAAAAAAAAAAAAAAAAAAAAAAAAAAAAAAAAAAAAAAAAYQAAAAAAAABhAAAAAAAAAGEAAAAAAAAAYQAAAAAAAABhAAAAAAAAAGEAAAAAAAAAYQAAAAAAAABhAAAAAAAAAAEAAAAAAAAAAQAAAAAAAAABAAAAAAAAAAEAAAAAAAAAAQAAAAAAAAABAAAAAAAAAAEAAAAAAAAAAQAAAAAAAABBAAAAAAAAAEEAAAAAAAAAQQAAAAAAAABBAAAAAAAAAEEAAAAAAAAAQQAAAAAAAABBAAAAAAAAAEEAAAAAAAAAQQAAAAAAAABBAAAAAAAAAAAAAAAAAAAAAAAAAAAAAAAAAAAAAAAAAAAAAAAAAAAAAAAAAAAAAAAAAAAAAAAAAAAAAAAAAAAAAAAAAAAAAAABAAAAAAAAAAEAAAAAAAAAYQAAAAAAAABhAAAAAAAAAGEAAAAAAAAAYQAAAAAAAABhAAAAAAAAAGEAAAAAAAAAAQAAAAAAAAABAAAAAAAAAAEAAAAAAAAAAQAAAAAAAAABAAAAAAAAAAAAAAAAAAAAAAAAAAAAAAAAAAAAAAAAAAAAAAAAAAAAAAAAAAAAAAAAAAAAAAAAAEEAAAAAAAAAQQAAAAAAAABBAAAAAAAAAEEAAAAAAAAAQQAAAAAAAABBAAAAAAAAAEEAAAAAAAAAAAA==\",\"dtype\":\"float64\",\"shape\":[104]}}},\"id\":\"316a2ea1-daf1-499f-81f7-5e86ed9243ec\",\"type\":\"ColumnDataSource\"},{\"attributes\":{\"tickers\":[{\"id\":\"393a7688-18be-4834-a2d3-6a9ef5b34e29\",\"type\":\"AdaptiveTicker\"},{\"id\":\"0d6b754e-6454-45a1-9bd6-7e1a121df915\",\"type\":\"AdaptiveTicker\"},{\"id\":\"0197e767-9db5-417a-a6ac-2fbc93a33977\",\"type\":\"AdaptiveTicker\"},{\"id\":\"6c38aa97-5f2d-4f7a-a417-d3212e8647a0\",\"type\":\"AdaptiveTicker\"},{\"id\":\"ff9065db-f65f-491f-b040-124a86a0849f\",\"type\":\"AdaptiveTicker\"}]},\"id\":\"a1667052-d2ba-4e41-b46f-34a9f5d60358\",\"type\":\"CompositeTicker\"},{\"attributes\":{\"data_source\":{\"id\":\"02792e63-1fa7-40da-929b-5e1454e1f10f\",\"type\":\"ColumnDataSource\"},\"glyph\":{\"id\":\"84aa3aa6-dddf-4329-b1f5-83847235bc65\",\"type\":\"Text\"},\"hover_glyph\":null,\"muted_glyph\":null,\"name\":\"transcript_labels\",\"nonselection_glyph\":{\"id\":\"462bdf5c-034b-4acd-bab7-782aa0c1bbb7\",\"type\":\"Text\"},\"selection_glyph\":null,\"view\":{\"id\":\"f8bc350f-79ca-4a8a-a729-777f239fc615\",\"type\":\"CDSView\"}},\"id\":\"fbdf77fa-b3b7-4de6-b743-109c6776e44f\",\"type\":\"GlyphRenderer\"},{\"attributes\":{},\"id\":\"9d09aac0-8001-43d4-86d2-44b9daf647f5\",\"type\":\"BasicTickFormatter\"},{\"attributes\":{\"grid_line_color\":{\"value\":null},\"plot\":{\"id\":\"665b5bde-48a0-469e-9ac3-e89c2de3af1c\",\"subtype\":\"Figure\",\"type\":\"Plot\"},\"ticker\":{\"id\":\"076db46a-a647-4be3-9c3b-2d2c87feae98\",\"type\":\"BasicTicker\"}},\"id\":\"d6b430ad-201a-4633-a807-8539b5ab3d79\",\"type\":\"Grid\"},{\"attributes\":{\"dimensions\":\"width\"},\"id\":\"e32bb090-a3a0-40be-a0d8-12d7a47e601c\",\"type\":\"WheelZoomTool\"},{\"attributes\":{\"source\":{\"id\":\"02792e63-1fa7-40da-929b-5e1454e1f10f\",\"type\":\"ColumnDataSource\"}},\"id\":\"f8bc350f-79ca-4a8a-a729-777f239fc615\",\"type\":\"CDSView\"},{\"attributes\":{\"source\":{\"id\":\"316a2ea1-daf1-499f-81f7-5e86ed9243ec\",\"type\":\"ColumnDataSource\"}},\"id\":\"3abfc417-58b3-4d96-88b8-73ec0e79479e\",\"type\":\"CDSView\"},{\"attributes\":{\"data_source\":{\"id\":\"2d092378-1d35-4859-ba5c-8deb5dfe42de\",\"type\":\"ColumnDataSource\"},\"glyph\":{\"id\":\"5b5c6600-7b36-4073-b8ca-ff46689fbd02\",\"type\":\"Segment\"},\"hover_glyph\":null,\"muted_glyph\":null,\"name\":\"transcripts\",\"nonselection_glyph\":{\"id\":\"2f5c5923-c961-4d92-abfd-7f8c909422f2\",\"type\":\"Segment\"},\"selection_glyph\":null,\"view\":{\"id\":\"6d0808d3-3b6a-4220-9a34-68e9cf3d9555\",\"type\":\"CDSView\"}},\"id\":\"676c5241-4e15-4d15-a8d4-b0786a737622\",\"type\":\"GlyphRenderer\"},{\"attributes\":{\"fill_alpha\":{\"value\":0.1},\"fill_color\":{\"value\":\"#1f77b4\"},\"line_alpha\":{\"value\":0.1},\"line_color\":{\"value\":\"#1f77b4\"},\"xs\":{\"field\":\"x\"},\"ys\":{\"field\":\"y\"}},\"id\":\"1e303e08-73e1-466a-8f01-2f5b6fa7943b\",\"type\":\"Patches\"},{\"attributes\":{},\"id\":\"076db46a-a647-4be3-9c3b-2d2c87feae98\",\"type\":\"BasicTicker\"},{\"attributes\":{\"plot\":null,\"text\":\"\"},\"id\":\"9a750a3a-f21c-4de8-8945-8bd1cce2a79d\",\"type\":\"Title\"},{\"attributes\":{},\"id\":\"21215553-c284-44a4-91ae-641d8e20125e\",\"type\":\"NumeralTickFormatter\"},{\"attributes\":{\"callback\":null,\"column_names\":[\"x0\",\"y0\",\"x1\",\"y1\",\"index\"],\"data\":{\"index\":[0,1,2,3,4,5,6,7,8,9,10,11,12,13,14,15,16,17],\"x0\":[42126498,42126500,42126555,42160012,42161055,42161097,42140202,42140202,42140204,42140204,42149885,42132542,42136432,42090930,42091203,42091351,42132030,42138059],\"x1\":[42130906,42130881,42130865,42215442,42215440,42210208,42144549,42144577,42144554,42144577,42155001,42132998,42139927,42137742,42124959,42124959,42137050,42139726],\"y0\":[4,2,0,4,2,0,0,6,2,4,0,0,2,6,2,0,4,0],\"y1\":[4,2,0,4,2,0,0,6,2,4,0,0,2,6,2,0,4,0]}},\"id\":\"2d092378-1d35-4859-ba5c-8deb5dfe42de\",\"type\":\"ColumnDataSource\"},{\"attributes\":{\"line_alpha\":{\"value\":0.1},\"line_color\":{\"value\":\"#1f77b4\"},\"x0\":{\"field\":\"x0\"},\"x1\":{\"field\":\"x1\"},\"y0\":{\"field\":\"y0\"},\"y1\":{\"field\":\"y1\"}},\"id\":\"2f5c5923-c961-4d92-abfd-7f8c909422f2\",\"type\":\"Segment\"},{\"attributes\":{\"angle\":{\"field\":\"angle\",\"units\":\"deg\"},\"text\":{\"value\":\"v\"},\"text_align\":\"center\",\"text_alpha\":{\"value\":0.1},\"text_baseline\":\"middle\",\"text_color\":{\"value\":\"black\"},\"text_font\":\"sans-serif\",\"text_font_size\":{\"value\":\"5pt\"},\"text_font_style\":\"bold\",\"x\":{\"field\":\"x\"},\"y\":{\"field\":\"y\"}},\"id\":\"23abc1f0-88c0-4d48-84c7-a1e672b20e50\",\"type\":\"Text\"},{\"attributes\":{\"callback\":null,\"end\":-1.5,\"start\":7},\"id\":\"d86edf04-cf79-485f-8c21-5a3c4c0ac49f\",\"type\":\"Range1d\"},{\"attributes\":{\"formatter\":{\"id\":\"9d09aac0-8001-43d4-86d2-44b9daf647f5\",\"type\":\"BasicTickFormatter\"},\"plot\":{\"id\":\"665b5bde-48a0-469e-9ac3-e89c2de3af1c\",\"subtype\":\"Figure\",\"type\":\"Plot\"},\"ticker\":{\"id\":\"95c598d2-2756-4ba2-9496-037c164cea7e\",\"type\":\"BasicTicker\"},\"visible\":false},\"id\":\"46a51174-58c5-42eb-83bd-1523188c2ffa\",\"type\":\"LinearAxis\"},{\"attributes\":{\"dimension\":1,\"grid_line_color\":{\"value\":null},\"plot\":{\"id\":\"665b5bde-48a0-469e-9ac3-e89c2de3af1c\",\"subtype\":\"Figure\",\"type\":\"Plot\"},\"ticker\":{\"id\":\"95c598d2-2756-4ba2-9496-037c164cea7e\",\"type\":\"BasicTicker\"}},\"id\":\"093415a0-98e0-4044-81c5-9d33abd935b9\",\"type\":\"Grid\"},{\"attributes\":{\"angle\":{\"field\":\"angle\",\"units\":\"deg\"},\"text\":{\"value\":\"v\"},\"text_align\":\"center\",\"text_alpha\":{\"field\":\"alpha\"},\"text_baseline\":\"middle\",\"text_color\":{\"value\":\"Black\"},\"text_font\":\"sans-serif\",\"text_font_size\":{\"value\":\"5pt\"},\"text_font_style\":\"bold\",\"x\":{\"field\":\"x\"},\"y\":{\"field\":\"y\"}},\"id\":\"ef822c45-a472-4cde-bc9b-c596f2473982\",\"type\":\"Text\"},{\"attributes\":{\"bottom_units\":\"screen\",\"fill_alpha\":{\"value\":0.5},\"fill_color\":{\"value\":\"lightgrey\"},\"left_units\":\"screen\",\"level\":\"overlay\",\"line_alpha\":{\"value\":1.0},\"line_color\":{\"value\":\"black\"},\"line_dash\":[4,4],\"line_width\":{\"value\":2},\"plot\":null,\"render_mode\":\"css\",\"right_units\":\"screen\",\"top_units\":\"screen\"},\"id\":\"aaca0220-b6c5-449b-ae97-7a77de8d5769\",\"type\":\"BoxAnnotation\"},{\"attributes\":{},\"id\":\"af48b86c-90a9-4df4-b682-4a3b27ba7499\",\"type\":\"ResetTool\"},{\"attributes\":{\"text\":{\"field\":\"label\"},\"text_align\":\"center\",\"text_alpha\":{\"value\":0.1},\"text_baseline\":\"middle\",\"text_color\":{\"value\":\"black\"},\"text_font\":\"monospace\",\"text_font_size\":{\"value\":\"6pt\"},\"x\":{\"field\":\"x\"},\"y\":{\"field\":\"y\"}},\"id\":\"462bdf5c-034b-4acd-bab7-782aa0c1bbb7\",\"type\":\"Text\"},{\"attributes\":{\"mantissas\":[1,2,3,4,5,6,7,8,9],\"max_interval\":4,\"min_interval\":4,\"num_minor_ticks\":4},\"id\":\"6c38aa97-5f2d-4f7a-a417-d3212e8647a0\",\"type\":\"AdaptiveTicker\"},{\"attributes\":{\"below\":[{\"id\":\"6410af2a-10b7-4d72-a53a-a689c103a596\",\"type\":\"LinearAxis\"}],\"left\":[{\"id\":\"46a51174-58c5-42eb-83bd-1523188c2ffa\",\"type\":\"LinearAxis\"}],\"outline_line_alpha\":{\"value\":0},\"plot_height\":155,\"plot_width\":800,\"renderers\":[{\"id\":\"6410af2a-10b7-4d72-a53a-a689c103a596\",\"type\":\"LinearAxis\"},{\"id\":\"d6b430ad-201a-4633-a807-8539b5ab3d79\",\"type\":\"Grid\"},{\"id\":\"46a51174-58c5-42eb-83bd-1523188c2ffa\",\"type\":\"LinearAxis\"},{\"id\":\"093415a0-98e0-4044-81c5-9d33abd935b9\",\"type\":\"Grid\"},{\"id\":\"aaca0220-b6c5-449b-ae97-7a77de8d5769\",\"type\":\"BoxAnnotation\"},{\"id\":\"676c5241-4e15-4d15-a8d4-b0786a737622\",\"type\":\"GlyphRenderer\"},{\"id\":\"1200fb9d-3880-42ee-8e09-9bc446777763\",\"type\":\"GlyphRenderer\"},{\"id\":\"adfee458-81cb-4d76-a268-28b20e2cc5a1\",\"type\":\"GlyphRenderer\"},{\"id\":\"fbdf77fa-b3b7-4de6-b743-109c6776e44f\",\"type\":\"GlyphRenderer\"}],\"title\":{\"id\":\"9a750a3a-f21c-4de8-8945-8bd1cce2a79d\",\"type\":\"Title\"},\"toolbar\":{\"id\":\"d2c01adc-8345-40a8-a03b-b3e8e2d09201\",\"type\":\"Toolbar\"},\"x_range\":{\"id\":\"29d0ac38-85d1-461c-8c93-03e9c48d1f75\",\"type\":\"Range1d\"},\"x_scale\":{\"id\":\"187641e7-ff53-48b8-b37d-5df94513419e\",\"type\":\"LinearScale\"},\"y_range\":{\"id\":\"d86edf04-cf79-485f-8c21-5a3c4c0ac49f\",\"type\":\"Range1d\"},\"y_scale\":{\"id\":\"cf906b10-9065-4e0c-8840-070433599d0d\",\"type\":\"LinearScale\"}},\"id\":\"665b5bde-48a0-469e-9ac3-e89c2de3af1c\",\"subtype\":\"Figure\",\"type\":\"Plot\"},{\"attributes\":{\"mantissas\":[1,2,3,4,5,6,7,8,9],\"max_interval\":1,\"min_interval\":1,\"num_minor_ticks\":1},\"id\":\"393a7688-18be-4834-a2d3-6a9ef5b34e29\",\"type\":\"AdaptiveTicker\"},{\"attributes\":{\"mantissas\":[1,2,3,4,5,6,7,8,9],\"max_interval\":2,\"min_interval\":2,\"num_minor_ticks\":2},\"id\":\"0d6b754e-6454-45a1-9bd6-7e1a121df915\",\"type\":\"AdaptiveTicker\"},{\"attributes\":{\"mantissas\":[1,2,3,4,5,6,7,8,9],\"min_interval\":5},\"id\":\"ff9065db-f65f-491f-b040-124a86a0849f\",\"type\":\"AdaptiveTicker\"},{\"attributes\":{\"args\":{\"source\":{\"id\":\"316a2ea1-daf1-499f-81f7-5e86ed9243ec\",\"type\":\"ColumnDataSource\"}},\"code\":\"\\nvar start = cb_obj.start;\\nvar end = cb_obj.end;\\nvar width = end - start;\\nvar threshold = 0.010000 * width;     // threshold factor is set from python-side configuration\\nvar intron_alpha = 1.000000;          // alpha value is set from python-side configuration\\n\\n// iterate over each intron\\nvar data = source.data;\\nfor (i=0; i<data[\\\"x\\\"].length; i++)\\n{\\n    // if the screen-space width is large enough, make the intron visible\\n    if(data[\\\"width\\\"][i] >= threshold)\\n        data[\\\"alpha\\\"][i] = intron_alpha;\\n    else\\n    // otherwise, make the intron fully transparent\\n        data[\\\"alpha\\\"][i] = 0;\\n}\\n\\nsource.change.emit();\\n\"},\"id\":\"3a4732d4-27f4-49fd-8b7a-b12d1110062f\",\"type\":\"CustomJS\"},{\"attributes\":{},\"id\":\"95c598d2-2756-4ba2-9496-037c164cea7e\",\"type\":\"BasicTicker\"},{\"attributes\":{\"source\":{\"id\":\"01bdca52-ac15-4364-82d5-3560a519cfc4\",\"type\":\"ColumnDataSource\"}},\"id\":\"c3a9f088-c8f8-4247-9c2d-33f61a30244f\",\"type\":\"CDSView\"},{\"attributes\":{\"dimensions\":\"width\"},\"id\":\"154c670d-64d1-4780-bf9e-d37e7e618fde\",\"type\":\"PanTool\"}],\"root_ids\":[\"665b5bde-48a0-469e-9ac3-e89c2de3af1c\"]},\"title\":\"Bokeh Application\",\"version\":\"0.12.10\"}};\n",
       "    var render_items = [{\"docid\":\"c480125a-02a0-4dfd-8817-4d7a31a43ceb\",\"elementid\":\"a71ab5df-c479-48c7-9d93-b59ad8fd21f3\",\"modelid\":\"665b5bde-48a0-469e-9ac3-e89c2de3af1c\"}];\n",
       "\n",
       "    root.Bokeh.embed.embed_items(docs_json, render_items);\n",
       "  }\n",
       "\n",
       "  if (root.Bokeh !== undefined) {\n",
       "    embed_document(root);\n",
       "  } else {\n",
       "    var attempts = 0;\n",
       "    var timer = setInterval(function(root) {\n",
       "      if (root.Bokeh !== undefined) {\n",
       "        embed_document(root);\n",
       "        clearInterval(timer);\n",
       "      }\n",
       "      attempts++;\n",
       "      if (attempts > 100) {\n",
       "        console.log(\"Bokeh: ERROR: Unable to embed document because BokehJS library is missing\")\n",
       "        clearInterval(timer);\n",
       "      }\n",
       "    }, 10, root)\n",
       "  }\n",
       "})(window);"
      ],
      "application/vnd.bokehjs_exec.v0+json": ""
     },
     "metadata": {
      "application/vnd.bokehjs_exec.v0+json": {
       "id": "665b5bde-48a0-469e-9ac3-e89c2de3af1c"
      }
     },
     "output_type": "display_data"
    }
   ],
   "source": [
    "fig = make_plot(transcripts_from_pyensembl(\"chr22\", 42124000, 42180000))\n",
    "show(fig.figure)"
   ]
  },
  {
   "cell_type": "markdown",
   "metadata": {},
   "source": [
    "# Do the same using GFFUtils as the data source"
   ]
  },
  {
   "cell_type": "code",
   "execution_count": 6,
   "metadata": {
    "collapsed": true
   },
   "outputs": [],
   "source": [
    "import gffutils\n",
    "import sqlite3"
   ]
  },
  {
   "cell_type": "markdown",
   "metadata": {},
   "source": [
    "## Set up a GFFUtils database using the same annotation data"
   ]
  },
  {
   "cell_type": "code",
   "execution_count": 7,
   "metadata": {
    "collapsed": true
   },
   "outputs": [],
   "source": [
    "# note:\n",
    "# database creation using gffutils is slower than pyensembl on the same dataset\n",
    "try:\n",
    "    gffutils.create_db(\n",
    "        \"gencode.v27.basic.annotation.gtf.gz\",\n",
    "        \"gencode.v27.basic.sqlite\",\n",
    "        keep_order=True,\n",
    "        disable_infer_genes=True, disable_infer_transcripts=True)\n",
    "except (sqlite3.OperationalError, AttributeError):\n",
    "    pass"
   ]
  },
  {
   "cell_type": "code",
   "execution_count": 8,
   "metadata": {
    "collapsed": true
   },
   "outputs": [],
   "source": [
    "# connect\n",
    "db = gffutils.FeatureDB(\"gencode.v27.basic.sqlite\")\n",
    "gffutils.constants.always_return_list = False"
   ]
  },
  {
   "cell_type": "markdown",
   "metadata": {},
   "source": [
    "# Create a function to translate GFFUtils queries into gene_viz features"
   ]
  },
  {
   "cell_type": "code",
   "execution_count": 9,
   "metadata": {
    "collapsed": true
   },
   "outputs": [],
   "source": [
    "# translate into features for gene_viz\n",
    "def transcripts_from_gffutils(contig, start, end):\n",
    "    transcripts = []\n",
    "\n",
    "    for gene in db.features_of_type(\"gene\", limit=(contig, start, end)):\n",
    "        trs = db.children(gene.id, featuretype=\"transcript\")\n",
    "        for t in trs:\n",
    "            transcript = Transcript(t.attributes[\"transcript_name\"], gene.attributes[\"gene_name\"], t.seqid, t.start, t.end, t.strand)\n",
    "        \n",
    "            es = db.children(t.id, featuretype=\"exon\")\n",
    "            for e in es:\n",
    "                transcript.add_exon(Exon(e.attributes[\"exon_id\"], e.seqid, e.start, e.end))\n",
    "            \n",
    "            cs = db.children(t.id, featuretype=\"CDS\")\n",
    "            for c in cs:\n",
    "                transcript.add_cds(CDS(c.seqid, c.start, c.end))\n",
    "        \n",
    "            transcripts.append(transcript)\n",
    "    \n",
    "    return transcripts"
   ]
  },
  {
   "cell_type": "markdown",
   "metadata": {},
   "source": [
    "## Perform a query and visualize the results"
   ]
  },
  {
   "cell_type": "code",
   "execution_count": 20,
   "metadata": {},
   "outputs": [
    {
     "data": {
      "text/html": [
       "\n",
       "<div class=\"bk-root\">\n",
       "    <div class=\"bk-plotdiv\" id=\"0787c29b-8865-473a-9a4e-c7d7896a2ea3\"></div>\n",
       "</div>"
      ]
     },
     "metadata": {},
     "output_type": "display_data"
    },
    {
     "data": {
      "application/javascript": [
       "(function(root) {\n",
       "  function embed_document(root) {\n",
       "    var docs_json = {\"5501a6d9-be2a-4568-8ec4-9036907bcee6\":{\"roots\":{\"references\":[{\"attributes\":{\"source\":{\"id\":\"6d2ccef1-9e95-4bb5-ae7d-49ef828aa3f6\",\"type\":\"ColumnDataSource\"}},\"id\":\"4ca715f7-7d52-479c-a939-72287664c510\",\"type\":\"CDSView\"},{\"attributes\":{\"callback\":null,\"end\":-1.5,\"start\":7},\"id\":\"1fcc76d2-2b7b-4cf9-8411-3586e396801a\",\"type\":\"Range1d\"},{\"attributes\":{\"angle\":{\"field\":\"angle\",\"units\":\"deg\"},\"text\":{\"value\":\"v\"},\"text_align\":\"center\",\"text_alpha\":{\"field\":\"alpha\"},\"text_baseline\":\"middle\",\"text_color\":{\"value\":\"Black\"},\"text_font\":\"sans-serif\",\"text_font_size\":{\"value\":\"5pt\"},\"text_font_style\":\"bold\",\"x\":{\"field\":\"x\"},\"y\":{\"field\":\"y\"}},\"id\":\"38983980-7509-4f1e-979c-442c3d8bbd4a\",\"type\":\"Text\"},{\"attributes\":{\"dimensions\":\"width\"},\"id\":\"7d402505-3b33-4312-b0db-bf35ea82fbff\",\"type\":\"WheelZoomTool\"},{\"attributes\":{},\"id\":\"b75a9447-3986-4f23-ba8a-62551e4321d8\",\"type\":\"BasicTicker\"},{\"attributes\":{\"callback\":{\"id\":\"df0f62b7-a1e5-4556-b615-9eba293683f0\",\"type\":\"CustomJS\"},\"end\":42215442,\"start\":42090931},\"id\":\"f047330e-9099-426f-abaf-2c9d7985dc76\",\"type\":\"Range1d\"},{\"attributes\":{\"dimensions\":\"width\",\"overlay\":{\"id\":\"a17a40bb-b1b3-4c73-bab2-5a8f9332ed77\",\"type\":\"BoxAnnotation\"}},\"id\":\"bf5c69c4-f95e-4cf2-8729-e91b5b579909\",\"type\":\"BoxZoomTool\"},{\"attributes\":{\"callback\":null,\"column_names\":[\"x\",\"y\",\"label\",\"index\"],\"data\":{\"index\":[0,1,2,3,4,5,6,7,8,9,10,11,12,13,14,15,16,17],\"label\":[\"NDUFA6-AS1-203\",\"NDUFA6-AS1-207\",\"NDUFA6-AS1-208\",\"NDUFA6-AS1-216\",\"CYP2D6-201\",\"CYP2D6-203\",\"CYP2D6-204\",\"AC254562.1-201\",\"AC254562.2-201\",\"AC254562.3-201\",\"CYP2D7-201\",\"CYP2D7-203\",\"CYP2D7-207\",\"CYP2D7-208\",\"CYP2D8P-201\",\"TCF20-201\",\"TCF20-202\",\"TCF20-203\"],\"x\":[42114336.5,42108081.5,42108155.5,42134540.5,42128710.5,42128702.5,42128691.0,42132770.5,42138180.0,42138893.0,42142376.0,42142390.0,42142391.0,42142379.5,42152443.5,42188248.0,42187727.5,42185653.0],\"y\":[5,1,-1,3,-1,3,1,-1,1,-1,-1,5,3,1,-1,1,3,-1]}},\"id\":\"df0d1b79-af9c-4818-907b-ddcfa7770e06\",\"type\":\"ColumnDataSource\"},{\"attributes\":{\"tickers\":[{\"id\":\"3304a532-11ce-46a8-8d27-8b017ea78673\",\"type\":\"AdaptiveTicker\"},{\"id\":\"91ec4c15-2a61-40d1-8f9a-d0c247adf715\",\"type\":\"AdaptiveTicker\"},{\"id\":\"dd88bc4d-8885-42d2-8494-8a84a7ab2527\",\"type\":\"AdaptiveTicker\"},{\"id\":\"4e0b016d-300a-4446-9745-6495f1ef8708\",\"type\":\"AdaptiveTicker\"},{\"id\":\"77ff96bf-57da-4538-bd17-cc628acb52a1\",\"type\":\"AdaptiveTicker\"}]},\"id\":\"89a414f2-94ed-4a64-8541-692d724872f4\",\"type\":\"CompositeTicker\"},{\"attributes\":{\"fill_color\":{\"value\":\"DarkBlue\"},\"line_color\":{\"value\":null},\"xs\":{\"field\":\"x\"},\"ys\":{\"field\":\"y\"}},\"id\":\"c5813365-5027-4821-b1fd-50ef90d99a11\",\"type\":\"Patches\"},{\"attributes\":{\"plot\":null,\"text\":\"\"},\"id\":\"56ea1a33-66fd-48f0-ab88-5aec2a47e418\",\"type\":\"Title\"},{\"attributes\":{},\"id\":\"f0afbe83-ff88-491f-aa56-365d46e9fff2\",\"type\":\"LinearScale\"},{\"attributes\":{\"fill_alpha\":{\"value\":0.1},\"fill_color\":{\"value\":\"#1f77b4\"},\"line_alpha\":{\"value\":0.1},\"line_color\":{\"value\":\"#1f77b4\"},\"xs\":{\"field\":\"x\"},\"ys\":{\"field\":\"y\"}},\"id\":\"ef91940b-55de-47db-9e73-0d03c44d5b97\",\"type\":\"Patches\"},{\"attributes\":{\"mantissas\":[1,2,3,4,5,6,7,8,9],\"max_interval\":2,\"min_interval\":2,\"num_minor_ticks\":2},\"id\":\"91ec4c15-2a61-40d1-8f9a-d0c247adf715\",\"type\":\"AdaptiveTicker\"},{\"attributes\":{\"callback\":null,\"column_names\":[\"x\",\"y\",\"angle\",\"width\",\"alpha\",\"index\"],\"data\":{\"alpha\":{\"__ndarray__\":\"AAAAAAAAAAAAAAAAAAAAAAAAAAAAAPA/AAAAAAAAAAAAAAAAAADwPwAAAAAAAAAAAAAAAAAA8D8AAAAAAADwPwAAAAAAAAAAAAAAAAAAAAAAAAAAAAAAAAAAAAAAAPA/AAAAAAAAAAAAAAAAAAAAAAAAAAAAAAAAAAAAAAAAAAAAAAAAAAAAAAAAAAAAAAAAAAAAAAAAAAAAAAAAAADwPwAAAAAAAAAAAAAAAAAAAAAAAAAAAAAAAAAAAAAAAAAAAAAAAAAAAAAAAAAAAAAAAAAAAAAAAAAAAAAAAAAAAAAAAAAAAAAAAAAAAAAAAAAAAAAAAAAAAAAAAAAAAAAAAAAAAAAAAAAAAAAAAAAAAAAAAAAAAAAAAAAAAAAAAAAAAAAAAAAAAAAAAAAAAAAAAAAAAAAAAAAAAAAAAAAAAAAAAAAAAAAAAAAAAAAAAAAAAAAAAAAAAAAAAAAAAAAAAAAAAAAAAAAAAAAAAAAAAAAAAAAAAAAAAAAAAAAAAAAAAAAAAAAA8D8AAAAAAADwPwAAAAAAAAAAAAAAAAAAAAAAAAAAAAAAAAAAAAAAAAAAAAAAAAAAAAAAAAAAAAAAAAAAAAAAAAAAAAAAAAAAAAAAAAAAAAAAAAAAAAAAAAAAAAAAAAAAAAAAAAAAAAAAAAAAAAAAAAAAAAAAAAAAAAAAAAAAAAAAAAAAAAAAAAAAAAAAAAAAAAAAAAAAAAAAAAAAAAAAAAAAAAAAAAAAAAAAAAAAAAAAAAAAAAAAAAAAAAAAAAAAAAAAAAAAAAAAAAAAAAAAAAAAAAAAAAAAAAAAAAAAAAAAAAAAAAAAAAAAAAAAAAAAAAAAAAAAAAAAAAAAAAAAAAAAAAAAAAAAAAAAAAAAAAAAAAAAAAAAAAAAAAAAAAAAAAAAAAAAAAAAAAAAAAAAAAAAAAAAAAAAAAAAAAAAAAAAAAAAAAAAAAAAAAAAAAAAAAAAAAAAAAAAAAAAAAAAAPA/AAAAAAAA8D8AAAAAAADwPwAAAAAAAPA/AAAAAAAA8D8AAAAAAAAAAAAAAAAAAPA/AAAAAAAA8D8AAAAAAADwPwAAAAAAAAAAAAAAAAAA8D8AAAAAAADwPw==\",\"dtype\":\"float64\",\"shape\":[104]},\"angle\":{\"__ndarray__\":\"AAAAAACAVkAAAAAAAIBWQAAAAAAAgFZAAAAAAACAVkAAAAAAAIBWQAAAAAAAgFZAAAAAAACAVkAAAAAAAIBWQAAAAAAAgFZAAAAAAACAVkAAAAAAAIBWQAAAAAAAgFZAAAAAAACAVkAAAAAAAIBWQAAAAAAAgFZAAAAAAACAVkAAAAAAAIBWQAAAAAAAgFZAAAAAAACAVkAAAAAAAIBWQAAAAAAAgFZAAAAAAACAVkAAAAAAAIBWQAAAAAAAgFZAAAAAAACAVsAAAAAAAIBWwAAAAAAAgFbAAAAAAACAVsAAAAAAAIBWwAAAAAAAgFbAAAAAAACAVsAAAAAAAIBWwAAAAAAAgFbAAAAAAACAVsAAAAAAAIBWwAAAAAAAgFbAAAAAAACAVsAAAAAAAIBWwAAAAAAAgFbAAAAAAACAVsAAAAAAAIBWwAAAAAAAgFbAAAAAAACAVsAAAAAAAIBWwAAAAAAAgFbAAAAAAACAVsAAAAAAAIBWwAAAAAAAgFbAAAAAAACAVsAAAAAAAIBWwAAAAAAAgFZAAAAAAACAVsAAAAAAAIBWwAAAAAAAgFbAAAAAAACAVsAAAAAAAIBWwAAAAAAAgFbAAAAAAACAVsAAAAAAAIBWwAAAAAAAgFbAAAAAAACAVsAAAAAAAIBWwAAAAAAAgFbAAAAAAACAVsAAAAAAAIBWwAAAAAAAgFbAAAAAAACAVsAAAAAAAIBWwAAAAAAAgFbAAAAAAACAVsAAAAAAAIBWwAAAAAAAgFbAAAAAAACAVsAAAAAAAIBWwAAAAAAAgFbAAAAAAACAVsAAAAAAAIBWwAAAAAAAgFbAAAAAAACAVsAAAAAAAIBWwAAAAAAAgFbAAAAAAACAVsAAAAAAAIBWwAAAAAAAgFbAAAAAAACAVsAAAAAAAIBWwAAAAAAAgFbAAAAAAACAVsAAAAAAAIBWwAAAAAAAgFbAAAAAAACAVsAAAAAAAIBWwAAAAAAAgFbAAAAAAACAVsAAAAAAAIBWwAAAAAAAgFbAAAAAAACAVsAAAAAAAIBWwAAAAAAAgFbAAAAAAACAVsAAAAAAAIBWwAAAAAAAgFbAAAAAAACAVsAAAAAAAIBWwA==\",\"dtype\":\"float64\",\"shape\":[104]},\"index\":[0,1,2,3,4,5,6,7,8,9,10,11,12,13,14,15,16,17,18,19,20,21,22,23,24,25,26,27,28,29,30,31,32,33,34,35,36,37,38,39,40,41,42,43,44,45,46,47,48,49,50,51,52,53,54,55,56,57,58,59,60,61,62,63,64,65,66,67,68,69,70,71,72,73,74,75,76,77,78,79,80,81,82,83,84,85,86,87,88,89,90,91,92,93,94,95,96,97,98,99,100,101,102,103],\"width\":{\"__ndarray__\":\"AAAAAAAAXUAAAAAAADiAQAAAAADAEd9AAAAAAACQc0AAAAAAABTFQAAAAAAAkHNAAAAAAIA41EAAAAAAgFHEQAAAAAAAHJJAAAAAAACwdUAAAAAAAJBzQAAAAABAdt5AAAAAAADwg0AAAAAAAOBlQAAAAAAAYG5AAAAAAABgeEAAAAAAAJBzQAAAAAAAgGZAAAAAAABge0AAAAAAAPSfQAAAAAAAcHtAAAAAAACAfEAAAAAAAGB4QAAAAAAAkHNAAAAAAADAWEAAAAAAAHB8QAAAAAAAAGpAAAAAAADgZ0AAAAAAACB7QAAAAAAA0IhAAAAAAAD4hUAAAAAAAMBYQAAAAAAAcHxAAAAAAAAAakAAAAAAAOBnQAAAAAAAIHtAAAAAAABAVkAAAAAAAEiBQAAAAAAA+IVAAAAAAADAWEAAAAAAAHB8QAAAAAAAwF1AAAAAAACAQEAAAAAAAOBnQAAAAAAAIHtAAAAAAABAVkAAAAAAAEiBQAAAAAAA+IVAAAAAAACslEAAAAAAAIyXQAAAAAAANJBAAAAAAADAWEAAAAAAAIB8QAAAAAAAYGhAAAAAAAAgaEAAAAAAADB7QAAAAAAAQFZAAAAAAACQgEAAAAAAAPiFQAAAAAAAwFhAAAAAAACAfEAAAAAAAEBhQAAAAAAAIGhAAAAAAAAwe0AAAAAAAEBWQAAAAAAAkIBAAAAAAAD4hUAAAAAAAMBYQAAAAAAAgHxAAAAAAAAAEEAAAAAAAEBhQAAAAAAAIGhAAAAAAAAwe0AAAAAAAEBWQAAAAAAAkIBAAAAAAAD4hUAAAAAAAAAAQAAAAAAAwFhAAAAAAACAfEAAAAAAAGBoQAAAAAAAIGhAAAAAAAAwe0AAAAAAABiIQAAAAAAA+IVAAAAAAAAAAEAAAAAAAMBYQAAAAAAAMHxAAAAAAACgaUAAAAAAAGBnQAAAAAAAAHxAAAAAAABAVkAAAAAAAJCAQAAAAAAAZJlAAAAAAICUwEAAAAAAgPjCQAAAAABAP91AAAAAAABTvEAAAAAAAFyRQAAAAACA+MJAAAAAAEA/3UAAAAAAAFO8QAAAAAAA4JFAAAAAAID4wkAAAAAAQD/dQA==\",\"dtype\":\"float64\",\"shape\":[104]},\"x\":{\"__ndarray__\":\"AAAAOBcShEEAAACcKhKEQQAAAFwnFIRBAAAAdC0WhEEAAACY6xaEQQAAADSpF4RBAAAACGYThEEAAAC8ThWEQQAAAFwGFoRBAAAAfCAWhEEAAAB0LRaEQQAAAOQJFIRBAAAAOP4VhEEAAAD0DBaEQQAAAKwUFoRBAAAAKCEWhEEAAAB0LRaEQQAAAMAZF4RBAAAAqCoXhEEAAAAEUxeEQQAAABR9F4RBAAAAGI0XhEEAAADonBeEQQAAADSpF4RBAAAAjG4WhEEAAACcexaEQQAAANCLFoRBAAAAdJYWhEEAAAC4pRaEQQAAAOi9FoRBAAAApNoWhEEAAACMbhaEQQAAAJx7FoRBAAAA0IsWhEEAAAB0lhaEQQAAALilFoRBAAAA5LIWhEEAAACswRaEQQAAAKTaFoRBAAAAjG4WhEEAAACcexaEQQAAAEyLFoRBAAAAjI4WhEEAAAB0lhaEQQAAALilFoRBAAAA5LIWhEEAAACswRaEQQAAAKTaFoRBAAAAbLcXhEEAAABU5xeEQQAAAITlF4RBAAAAzBoYhEEAAADgJxiEQQAAAOQ3GIRBAAAAXEIYhEEAAACsURiEQQAAANxeGIRBAAAASG0YhEEAAADkhRiEQQAAAMwaGIRBAAAA4CcYhEEAAADIOBiEQQAAAFxCGIRBAAAArFEYhEEAAADcXhiEQQAAAEhtGIRBAAAA5IUYhEEAAADMGhiEQQAAAOAnGIRBAAAAyDUYhEEAAADIOBiEQQAAAFxCGIRBAAAArFEYhEEAAADcXhiEQQAAAEhtGIRBAAAA5IUYhEEAAABIkhiEQQAAAMwaGIRBAAAA4CcYhEEAAADkNxiEQQAAAFxCGIRBAAAArFEYhEEAAACEaRiEQQAAAOSFGIRBAAAASJIYhEEAAAAMRxmEQQAAAAxUGYRBAAAADGQZhEEAAACUbhmEQQAAAAB+GYRBAAAAdIsZhEEAAADgmRmEQQAAAOTAGYRBAAAAFCsbhEEAAAAESRyEQQAAAKS3HoRBAAAAvBcbhEEAAABcnhuEQQAAAARJHIRBAAAApLcehEEAAAC8FxuEQQAAANidG4RBAAAABEkchEEAAACktx6EQQ==\",\"dtype\":\"float64\",\"shape\":[104]},\"y\":{\"__ndarray__\":\"AAAAAAAAGEAAAAAAAAAYQAAAAAAAABhAAAAAAAAAGEAAAAAAAAAYQAAAAAAAABhAAAAAAAAAAEAAAAAAAAAAQAAAAAAAAABAAAAAAAAAAEAAAAAAAAAAQAAAAAAAAAAAAAAAAAAAAAAAAAAAAAAAAAAAAAAAAAAAAAAAAAAAAAAAAAAAAAAAAAAAAAAAABBAAAAAAAAAEEAAAAAAAAAQQAAAAAAAABBAAAAAAAAAEEAAAAAAAAAQQAAAAAAAABBAAAAAAAAAAAAAAAAAAAAAAAAAAAAAAAAAAAAAAAAAAAAAAAAAAAAAAAAAAAAAAAAAAAAAAAAAAAAAAAAAAAAQQAAAAAAAABBAAAAAAAAAEEAAAAAAAAAQQAAAAAAAABBAAAAAAAAAEEAAAAAAAAAQQAAAAAAAABBAAAAAAAAAAEAAAAAAAAAAQAAAAAAAAABAAAAAAAAAAEAAAAAAAAAAQAAAAAAAAABAAAAAAAAAAEAAAAAAAAAAQAAAAAAAAABAAAAAAAAAAEAAAAAAAAAAQAAAAAAAAAAAAAAAAAAAAAAAAAAAAAAAAAAAAAAAAAAAAAAAAAAAAAAAAAAAAAAAAAAAAAAAAAAAAAAAAAAAAAAAAAAAAAAAAAAAAAAAABhAAAAAAAAAGEAAAAAAAAAYQAAAAAAAABhAAAAAAAAAGEAAAAAAAAAYQAAAAAAAABhAAAAAAAAAGEAAAAAAAAAQQAAAAAAAABBAAAAAAAAAEEAAAAAAAAAQQAAAAAAAABBAAAAAAAAAEEAAAAAAAAAQQAAAAAAAABBAAAAAAAAAEEAAAAAAAAAQQAAAAAAAAABAAAAAAAAAAEAAAAAAAAAAQAAAAAAAAABAAAAAAAAAAEAAAAAAAAAAQAAAAAAAAABAAAAAAAAAAEAAAAAAAAAAAAAAAAAAAAAAAAAAAAAAAAAAAAAAAAAAAAAAAAAAAAAAAAAAAAAAAAAAAAAAAAAAAAAAAAAAAAAAAAAAAAAAAEAAAAAAAAAAQAAAAAAAAABAAAAAAAAAEEAAAAAAAAAQQAAAAAAAABBAAAAAAAAAEEAAAAAAAAAAAAAAAAAAAAAAAAAAAAAAAAAAAAAAAAAAAA==\",\"dtype\":\"float64\",\"shape\":[104]}}},\"id\":\"6d2ccef1-9e95-4bb5-ae7d-49ef828aa3f6\",\"type\":\"ColumnDataSource\"},{\"attributes\":{\"source\":{\"id\":\"557ebea3-1aa6-42e5-8547-a5faf2ccefba\",\"type\":\"ColumnDataSource\"}},\"id\":\"ab3d7ecc-8afb-4be5-9079-78ac91936f13\",\"type\":\"CDSView\"},{\"attributes\":{\"data_source\":{\"id\":\"6d2ccef1-9e95-4bb5-ae7d-49ef828aa3f6\",\"type\":\"ColumnDataSource\"},\"glyph\":{\"id\":\"38983980-7509-4f1e-979c-442c3d8bbd4a\",\"type\":\"Text\"},\"hover_glyph\":null,\"muted_glyph\":null,\"name\":\"introns\",\"nonselection_glyph\":{\"id\":\"549a7c5a-b31e-44bd-875e-ca7495d0923e\",\"type\":\"Text\"},\"selection_glyph\":null,\"view\":{\"id\":\"4ca715f7-7d52-479c-a939-72287664c510\",\"type\":\"CDSView\"}},\"id\":\"f9afded5-5402-4cf4-b14c-8540f5d676ad\",\"type\":\"GlyphRenderer\"},{\"attributes\":{\"args\":{\"source\":{\"id\":\"6d2ccef1-9e95-4bb5-ae7d-49ef828aa3f6\",\"type\":\"ColumnDataSource\"}},\"code\":\"\\nvar start = cb_obj.start;\\nvar end = cb_obj.end;\\nvar width = end - start;\\nvar threshold = 0.010000 * width;     // threshold factor is set from python-side configuration\\nvar intron_alpha = 1.000000;          // alpha value is set from python-side configuration\\n\\n// iterate over each intron\\nvar data = source.data;\\nfor (i=0; i<data[\\\"x\\\"].length; i++)\\n{\\n    // if the screen-space width is large enough, make the intron visible\\n    if(data[\\\"width\\\"][i] >= threshold)\\n        data[\\\"alpha\\\"][i] = intron_alpha;\\n    else\\n    // otherwise, make the intron fully transparent\\n        data[\\\"alpha\\\"][i] = 0;\\n}\\n\\nsource.change.emit();\\n\"},\"id\":\"df0f62b7-a1e5-4556-b615-9eba293683f0\",\"type\":\"CustomJS\"},{\"attributes\":{\"data_source\":{\"id\":\"1893fb1a-c4b0-406a-8e7b-79e7319a865b\",\"type\":\"ColumnDataSource\"},\"glyph\":{\"id\":\"24083adf-3075-43a6-a592-296fa9ef96bf\",\"type\":\"Segment\"},\"hover_glyph\":null,\"muted_glyph\":null,\"name\":\"transcripts\",\"nonselection_glyph\":{\"id\":\"b110162b-aa3e-475c-948f-2a2937caf974\",\"type\":\"Segment\"},\"selection_glyph\":null,\"view\":{\"id\":\"11eb8ae9-0bfe-4339-9be7-a1847aab660d\",\"type\":\"CDSView\"}},\"id\":\"e880e598-deb1-41e8-975d-fcaf85c8535a\",\"type\":\"GlyphRenderer\"},{\"attributes\":{\"data_source\":{\"id\":\"557ebea3-1aa6-42e5-8547-a5faf2ccefba\",\"type\":\"ColumnDataSource\"},\"glyph\":{\"id\":\"c5813365-5027-4821-b1fd-50ef90d99a11\",\"type\":\"Patches\"},\"hover_glyph\":null,\"muted_glyph\":null,\"name\":\"exons\",\"nonselection_glyph\":{\"id\":\"ef91940b-55de-47db-9e73-0d03c44d5b97\",\"type\":\"Patches\"},\"selection_glyph\":null,\"view\":{\"id\":\"ab3d7ecc-8afb-4be5-9079-78ac91936f13\",\"type\":\"CDSView\"}},\"id\":\"ab56372f-4f93-4d33-8aa8-c938572f9244\",\"type\":\"GlyphRenderer\"},{\"attributes\":{},\"id\":\"221c780c-3cea-4d34-8986-87126a1a8a30\",\"type\":\"BasicTickFormatter\"},{\"attributes\":{\"axis_label\":\"chr22\",\"formatter\":{\"id\":\"1542c9ab-1790-4376-b170-cc97d6acd1c9\",\"type\":\"NumeralTickFormatter\"},\"plot\":{\"id\":\"51b6ccdb-20ad-47d9-b045-02f6f192f966\",\"subtype\":\"Figure\",\"type\":\"Plot\"},\"ticker\":{\"id\":\"89a414f2-94ed-4a64-8541-692d724872f4\",\"type\":\"CompositeTicker\"}},\"id\":\"27b3b8ce-44bb-4477-ba1b-29b58a72c75b\",\"type\":\"LinearAxis\"},{\"attributes\":{\"dimensions\":\"width\"},\"id\":\"8bbba777-a976-48b8-97d9-7fdf6d61ecf9\",\"type\":\"PanTool\"},{\"attributes\":{\"mantissas\":[1,2,3,4,5,6,7,8,9],\"max_interval\":4,\"min_interval\":4,\"num_minor_ticks\":4},\"id\":\"4e0b016d-300a-4446-9745-6495f1ef8708\",\"type\":\"AdaptiveTicker\"},{\"attributes\":{\"source\":{\"id\":\"df0d1b79-af9c-4818-907b-ddcfa7770e06\",\"type\":\"ColumnDataSource\"}},\"id\":\"907eacb8-7f19-43be-8014-dcf0324b6970\",\"type\":\"CDSView\"},{\"attributes\":{\"grid_line_color\":{\"value\":null},\"plot\":{\"id\":\"51b6ccdb-20ad-47d9-b045-02f6f192f966\",\"subtype\":\"Figure\",\"type\":\"Plot\"},\"ticker\":{\"id\":\"b75a9447-3986-4f23-ba8a-62551e4321d8\",\"type\":\"BasicTicker\"}},\"id\":\"8bdb43d7-f222-48f3-babb-5fceddb88a04\",\"type\":\"Grid\"},{\"attributes\":{\"line_color\":{\"value\":\"Black\"},\"x0\":{\"field\":\"x0\"},\"x1\":{\"field\":\"x1\"},\"y0\":{\"field\":\"y0\"},\"y1\":{\"field\":\"y1\"}},\"id\":\"24083adf-3075-43a6-a592-296fa9ef96bf\",\"type\":\"Segment\"},{\"attributes\":{\"callback\":null,\"column_names\":[\"x\",\"y\",\"index\"],\"data\":{\"index\":[0,1,2,3,4,5,6,7,8,9,10,11,12,13,14,15,16,17,18,19,20,21,22,23,24,25,26,27,28,29,30,31,32,33,34,35,36,37,38,39,40,41,42,43,44,45,46,47,48,49,50,51,52,53,54,55,56,57,58,59,60,61,62,63,64,65,66,67,68,69,70,71,72,73,74,75,76,77,78,79,80,81,82,83,84,85,86,87,88,89,90,91,92,93,94,95,96,97,98,99,100,101,102,103,104,105,106,107,108,109,110,111,112,113,114,115,116,117,118,119,120,121],\"x\":[[42090931,42091181,42091181,42090931],[42091297,42091600,42091600,42091297],[42092119,42092232,42092232,42092119],[42124047,42124562,42124562,42124047],[42124875,42125407,42125407,42124875],[42136199,42136714,42136714,42136199],[42137027,42137742,42137742,42137027],[42091204,42091600,42091600,42091204],[42112306,42112390,42112390,42112306],[42122793,42122888,42122888,42122793],[42124047,42124130,42124130,42124047],[42124477,42124562,42124562,42124477],[42124875,42124959,42124959,42124875],[42091352,42091600,42091600,42091352],[42122793,42122888,42122888,42122793],[42123526,42123591,42123591,42123526],[42123766,42123804,42123804,42123766],[42124047,42124130,42124130,42124047],[42124520,42124562,42124562,42124520],[42124875,42124959,42124959,42124875],[42132031,42132190,42132190,42132031],[42132370,42132602,42132602,42132370],[42133040,42133090,42133090,42133040],[42135135,42135239,42135239,42135135],[42135678,42135743,42135743,42135678],[42136199,42136282,42136282,42136199],[42136672,42136714,42136714,42136672],[42137027,42137050,42137050,42137027],[42130612,42130791,42130791,42130865,42130865,42130791,42130791,42130612],[42129738,42129909,42129909,42129738],[42128784,42128944,42128944,42128784],[42128174,42128350,42128350,42128174],[42127842,42127983,42127983,42127842],[42127447,42127634,42127634,42127447],[42126851,42126992,42126992,42126851],[42126556,42126577,42126577,42126752,42126752,42126577,42126577,42126556],[42130612,42130791,42130791,42130906,42130906,42130791,42130791,42130612],[42129738,42129909,42129909,42129738],[42129033,42129185,42129185,42129033],[42128784,42128944,42128944,42128784],[42128174,42128350,42128350,42128174],[42127842,42127983,42127983,42127842],[42127447,42127634,42127634,42127447],[42126851,42126992,42126992,42126851],[42126499,42126577,42126577,42126752,42126752,42126577,42126577,42126499],[42130612,42130725,42130725,42130881,42130881,42130725,42130725,42130612],[42129738,42129909,42129909,42129738],[42129033,42129185,42129185,42129033],[42128784,42128944,42128944,42128784],[42128174,42128350,42128350,42128174],[42127842,42127983,42127983,42127842],[42127781,42127809,42127809,42127781],[42127447,42127662,42127662,42127447],[42126851,42126992,42126992,42126851],[42126501,42126577,42126577,42126752,42126752,42126577,42126577,42126501],[42132543,42132998,42132998,42132543],[42139612,42139927,42139927,42139612],[42137987,42138105,42138105,42137987],[42136433,42136664,42136664,42136433],[42138060,42138282,42138282,42138060],[42139319,42139726,42139726,42139319],[42144284,42144464,42144464,42144549,42144549,42144464,42144464,42144284],[42143410,42143581,42143581,42143410],[42142728,42142880,42142880,42142728],[42142479,42142639,42142639,42142479],[42141868,42142044,42142044,42141868],[42141534,42141675,42141675,42141534],[42141152,42141339,42141339,42141152],[42140555,42140696,42140696,42140555],[42140203,42140280,42140280,42140456,42140456,42140280,42140280,42140203],[42144284,42144464,42144464,42144577,42144577,42144464,42144464,42144284],[42143410,42143581,42143581,42143410],[42142728,42142880,42142880,42142728],[42142479,42142639,42142639,42142479],[42141868,42142044,42142044,42141868],[42141534,42141675,42141675,42141534],[42141152,42141396,42141396,42141152],[42140555,42140696,42140696,42140555],[42140203,42140280,42140280,42140456,42140456,42140280,42140280,42140203],[42144330,42144464,42144464,42144577,42144577,42144464,42144464,42144330],[42144284,42144328,42144328,42144284],[42143410,42143581,42143581,42143410],[42142728,42142880,42142880,42142728],[42142479,42142639,42142639,42142479],[42141868,42142044,42142044,42141868],[42141534,42141675,42141675,42141534],[42141371,42141396,42141396,42141371],[42141152,42141367,42141367,42141152],[42140555,42140696,42140696,42140555],[42140205,42140281,42140281,42140456,42140456,42140281,42140281,42140205],[42144330,42144464,42144464,42144554,42144554,42144464,42144464,42144330],[42144284,42144328,42144328,42144284],[42143410,42143581,42143581,42143410],[42142479,42142639,42142639,42142479],[42141868,42142044,42142044,42141868],[42141534,42141675,42141675,42141534],[42141152,42141339,42141339,42141152],[42140555,42140696,42140696,42140555],[42140205,42140281,42140281,42140456,42140456,42140281,42140281,42140205],[42154825,42155001,42155001,42154825],[42153029,42153200,42153200,42153029],[42152347,42152499,42152499,42152347],[42152096,42152258,42152258,42152096],[42151472,42151648,42151648,42151472],[42151144,42151285,42151285,42151144],[42150755,42150939,42150939,42150755],[42150163,42150304,42150304,42150163],[42149886,42150064,42150064,42149886],[42209651,42215305,42215305,42215440,42215440,42215305,42215305,42209651],[42179609,42179702,42179702,42179609],[42169847,42169896,42169896,42169847],[42161056,42161344,42161344,42161358,42161358,42161344,42161344,42161056],[42209651,42215305,42215305,42215442,42215442,42215305,42215305,42209651],[42179609,42179702,42179702,42179609],[42169847,42169896,42169896,42169847],[42168609,42168656,42168656,42168736,42168736,42168656,42168656,42168609],[42160013,42161358,42161358,42160013],[42209651,42210208,42210208,42209651],[42179609,42179702,42179702,42179609],[42169847,42169896,42169896,42169847],[42168609,42168656,42168656,42168703,42168703,42168656,42168656,42168609],[42161098,42161358,42161358,42161098]],\"y\":[[6.175,6.175,5.825,5.825],[6.175,6.175,5.825,5.825],[6.175,6.175,5.825,5.825],[6.175,6.175,5.825,5.825],[6.175,6.175,5.825,5.825],[6.175,6.175,5.825,5.825],[6.175,6.175,5.825,5.825],[2.175,2.175,1.825,1.825],[2.175,2.175,1.825,1.825],[2.175,2.175,1.825,1.825],[2.175,2.175,1.825,1.825],[2.175,2.175,1.825,1.825],[2.175,2.175,1.825,1.825],[0.175,0.175,-0.175,-0.175],[0.175,0.175,-0.175,-0.175],[0.175,0.175,-0.175,-0.175],[0.175,0.175,-0.175,-0.175],[0.175,0.175,-0.175,-0.175],[0.175,0.175,-0.175,-0.175],[0.175,0.175,-0.175,-0.175],[4.175,4.175,3.825,3.825],[4.175,4.175,3.825,3.825],[4.175,4.175,3.825,3.825],[4.175,4.175,3.825,3.825],[4.175,4.175,3.825,3.825],[4.175,4.175,3.825,3.825],[4.175,4.175,3.825,3.825],[4.175,4.175,3.825,3.825],[0.35,0.35,0.175,0.175,-0.175,-0.175,-0.35,-0.35],[0.35,0.35,-0.35,-0.35],[0.35,0.35,-0.35,-0.35],[0.35,0.35,-0.35,-0.35],[0.35,0.35,-0.35,-0.35],[0.35,0.35,-0.35,-0.35],[0.35,0.35,-0.35,-0.35],[0.175,0.175,0.35,0.35,-0.35,-0.35,-0.175,-0.175],[4.35,4.35,4.175,4.175,3.825,3.825,3.65,3.65],[4.35,4.35,3.65,3.65],[4.35,4.35,3.65,3.65],[4.35,4.35,3.65,3.65],[4.35,4.35,3.65,3.65],[4.35,4.35,3.65,3.65],[4.35,4.35,3.65,3.65],[4.35,4.35,3.65,3.65],[4.175,4.175,4.35,4.35,3.65,3.65,3.825,3.825],[2.35,2.35,2.175,2.175,1.825,1.825,1.65,1.65],[2.35,2.35,1.65,1.65],[2.35,2.35,1.65,1.65],[2.35,2.35,1.65,1.65],[2.35,2.35,1.65,1.65],[2.35,2.35,1.65,1.65],[2.35,2.35,1.65,1.65],[2.35,2.35,1.65,1.65],[2.35,2.35,1.65,1.65],[2.175,2.175,2.35,2.35,1.65,1.65,1.825,1.825],[0.175,0.175,-0.175,-0.175],[2.175,2.175,1.825,1.825],[2.175,2.175,1.825,1.825],[2.175,2.175,1.825,1.825],[0.175,0.175,-0.175,-0.175],[0.175,0.175,-0.175,-0.175],[0.35,0.35,0.175,0.175,-0.175,-0.175,-0.35,-0.35],[0.35,0.35,-0.35,-0.35],[0.35,0.35,-0.35,-0.35],[0.35,0.35,-0.35,-0.35],[0.35,0.35,-0.35,-0.35],[0.35,0.35,-0.35,-0.35],[0.35,0.35,-0.35,-0.35],[0.35,0.35,-0.35,-0.35],[0.175,0.175,0.35,0.35,-0.35,-0.35,-0.175,-0.175],[6.35,6.35,6.175,6.175,5.825,5.825,5.65,5.65],[6.35,6.35,5.65,5.65],[6.35,6.35,5.65,5.65],[6.35,6.35,5.65,5.65],[6.35,6.35,5.65,5.65],[6.35,6.35,5.65,5.65],[6.35,6.35,5.65,5.65],[6.35,6.35,5.65,5.65],[6.175,6.175,6.35,6.35,5.65,5.65,5.825,5.825],[4.35,4.35,4.175,4.175,3.825,3.825,3.65,3.65],[4.35,4.35,3.65,3.65],[4.35,4.35,3.65,3.65],[4.35,4.35,3.65,3.65],[4.35,4.35,3.65,3.65],[4.35,4.35,3.65,3.65],[4.35,4.35,3.65,3.65],[4.35,4.35,3.65,3.65],[4.35,4.35,3.65,3.65],[4.35,4.35,3.65,3.65],[4.175,4.175,4.35,4.35,3.65,3.65,3.825,3.825],[2.35,2.35,2.175,2.175,1.825,1.825,1.65,1.65],[2.35,2.35,1.65,1.65],[2.35,2.35,1.65,1.65],[2.35,2.35,1.65,1.65],[2.35,2.35,1.65,1.65],[2.35,2.35,1.65,1.65],[2.35,2.35,1.65,1.65],[2.35,2.35,1.65,1.65],[2.175,2.175,2.35,2.35,1.65,1.65,1.825,1.825],[0.175,0.175,-0.175,-0.175],[0.175,0.175,-0.175,-0.175],[0.175,0.175,-0.175,-0.175],[0.175,0.175,-0.175,-0.175],[0.175,0.175,-0.175,-0.175],[0.175,0.175,-0.175,-0.175],[0.175,0.175,-0.175,-0.175],[0.175,0.175,-0.175,-0.175],[0.175,0.175,-0.175,-0.175],[2.35,2.35,2.175,2.175,1.825,1.825,1.65,1.65],[2.35,2.35,1.65,1.65],[2.35,2.35,1.65,1.65],[2.175,2.175,2.35,2.35,1.65,1.65,1.825,1.825],[4.35,4.35,4.175,4.175,3.825,3.825,3.65,3.65],[4.35,4.35,3.65,3.65],[4.35,4.35,3.65,3.65],[4.175,4.175,4.35,4.35,3.65,3.65,3.825,3.825],[4.175,4.175,3.825,3.825],[0.35,0.35,-0.35,-0.35],[0.35,0.35,-0.35,-0.35],[0.35,0.35,-0.35,-0.35],[0.175,0.175,0.35,0.35,-0.35,-0.35,-0.175,-0.175],[0.175,0.175,-0.175,-0.175]]}},\"id\":\"557ebea3-1aa6-42e5-8547-a5faf2ccefba\",\"type\":\"ColumnDataSource\"},{\"attributes\":{\"callback\":null,\"column_names\":[\"x0\",\"y0\",\"x1\",\"y1\",\"index\"],\"data\":{\"index\":[0,1,2,3,4,5,6,7,8,9,10,11,12,13,14,15,16,17],\"x0\":[42090930,42091203,42091351,42132030,42126555,42126498,42126500,42132542,42136432,42138059,42140202,42140202,42140204,42140204,42149885,42161055,42160012,42161097],\"x1\":[42137742,42124959,42124959,42137050,42130865,42130906,42130881,42132998,42139927,42139726,42144549,42144577,42144577,42144554,42155001,42215440,42215442,42210208],\"y0\":[6,2,0,4,0,4,2,0,2,0,0,6,4,2,0,2,4,0],\"y1\":[6,2,0,4,0,4,2,0,2,0,0,6,4,2,0,2,4,0]}},\"id\":\"1893fb1a-c4b0-406a-8e7b-79e7319a865b\",\"type\":\"ColumnDataSource\"},{\"attributes\":{\"bottom_units\":\"screen\",\"fill_alpha\":{\"value\":0.5},\"fill_color\":{\"value\":\"lightgrey\"},\"left_units\":\"screen\",\"level\":\"overlay\",\"line_alpha\":{\"value\":1.0},\"line_color\":{\"value\":\"black\"},\"line_dash\":[4,4],\"line_width\":{\"value\":2},\"plot\":null,\"render_mode\":\"css\",\"right_units\":\"screen\",\"top_units\":\"screen\"},\"id\":\"a17a40bb-b1b3-4c73-bab2-5a8f9332ed77\",\"type\":\"BoxAnnotation\"},{\"attributes\":{\"angle\":{\"field\":\"angle\",\"units\":\"deg\"},\"text\":{\"value\":\"v\"},\"text_align\":\"center\",\"text_alpha\":{\"value\":0.1},\"text_baseline\":\"middle\",\"text_color\":{\"value\":\"black\"},\"text_font\":\"sans-serif\",\"text_font_size\":{\"value\":\"5pt\"},\"text_font_style\":\"bold\",\"x\":{\"field\":\"x\"},\"y\":{\"field\":\"y\"}},\"id\":\"549a7c5a-b31e-44bd-875e-ca7495d0923e\",\"type\":\"Text\"},{\"attributes\":{\"text\":{\"field\":\"label\"},\"text_align\":\"center\",\"text_alpha\":{\"value\":0.1},\"text_baseline\":\"middle\",\"text_color\":{\"value\":\"black\"},\"text_font\":\"monospace\",\"text_font_size\":{\"value\":\"6pt\"},\"x\":{\"field\":\"x\"},\"y\":{\"field\":\"y\"}},\"id\":\"7bd1e0e9-e51f-4ec8-ad1e-091d96383644\",\"type\":\"Text\"},{\"attributes\":{},\"id\":\"1542c9ab-1790-4376-b170-cc97d6acd1c9\",\"type\":\"NumeralTickFormatter\"},{\"attributes\":{\"mantissas\":[1,2,3,4,5,6,7,8,9],\"max_interval\":1,\"min_interval\":1,\"num_minor_ticks\":1},\"id\":\"3304a532-11ce-46a8-8d27-8b017ea78673\",\"type\":\"AdaptiveTicker\"},{\"attributes\":{},\"id\":\"4e95c9d6-3bc5-468c-bbdb-569ed2736235\",\"type\":\"SaveTool\"},{\"attributes\":{},\"id\":\"42f3da50-a2ad-490c-9032-9a4856f35bc8\",\"type\":\"LinearScale\"},{\"attributes\":{\"line_alpha\":{\"value\":0.1},\"line_color\":{\"value\":\"#1f77b4\"},\"x0\":{\"field\":\"x0\"},\"x1\":{\"field\":\"x1\"},\"y0\":{\"field\":\"y0\"},\"y1\":{\"field\":\"y1\"}},\"id\":\"b110162b-aa3e-475c-948f-2a2937caf974\",\"type\":\"Segment\"},{\"attributes\":{},\"id\":\"3be6c37e-7b79-4e75-82ec-33df9cdc7382\",\"type\":\"ResetTool\"},{\"attributes\":{\"formatter\":{\"id\":\"221c780c-3cea-4d34-8986-87126a1a8a30\",\"type\":\"BasicTickFormatter\"},\"plot\":{\"id\":\"51b6ccdb-20ad-47d9-b045-02f6f192f966\",\"subtype\":\"Figure\",\"type\":\"Plot\"},\"ticker\":{\"id\":\"5e9e68c5-56f9-4b0f-8a28-63b83d496dd9\",\"type\":\"BasicTicker\"},\"visible\":false},\"id\":\"c1a61c16-d9c8-4cd3-8873-83467d584bc0\",\"type\":\"LinearAxis\"},{\"attributes\":{\"source\":{\"id\":\"1893fb1a-c4b0-406a-8e7b-79e7319a865b\",\"type\":\"ColumnDataSource\"}},\"id\":\"11eb8ae9-0bfe-4339-9be7-a1847aab660d\",\"type\":\"CDSView\"},{\"attributes\":{\"dimension\":1,\"grid_line_color\":{\"value\":null},\"plot\":{\"id\":\"51b6ccdb-20ad-47d9-b045-02f6f192f966\",\"subtype\":\"Figure\",\"type\":\"Plot\"},\"ticker\":{\"id\":\"5e9e68c5-56f9-4b0f-8a28-63b83d496dd9\",\"type\":\"BasicTicker\"}},\"id\":\"4e7ca933-6fa9-426b-bcd4-d8c8d4fc2fc5\",\"type\":\"Grid\"},{\"attributes\":{\"active_drag\":\"auto\",\"active_inspect\":\"auto\",\"active_scroll\":{\"id\":\"7d402505-3b33-4312-b0db-bf35ea82fbff\",\"type\":\"WheelZoomTool\"},\"active_tap\":\"auto\",\"logo\":null,\"tools\":[{\"id\":\"8bbba777-a976-48b8-97d9-7fdf6d61ecf9\",\"type\":\"PanTool\"},{\"id\":\"7d402505-3b33-4312-b0db-bf35ea82fbff\",\"type\":\"WheelZoomTool\"},{\"id\":\"bf5c69c4-f95e-4cf2-8729-e91b5b579909\",\"type\":\"BoxZoomTool\"},{\"id\":\"4e95c9d6-3bc5-468c-bbdb-569ed2736235\",\"type\":\"SaveTool\"},{\"id\":\"3be6c37e-7b79-4e75-82ec-33df9cdc7382\",\"type\":\"ResetTool\"}]},\"id\":\"5b1f61ac-49de-4256-8a69-f1b645be0f7d\",\"type\":\"Toolbar\"},{\"attributes\":{\"text\":{\"field\":\"label\"},\"text_align\":\"center\",\"text_baseline\":\"middle\",\"text_color\":{\"value\":\"black\"},\"text_font\":\"monospace\",\"text_font_size\":{\"value\":\"6pt\"},\"x\":{\"field\":\"x\"},\"y\":{\"field\":\"y\"},\"y_offset\":{\"value\":4}},\"id\":\"a5eff764-dc3e-4724-9501-3225e89b39b5\",\"type\":\"Text\"},{\"attributes\":{\"data_source\":{\"id\":\"df0d1b79-af9c-4818-907b-ddcfa7770e06\",\"type\":\"ColumnDataSource\"},\"glyph\":{\"id\":\"a5eff764-dc3e-4724-9501-3225e89b39b5\",\"type\":\"Text\"},\"hover_glyph\":null,\"muted_glyph\":null,\"name\":\"transcript_labels\",\"nonselection_glyph\":{\"id\":\"7bd1e0e9-e51f-4ec8-ad1e-091d96383644\",\"type\":\"Text\"},\"selection_glyph\":null,\"view\":{\"id\":\"907eacb8-7f19-43be-8014-dcf0324b6970\",\"type\":\"CDSView\"}},\"id\":\"8293e5f5-202d-44c5-9ee1-dd962faaae64\",\"type\":\"GlyphRenderer\"},{\"attributes\":{\"below\":[{\"id\":\"27b3b8ce-44bb-4477-ba1b-29b58a72c75b\",\"type\":\"LinearAxis\"}],\"left\":[{\"id\":\"c1a61c16-d9c8-4cd3-8873-83467d584bc0\",\"type\":\"LinearAxis\"}],\"outline_line_alpha\":{\"value\":0},\"plot_height\":155,\"plot_width\":800,\"renderers\":[{\"id\":\"27b3b8ce-44bb-4477-ba1b-29b58a72c75b\",\"type\":\"LinearAxis\"},{\"id\":\"8bdb43d7-f222-48f3-babb-5fceddb88a04\",\"type\":\"Grid\"},{\"id\":\"c1a61c16-d9c8-4cd3-8873-83467d584bc0\",\"type\":\"LinearAxis\"},{\"id\":\"4e7ca933-6fa9-426b-bcd4-d8c8d4fc2fc5\",\"type\":\"Grid\"},{\"id\":\"a17a40bb-b1b3-4c73-bab2-5a8f9332ed77\",\"type\":\"BoxAnnotation\"},{\"id\":\"e880e598-deb1-41e8-975d-fcaf85c8535a\",\"type\":\"GlyphRenderer\"},{\"id\":\"f9afded5-5402-4cf4-b14c-8540f5d676ad\",\"type\":\"GlyphRenderer\"},{\"id\":\"ab56372f-4f93-4d33-8aa8-c938572f9244\",\"type\":\"GlyphRenderer\"},{\"id\":\"8293e5f5-202d-44c5-9ee1-dd962faaae64\",\"type\":\"GlyphRenderer\"}],\"title\":{\"id\":\"56ea1a33-66fd-48f0-ab88-5aec2a47e418\",\"type\":\"Title\"},\"toolbar\":{\"id\":\"5b1f61ac-49de-4256-8a69-f1b645be0f7d\",\"type\":\"Toolbar\"},\"x_range\":{\"id\":\"f047330e-9099-426f-abaf-2c9d7985dc76\",\"type\":\"Range1d\"},\"x_scale\":{\"id\":\"f0afbe83-ff88-491f-aa56-365d46e9fff2\",\"type\":\"LinearScale\"},\"y_range\":{\"id\":\"1fcc76d2-2b7b-4cf9-8411-3586e396801a\",\"type\":\"Range1d\"},\"y_scale\":{\"id\":\"42f3da50-a2ad-490c-9032-9a4856f35bc8\",\"type\":\"LinearScale\"}},\"id\":\"51b6ccdb-20ad-47d9-b045-02f6f192f966\",\"subtype\":\"Figure\",\"type\":\"Plot\"},{\"attributes\":{\"mantissas\":[1,2,3,4,5,6,7,8,9],\"min_interval\":5},\"id\":\"77ff96bf-57da-4538-bd17-cc628acb52a1\",\"type\":\"AdaptiveTicker\"},{\"attributes\":{},\"id\":\"5e9e68c5-56f9-4b0f-8a28-63b83d496dd9\",\"type\":\"BasicTicker\"},{\"attributes\":{\"mantissas\":[1,2,3,4,5,6,7,8,9],\"max_interval\":3,\"min_interval\":3,\"num_minor_ticks\":3},\"id\":\"dd88bc4d-8885-42d2-8494-8a84a7ab2527\",\"type\":\"AdaptiveTicker\"}],\"root_ids\":[\"51b6ccdb-20ad-47d9-b045-02f6f192f966\"]},\"title\":\"Bokeh Application\",\"version\":\"0.12.10\"}};\n",
       "    var render_items = [{\"docid\":\"5501a6d9-be2a-4568-8ec4-9036907bcee6\",\"elementid\":\"0787c29b-8865-473a-9a4e-c7d7896a2ea3\",\"modelid\":\"51b6ccdb-20ad-47d9-b045-02f6f192f966\"}];\n",
       "\n",
       "    root.Bokeh.embed.embed_items(docs_json, render_items);\n",
       "  }\n",
       "\n",
       "  if (root.Bokeh !== undefined) {\n",
       "    embed_document(root);\n",
       "  } else {\n",
       "    var attempts = 0;\n",
       "    var timer = setInterval(function(root) {\n",
       "      if (root.Bokeh !== undefined) {\n",
       "        embed_document(root);\n",
       "        clearInterval(timer);\n",
       "      }\n",
       "      attempts++;\n",
       "      if (attempts > 100) {\n",
       "        console.log(\"Bokeh: ERROR: Unable to embed document because BokehJS library is missing\")\n",
       "        clearInterval(timer);\n",
       "      }\n",
       "    }, 10, root)\n",
       "  }\n",
       "})(window);"
      ],
      "application/vnd.bokehjs_exec.v0+json": ""
     },
     "metadata": {
      "application/vnd.bokehjs_exec.v0+json": {
       "id": "51b6ccdb-20ad-47d9-b045-02f6f192f966"
      }
     },
     "output_type": "display_data"
    }
   ],
   "source": [
    "fig = make_plot(transcripts_from_gffutils(\"chr22\", 42124000, 42180000))\n",
    "show(fig.figure)"
   ]
  },
  {
   "cell_type": "code",
   "execution_count": null,
   "metadata": {
    "collapsed": true
   },
   "outputs": [],
   "source": []
  }
 ],
 "metadata": {
  "kernelspec": {
   "display_name": "Python 3",
   "language": "python",
   "name": "python3"
  },
  "language_info": {
   "codemirror_mode": {
    "name": "ipython",
    "version": 3
   },
   "file_extension": ".py",
   "mimetype": "text/x-python",
   "name": "python",
   "nbconvert_exporter": "python",
   "pygments_lexer": "ipython3",
   "version": "3.6.2"
  }
 },
 "nbformat": 4,
 "nbformat_minor": 2
}
